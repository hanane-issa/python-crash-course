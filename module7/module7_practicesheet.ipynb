{
 "cells": [
  {
   "cell_type": "markdown",
   "id": "8dfe9e22",
   "metadata": {},
   "source": [
    "# Module 7 Practice Sheet\n",
    "This notebook will guide you step-by-step to create a Python class to represent a patient from the Kaggle Stroke Prediction dataset.\n",
    "\n",
    "You will:\n",
    "- Filter the dataset to the relevant columns\n",
    "- Create a class `Patient`\n",
    "- Add attributes and methods\n",
    "- Create objects from DataFrame rows\n",
    "- Analyze patients for stroke risk"
   ]
  },
  {
   "cell_type": "code",
   "execution_count": null,
   "id": "7c0c45a2",
   "metadata": {},
   "outputs": [],
   "source": [
    "# Setup code; make sure to run this if using Binder or Colab\n",
    "import sys\n",
    "import os\n",
    "sys.path.insert(0, os.path.abspath(os.path.join(os.getcwd(), '..', 'shared')))\n",
    "import setup_code\n",
    "stroke_data = setup_code.stroke_data"
   ]
  },
  {
   "cell_type": "markdown",
   "id": "94c8c14d",
   "metadata": {},
   "source": [
    "## Step 1: Subset the dataset\n",
    "We're already loaded the dataset as `stroke_data`. Subset it to the following columns:\n",
    "- id\n",
    "- gender\n",
    "- age\n",
    "- hypertension\n",
    "- heart_disease\n",
    "- avg_glucose_level\n",
    "- bmi\n",
    "- smoking_status"
   ]
  },
  {
   "cell_type": "code",
   "execution_count": null,
   "id": "385e3676",
   "metadata": {},
   "outputs": [],
   "source": [
    "# Your code here"
   ]
  },
  {
   "cell_type": "markdown",
   "id": "1d6a7f90",
   "metadata": {},
   "source": [
    "<details><summary>Solution</summary>\n",
    "\n",
    "```python\n",
    "stroke_data_filtered = stroke_data[[\n",
    "    'id', 'gender', 'age', 'hypertension', 'heart_disease',\n",
    "    'avg_glucose_level', 'bmi', 'smoking_status']]\n",
    "\n",
    "stroke_data_filtered.head()\n",
    "```"
   ]
  },
  {
   "cell_type": "markdown",
   "id": "19af8c2b",
   "metadata": {},
   "source": [
    "## Step 2: Define the class\n",
    "Create a class called `Patient` that stores these attributes. Do not add methods yet.\n",
    "\n",
    "### Task:\n",
    "Use `__init__` to initialize the class with 8 attributes: id, gender, age, hypertension, heart_disease, avg_glucose_level, bmi, and smoking_status."
   ]
  },
  {
   "cell_type": "code",
   "execution_count": null,
   "id": "c819cc7e",
   "metadata": {},
   "outputs": [],
   "source": [
    "# Your code here"
   ]
  },
  {
   "cell_type": "markdown",
   "id": "8aa1cb5c",
   "metadata": {},
   "source": [
    "<details><summary>Solution</summary>\n",
    "\n",
    "```python\n",
    "class Patient:\n",
    "    def __init__(self, id, gender, age, hypertension, heart_disease, avg_glucose_level, bmi, smoking_status):\n",
    "        self.id = id\n",
    "        self.gender = gender\n",
    "        self.age = age\n",
    "        self.hypertension = hypertension\n",
    "        self.heart_disease = heart_disease\n",
    "        self.avg_glucose_level = avg_glucose_level\n",
    "        self.bmi = bmi\n",
    "        self.smoking_status = smoking_status       \n",
    "```"
   ]
  },
  {
   "cell_type": "markdown",
   "id": "ac474efe",
   "metadata": {},
   "source": [
    "## Step 3: Add a method to display info\n",
    "Add a method `display_info(self)` that prints all attributes of the patient in a readable format."
   ]
  },
  {
   "cell_type": "code",
   "execution_count": null,
   "id": "d2a82e90",
   "metadata": {},
   "outputs": [],
   "source": [
    "# Your code here"
   ]
  },
  {
   "cell_type": "markdown",
   "id": "0ae7ef4c",
   "metadata": {},
   "source": [
    "<details><summary>Solution</summary>\n",
    "\n",
    "```python\n",
    "def display_info(self):\n",
    "        print(f\"Patient ID: {self.id}\")\n",
    "        print(f\"Gender: {self.gender}\")\n",
    "        print(f\"Age: {self.age}\")\n",
    "        print(f\"Hypertension: {'Yes' if self.hypertension == 1 else 'No'}\")\n",
    "        print(f\"Heart Disease: {'Yes' if self.heart_disease == 1 else 'No'}\")\n",
    "        print(f\"Average Glucose Level: {self.avg_glucose_level}\")\n",
    "        print(f\"BMI: {self.bmi}\")\n",
    "        print(f\"Smoking Status: {self.smoking_status}\")\n",
    "```"
   ]
  },
  {
   "cell_type": "markdown",
   "id": "ce60052f",
   "metadata": {},
   "source": [
    "## Step 4: Add a method to evaluate stroke risk\n",
    "Add a method `is_high_risk(self)` that returns True if any of the following conditions are met:\n",
    "- age > 60\n",
    "- hypertension == 1\n",
    "- heart_disease == 1\n",
    "- avg_glucose_level > 150\n",
    "- bmi > 30 (and not missing)"
   ]
  },
  {
   "cell_type": "code",
   "execution_count": null,
   "id": "05458acd",
   "metadata": {},
   "outputs": [],
   "source": [
    "# Your code here"
   ]
  },
  {
   "cell_type": "markdown",
   "id": "942cb86f",
   "metadata": {},
   "source": [
    "<details><summary>Solution</summary>\n",
    "\n",
    "```python\n",
    "def is_high_risk(self):\n",
    "        return (\n",
    "            self.age > 60 or\n",
    "            self.hypertension == 1 or\n",
    "            self.heart_disease == 1 or\n",
    "            self.avg_glucose_level > 150 or\n",
    "            (self.bmi != \"N/A\" and self.bmi > 30)\n",
    "        )\n",
    "```"
   ]
  },
  {
   "cell_type": "markdown",
   "id": "2f1c6c3b",
   "metadata": {},
   "source": [
    "## Step 5: Create a class method to build a Patient from a row\n",
    "Add a class method `from_dataframe_row(cls, row)` that creates a Patient object from a row of the DataFrame.\n",
    "If `bmi` is missing, replace it with `'N/A'`."
   ]
  },
  {
   "cell_type": "code",
   "execution_count": null,
   "id": "2c6fa294",
   "metadata": {},
   "outputs": [],
   "source": [
    "# Your code here"
   ]
  },
  {
   "cell_type": "markdown",
   "id": "739ff897",
   "metadata": {},
   "source": [
    "<details><summary>Solution</summary>\n",
    "\n",
    "```python\n",
    "@classmethod\n",
    "    def from_dataframe_row(cls, row):\n",
    "        bmi = row['bmi']\n",
    "        if pd.isna(bmi):\n",
    "            bmi = \"N/A\"\n",
    "        return cls(\n",
    "            row['id'],\n",
    "            row['gender'],\n",
    "            row['age'],\n",
    "            row['hypertension'],\n",
    "            row['heart_disease'],\n",
    "            row['avg_glucose_level'],\n",
    "            bmi,\n",
    "            row['smoking_status']\n",
    "        )\n",
    "```"
   ]
  },
  {
   "cell_type": "markdown",
   "id": "a7e10a25",
   "metadata": {},
   "source": [
    "## Step 6: Test your class\n",
    "Now that you have all elements of your `Patient` class, make sure to combine them to get the code running properly. You can also click on the code below to see it."
   ]
  },
  {
   "cell_type": "markdown",
   "id": "8ddc1f2e",
   "metadata": {},
   "source": [
    "<details><summary>Full code for Patient class</summary>\n",
    "\n",
    "```python\n",
    "class Patient:\n",
    "    def __init__(self, id, gender, age, hypertension, heart_disease, avg_glucose_level, bmi, smoking_status):\n",
    "        self.id = id\n",
    "        self.gender = gender\n",
    "        self.age = age\n",
    "        self.hypertension = hypertension\n",
    "        self.heart_disease = heart_disease\n",
    "        self.avg_glucose_level = avg_glucose_level\n",
    "        self.bmi = bmi\n",
    "        self.smoking_status = smoking_status   \n",
    "\n",
    "    def display_info(self):\n",
    "        print(f\"Patient ID: {self.id}\")\n",
    "        print(f\"Gender: {self.gender}\")\n",
    "        print(f\"Age: {self.age}\")\n",
    "        print(f\"Hypertension: {'Yes' if self.hypertension == 1 else 'No'}\")\n",
    "        print(f\"Heart Disease: {'Yes' if self.heart_disease == 1 else 'No'}\")\n",
    "        print(f\"Average Glucose Level: {self.avg_glucose_level}\")\n",
    "        print(f\"BMI: {self.bmi}\")\n",
    "        print(f\"Smoking Status: {self.smoking_status}\")\n",
    "\n",
    "    def is_high_risk(self):\n",
    "        return (\n",
    "            self.age > 60 or\n",
    "            self.hypertension == 1 or\n",
    "            self.heart_disease == 1 or\n",
    "            self.avg_glucose_level > 150 or\n",
    "            (self.bmi != \"N/A\" and self.bmi > 30)\n",
    "        )\n",
    "    \n",
    "    @classmethod\n",
    "    def from_dataframe_row(cls, row):\n",
    "        bmi = row['bmi']\n",
    "        if pd.isna(bmi):\n",
    "            bmi = \"N/A\"\n",
    "        return cls(\n",
    "            row['id'],\n",
    "            row['gender'],\n",
    "            row['age'],\n",
    "            row['hypertension'],\n",
    "            row['heart_disease'],\n",
    "            row['avg_glucose_level'],\n",
    "            bmi,\n",
    "            row['smoking_status']\n",
    "        )"
   ]
  },
  {
   "cell_type": "markdown",
   "id": "2813e423",
   "metadata": {},
   "source": [
    "Next, to test your code, use the first row of the DataFrame to create a `Patient` object using `from_dataframe_row` and test its methods."
   ]
  },
  {
   "cell_type": "code",
   "execution_count": null,
   "id": "858f473f",
   "metadata": {},
   "outputs": [],
   "source": [
    "# Your code here"
   ]
  },
  {
   "cell_type": "markdown",
   "id": "52922e7b",
   "metadata": {},
   "source": [
    "<details><summary>Solution</summary>\n",
    "\n",
    "```python\n",
    "row1 = stroke_data_filtered.iloc[0]\n",
    "patient1 = Patient.from_dataframe_row(row1)\n",
    "patient1.display_info()\n",
    "print(\"\\nHigh Risk:\", patient1.is_high_risk())\n",
    "```"
   ]
  }
 ],
 "metadata": {
  "kernelspec": {
   "display_name": "Python 3",
   "language": "python",
   "name": "python3"
  },
  "language_info": {
   "name": "python",
   "version": "3.10"
  }
 },
 "nbformat": 4,
 "nbformat_minor": 5
}
