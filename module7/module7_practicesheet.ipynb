{
 "cells": [
  {
   "cell_type": "markdown",
   "id": "8dfe9e22",
   "metadata": {},
   "source": [
    "# Module 7 Practice Sheet\n",
    "This notebook will guide you step-by-step to create a Python class to represent a patient from the Kaggle Stroke Prediction dataset.\n",
    "\n",
    "You will:\n",
    "- Filter the dataset to the relevant columns\n",
    "- Create a class `Patient` \n",
    "- Add attributes and methods\n",
    "- Create objects from DataFrame rows\n",
    "- Analyze patients for stroke risk\n",
    "\n",
    "This Patient class represents a single row in the dataset — i.e., one individual patient's health profile."
   ]
  },
  {
   "cell_type": "code",
   "execution_count": null,
   "id": "7c0c45a2",
   "metadata": {},
   "outputs": [],
   "source": [
    "# Setup code; make sure to run this if using Binder or Colab\n",
    "import sys\n",
    "import os\n",
    "sys.path.insert(0, os.path.abspath(os.path.join(os.getcwd(), '..', 'shared')))\n",
    "import setup_code\n",
    "stroke_data = setup_code.stroke_data"
   ]
  },
  {
   "cell_type": "markdown",
   "id": "94c8c14d",
   "metadata": {},
   "source": [
    "## Step 1: Subset the dataset\n",
    "We're already loaded the dataset as `stroke_data`. Subset it to the following columns:\n",
    "- id\n",
    "- gender\n",
    "- age\n",
    "- hypertension\n",
    "- heart_disease\n",
    "- avg_glucose_level\n",
    "- bmi\n",
    "- smoking_status"
   ]
  },
  {
   "cell_type": "code",
   "execution_count": null,
   "id": "385e3676",
   "metadata": {},
   "outputs": [],
   "source": [
    "# Your code here"
   ]
  },
  {
   "cell_type": "markdown",
   "id": "1d6a7f90",
   "metadata": {},
   "source": [
    "<details><summary>Solution</summary>\n",
    "\n",
    "```python\n",
    "stroke_data_filtered = stroke_data[[\n",
    "    'id', 'gender', 'age', 'hypertension', 'heart_disease',\n",
    "    'avg_glucose_level', 'bmi', 'smoking_status']]\n",
    "\n",
    "stroke_data_filtered.head()\n",
    "```"
   ]
  },
  {
   "cell_type": "markdown",
   "id": "19af8c2b",
   "metadata": {},
   "source": [
    "## Step 2: Define the class\n",
    "Create a class called `Patient` that stores these 8 attributes. Each of these attributes should be an input into the constructor. Do not add methods yet.\n",
    "\n",
    "### Task:\n",
    "Use `__init__` to initialize the class with 8 attributes: id, gender, age, hypertension, heart_disease, avg_glucose_level, bmi, and smoking_status."
   ]
  },
  {
   "cell_type": "code",
   "execution_count": null,
   "id": "c819cc7e",
   "metadata": {},
   "outputs": [],
   "source": [
    "# Your code here"
   ]
  },
  {
   "cell_type": "markdown",
   "id": "8aa1cb5c",
   "metadata": {},
   "source": [
    "<details><summary>Solution</summary>\n",
    "\n",
    "```python\n",
    "class Patient:\n",
    "    def __init__(self, id, gender, age, hypertension, heart_disease, avg_glucose_level, bmi, smoking_status):\n",
    "        self.id = id\n",
    "        self.gender = gender\n",
    "        self.age = age\n",
    "        self.hypertension = hypertension\n",
    "        self.heart_disease = heart_disease\n",
    "        self.avg_glucose_level = avg_glucose_level\n",
    "        self.bmi = bmi\n",
    "        self.smoking_status = smoking_status       \n",
    "```"
   ]
  },
  {
   "cell_type": "markdown",
   "id": "ac474efe",
   "metadata": {},
   "source": [
    "## Step 3: Add a method to display info\n",
    "Add a method `display_info(self)` that prints all attributes of the patient in a readable format."
   ]
  },
  {
   "cell_type": "code",
   "execution_count": null,
   "id": "d2a82e90",
   "metadata": {},
   "outputs": [],
   "source": [
    "# Your code here"
   ]
  },
  {
   "cell_type": "markdown",
   "id": "0ae7ef4c",
   "metadata": {},
   "source": [
    "<details><summary>Solution</summary>\n",
    "\n",
    "```python\n",
    "def display_info(self):\n",
    "        print(f\"Patient ID: {self.id}\")\n",
    "        print(f\"Gender: {self.gender}\")\n",
    "        print(f\"Age: {self.age}\")\n",
    "        print(f\"Hypertension: {'Yes' if self.hypertension == 1 else 'No'}\")\n",
    "        print(f\"Heart Disease: {'Yes' if self.heart_disease == 1 else 'No'}\")\n",
    "        print(f\"Average Glucose Level: {self.avg_glucose_level}\")\n",
    "        print(f\"BMI: {self.bmi}\")\n",
    "        print(f\"Smoking Status: {self.smoking_status}\")\n",
    "```"
   ]
  },
  {
   "cell_type": "markdown",
   "id": "ce60052f",
   "metadata": {},
   "source": [
    "## Step 4: Add a method to evaluate stroke risk\n",
    "Add a method `is_high_risk(self)` that returns True if any of the following conditions are met:\n",
    "- age > 60\n",
    "- hypertension == 1\n",
    "- heart_disease == 1\n",
    "- avg_glucose_level > 150\n",
    "- bmi > 30 (and not missing)"
   ]
  },
  {
   "cell_type": "code",
   "execution_count": null,
   "id": "05458acd",
   "metadata": {},
   "outputs": [],
   "source": [
    "# Your code here"
   ]
  },
  {
   "cell_type": "markdown",
   "id": "942cb86f",
   "metadata": {},
   "source": [
    "<details><summary>Solution</summary>\n",
    "\n",
    "```python\n",
    "def is_high_risk(self):\n",
    "        return (\n",
    "            self.age > 60 or\n",
    "            self.hypertension == 1 or\n",
    "            self.heart_disease == 1 or\n",
    "            self.avg_glucose_level > 150 or\n",
    "            (self.bmi != \"N/A\" and self.bmi > 30)\n",
    "        )\n",
    "```"
   ]
  },
  {
   "cell_type": "markdown",
   "id": "e6c185a3",
   "metadata": {},
   "source": [
    "## Step 5: Create a helper function to extract data from a row\n",
    "\n",
    "Create a helper function outside the class that takes a row from the DataFrame and a class (default: Patient) as input, and returns an instance of that class.\n",
    "\n",
    "This makes the function flexible and reusable with child classes later on.\n",
    "\n",
    "The function should:\n",
    "\n",
    "- take in a row of the filtered stroke dataset,\n",
    "\n",
    "- check whether the row has a BMI value,\n",
    "\n",
    "- set the BMI to \"N/A\" if it's missing,\n",
    "\n",
    "- and return an instance of the specified class using the row's values.\n",
    "\n"
   ]
  },
  {
   "cell_type": "code",
   "execution_count": null,
   "id": "3449bab0",
   "metadata": {},
   "outputs": [],
   "source": [
    "# Your code here"
   ]
  },
  {
   "cell_type": "markdown",
   "id": "46b6770a",
   "metadata": {},
   "source": [
    "<details><summary>Solution</summary>\n",
    "\n",
    "```python\n",
    "# Helper function to extract data from row\n",
    "\n",
    "def create_patient_from_row(row, cls=Patient):\n",
    "    bmi = row['bmi']\n",
    "    if pd.isna(bmi):\n",
    "        bmi = \"N/A\"\n",
    "    return cls(\n",
    "        row['id'], row['gender'], row['age'], row['hypertension'],\n",
    "        row['heart_disease'], row['avg_glucose_level'], bmi, row['smoking_status']\n",
    "    )\n",
    "```"
   ]
  },
  {
   "cell_type": "markdown",
   "id": "a7e10a25",
   "metadata": {},
   "source": [
    "## Step 6: Test your class\n",
    "Now that you have all elements of your `Patient` class, make sure to combine them to get the code running properly. You can also click on the code below to see it.\n",
    "\n",
    "Afterwards, use the helper function to create an instance from a DataFrame row. "
   ]
  },
  {
   "cell_type": "markdown",
   "id": "61f9cb7b",
   "metadata": {},
   "source": [
    "<details><summary>Full code for Patient class</summary>\n",
    "\n",
    "```python\n",
    "#Patient class without class method\n",
    "class Patient:\n",
    "    def __init__(self, id, gender, age, hypertension, heart_disease, avg_glucose_level, bmi, smoking_status):\n",
    "        self.id = id\n",
    "        self.gender = gender\n",
    "        self.age = age\n",
    "        self.hypertension = hypertension\n",
    "        self.heart_disease = heart_disease\n",
    "        self.avg_glucose_level = avg_glucose_level\n",
    "        self.bmi = bmi\n",
    "        self.smoking_status = smoking_status   \n",
    "\n",
    "    def display_info(self):\n",
    "        print(f\"Patient ID: {self.id}\")\n",
    "        print(f\"Gender: {self.gender}\")\n",
    "        print(f\"Age: {self.age}\")\n",
    "        print(f\"Hypertension: {'Yes' if self.hypertension == 1 else 'No'}\")\n",
    "        print(f\"Heart Disease: {'Yes' if self.heart_disease == 1 else 'No'}\")\n",
    "        print(f\"Average Glucose Level: {self.avg_glucose_level}\")\n",
    "        print(f\"BMI: {self.bmi}\")\n",
    "        print(f\"Smoking Status: {self.smoking_status}\")\n",
    "\n",
    "    def is_high_risk(self):\n",
    "        return (\n",
    "            self.age > 60 or\n",
    "            self.hypertension == 1 or\n",
    "            self.heart_disease == 1 or\n",
    "            self.avg_glucose_level > 150 or\n",
    "            (self.bmi != \"N/A\" and self.bmi > 30)\n",
    "        )\n",
    "\n",
    "# Separate function for patient row extraction\n",
    "def create_patient_from_row(row, cls=Patient):\n",
    "    bmi = row['bmi']\n",
    "    if pd.isna(bmi):\n",
    "        bmi = \"N/A\"\n",
    "    return cls(\n",
    "        row['id'],\n",
    "        row['gender'],\n",
    "        row['age'],\n",
    "        row['hypertension'],\n",
    "        row['heart_disease'],\n",
    "        row['avg_glucose_level'],\n",
    "        bmi,\n",
    "        row['smoking_status']\n",
    "    )\n",
    "```"
   ]
  },
  {
   "cell_type": "markdown",
   "id": "2813e423",
   "metadata": {},
   "source": [
    "To test your code, use the first row of the DataFrame to create a `Patient` object using `create_patient_from_row(row)`.\n"
   ]
  },
  {
   "cell_type": "code",
   "execution_count": null,
   "id": "858f473f",
   "metadata": {},
   "outputs": [],
   "source": [
    "# Your code here"
   ]
  },
  {
   "cell_type": "markdown",
   "id": "52922e7b",
   "metadata": {},
   "source": [
    "<details><summary>Solution </summary>\n",
    "\n",
    "```python\n",
    "\n",
    "row1 = stroke_data_filtered.iloc[0]\n",
    "patient1 = create_patient_from_row(row1, cls=Patient)      \n",
    "patient1.display_info()\n",
    "print(\"\\nHigh Risk:\", patient1.is_high_risk())\n",
    "```"
   ]
  },
  {
   "cell_type": "markdown",
   "id": "304d3575",
   "metadata": {},
   "source": [
    "## Step 7: Child Classes and Inheritance\n",
    "\n",
    "Now that you've created a Patient class, let's explore how you can use inheritance to create specialized patient types."
   ]
  },
  {
   "cell_type": "markdown",
   "id": "63780e2c",
   "metadata": {},
   "source": [
    "\n",
    "1. Create two child classes that inherit from Patient:\n",
    "\n",
    "- MalePatient\n",
    "\n",
    "- FemalePatient\n",
    "\n",
    "2. Override the display_info method in each child class to add a custom message:\n",
    "\n",
    "- For MalePatient, after displaying info, print:\n",
    "\"Note: This is a male patient.\"\n",
    "\n",
    "- For FemalePatient, after displaying info, print:\n",
    "\"Note: This is a female patient.\"\n",
    "\n",
    "3. (Optional) Let's assume that the threshold for BMI risk might be different for female patients. \n",
    "Override the is_high_risk method in FemalePatient to be a bit stricter by adding this condition:\n",
    "Return True if BMI > 28 (instead of 30), in addition to the original conditions."
   ]
  },
  {
   "cell_type": "code",
   "execution_count": null,
   "id": "558fd78b",
   "metadata": {},
   "outputs": [],
   "source": [
    "#Your code here"
   ]
  },
  {
   "cell_type": "markdown",
   "id": "8131a0a3",
   "metadata": {},
   "source": [
    "<details><summary>Solution</summary>\n",
    "\n",
    "```python\n",
    "class MalePatient(Patient):\n",
    "    def display_info(self):\n",
    "        super().display_info()\n",
    "        print(\"Note: This is a male patient.\")\n",
    "\n",
    "\n",
    "class FemalePatient(Patient):\n",
    "    def display_info(self):\n",
    "        super().display_info()\n",
    "        print(\"Note: This is a female patient.\")\n",
    "\n",
    "    def is_high_risk(self):\n",
    "        original_risk = super().is_high_risk()\n",
    "        stricter_bmi = (self.bmi != \"N/A\" and self.bmi > 28)\n",
    "        return original_risk or stricter_bmi\n",
    "\n",
    "def create_patient_from_row(row, cls=Patient):\n",
    "    bmi = row['bmi']\n",
    "    if pd.isna(bmi):\n",
    "        bmi = \"N/A\"\n",
    "    return cls(\n",
    "        row['id'], row['gender'], row['age'], row['hypertension'],\n",
    "        row['heart_disease'], row['avg_glucose_level'], bmi, row['smoking_status']\n",
    "    )\n",
    "```"
   ]
  },
  {
   "cell_type": "markdown",
   "id": "65bf3af3",
   "metadata": {},
   "source": [
    "Test your child classes to make sure the code works properly."
   ]
  },
  {
   "cell_type": "code",
   "execution_count": null,
   "id": "753f38dd",
   "metadata": {},
   "outputs": [],
   "source": [
    "#Your code here"
   ]
  },
  {
   "cell_type": "markdown",
   "id": "e906af30",
   "metadata": {},
   "source": [
    "<details><summary>Solution</summary>\n",
    "\n",
    "```python\n",
    "row_male = stroke_data_filtered[stroke_data_filtered['gender'] == 'Male'].iloc[0]\n",
    "row_female = stroke_data_filtered[stroke_data_filtered['gender'] == 'Female'].iloc[0]\n",
    "\n",
    "male_patient = create_patient_from_row(row_male, cls=MalePatient)\n",
    "female_patient = create_patient_from_row(row_female, cls=FemalePatient)\n",
    "\n",
    "male_patient.display_info()\n",
    "print(\"High Risk:\", male_patient.is_high_risk())\n",
    "\n",
    "female_patient.display_info()\n",
    "print(\"High Risk:\", female_patient.is_high_risk())"
   ]
  },
  {
   "cell_type": "markdown",
   "id": "d1f63ccb",
   "metadata": {},
   "source": [
    "## 🌟 OPTIONAL: Create a Class Method to Improve the Code"
   ]
  },
  {
   "cell_type": "markdown",
   "id": "9deadb95",
   "metadata": {},
   "source": [
    "To make the code more structured and object-oriented, we moved the logic from the external helper function `create_patient_from_row()` into the class itself using a `@classmethod`.\n",
    "\n",
    "Both approaches do the same job:\n",
    "They handle missing BMI values and construct an instance of Patient (or a child class like FemalePatient) from a row in the DataFrame.\n",
    "\n",
    "Why a class method? It keeps the data-related logic inside the class, making the code easier to maintain and extend—especially when working with child classes.\n"
   ]
  },
  {
   "cell_type": "markdown",
   "id": "09cd3194",
   "metadata": {},
   "source": [
    "Your tasks: \n",
    "\n",
    "1. Add a method to the `Patient` class called `from_dataframe_row` that takes a row from the DataFrame and returns an instance of the class.\n",
    "\n",
    "\n",
    "    This will allow you to write:\n",
    "    ```python\n",
    "    patient = Patient.from_dataframe_row(row)\n",
    "    ```\n",
    "\n",
    "2. Extend this method in the child classes if needed.\n",
    "\n",
    "\n",
    "Check the Hint to learn more about class methods."
   ]
  },
  {
   "cell_type": "markdown",
   "id": "c6fd1a8b",
   "metadata": {},
   "source": [
    "<details>\n",
    "<summary>💡 Hint</summary>\n",
    "\n",
    "The `@classmethod` decorator allows us to create methods that are called **on the class itself**, not on an instance.  \n",
    "The first parameter, `cls`, refers to the **class** — just like `self` refers to an **instance** (a specific object).\n",
    "\n",
    "Think of it like this:  \n",
    "- `self` is \"me\" — the specific patient object  \n",
    "- `cls` is \"the blueprint\" — the class that builds new patient objects\n",
    "\n",
    "---\n",
    "\n",
    "This class method is useful when you want to create an object from data that isn’t in the usual parameter format — for example, a row from a DataFrame.\n",
    "\n",
    "---\n",
    "\n",
    "**How does this compare to `__init__`?**  \n",
    "The `__init__` method initializes the object from explicit parameters you provide.  \n",
    "But sometimes your input is more complex (like a DataFrame row), so the class method helps by extracting and preparing data before calling `__init__`.\n",
    "\n",
    "---\n",
    "\n",
    "You can learn more about the differences between instance methods, class methods, and static methods here:  \n",
    "[Real Python: Instance, Class, and Static Methods Demystified](https://realpython.com/instance-class-and-static-methods-demystified/)\n",
    "\n",
    "</details>\n",
    "\n"
   ]
  },
  {
   "cell_type": "markdown",
   "id": "d1af2e91",
   "metadata": {},
   "source": [
    "### Step 1: Patient class with class method"
   ]
  },
  {
   "cell_type": "code",
   "execution_count": null,
   "id": "4c421b35",
   "metadata": {},
   "outputs": [],
   "source": [
    "#Your code here for STEP 1"
   ]
  },
  {
   "cell_type": "markdown",
   "id": "731d0991",
   "metadata": {},
   "source": [
    "<details><summary>Class Method Solution</summary>\n",
    "\n",
    "```python\n",
    "@classmethod\n",
    "    def from_dataframe_row(cls, row):\n",
    "        bmi = row['bmi']\n",
    "        if pd.isna(bmi):\n",
    "            bmi = \"N/A\"\n",
    "        return cls(\n",
    "            row['id'],\n",
    "            row['gender'],\n",
    "            row['age'],\n",
    "            row['hypertension'],\n",
    "            row['heart_disease'],\n",
    "            row['avg_glucose_level'],\n",
    "            bmi,\n",
    "            row['smoking_status']\n",
    "        )\n",
    "```"
   ]
  },
  {
   "cell_type": "markdown",
   "id": "8ddc1f2e",
   "metadata": {},
   "source": [
    "<details><summary>Solution for complete new Patient class</summary>\n",
    "\n",
    "```python\n",
    "class Patient:\n",
    "    def __init__(self, id, gender, age, hypertension, heart_disease, avg_glucose_level, bmi, smoking_status):\n",
    "        self.id = id\n",
    "        self.gender = gender\n",
    "        self.age = age\n",
    "        self.hypertension = hypertension\n",
    "        self.heart_disease = heart_disease\n",
    "        self.avg_glucose_level = avg_glucose_level\n",
    "        self.bmi = bmi\n",
    "        self.smoking_status = smoking_status   \n",
    "\n",
    "    def display_info(self):\n",
    "        print(f\"Patient ID: {self.id}\")\n",
    "        print(f\"Gender: {self.gender}\")\n",
    "        print(f\"Age: {self.age}\")\n",
    "        print(f\"Hypertension: {'Yes' if self.hypertension == 1 else 'No'}\")\n",
    "        print(f\"Heart Disease: {'Yes' if self.heart_disease == 1 else 'No'}\")\n",
    "        print(f\"Average Glucose Level: {self.avg_glucose_level}\")\n",
    "        print(f\"BMI: {self.bmi}\")\n",
    "        print(f\"Smoking Status: {self.smoking_status}\")\n",
    "\n",
    "    def is_high_risk(self):\n",
    "        return (\n",
    "            self.age > 60 or\n",
    "            self.hypertension == 1 or\n",
    "            self.heart_disease == 1 or\n",
    "            self.avg_glucose_level > 150 or\n",
    "            (self.bmi != \"N/A\" and self.bmi > 30)\n",
    "        )\n",
    "    \n",
    "    @classmethod\n",
    "    def from_dataframe_row(cls, row):\n",
    "        bmi = row['bmi']\n",
    "        if pd.isna(bmi):\n",
    "            bmi = \"N/A\"\n",
    "        return cls(\n",
    "            row['id'],\n",
    "            row['gender'],\n",
    "            row['age'],\n",
    "            row['hypertension'],\n",
    "            row['heart_disease'],\n",
    "            row['avg_glucose_level'],\n",
    "            bmi,\n",
    "            row['smoking_status']\n",
    "        )"
   ]
  },
  {
   "cell_type": "markdown",
   "id": "2066437e",
   "metadata": {},
   "source": [
    "Test your new Patient class to make sure it works correctly. "
   ]
  },
  {
   "cell_type": "code",
   "execution_count": null,
   "id": "1a8bbc86",
   "metadata": {},
   "outputs": [],
   "source": [
    "# Your code here"
   ]
  },
  {
   "cell_type": "markdown",
   "id": "9731b8b2",
   "metadata": {},
   "source": [
    "<details><summary>Test code for new Patient class</summary>\n",
    "\n",
    "```python\n",
    "row1 = stroke_data_filtered.iloc[0]\n",
    "patient1 = Patient.from_dataframe_row(row1)\n",
    "patient1.display_info()\n",
    "print(\"\\nHigh Risk:\", patient1.is_high_risk())\n",
    "```\n"
   ]
  },
  {
   "cell_type": "markdown",
   "id": "84f41c22",
   "metadata": {},
   "source": [
    "### Step 2: extension to child classes"
   ]
  },
  {
   "cell_type": "markdown",
   "id": "80b69fd2",
   "metadata": {},
   "source": [
    "Next, try to extend this to your child classes."
   ]
  },
  {
   "cell_type": "code",
   "execution_count": null,
   "id": "66a69b85",
   "metadata": {},
   "outputs": [],
   "source": [
    "#Your code for STEP 2"
   ]
  },
  {
   "cell_type": "markdown",
   "id": "df8eafeb",
   "metadata": {},
   "source": [
    "<details><summary>Solution for new child classes</summary>\n",
    "\n",
    "```python\n",
    "class FemalePatient(Patient):\n",
    "    def display_info(self):\n",
    "        super().display_info()\n",
    "        print(\"Note: This is a female patient.\")\n",
    "\n",
    "    def is_high_risk(self):\n",
    "        original_risk = super().is_high_risk()\n",
    "        stricter_bmi = (self.bmi != \"N/A\" and self.bmi > 28)\n",
    "        return original_risk or stricter_bmi\n",
    "\n",
    "    @classmethod\n",
    "    def from_dataframe_row(cls, row):\n",
    "        return Patient.from_dataframe_row(row)\n",
    "\n",
    "class MalePatient(Patient):\n",
    "    def display_info(self):\n",
    "        super().display_info()\n",
    "        print(\"Note: This is a male patient.\")\n",
    "\n",
    "    @classmethod\n",
    "    def from_dataframe_row(cls, row):\n",
    "        return Patient.from_dataframe_row(row)\n",
    "\n",
    "```"
   ]
  },
  {
   "cell_type": "markdown",
   "id": "df96bce2",
   "metadata": {},
   "source": [
    "<details><summary>Test code for new child classes</summary>\n",
    "\n",
    "```python\n",
    "row_male = stroke_data_filtered[stroke_data_filtered['gender'] == 'Male'].iloc[0]\n",
    "row_female = stroke_data_filtered[stroke_data_filtered['gender'] == 'Female'].iloc[0]\n",
    "\n",
    "male_patient = MalePatient.from_dataframe_row(row_male)\n",
    "female_patient = FemalePatient.from_dataframe_row(row_female)\n",
    "\n",
    "male_patient.display_info()\n",
    "print(\"High Risk:\", male_patient.is_high_risk())\n",
    "\n",
    "female_patient.display_info()\n",
    "print(\"High Risk:\", female_patient.is_high_risk())\n",
    "```"
   ]
  }
 ],
 "metadata": {
  "kernelspec": {
   "display_name": "Python 3",
   "language": "python",
   "name": "python3"
  },
  "language_info": {
   "name": "python",
   "version": "3.10"
  }
 },
 "nbformat": 4,
 "nbformat_minor": 5
}
