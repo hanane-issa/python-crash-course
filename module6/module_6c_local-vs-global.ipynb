{
 "cells": [
  {
   "cell_type": "code",
   "execution_count": null,
   "id": "14328c3d",
   "metadata": {
    "tags": [
     "hide-input",
     "hide-output"
    ]
   },
   "outputs": [],
   "source": [
    "import sys\n",
    "import os\n",
    "sys.path.insert(0, os.path.abspath(os.path.join(os.getcwd(), '..', 'shared')))\n",
    "import setup_code\n",
    "stroke_data = setup_code.stroke_data"
   ]
  },
  {
   "cell_type": "markdown",
   "id": "ae23ae3f",
   "metadata": {},
   "source": [
    "# Module 6c: Local vs Global Variables\n",
    "\n",
    "\n",
    "<div class=\"alert alert-block alert-success\">\n",
    "<b>Section Objectives:</b><br> \n",
    "- Differentiate between local and global variables.\n",
    "</div>\n",
    "\n",
    "When working with functions, it’s important to understand where your variables \"live\" — in other words, their scope.\n",
    "\n",
    "A local variable exists only inside the function where it was defined.\n",
    "\n",
    "A global variable exists outside all functions and can be used throughout your code.\n",
    "\n",
    "Understanding the difference will help you avoid unexpected behavior when naming variables or modifying data.\n",
    "\n",
    "## Local Variables\n",
    "\n",
    "Local variables are created and used inside a function. They disappear once the function finishes running."
   ]
  },
  {
   "cell_type": "code",
   "execution_count": null,
   "id": "bae049c5",
   "metadata": {},
   "outputs": [],
   "source": [
    "def count_stroke_cases(df):\n",
    "    stroke_count = df['stroke'].sum()  \n",
    "    print(\"Number of stroke cases:\", stroke_count)"
   ]
  },
  {
   "cell_type": "markdown",
   "id": "a40907ac",
   "metadata": {},
   "source": [
    "The `stroke_count` variable is created locally inside the function. If you try to use it outside the function, Python will raise an error:"
   ]
  },
  {
   "cell_type": "code",
   "execution_count": null,
   "id": "83817679",
   "metadata": {},
   "outputs": [],
   "source": [
    "count_stroke_cases(stroke_data)\n",
    "print(stroke_count)  # ❌ NameError: name 'stroke_count' is not defined"
   ]
  },
  {
   "cell_type": "markdown",
   "id": "3518cf7c",
   "metadata": {},
   "source": [
    "## Global Variables\n",
    "\n",
    "A global variable is defined outside any function and can be accessed inside functions (but not modified unless explicitly declared as global) {cite}`global_var`."
   ]
  },
  {
   "cell_type": "code",
   "execution_count": null,
   "id": "d6c8cdf4",
   "metadata": {},
   "outputs": [],
   "source": [
    "stroke_column = 'stroke'\n",
    "def count_stroke_cases(df):\n",
    "    print(\"Stroke count:\", df[stroke_column].sum())"
   ]
  },
  {
   "cell_type": "markdown",
   "id": "996385d7",
   "metadata": {},
   "source": [
    "This works because stroke_column is defined in the global scope, and we’re only reading it.\n",
    "\n",
    "## ⚠️ Modifying Global Variables Inside Functions\n",
    "\n",
    "If you try to change a global variable inside a function, Python treats it as a new local variable unless you tell it otherwise with the global keyword.\n",
    "\n",
    "\n",
    "count = 0  # global variable"
   ]
  },
  {
   "cell_type": "code",
   "execution_count": null,
   "id": "b682527e",
   "metadata": {},
   "outputs": [],
   "source": [
    "def update_count():\n",
    "    count = count + 1  # ❌ UnboundLocalError"
   ]
  },
  {
   "cell_type": "markdown",
   "id": "1af31c1f",
   "metadata": {},
   "source": [
    "To modify a global variable safely, you must declare it:\n",
    "\n",
    "\n",
    "count = 0"
   ]
  },
  {
   "cell_type": "code",
   "execution_count": null,
   "id": "dd35b96e",
   "metadata": {},
   "outputs": [],
   "source": [
    "def update_count():\n",
    "    global count\n",
    "    count += 1"
   ]
  },
  {
   "cell_type": "markdown",
   "id": "37f6e744",
   "metadata": {},
   "source": [
    "But in most cases, it’s better to **avoid** modifying global variables inside functions. Instead, return a value from the function and update the variable outside:\n",
    "\n",
    "\n",
    "count = 0"
   ]
  },
  {
   "cell_type": "code",
   "execution_count": null,
   "id": "6f78850c",
   "metadata": {},
   "outputs": [],
   "source": [
    "def count_high_glucose(df, threshold):\n",
    "    return (df['avg_glucose_level'] > threshold).sum()\n",
    "\n",
    "count = count_high_glucose(stroke_data, 125)"
   ]
  },
  {
   "cell_type": "markdown",
   "id": "7e20001b",
   "metadata": {},
   "source": [
    "```{note}\n",
    "Use local variables as much as possible. They keep your functions self-contained, predictable, and easier to debug.\n",
    "```\n",
    "\n",
    "## Quick Practice\n",
    "\n",
    "What will happen in this code?"
   ]
  },
  {
   "cell_type": "code",
   "execution_count": null,
   "id": "c08fe3dc",
   "metadata": {},
   "outputs": [],
   "source": [
    "threshold = 130  # global\n",
    "\n",
    "def check_threshold(df):\n",
    "    threshold = 110  # local\n",
    "    print(\"Local threshold:\", threshold)\n",
    "    print(\"Patients above threshold:\", (df['avg_glucose_level'] > threshold).sum())\n",
    "\n",
    "check_threshold(stroke_data)\n",
    "print(\"Global threshold is still:\", threshold)"
   ]
  },
  {
   "cell_type": "markdown",
   "id": "efc8b4ba",
   "metadata": {},
   "source": [
    "<div style=\"margin-bottom: 15px;\">\n",
    "  <details>\n",
    "    <summary>\n",
    "      <i class=\"fa fa-lightbulb\" aria-hidden=\"true\" style=\"color: yellow; font-size: 20px;\"></i> \n",
    "      Solution\n",
    "    </summary>\n",
    "    <p style=\"padding-left: 20px;\">\n",
    "    <pre><code class=\"python\">\n",
    "The global `threshold` remains 130. Inside the function, `threshold` is a new local variable set to 110 and doesn’t affect the global one.\n",
    "  </details>\n",
    "</div>"
   ]
  }
 ],
 "metadata": {
  "jupytext": {
   "default_lexer": "python"
  },
  "kernelspec": {
   "display_name": "Python 3",
   "language": "python",
   "name": "python3"
  }
 },
 "nbformat": 4,
 "nbformat_minor": 5
}
