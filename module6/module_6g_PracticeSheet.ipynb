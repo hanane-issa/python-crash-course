{
 "cells": [
  {
   "cell_type": "markdown",
   "id": "cd750c17",
   "metadata": {},
   "source": [
    "# Module 6: Practice Sheet"
   ]
  },
  {
   "cell_type": "markdown",
   "id": "89919bb1",
   "metadata": {},
   "source": [
    "Uncomment the code below with selecting it and clicking `CTRL`  + `/`."
   ]
  },
  {
   "cell_type": "code",
   "execution_count": null,
   "id": "a7e21c5a",
   "metadata": {},
   "outputs": [],
   "source": [
    "# import pandas as pd\n",
    "# import numpy as np\n",
    "# import matplotlib.pyplot as plt\n",
    "# stroke_data = pd.read_csv(\"../data/healthcare-dataset-stroke-data.csv\")"
   ]
  },
  {
   "cell_type": "markdown",
   "id": "42a8c82d",
   "metadata": {},
   "source": [
    "##  Part 1: Function Basics"
   ]
  },
  {
   "cell_type": "markdown",
   "id": "49cea3e4",
   "metadata": {},
   "source": [
    "### 1.1 Define a Basic Function"
   ]
  },
  {
   "cell_type": "code",
   "execution_count": null,
   "id": "53766c5d",
   "metadata": {},
   "outputs": [],
   "source": [
    "# Define a function that returns the dataframe description info."
   ]
  },
  {
   "cell_type": "markdown",
   "id": "7e85e3e4",
   "metadata": {},
   "source": [
    "### 1.2 Add a Pass Statement"
   ]
  },
  {
   "cell_type": "code",
   "execution_count": null,
   "id": "7dc7bb46",
   "metadata": {},
   "outputs": [],
   "source": [
    "# Define a function called `analyze_smoking(df)` that does nothing (use `pass`)."
   ]
  },
  {
   "cell_type": "markdown",
   "id": "0cbc9f54",
   "metadata": {},
   "source": [
    "## Part 2: Return vs Print vs No Return"
   ]
  },
  {
   "cell_type": "markdown",
   "id": "9ae72347",
   "metadata": {},
   "source": [
    "### 2.1 Return Value"
   ]
  },
  {
   "cell_type": "code",
   "execution_count": null,
   "id": "1432a0b6",
   "metadata": {},
   "outputs": [],
   "source": [
    "# Write a function that returns the number of rows in the dataset."
   ]
  },
  {
   "cell_type": "markdown",
   "id": "4e4eac73",
   "metadata": {},
   "source": [
    "### 2.2 Print Statement"
   ]
  },
  {
   "cell_type": "code",
   "execution_count": null,
   "id": "11ce7ea5",
   "metadata": {},
   "outputs": [],
   "source": [
    "# Write a function that prints total number of patients, stroke count, and stroke rate."
   ]
  },
  {
   "cell_type": "markdown",
   "id": "fe01dce1",
   "metadata": {},
   "source": [
    "## Part 3: Parameters vs Arguments"
   ]
  },
  {
   "cell_type": "markdown",
   "id": "4219287c",
   "metadata": {},
   "source": [
    "### 3.1 Understanding Terminology"
   ]
  },
  {
   "cell_type": "code",
   "execution_count": null,
   "id": "a2d4baac",
   "metadata": {},
   "outputs": [],
   "source": [
    "# Write a function that takes two parameters: a DataFrame and a column name. Print the column's description."
   ]
  },
  {
   "cell_type": "markdown",
   "id": "51369833",
   "metadata": {},
   "source": [
    "### 3.2 Multiple Parameters"
   ]
  },
  {
   "cell_type": "markdown",
   "id": "5c2c8bde",
   "metadata": {},
   "source": [
    "### 3.3 Default Parameters"
   ]
  },
  {
   "cell_type": "markdown",
   "id": "33ae91a6",
   "metadata": {},
   "source": [
    "### 3.4 Positional and keywords arguments"
   ]
  }
 ],
 "metadata": {
  "language_info": {
   "name": "python"
  }
 },
 "nbformat": 4,
 "nbformat_minor": 5
}
