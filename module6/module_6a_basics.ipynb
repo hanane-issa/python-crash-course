{
 "cells": [
  {
   "cell_type": "code",
   "execution_count": null,
   "id": "00d50405",
   "metadata": {
    "tags": [
     "hide-input",
     "hide-output"
    ]
   },
   "outputs": [],
   "source": [
    "import sys\n",
    "import os\n",
    "sys.path.insert(0, os.path.abspath(os.path.join(os.getcwd(), '..', 'shared')))\n",
    "import setup_code\n",
    "stroke_data = setup_code.stroke_data\n"
   ]
  },
  {
   "cell_type": "markdown",
   "id": "7811e81c",
   "metadata": {},
   "source": [
    "# Module 6a: Function Basics\n",
    "\n",
    "<div class=\"alert alert-block alert-success\">\n",
    "<b>Section Objectives:</b><br> \n",
    "- Understand the building blocks of a function.<br> \n",
    "- Learn how to define and call a function to execute its code.<br>\n",
    "</div>\n",
    "\n",
    "\n",
    "\n",
    "## Why write a function? \n",
    "\n",
    "1. Reuse code easily:\n",
    "\n",
    "As you start coding and analyzing data in Python, you'll soon realize that some code snippets are repeated and can be reused. Instead of copying and pasting the same code again and again, you write it once as a function and use it whenever you need. This saves time and effort!\n",
    "\n",
    "2. Make your code cleaner and shorter:\n",
    "\n",
    "Functions help break big problems into smaller, manageable pieces. This makes your code easier to read and understand. We often talk about avoiding 'spaghetti code'. Just as it sounds, this describes code that is unclear, a big tangled mess that’s tough to read, understand, and work with,—kind of like a bowl of spaghetti all mixed up. \n",
    "\n",
    "3. Avoid mistakes:\n",
    "\n",
    "When you reuse the same function, you only need to test and fix the code once. This reduces errors compared to copying code multiple times.\n",
    "\n",
    "4. Organize your work:\n",
    "\n",
    "Functions let you give a name to a block of code, which describes what it does. This helps others (and future you!) understand your program faster.\n",
    "\n",
    "## Anatomy of a Function\n",
    "\n",
    "So what are the building blocks of a function? What elements do we need for Python to understand that we're defining a function?\n",
    "\n",
    "Let's take a look at the syntax needed:\n",
    "\n",
    "<img src=\"../_static/images/function_annotation.png\" alt=\"function_explanation\" style=\"width: 1400px; height: 300px\"/>\n",
    "\n",
    "As you can see, a function requires parameters to define the type and number of values that it can accept {cite}`params_vs_args`. These parameters are placeholders for the actual data you want to pass when you call the function. If your function were a vending machine, then the parameters are the buttons you press to choose what comes out.\n",
    "\n",
    "\n",
    "```{note}\n",
    "You only need to define a function once, then you can use (call) it as many times as you like.\n",
    "```\n",
    "\n",
    "Let's use the Kaggle stroke data {cite}`kaggle_stroke_prediction` to write our first function.\n",
    "The stroke variable is binary: 1 indicates that the patient had a stroke, and 0 indicates the absence of a stroke. We can then determine the number of patients who had a stroke by calculating the sum of this column through the following function:"
   ]
  },
  {
   "cell_type": "code",
   "execution_count": null,
   "id": "8cf5ca77",
   "metadata": {},
   "outputs": [],
   "source": [
    "def count_stroke_patients(df):\n",
    "    \"\"\"\n",
    "    Return the number of patients in the dataset who had a stroke.\n",
    "\n",
    "    Parameters\n",
    "    ----------\n",
    "    df : pandas.DataFrame\n",
    "        The dataset containing patient information. Must include a 'stroke' column\n",
    "        with binary values (e.g., 0 = no stroke, 1 = stroke).\n",
    "\n",
    "    Returns\n",
    "    -------\n",
    "    int\n",
    "        The number of patients who had a stroke.\n",
    "    \"\"\"\n",
    "    stroke_count = df['stroke'].sum()\n",
    "    return stroke_count"
   ]
  },
  {
   "cell_type": "markdown",
   "id": "9c1500b0",
   "metadata": {},
   "source": [
    "To call the function, we use the syntax `function_name(arguments)`."
   ]
  },
  {
   "cell_type": "code",
   "execution_count": null,
   "id": "bb964551",
   "metadata": {},
   "outputs": [],
   "source": [
    "count_stroke_patients(stroke_data)"
   ]
  },
  {
   "cell_type": "markdown",
   "id": "0640805f",
   "metadata": {},
   "source": [
    "## The Pass Statement:  A Placeholder for Code\n",
    "\n",
    "Sometimes, when writing functions, classes, or loops, you know what you want to build — but not how just yet. You can use a `pass` statement as a placeholder to build your code and test it without any issue.\n",
    "\n",
    "### What does `pass` do? \n",
    "\n",
    "The pass statement tells Python:\n",
    "\n",
    "“Do nothing here, but don’t crash.”\n",
    "\n",
    "It’s useful when you're outlining code and want to avoid errors while the logic is still incomplete.\n",
    "\n",
    "Suppose you're planning to write a function that will analyze the relationship between smoking status and stroke, but you're not ready to write the actual logic yet."
   ]
  },
  {
   "cell_type": "code",
   "execution_count": null,
   "id": "3baadf98",
   "metadata": {},
   "outputs": [],
   "source": [
    "def count_smokers_by_category(df):\n",
    "    pass  # We'll implement this later in the quick practice"
   ]
  },
  {
   "cell_type": "markdown",
   "id": "041f7579",
   "metadata": {},
   "source": [
    "You can call this function, and Python won’t complain — it just won’t do anything yet.\n",
    "\n",
    "### `pass` in Conditionals\n",
    "\n",
    "You might also check if the smoking_status column exists, but want to fill in the logic later:"
   ]
  },
  {
   "cell_type": "code",
   "execution_count": null,
   "id": "6a734b25",
   "metadata": {},
   "outputs": [],
   "source": [
    "if 'smoking_status' in stroke_data.columns:\n",
    "    pass  # analysis will go here\n",
    "else:\n",
    "    print(\"Column 'smoking_status' not found.\")"
   ]
  },
  {
   "cell_type": "markdown",
   "id": "a7d7c372",
   "metadata": {},
   "source": [
    "This code runs without error, even though the if block is empty for now.\n",
    "\n",
    "\n",
    "### What happens if we remove `pass`?"
   ]
  },
  {
   "cell_type": "code",
   "execution_count": null,
   "id": "a179fe6d",
   "metadata": {},
   "outputs": [],
   "source": [
    "def count_smokers_by_category(df):\n",
    "    # nothing here!"
   ]
  },
  {
   "cell_type": "markdown",
   "id": "79d9805c",
   "metadata": {},
   "source": [
    "If you remove the `pass` statement, you'll be faced with an `IndentationError`, because Python expects at least one statement in a function.\n",
    "\n",
    "\n",
    "### Mini-Exercice \n",
    "\n",
    "Complete the function below to:\n",
    "\n",
    "- Check if the 'smoking_status' column exists\n",
    "\n",
    "- If yes, return a pandas Series with counts of each smoking category using .value_counts()\n",
    "\n",
    "- If no, return a message saying the column isn’t found.\n",
    "\n",
    "The pass statement is a placeholder you can replace with real code when you’re ready.\n",
    "You can call the function to see if it works!\n"
   ]
  },
  {
   "cell_type": "code",
   "execution_count": null,
   "id": "91223edb",
   "metadata": {},
   "outputs": [],
   "source": [
    "\n",
    "def count_smokers_by_category(df):\n",
    "    if 'smoking_status' in df.columns:\n",
    "        pass\n",
    "        ### TO DO: REPLACE PASS WITH YOUR CODE ###\n",
    "    else:\n",
    "        pass\n",
    "        ### TO DO: REPLACE PASS WITH YOUR CODE ###\n",
    "\n"
   ]
  },
  {
   "cell_type": "markdown",
   "id": "7fc9d9f5",
   "metadata": {},
   "source": [
    "<div style=\"margin-bottom: 15px;\">\n",
    "  <details>\n",
    "    <summary>\n",
    "      <i class=\"fa fa-lightbulb\" aria-hidden=\"true\" style=\"color: yellow; font-size: 20px;\"></i> \n",
    "      Solution\n",
    "    </summary>\n",
    "    <p style=\"padding-left: 20px;\">\n",
    "    </p>\n",
    "    <pre><code class=\"python\">\n",
    "def count_smokers_by_category(df):\n",
    "    if 'smoking_status' in df.columns:\n",
    "        return df['smoking_status'].value_counts()\n",
    "    else:\n",
    "        return \"Column 'smoking_status' not found.\"\n",
    "    </code></pre>\n",
    "  </details>\n",
    "</div>"
   ]
  }
 ],
 "metadata": {
  "jupytext": {
   "default_lexer": "python"
  },
  "kernelspec": {
   "display_name": "Python 3",
   "language": "python",
   "name": "python3"
  }
 },
 "nbformat": 4,
 "nbformat_minor": 5
}
