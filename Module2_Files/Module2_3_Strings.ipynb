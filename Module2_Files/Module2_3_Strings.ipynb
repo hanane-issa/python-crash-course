{
 "cells": [
  {
   "cell_type": "markdown",
   "id": "f1dcf864",
   "metadata": {},
   "source": [
    "# M2: Strings\n",
    "\n",
    "## 4. Strings\n",
    "\n",
    "### 4.1. What is a String?\n",
    "\n",
    "A **string** is a sequence of characters enclosed in single (`'`) or double (`\"`) quotation marks. Both styles work the same way in Python."
   ]
  },
  {
   "cell_type": "code",
   "execution_count": 1,
   "id": "9e9f1180",
   "metadata": {},
   "outputs": [],
   "source": [
    "my_string = \"Hello, World!\"\n",
    "another_string = 'Python is fun!'"
   ]
  },
  {
   "cell_type": "markdown",
   "id": "a22ad7d8",
   "metadata": {},
   "source": [
    "You can also create multi-line strings using triple quotes (`'''` or `\"\"\"`)"
   ]
  },
  {
   "cell_type": "code",
   "execution_count": 2,
   "id": "c71cf209",
   "metadata": {},
   "outputs": [],
   "source": [
    "multi_line = \"\"\"This is\n",
    "a string\n",
    "spanning multiple lines.\"\"\""
   ]
  },
  {
   "cell_type": "markdown",
   "id": "44b2ddac",
   "metadata": {},
   "source": [
    "Strings are used whenever you need to work with text data."
   ]
  },
  {
   "cell_type": "markdown",
   "id": "b742cf89",
   "metadata": {},
   "source": [
    "### 4.2. Basic String Operations\n",
    "\n",
    "You can combine, repeat, and access parts of strings in Python.\n",
    "\n",
    "#### Concatenation (joining strings)\n",
    "\n",
    "You can join two strings together using the `+` operator."
   ]
  },
  {
   "cell_type": "code",
   "execution_count": 4,
   "id": "ad4049de",
   "metadata": {},
   "outputs": [
    {
     "name": "stdout",
     "output_type": "stream",
     "text": [
      "Hello, Alice!\n"
     ]
    }
   ],
   "source": [
    "greeting = \"Hello\"\n",
    "name = \"Alice\"\n",
    "message = greeting + \", \" + name + \"!\"\n",
    "print(message) # Output: Hello, Alice!"
   ]
  },
  {
   "cell_type": "markdown",
   "id": "14ceab87",
   "metadata": {},
   "source": [
    "#### Repetition (repeating strings)\n",
    "\n",
    "You can repeat a string multiple times using the `*` operator."
   ]
  },
  {
   "cell_type": "code",
   "execution_count": 6,
   "id": "b8b0c546",
   "metadata": {},
   "outputs": [
    {
     "name": "stdout",
     "output_type": "stream",
     "text": [
      "hahahahaha\n"
     ]
    }
   ],
   "source": [
    "laugh = \"ha\" * 5\n",
    "print(laugh)  # Output: hahaha"
   ]
  },
  {
   "cell_type": "markdown",
   "id": "533839d0",
   "metadata": {},
   "source": [
    "#### Accessing characters (indexing)\n",
    "\n",
    "You can access individual characters in a string using square brackets `[` `]`. Remember that Python indexing starts at 0."
   ]
  },
  {
   "cell_type": "code",
   "execution_count": 7,
   "id": "d4c9fb29",
   "metadata": {},
   "outputs": [
    {
     "name": "stdout",
     "output_type": "stream",
     "text": [
      "P\n",
      "y\n"
     ]
    }
   ],
   "source": [
    "text = \"Python\"\n",
    "print(text[0])  # Output: P\n",
    "print(text[1])  # Output: y"
   ]
  },
  {
   "cell_type": "markdown",
   "id": "47c6cf2a",
   "metadata": {},
   "source": [
    "### 4.3. Common String Methods\n",
    "\n",
    "Python provides many useful methods to work with strings. Some of the most common ones are:\n",
    "\n",
    "- `.lower()`: Converts all characters to lowercase.\n",
    "\n",
    "- `.upper()`: Converts all characters to uppercase.\n",
    "\n",
    "- `.strip()`: Removes spaces from the beginning and end.\n",
    "\n",
    "- `.replace(old, new)`: Replaces part of a string with something else.\n",
    "\n",
    "- `.find(substring)`: Finds the index of the first occurrence of a substring.\n",
    "\n",
    "Example:"
   ]
  },
  {
   "cell_type": "code",
   "execution_count": 8,
   "id": "27bf2ed9",
   "metadata": {},
   "outputs": [
    {
     "name": "stdout",
     "output_type": "stream",
     "text": [
      "this is python!\n"
     ]
    }
   ],
   "source": [
    "sentence = \"   This is Python!   \"\n",
    "print(sentence.strip().lower()) # Output: \"this is python!\""
   ]
  },
  {
   "cell_type": "markdown",
   "id": "9fd59320",
   "metadata": {},
   "source": [
    "You can also chain methods together, as shown above."
   ]
  },
  {
   "cell_type": "markdown",
   "id": "4430da0f",
   "metadata": {},
   "source": [
    "### 4.4. Quick Practice\n",
    "\n",
    "Try these small challenges:\n",
    "\n",
    "- Create a variable called quote and assign your favourite quote as a string.\n",
    "\n",
    "- Print the quote in **uppercase letters**.\n",
    "\n",
    "- Print the quote with **no extra spaces** at the start or end.\n",
    "\n",
    "```{dropdown} 💡 Click here to see a possible solution\n",
    "```python\n",
    "quote = \"  The only limit to our realisation of tomorrow is our doubts of today.  \"\n",
    "print(quote.upper())\n",
    "print(quote.strip())"
   ]
  }
 ],
 "metadata": {
  "kernelspec": {
   "display_name": "base",
   "language": "python",
   "name": "python3"
  },
  "language_info": {
   "codemirror_mode": {
    "name": "ipython",
    "version": 3
   },
   "file_extension": ".py",
   "mimetype": "text/x-python",
   "name": "python",
   "nbconvert_exporter": "python",
   "pygments_lexer": "ipython3",
   "version": "3.12.9"
  }
 },
 "nbformat": 4,
 "nbformat_minor": 5
}
