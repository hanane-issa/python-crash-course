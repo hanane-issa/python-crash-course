{
 "cells": [
  {
   "cell_type": "markdown",
   "id": "5b39c8f3",
   "metadata": {},
   "source": [
    "# M2: Introduction - First Example\n",
    "\n",
    "## 2.4 Practice Example\n",
    "We have made it to the end of the first chapter. You should be able to now write your first own snipped of code in Python. Lets start with the standard first code: we will print 'Hello World'. To practice the syntax we will make an `if` statement as in the example before which calls the `print()` statement if the variable `say_hello` is `True`. We will also add a multiline comments and single line comments to explain our code.\n",
    "\n",
    "Taking this all together we get the following code:\n"
   ]
  },
  {
   "cell_type": "code",
   "execution_count": 1,
   "id": "22813bf6",
   "metadata": {},
   "outputs": [
    {
     "name": "stdout",
     "output_type": "stream",
     "text": [
      "Hello World!\n"
     ]
    }
   ],
   "source": [
    "\"\"\"\n",
    "Example of a simple if statement with indentation.\n",
    "It will print 'hello world' if say_hello is True.\n",
    "\"\"\"\n",
    "\n",
    "say_hello = True\n",
    "\n",
    "if say_hello:\n",
    "    print(\"Hello World!\") # print hello world"
   ]
  }
 ],
 "metadata": {
  "kernelspec": {
   "display_name": "jupyter_course_venv",
   "language": "python",
   "name": "python3"
  },
  "language_info": {
   "codemirror_mode": {
    "name": "ipython",
    "version": 3
   },
   "file_extension": ".py",
   "mimetype": "text/x-python",
   "name": "python",
   "nbconvert_exporter": "python",
   "pygments_lexer": "ipython3",
   "version": "3.13.2"
  }
 },
 "nbformat": 4,
 "nbformat_minor": 5
}
