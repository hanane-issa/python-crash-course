{
 "cells": [
  {
   "cell_type": "markdown",
   "id": "ae14bf4c",
   "metadata": {},
   "source": [
    "<div class=\"alert alert-block alert-success\">\n",
    "<b>Section Objectives:</b><br> \n",
    "- Learn how to execute the code in each module.<br> \n",
    "</div>\n",
    "\n",
    "\n",
    "# How to Run the Notebook Exercices\n",
    "\n",
    "After each module, you can test your knowledge with a coding exercice in a jupyter notebook file.\n",
    "You can run the notebooks in three different ways, depending on your preference and setup. \n",
    "Select the rocket sign on the top right side of the page to see your three options:\n",
    "\n",
    "\n",
    "\n",
    "```{image} ../_static/images/launch_buttons.png\n",
    ":alt: jupyter launch button\n",
    ":class: bg-primary mb-1\n",
    ":width: 500px\n",
    ":align: center\n",
    "```\n",
    "\n",
    "1. Live Code\n",
    "  - Easiest option — no setup needed.\n",
    "\n",
    "  - Just click the “Live Code” button at the top of each exercice notebook page in this book. Wait until you see the following: \"Launching from mybinder.org: **ready** \".\n",
    "  \n",
    "  - This allows you to execute the code cells directly in the jupyter book.\n",
    "\n",
    "2. Run in Google Colab\n",
    "\n",
    "  - Just click the “Open in Colab” button at the top of each exercice notebook page in this book.\n",
    "\n",
    "  - It runs in your browser and saves changes to your Google Drive (if you sign in).\n",
    "\n",
    "  - Make sure the required packages are imported.\n",
    "\n",
    "\n",
    "3. Run on Binder\n",
    "\n",
    "  - Great if you want a full coding environment in your browser.\n",
    "\n",
    "  - Just click the “Open in Binder” button at the top of each exercice notebook page in this book.\n",
    "\n",
    "  - Binder launches a temporary Jupyter environment.\n",
    "\n",
    "  - No installation required, but it takes a minute to load.\n",
    "\n",
    "\n",
    "4. Download and Run Locally\n",
    "\n",
    "  - Best for learning how to run Python on your own machine.\n",
    "\n",
    "  - Download the notebook (.ipynb) from GitHub.\n",
    "\n",
    "  - Open it using your preferred code editor/IDE."
   ]
  }
 ],
 "metadata": {
  "jupytext": {
   "formats": "md:myst",
   "text_representation": {
    "extension": ".md",
    "format_name": "myst",
    "format_version": 0.13,
    "jupytext_version": "1.11.5"
   }
  },
  "kernelspec": {
   "display_name": "Python 3",
   "language": "python",
   "name": "python3"
  },
  "language_info": {
   "codemirror_mode": {
    "name": "ipython",
    "version": 3
   },
   "file_extension": ".py",
   "mimetype": "text/x-python",
   "name": "python",
   "nbconvert_exporter": "python",
   "pygments_lexer": "ipython3",
   "version": "3.13.2"
  },
  "source_map": [
   13
  ]
 },
 "nbformat": 4,
 "nbformat_minor": 5
}