{
 "cells": [
  {
   "cell_type": "markdown",
   "id": "50ce13f4",
   "metadata": {},
   "source": [
    "# Module 1: Practice Sheet"
   ]
  },
  {
   "cell_type": "markdown",
   "id": "4b4e0fee",
   "metadata": {},
   "source": [
    "## Objective\n",
    "- Import the `sys` module.\n",
    "- Print the version of Python being used.\n",
    "- Learn how to navigate a Python module documentation.\n",
    "\n",
    "## Instructions\n",
    "1. Import the `sys` module.\n",
    "2. Check the `sys` module documentation.\n",
    "2. Print the current Python version.\n",
    "3. Print a statement combining a description and the Python version."
   ]
  },
  {
   "cell_type": "markdown",
   "id": "830c7372",
   "metadata": {},
   "source": [
    "```{note}\n",
    "The `sys` module is a built-in tool in Python that lets you interact with the system your Python program is running on. \n",
    "It gives you access to things like Python's version, the command-line arguments used to run the program,\n",
    "and the ability to control how your program runs.\n",
    "\n",
    "N.B. built-in modules like `sys` are part of the standard Python installation, so you don't need to install them separately. However, they need to be imported because Python doesn't automatically load every module into memory to save resources. \n",
    "```"
   ]
  },
  {
   "cell_type": "code",
   "execution_count": null,
   "id": "05358bb0",
   "metadata": {},
   "outputs": [],
   "source": [
    "#1. Import sys module\n",
    "\n",
    "### Your code here ###"
   ]
  },
  {
   "cell_type": "code",
   "execution_count": null,
   "id": "e3af8971",
   "metadata": {},
   "outputs": [],
   "source": [
    "#2. Try the function that gives you the current Python version.\n",
    "\n",
    "### Your code here ###"
   ]
  },
  {
   "cell_type": "code",
   "execution_count": null,
   "id": "b060a81a",
   "metadata": {},
   "outputs": [],
   "source": [
    "#3. Print a statement combining a description and your Python version.\n",
    "\n",
    "### Your code here ###"
   ]
  },
  {
   "cell_type": "markdown",
   "id": "11a27827",
   "metadata": {},
   "source": [
    "<div style=\"margin-bottom: 15px;\">\n",
    "  <details>\n",
    "    <summary>\n",
    "      <i class=\"fa fa-lightbulb-o\" aria-hidden=\"true\" style=\"color: yellow; font-size: 20px;\"></i> \n",
    "      Hint 1\n",
    "    </summary>\n",
    "    <p style=\"padding-left: 20px;\">\n",
    "      Check the <code>sys </code> module <a href=\"https://docs.python.org/3/library/sys.html\" target=\"_blank\">documentation</a> to find the function that gives you the Python version.\n",
    "    </p>\n",
    "  </details>\n",
    "</div>\n",
    "\n",
    "<div style=\"margin-bottom: 15px;\">\n",
    "  <details>\n",
    "    <summary>\n",
    "      <i class=\"fa fa-lightbulb-o\" aria-hidden=\"true\" style=\"color: yellow; font-size: 20px;\"></i> \n",
    "      Hint 2\n",
    "    </summary>\n",
    "    <p style=\"padding-left: 20px;\">\n",
    "      <code>print()</code> statements allow you to combine descriptive strings with outputs, e.g. `print(\"your descriptive string \", sys function)`.\n",
    "    </p>\n",
    "  </details>\n",
    "</div>\n",
    "\n",
    "<div style=\"margin-bottom: 15px;\">\n",
    "  <details>\n",
    "    <summary>\n",
    "      <i class=\"fa fa-lightbulb\" aria-hidden=\"true\" style=\"color: yellow; font-size: 20px;\"></i> \n",
    "      Solution\n",
    "    </summary>\n",
    "    <p style=\"padding-left: 20px;\">\n",
    "      To print your Python version, you can use the following code:\n",
    "    </p>\n",
    "    <pre><code class=\"python\">\n",
    "import sys\n",
    "sys.version\n",
    "print('My Python version is ', sys.version)\n",
    "    </code></pre>\n",
    "  </details>\n",
    "</div>\n"
   ]
  }
 ],
 "metadata": {
  "kernelspec": {
   "display_name": "Python 3",
   "language": "python",
   "name": "python3"
  },
  "language_info": {
   "codemirror_mode": {
    "name": "ipython",
    "version": 3
   },
   "file_extension": ".py",
   "mimetype": "text/x-python",
   "name": "python",
   "nbconvert_exporter": "python",
   "pygments_lexer": "ipython3",
   "version": "3.13.2"
  }
 },
 "nbformat": 4,
 "nbformat_minor": 5
}
