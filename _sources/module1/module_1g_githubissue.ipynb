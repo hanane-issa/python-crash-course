{
 "cells": [
  {
   "cell_type": "markdown",
   "id": "666d5af0",
   "metadata": {},
   "source": [
    "## 💬 Need Help? Create a GitHub Issue\n",
    "\n",
    "If you run into **any problems** — whether it's with the notebook, the Jupyter Book, live coding, or instructions — you can **let us know by opening a GitHub issue**.\n",
    "\n",
    "### Method 1: from the Jupyter Book\n",
    "\n",
    "![open_issue](/_static/images/open_issue.png)\n",
    "\n",
    "1. From the Jupyter book, you can navigate to the top bar where the GitHub icon is, and click on \"Open Issue\".\n",
    "\n",
    "2. A title will automatically be generated based on the module and page you are on from the jupyter book.\n",
    "\n",
    "3. In the description, include:\n",
    "\n",
    "   * A short explanation of what the issue is\n",
    "   * Where you encountered it (e.g. module, notebook, or section name)\n",
    "   * A screenshot or code snippet if possible\n",
    "\n",
    "### Method 2: via the Repository\n",
    "\n",
    "![locate_repo](/_static/images/locate_repo.png)\n",
    "\n",
    "1. Go to our course GitHub repository:\n",
    "   👉 \\[[HERE](https://github.com/hanane-issa/python-crash-course)]\n",
    "\n",
    "\n",
    "![github_issues_tab]({static}/images/github-issue1.png)\n",
    "2. Click on the **\"Issues\"** tab.\n",
    "\n",
    "\n",
    "![github_issues_create]({static}/images/github-issue2.png)\n",
    "3. Click **\"New issue\"** (green button).\n",
    "\n",
    "4. Add a **clear title**, like:\n",
    "   `Broken image in Module 1` or `Code example not working in Module 2`\n",
    "\n",
    "5. Just like in method 1, in the description, include:\n",
    "\n",
    "   * A short explanation of what the issue is\n",
    "   * Where you encountered it (e.g. module, notebook, or section name)\n",
    "   * A screenshot or code snippet if possible\n",
    "\n",
    "6. Click **\"Submit new issue\"**.\n",
    "\n",
    "---\n",
    "\n",
    "📣 **Don't worry if it's small!** Even small typos, broken links, or confusing instructions are super helpful for us to fix.\n",
    "\n",
    "---"
   ]
  }
 ],
 "metadata": {
  "jupytext": {
   "formats": "md:myst",
   "text_representation": {
    "extension": ".md",
    "format_name": "myst",
    "format_version": 0.13,
    "jupytext_version": "1.11.5"
   }
  },
  "kernelspec": {
   "display_name": "Python 3",
   "language": "python",
   "name": "python3"
  },
  "language_info": {
   "codemirror_mode": {
    "name": "ipython",
    "version": 3
   },
   "file_extension": ".py",
   "mimetype": "text/x-python",
   "name": "python",
   "nbconvert_exporter": "python",
   "pygments_lexer": "ipython3",
   "version": "3.13.2"
  },
  "source_map": [
   13
  ]
 },
 "nbformat": 4,
 "nbformat_minor": 5
}