{
 "cells": [
  {
   "cell_type": "markdown",
   "id": "1d317c86",
   "metadata": {},
   "source": [
    "# Installing Python Packages\n",
    "\n",
    "<div class=\"alert alert-block alert-success\">\n",
    "<b>Section Objectives:</b><br> \n",
    "- Install and import Python packages.<br> \n",
    "- Keep track of package versions.<br> \n",
    "</div>\n",
    "\n",
    "Python has a wide range of packages (pre-installed or third-party) that offer extra features like functions, data, and code to your programs.\n",
    "When you install Python, it comes with a standard library containing pre-installed packages such as:\n",
    "- os (for interacting with the operating system)\n",
    "\n",
    "- math (for mathematical operations)\n",
    "\n",
    "- sys (for system-specific parameters)\n",
    "\n",
    "- datetime (for date and time manipulation)\n",
    "\n",
    "However, you still need to import them since Python needs to know which tools you're planning to use.\n",
    "Think of it as your workshop—you have access to all the tools in the toolbox, but you still have to take the right tool out before you can use it.\n",
    "You can find a list of built-in Python modules [here](https://docs.python.org/3/py-modindex.html).\n",
    "\n",
    "```{note}\n",
    "Why doesn't Python load modules by default?\n",
    "\n",
    "- It keeps Python fast and lightweight by loading only what's needed.\n",
    "\n",
    "- It prevents naming conflicts by keeping modules separate until called.\n",
    "\n",
    "- It lets you explicitly control what your code depends on.\n",
    "```\n",
    "\n",
    "\n",
    "\n",
    "## Installing packages with pip\n",
    "\n",
    "To extend Python's capabilities, you often need to install third-party packages that are not included in the standard library. These packages are installed via pip (from PyPI) and can be anything from data science libraries like numpy and pandas, to web frameworks like Flask or Django, or machine learning tools like scikit-learn.\n",
    "\n",
    "This process is usually done in your terminal via:\n",
    "```bash\n",
    "pip install pandas\n",
    "```\n",
    "Where `pandas` is a package for data manipulation and analysis that you'll learn about in module 4.\n",
    "\n",
    "\n",
    "You can also run this shell command in your jupyter notebook, by adding a ! or % before pip ( [see more on stackoverflow] (https://stackoverflow.com/questions/45784499/what-is-the-difference-between-and-in-jupyter-notebooks) )."
   ]
  },
  {
   "cell_type": "code",
   "execution_count": null,
   "id": "9655d62b",
   "metadata": {
    "tags": [
     "skip-execution"
    ]
   },
   "outputs": [],
   "source": [
    "!pip install pandas\n",
    "#same as: %pip install pandas"
   ]
  },
  {
   "cell_type": "markdown",
   "id": "d6c4c547",
   "metadata": {},
   "source": [
    "## Installing Specific Versions of Packages\n",
    "\n",
    "We've mentioned before that, in some cases, you might be working with projects that rely on specific versions of a package. You can specify the package version you want to install:"
   ]
  },
  {
   "cell_type": "code",
   "execution_count": null,
   "id": "1267cbb2",
   "metadata": {
    "tags": [
     "skip-execution"
    ]
   },
   "outputs": [],
   "source": [
    "!pip install pandas==2.2.3\n",
    "#replace 2.2.3 with the version you want."
   ]
  },
  {
   "cell_type": "markdown",
   "id": "b50426b6",
   "metadata": {},
   "source": [
    "A quick way of checking and verifying your package version is via:"
   ]
  },
  {
   "cell_type": "code",
   "execution_count": null,
   "id": "87a73670",
   "metadata": {
    "tags": [
     "skip-execution"
    ]
   },
   "outputs": [],
   "source": [
    "#import your package\n",
    "import pandas \n",
    "\n",
    "#check your package version\n",
    "print(pandas.__version__)"
   ]
  },
  {
   "cell_type": "markdown",
   "id": "fc3e28ef",
   "metadata": {},
   "source": [
    "## Installing Packages from a .tar.gz, .whl, or other file formats\n",
    "\n",
    "You can also install Python packages directly from remote URLs or local files like .tar.gz and .whl using pip."
   ]
  },
  {
   "cell_type": "code",
   "execution_count": null,
   "id": "e2e18f94",
   "metadata": {
    "tags": [
     "skip-execution"
    ]
   },
   "outputs": [],
   "source": [
    "## from a URL (fake):\n",
    "#!pip install https://example.com/package.tar.gz\n",
    "\n",
    "## from a local file:\n",
    "#!pip install /path/to/package.tar.gz"
   ]
  },
  {
   "cell_type": "markdown",
   "id": "738a1cfd",
   "metadata": {},
   "source": [
    "## `pip` vs `conda` for Package Installation\n",
    "\n",
    "\n",
    "We've seen in the Anaconda section that `conda` can also be used to install and manage packages.\n",
    "So what's the difference between `pip` and `conda`?\n",
    "\n",
    "Although they are very similar, these tools are built for different purposes.\n",
    "\n",
    "The first key difference to remember is that Pip installs Python packages only, whereas conda can install packages which can contain software written in any language.\n",
    "\n",
    "Conda also has built-in support for creating isolated environments that can contain different versions of Python and packages, while Pip doesn't and has to depend on other tools like `virtualenv` or `venv`.\n",
    "\n",
    "You can read more about the differences between conda and pip in this [Anaconda article](https://www.anaconda.com/blog/understanding-conda-and-pip).\n",
    "\n",
    "## Creating a requirements file (pip)\n",
    "\n",
    "At some point, you will have a list of packages you often install and import. A nice way to streamline this process, especially if you want to share your work with other programmers, is creating a requirements file.\n",
    "\n",
    "A requirements.txt file is a simple text file that lists all of the packages your project depends on. It’s common to include the versions of each package you’ve used, ensuring that others who work on the project (or even you, in the future) can install the exact same dependencies.\n",
    "\n",
    "### Manually\n",
    "\n",
    "You can do this manually by creating a text file and listing each package name on a new line. You can also specify the package version, for example:\n",
    "\n",
    "pandas==2.2.3\n",
    "numpy==2.2.4\n",
    "\n",
    "\n",
    "### Automatically\n",
    "\n",
    "If you've already installed the packages in your current environment, you can automatically generate the requirements.txt file with this command:"
   ]
  },
  {
   "cell_type": "code",
   "execution_count": null,
   "id": "1ad92e1b",
   "metadata": {
    "tags": [
     "skip-execution"
    ]
   },
   "outputs": [],
   "source": [
    "!pip freeze > requirements.txt"
   ]
  },
  {
   "cell_type": "markdown",
   "id": "067c84f0",
   "metadata": {},
   "source": [
    "This command lists all the installed packages and their versions in the current Python environment and saves them in requirements.txt."
   ]
  },
  {
   "cell_type": "code",
   "execution_count": null,
   "id": "859e3aab",
   "metadata": {
    "tags": [
     "skip-execution"
    ]
   },
   "outputs": [],
   "source": [
    "!pip install -r requirements.txt"
   ]
  },
  {
   "cell_type": "markdown",
   "id": "a84bcb08",
   "metadata": {},
   "source": [
    "This will read the requirements.txt file and install the packages listed in it, ensuring that the environment is set up with the correct dependencies.\n",
    "(Note:this assumes the text file is in the same working directory as your notebook.)\n",
    "\n",
    "## Creating an environment file (conda)\n",
    "\n",
    "If you are using conda, you can create a `environment.yml` file.\n",
    "\n",
    "### Manually\n",
    "\n",
    "A simple environment YAML file has the `.yml` extension and follows this format:\n",
    "\n",
    "```yaml\n",
    "name: myenv\n",
    "dependencies:\n",
    "  - numpy\n",
    "  - pandas\n",
    "```\n",
    "\n",
    "You can read more about it [here](https://docs.conda.io/projects/conda/en/latest/user-guide/tasks/manage-environments.html#create-env-file-manually).\n",
    "\n",
    "### Automatically\n",
    "\n",
    "In your terminal, you can create the `environment.yml` file using the following steps:\n",
    "\n",
    "1) Create your file:\n",
    "```bash\n",
    "conda env create -f environment.yml\n",
    "```\n",
    "\n",
    "2) Activate your new environment:\n",
    "```bash\n",
    "conda activate myenv\n",
    "```\n",
    "\n",
    "3) Verify that your installation was successful:\n",
    "```bash\n",
    "conda env list\n",
    "```\n",
    "\n",
    "4) Update your enrivonment:\n",
    "If one of your core dependencies updates, you need an additional package, or you want to replace a package, you can update the contents of your `environment.yml` file accordingly then run this command:\n",
    "\n",
    "```bash\n",
    "conda env update --file environment.yml  --prune\n",
    "```\n",
    "\n",
    "```{note}\n",
    "The `--prune` option tells conda to remove any dependencies you no longer require in your environment.\n",
    "```\n",
    "\n",
    "You can learn more about commands to manage your conda environments [here](https://docs.conda.io/projects/conda/en/latest/user-guide/tasks/manage-environments.html).\n",
    "\n",
    "# Importing Python Packages\n",
    "\n",
    "## Importing packages in the next modules\n",
    "\n",
    "In Python, you can use the *as* keyword to give a module or package an alias, which means you can refer to it by a shorter or more convenient name. This is especially helpful when the package name is long, or when you want to use a commonly accepted alias.\n",
    "\n",
    "Syntax for Import Aliases\n",
    "The basic syntax for creating an import alias is:"
   ]
  },
  {
   "cell_type": "code",
   "execution_count": null,
   "id": "4def551f",
   "metadata": {
    "tags": [
     "skip-execution"
    ]
   },
   "outputs": [],
   "source": [
    "import <module_name> as <alias_name>"
   ]
  },
  {
   "cell_type": "markdown",
   "id": "3ac2e36a",
   "metadata": {},
   "source": [
    "Where <module_name> is the actual name of the package or module, and  <alias_name> is the shorter or more convenient name you want to use for that package."
   ]
  },
  {
   "cell_type": "code",
   "execution_count": 1,
   "id": "c712381c",
   "metadata": {},
   "outputs": [],
   "source": [
    "#Example: \n",
    "import pandas as pd"
   ]
  },
  {
   "cell_type": "markdown",
   "id": "37ee4d00",
   "metadata": {},
   "source": [
    "```{note}\n",
    "Why use aliases for imports?\n",
    "- Convenience: Shorter names make code more readable and less repetitive.\n",
    "- Consistency: Many libraries (like pandas, numpy, matplotlib, etc.) have common aliases that people use across the community, so it's easier to share and collaborate with others when using these same aliases.\n",
    "- Readability: Some packages have long names, and using an alias makes the code cleaner and easier to read. That said, there is no need for an alias if the package name is short e.g. os, sys.\n",
    "- Avoiding name conflicts\n",
    "\n",
    "\n",
    "```\n",
    "\n",
    "## Importing specific items from packages\n",
    "\n",
    "Now you have your workbench ready, and you know how to get your toolbox!\n",
    "To make things more tidy and easier to work with, it might be more useful to specify what tools you need.\n",
    "\n",
    "Think of it like in a biology lab. When you’re preparing equipment for a DNA extraction, you don’t bring out the entire lab cabinet. You just take the pipette, buffer, and centrifuge—the tools you need.\n",
    "In the same way, in Python, importing only what you need keeps your workspace clean and avoids confusion.\n",
    "\n",
    "### Importing a single item\n",
    "\n",
    "The syntax we're looking for is `from <module_name> import <item_name>`.\n",
    "We'll use the `statistics` built-in module as an example.\n",
    "\n",
    "Let's say you want to calculate the Body Mass Index (BMI) of a patient. You'll need the `pow()` function the `math` module to raise the height value to the power of 2."
   ]
  },
  {
   "cell_type": "code",
   "execution_count": 2,
   "id": "bb495114",
   "metadata": {},
   "outputs": [],
   "source": [
    "from math import pow  \n",
    "\n",
    "weight_kg = 70\n",
    "height_m = 1.75\n",
    "\n",
    "bmi = weight_kg / pow(height_m, 2)\n"
   ]
  },
  {
   "cell_type": "markdown",
   "id": "40ee043a",
   "metadata": {},
   "source": [
    "You can also use an alias for the imported item, e.g.:  `from math import pow as power`.\n",
    "\n",
    "### Importing several items at once\n",
    "\n",
    "Some modules are especially useful for your analysis, and while you may not need the entire module, you might still want to import several specific functions from it.\n",
    "\n",
    "To take the previous example a step further, you want to make sure your BMI value is rounded up to the nearest whole integer using the  `ceil` function."
   ]
  },
  {
   "cell_type": "code",
   "execution_count": 3,
   "id": "e082bd7e",
   "metadata": {},
   "outputs": [],
   "source": [
    "from math import pow, ceil  \n",
    "\n",
    "weight_kg = 70\n",
    "height_m = 1.75\n",
    "\n",
    "bmi = weight_kg / pow(height_m, 2)\n",
    "bmi_ceil = ceil(bmi)\n"
   ]
  },
  {
   "cell_type": "markdown",
   "id": "d91ce7ba",
   "metadata": {},
   "source": [
    "```{note}\n",
    "While not recommended, another way to import a whole package is through the syntax:\n",
    "`from <module_name> import * `\n",
    "```\n",
    "\n",
    "### Importing custom packages\n",
    "\n",
    "You can create your own packages. In the previous sections, we saw how easy it is to create a Python script file called `first_script.py`. If this file contained functions or variables, you can reuse them by importing the file just like a Python module.\n",
    "\n",
    "```python\n",
    "import first_script\n",
    "```\n",
    "\n",
    "Just like any module, you can also give it an alias.\n",
    "\n",
    "```python\n",
    "import first_script as fs\n",
    "```"
   ]
  }
 ],
 "metadata": {
  "jupytext": {
   "formats": "md:myst",
   "text_representation": {
    "extension": ".md",
    "format_name": "myst",
    "format_version": 0.13,
    "jupytext_version": "1.11.5"
   }
  },
  "kernelspec": {
   "display_name": "Python 3",
   "language": "python",
   "name": "python3"
  },
  "language_info": {
   "codemirror_mode": {
    "name": "ipython",
    "version": 3
   },
   "file_extension": ".py",
   "mimetype": "text/x-python",
   "name": "python",
   "nbconvert_exporter": "python",
   "pygments_lexer": "ipython3",
   "version": "3.13.2"
  },
  "source_map": [
   13,
   65,
   70,
   74,
   79,
   82,
   90,
   97,
   105,
   139,
   142,
   147,
   150,
   214,
   217,
   221,
   224,
   252,
   261,
   270,
   279
  ]
 },
 "nbformat": 4,
 "nbformat_minor": 5
}