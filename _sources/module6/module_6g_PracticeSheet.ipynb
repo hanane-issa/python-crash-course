{
 "cells": [
  {
   "cell_type": "markdown",
   "id": "cd750c17",
   "metadata": {},
   "source": [
    "# Module 6: Practice Sheet"
   ]
  },
  {
   "cell_type": "code",
   "execution_count": null,
   "id": "8f7ad8aa",
   "metadata": {
    "tags": [
     "hide-input",
     "hide-output"
    ]
   },
   "outputs": [],
   "source": [
    "%load ../shared/setup.py  "
   ]
  },
  {
   "cell_type": "markdown",
   "id": "89919bb1",
   "metadata": {},
   "source": [
    "Uncomment the code below with selecting it and clicking `CTRL`  + `/`."
   ]
  },
  {
   "cell_type": "code",
   "execution_count": null,
   "id": "a7e21c5a",
   "metadata": {},
   "outputs": [],
   "source": [
    "# import pandas as pd\n",
    "# import numpy as np\n",
    "# import matplotlib.pyplot as plt\n",
    "# stroke_data = pd.read_csv(\"../data/healthcare-dataset-stroke-data.csv\")"
   ]
  },
  {
   "cell_type": "markdown",
   "id": "42a8c82d",
   "metadata": {},
   "source": [
    "##  Part 1: Function Basics"
   ]
  },
  {
   "cell_type": "markdown",
   "id": "49cea3e4",
   "metadata": {},
   "source": [
    "### 1.1 Define a Basic Function"
   ]
  },
  {
   "cell_type": "markdown",
   "id": "53766c5d",
   "metadata": {},
   "source": [
    "Write a function called `describe_data()` that takes a DataFrame and returns its `.describe()` output. Don't forget to add a docstring to the function."
   ]
  },
  {
   "cell_type": "code",
   "execution_count": null,
   "id": "9b24121a",
   "metadata": {},
   "outputs": [],
   "source": [
    "# YOUR CODE HERE "
   ]
  },
  {
   "cell_type": "markdown",
   "id": "acad7353",
   "metadata": {},
   "source": [
    "<details>\n",
    "<summary>Solution</summary>\n",
    "\n",
    "```python\n",
    "def describe_data(df):\n",
    "    \"\"\"\n",
    "    Return descriptive statistics summary of the DataFrame.\n",
    "\n",
    "    Parameters\n",
    "    ----------\n",
    "    df : pandas.DataFrame\n",
    "        The dataset to describe.\n",
    "\n",
    "    Returns\n",
    "    -------\n",
    "    pandas.DataFrame\n",
    "        Summary statistics including count, mean, std, min, quartiles, and max.\n",
    "    \"\"\"\n",
    "    return df.describe()\n",
    "```\n",
    "</details> "
   ]
  },
  {
   "cell_type": "markdown",
   "id": "7e85e3e4",
   "metadata": {},
   "source": [
    "### 1.2 Add a Pass Statement"
   ]
  },
  {
   "cell_type": "markdown",
   "id": "7dc7bb46",
   "metadata": {},
   "source": [
    "Define a function called `analyze_smoking_effect` that includes a pass statement. We will fill in the function body later."
   ]
  },
  {
   "cell_type": "code",
   "execution_count": null,
   "id": "57bf10e2",
   "metadata": {},
   "outputs": [],
   "source": [
    "# YOUR CODE HERE "
   ]
  },
  {
   "cell_type": "markdown",
   "id": "7c1bd7d9",
   "metadata": {},
   "source": [
    "<details>\n",
    "<summary>Solution</summary>\n",
    "\n",
    "```python\n",
    "def analyze_smoking_effect(df):\n",
    "    \"\"\"\n",
    "    Analyze the effect of smoking on stroke risk in the given DataFrame.\n",
    "\n",
    "    Parameters:\n",
    "    df (DataFrame): The DataFrame containing healthcare data.\n",
    "\n",
    "    Returns:\n",
    "    None\n",
    "    \"\"\"\n",
    "    pass  # Placeholder for future implementation\n",
    "```"
   ]
  },
  {
   "cell_type": "markdown",
   "id": "0cbc9f54",
   "metadata": {},
   "source": [
    "## Part 2: Return vs Print vs No Return"
   ]
  },
  {
   "cell_type": "markdown",
   "id": "9ae72347",
   "metadata": {},
   "source": [
    "### 2.1 Return Value"
   ]
  },
  {
   "cell_type": "markdown",
   "id": "1432a0b6",
   "metadata": {},
   "source": [
    "Write a function that returns the number of patients in the dataset who have ever smoked."
   ]
  },
  {
   "cell_type": "code",
   "execution_count": null,
   "id": "abba0524",
   "metadata": {},
   "outputs": [],
   "source": [
    "# YOUR CODE HERE"
   ]
  },
  {
   "cell_type": "markdown",
   "id": "cf5de72d",
   "metadata": {},
   "source": [
    "<details>\n",
    "<summary>Solution</summary>\n",
    "\n",
    "```python\n",
    "def analyze_smoking_effect(df):\n",
    "    \"\"\"\n",
    "    Analyze the effect of smoking on stroke risk in the given DataFrame.\n",
    "\n",
    "    Parameters:\n",
    "    df (DataFrame): The DataFrame containing healthcare data. Must include \n",
    "                    'smoking_status' and 'stroke' columns.\n",
    "\n",
    "    Returns:\n",
    "    smoking_rates (pandas.Series): A Series with smoking status as the index and average stroke rate as the values.\n",
    "    \"\"\"\n",
    "\n",
    "    \n",
    "    # Average Stroke rate per smoking category\n",
    "    smoking_rates = df.groupby('smoking_status')['stroke'].mean()\n",
    "    \n",
    "    return smoking_rates\n",
    "```"
   ]
  },
  {
   "cell_type": "markdown",
   "id": "4e4eac73",
   "metadata": {},
   "source": [
    "### 2.2 Print Statement"
   ]
  },
  {
   "cell_type": "markdown",
   "id": "11ce7ea5",
   "metadata": {},
   "source": [
    "Modify the `analyze_smoking_effect(df)` function to print a summary of smoking status counts and calculates stroke rates per smoking group."
   ]
  },
  {
   "cell_type": "code",
   "execution_count": null,
   "id": "694583d1",
   "metadata": {},
   "outputs": [],
   "source": [
    "# YOUR CODE HERE"
   ]
  },
  {
   "cell_type": "markdown",
   "id": "b6569a4c",
   "metadata": {},
   "source": [
    "<details>\n",
    "<summary>💡 Hints</summary>\n",
    "\n",
    "<p>\n",
    "The variable <code>smoking_rates</code> is a <strong>Pandas Series</strong>, where:\n",
    "</p>\n",
    "\n",
    "<ul>\n",
    "  <li>Each <strong>index</strong> is a smoking category (like <code>'smokes'</code>, <code>'never smoked'</code>).</li>\n",
    "  <li>Each <strong>value</strong> is the average stroke rate for that category.</li>\n",
    "</ul>\n",
    "\n",
    "<p>\n",
    "To print a nice summary:\n",
    "</p>\n",
    "\n",
    "<ul>\n",
    "  <li>Loop through <code>smoking_rates.items()</code> to access both the category and the stroke rate.</li>\n",
    "  <li>Use <code>print(f\"{category}: {rate:.2%}\")</code> to format the output as percentages.</li>\n",
    "</ul>\n",
    "\n",
    "</details>\n"
   ]
  },
  {
   "cell_type": "markdown",
   "id": "8e9cb848",
   "metadata": {},
   "source": [
    "<details>\n",
    "<summary>Solution</summary>\n",
    "\n",
    "```python\n",
    "def analyze_smoking_effect(df):\n",
    "    \"\"\"\n",
    "    Analyze the effect of smoking on stroke risk in the given DataFrame.\n",
    "\n",
    "    Parameters:\n",
    "    df (DataFrame): The DataFrame containing healthcare data. Must include \n",
    "                    'smoking_status' and 'stroke' columns.\n",
    "\n",
    "    Returns:\n",
    "    None\n",
    "    \"\"\"\n",
    "    counts = df['smoking_status'].value_counts()\n",
    "    total = len(df)\n",
    "    \n",
    "    print(\"Smoking Status Counts:\")\n",
    "    print(counts)\n",
    "    print(f\"\\nTotal records: {total}\")\n",
    "    \n",
    "    # Stroke rate per smoking category\n",
    "    smoking_rates = df.groupby('smoking_status')['stroke'].mean()\n",
    "    \n",
    "    print(\"\\nAverage stroke rate by smoking status:\")\n",
    "    for status, rate in smoking_rates.items():\n",
    "        print(f\"{status}: {rate:.2%}\")\n",
    "```"
   ]
  },
  {
   "cell_type": "markdown",
   "id": "fe01dce1",
   "metadata": {},
   "source": [
    "## Part 3: Parameters vs Arguments"
   ]
  },
  {
   "cell_type": "markdown",
   "id": "4219287c",
   "metadata": {},
   "source": [
    "### 3.1 Multiple Parameters"
   ]
  },
  {
   "cell_type": "markdown",
   "id": "a2d4baac",
   "metadata": {},
   "source": [
    "Write a function that takes two parameters: a DataFrame and a column name. It should print the column's value counts.\n",
    "You can optionally include a loop that checks whether the column exists in the DataFrame before printing its value counts."
   ]
  },
  {
   "cell_type": "code",
   "execution_count": null,
   "id": "25f5e6bc",
   "metadata": {},
   "outputs": [],
   "source": [
    "# YOUR CODE HERE"
   ]
  },
  {
   "cell_type": "markdown",
   "id": "502dd2a4",
   "metadata": {},
   "source": [
    "<details>\n",
    "<summary>Solution</summary>\n",
    "\n",
    "```python\n",
    "def col_description(df, col_name):\n",
    "    \"\"\"\n",
    "    Prints the value counts of a specified column in the DataFrame.\n",
    "    \n",
    "    Parameters:\n",
    "    df (DataFrame): The DataFrame containing the data.\n",
    "    col_name (str): The name of the column to analyze.\n",
    "    \"\"\"\n",
    "    if col_name in df.columns:\n",
    "        print(df[col_name].value_counts())\n",
    "    else:\n",
    "        print(f\"Column '{col_name}' does not exist in the DataFrame.\")\n",
    "```"
   ]
  },
  {
   "cell_type": "markdown",
   "id": "5c2c8bde",
   "metadata": {},
   "source": [
    "### 3.2 Default Parameters"
   ]
  },
  {
   "cell_type": "markdown",
   "id": "f5b67ea7",
   "metadata": {},
   "source": [
    "Write a function called `flag_high_risk()` that filters the dataset for patients with stroke and other risk conditions, such as high glucose, hypertension, and optionally, smoking status. All filters should be optional using default parameters."
   ]
  },
  {
   "cell_type": "markdown",
   "id": "8f4d4f92",
   "metadata": {},
   "source": [
    "<details>\n",
    "<summary>💡Hints</summary>\n",
    "\n",
    "- Set a default parameter like `threshold=140`\n",
    "- Use a filter condition with:  \n",
    "  `df['avg_glucose_level'] > threshold`  \n",
    "  and  \n",
    "  `df['stroke'] == 1`\n",
    "- Combine them with `&` (and wrap each condition in parentheses)\n",
    "- Use `return` to send back the filtered DataFrame\n",
    "</details>"
   ]
  },
  {
   "cell_type": "markdown",
   "id": "5628af6c",
   "metadata": {},
   "source": [
    "<details>\n",
    "<summary>Solution</summary>\n",
    "\n",
    "```python\n",
    "def flag_high_risk(df, glucose_threshold=140, check_hypertension=True, smoking_status=None):\n",
    "    \"\"\"\n",
    "    Return a filtered DataFrame of stroke patients who meet one or more risk criteria.\n",
    "\n",
    "    Parameters:\n",
    "    df (DataFrame): The stroke dataset.\n",
    "    glucose_threshold (float): Minimum glucose level to be considered high risk. Default is 140.\n",
    "    check_hypertension (bool): Whether to include hypertension as a risk factor. Default is True.\n",
    "    smoking_status (str or None): If provided, filter for this smoking category only. \n",
    "                                  E.g., 'smokes', 'formerly smoked', 'never smoked'.\n",
    "\n",
    "    Returns:\n",
    "    DataFrame: Filtered DataFrame of high-risk stroke patients.\n",
    "    \"\"\"\n",
    "    condition = (df['stroke'] == 1) & (df['avg_glucose_level'] > glucose_threshold)\n",
    "    \n",
    "    if check_hypertension:\n",
    "        condition &= (df['hypertension'] == 1)\n",
    "\n",
    "    if smoking_status is not None:\n",
    "        condition &= (df['smoking_status'] == smoking_status)\n",
    "\n",
    "    return df[condition]\n",
    "\n",
    "## Default usage\n",
    "# flag_high_risk(stroke_data).head()\n",
    "\n",
    "## Include only smokers\n",
    "# flag_high_risk(stroke_data, smoking_status='smokes').head()\n",
    "\n",
    "## Use a higher glucose threshold and ignore hypertension\n",
    "# flag_high_risk(stroke_data, glucose_threshold=160, check_hypertension=False).head()\n",
    "```"
   ]
  },
  {
   "cell_type": "markdown",
   "id": "33ae91a6",
   "metadata": {},
   "source": [
    "### 3.3 Positional and keywords arguments"
   ]
  },
  {
   "cell_type": "markdown",
   "id": "7da7b263",
   "metadata": {},
   "source": [
    "Define a function called `compare_histograms(df, *columns, **plot_options)` that allows users to plot histograms for multiple numeric columns in the dataset and customize the plot style with keyword arguments."
   ]
  },
  {
   "cell_type": "code",
   "execution_count": null,
   "id": "f92bc891",
   "metadata": {},
   "outputs": [],
   "source": [
    "def compare_histograms(df, *columns, **plot_options):\n",
    "    #YOUR CODE HERE\n",
    "    pass"
   ]
  },
  {
   "cell_type": "markdown",
   "id": "c3da0ca8",
   "metadata": {},
   "source": [
    "<details>\n",
    "<summary>💡 Hints</summary>\n",
    "\n",
    "\n",
    "<details>\n",
    "  <summary>Hint 1: Loop through the column names</summary>\n",
    "  <p>Use a <code>for</code> loop to iterate over <code>columns</code>, which is a tuple of all the column names passed positionally.</p>\n",
    "  <pre><code>for col in columns:\n",
    "    ...\n",
    "</code></pre>\n",
    "</details>\n",
    "\n",
    "<details>\n",
    "  <summary>Hint 2: Access optional arguments from <code>**plot_options</code></summary>\n",
    "  <p>Use <code>.get()</code> to safely access values from the dictionary of keyword arguments. Set defaults like:</p>\n",
    "  <pre><code>plot_options.get(\"bins\", 30)\n",
    "plot_options.get(\"alpha\", 0.5)\n",
    "</code></pre>\n",
    "  <p>This lets users override defaults, but still works even if they don't.</p>\n",
    "</details>\n",
    "\n",
    "<details>\n",
    "  <summary>Hint 3: Customize your plot</summary>\n",
    "  <p>Use the values from <code>**plot_options</code> to set the title, figure size, etc. Examples:</p>\n",
    "  <pre><code>plt.figure(figsize=plot_options.get(\"figsize\", (6, 4)))\n",
    "plt.title(plot_options.get(\"title\", \"Comparison\"))\n",
    "</code></pre>\n",
    "</details>\n",
    "\n",
    "<details>\n",
    "  <summary>Hint 4: Don’t forget labels and legends</summary>\n",
    "  <p>Use <code>label=col</code> in your histogram so each column has a legend entry.</p>\n",
    "</details>\n"
   ]
  },
  {
   "cell_type": "markdown",
   "id": "ae0cd929",
   "metadata": {},
   "source": [
    "<details>\n",
    "<summary>Solution</summary>\n",
    "\n",
    "```python\n",
    "def compare_histograms(df, *columns, **plot_options):\n",
    "    \"\"\"\n",
    "    Plot histograms of multiple numeric columns from the DataFrame.\n",
    "    \n",
    "    Parameters:\n",
    "    df : pd.DataFrame\n",
    "        The dataset to visualize.\n",
    "    *columns : str\n",
    "        Column names to plot.\n",
    "    **plot_options : dict\n",
    "        Keyword arguments for customizing the plot (e.g., bins, alpha, figsize).\n",
    "    \n",
    "    Returns:\n",
    "    None\n",
    "    \"\"\"\n",
    "    num_cols = len(columns)\n",
    "    \n",
    "    if num_cols == 0:\n",
    "        print(\"Please provide at least one column to plot.\")\n",
    "        return\n",
    "\n",
    "    plt.figure(figsize=plot_options.get(\"figsize\", (6, 4)))\n",
    "\n",
    "    for col in columns:\n",
    "        data = df[col].dropna()\n",
    "        plt.hist(\n",
    "            data, \n",
    "            bins=plot_options.get(\"bins\", 30), \n",
    "            alpha=plot_options.get(\"alpha\", 0.5), \n",
    "            label=col, \n",
    "            edgecolor='black'\n",
    "        )\n",
    "\n",
    "    plt.title(plot_options.get(\"title\", \"Comparison of Columns\"))\n",
    "    plt.xlabel(\"Value\")\n",
    "    plt.ylabel(\"Frequency\")\n",
    "    plt.legend()\n",
    "    plt.grid(True)\n",
    "    plt.show()\n",
    "\n",
    "## Example usage:\n",
    "# compare_histograms(stroke_data,'avg_glucose_level','bmi',bins=40,alpha=0.6,title=\"Glucose vs BMI Distribution\",figsize=(8, 5))\n",
    " \n",
    "```"
   ]
  }
 ],
 "metadata": {
  "language_info": {
   "name": "python"
  }
 },
 "nbformat": 4,
 "nbformat_minor": 5
}
