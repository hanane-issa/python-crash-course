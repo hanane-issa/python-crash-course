{
 "cells": [
  {
   "cell_type": "code",
   "execution_count": null,
   "id": "0739b50c",
   "metadata": {
    "tags": [
     "hide-input",
     "hide-output",
     "thebe-init"
    ]
   },
   "outputs": [],
   "source": [
    "import sys\n",
    "import os\n",
    "sys.path.insert(0, os.path.abspath(os.path.join(os.getcwd(), '..', 'shared')))\n",
    "import setup_code\n",
    "stroke_data = setup_code.stroke_data"
   ]
  },
  {
   "cell_type": "markdown",
   "id": "bfec991a",
   "metadata": {},
   "source": [
    "# Module 6f: Extra (OPTIONAL)\n",
    "\n",
    "\n",
    "<div class=\"alert alert-block alert-success\">\n",
    "<b>Section Objectives:</b><br> \n",
    "- Learn some useful functions we use often.\n",
    "</div>\n",
    "\n",
    "These are some bonus concepts that aren't essential for day-to-day data analysis but are useful to know — and often come up in more advanced tasks and code reading.\n",
    "\n",
    "## Recursion\n",
    "\n",
    "A recursive function is a function that calls itself to solve a problem step by step. Recursion is not commonly used for DataFrame operations, but it helps you understand how some algorithms work.\n",
    "\n",
    "Let’s say we want to calculate a factorial:"
   ]
  },
  {
   "cell_type": "code",
   "execution_count": null,
   "id": "de0849a3",
   "metadata": {},
   "outputs": [],
   "source": [
    "def factorial(n):\n",
    "    if n == 0 or n == 1:\n",
    "        return 1\n",
    "    return n * factorial(n - 1)"
   ]
  },
  {
   "cell_type": "markdown",
   "id": "9dd6e59a",
   "metadata": {},
   "source": [
    "`factorial(3)` returns `3 * factorial(2)`, which becomes `3 * 2 * factorial(1)`, and so on…\n",
    "\n",
    "\n",
    "```{note}\n",
    "Be careful! Recursive functions must always have a base case (a stopping condition), or they’ll go on forever.\n",
    "```\n",
    "\n",
    "## Anonymous (Lambda) Functions\n",
    "\n",
    "A lambda function is a quick way to define a simple function in one line, without using `def`. It's very useful with `.apply()` in pandas.\n",
    "Let’s label patients with a bmi_status column, based on their BMI:"
   ]
  },
  {
   "cell_type": "code",
   "execution_count": null,
   "id": "8f7ade20",
   "metadata": {},
   "outputs": [],
   "source": [
    "stroke_data = setup_code.stroke_data"
   ]
  },
  {
   "cell_type": "code",
   "execution_count": null,
   "id": "0d764b10",
   "metadata": {},
   "outputs": [],
   "source": [
    "stroke_data['bmi_status'] = stroke_data['bmi'].apply(lambda x: 'high' if x > 30 else 'normal')"
   ]
  },
  {
   "cell_type": "markdown",
   "id": "79fc11c4",
   "metadata": {},
   "source": [
    "This adds a new column with the label 'high' if BMI is over 30, 'normal' if less or equal to 30.\n",
    "The code above is the same as writing the following:"
   ]
  },
  {
   "cell_type": "code",
   "execution_count": null,
   "id": "aa1e6774",
   "metadata": {},
   "outputs": [],
   "source": [
    "def bmi_label(x):\n",
    "    return 'high' if x > 30 else 'normal'\n",
    "\n",
    "stroke_data['bmi_status'] = stroke_data['bmi'].apply(bmi_label)"
   ]
  },
  {
   "cell_type": "markdown",
   "id": "37598efb",
   "metadata": {},
   "source": [
    "## Useful Built-in Functions: `map`, `filter`, and `zip`\n",
    "\n",
    "These are functions you can use with lists or Series to quickly transform or filter data.\n",
    "\n",
    "### `map(function, iterable)`\n",
    "\n",
    "Useful to apply a function to every item in a list or Series."
   ]
  },
  {
   "cell_type": "code",
   "execution_count": null,
   "id": "ef8e13c6",
   "metadata": {},
   "outputs": [],
   "source": [
    "#Example: Let’s get stroke status labels (string) for each patient.\n",
    "stroke_flags = stroke_data['stroke'].map(lambda x: 'Yes' if x == 1 else 'No')"
   ]
  },
  {
   "cell_type": "markdown",
   "id": "f96f0f88",
   "metadata": {},
   "source": [
    "### `filter(function, iterable)`\n",
    "\n",
    "Filters a list by a condition that returns True."
   ]
  },
  {
   "cell_type": "code",
   "execution_count": null,
   "id": "691213e1",
   "metadata": {},
   "outputs": [],
   "source": [
    "#Example: Get a list of patient ages 80 or older\n",
    "ages = stroke_data['age'].tolist()\n",
    "senior_patients = list(filter(lambda x: x >= 80, ages))"
   ]
  },
  {
   "cell_type": "markdown",
   "id": "7bc8bb5b",
   "metadata": {},
   "source": [
    "### `zip(function, iterable)`\n",
    "\n",
    "Combines two lists into pairs."
   ]
  },
  {
   "cell_type": "code",
   "execution_count": null,
   "id": "0d961e6a",
   "metadata": {},
   "outputs": [],
   "source": [
    "#Example: Pair each patient’s ID and age into tuples\n",
    "patient_ids = stroke_data['id'].head(3)\n",
    "ages = stroke_data['age'].head(3)\n",
    "\n",
    "list(zip(patient_ids, ages))"
   ]
  }
 ],
 "metadata": {
  "jupytext": {
   "default_lexer": "python"
  },
  "kernelspec": {
   "display_name": "Python 3",
   "language": "python",
   "name": "python3"
  }
 },
 "nbformat": 4,
 "nbformat_minor": 5
}
