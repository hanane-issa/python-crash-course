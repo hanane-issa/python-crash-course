{
 "cells": [
  {
   "cell_type": "markdown",
   "metadata": {},
   "source": [
    "# Introduction to NumPy\n"
   ]
  },
  {
   "cell_type": "markdown",
   "metadata": {},
   "source": [
    "**In this module you will learn how to:**\n",
    "- convert between Python lists and NumPy arrays,\n",
    "- select array elements,\n",
    "- slice arrays, \n",
    "- fill an array with values,\n",
    "- perform mathematical operations on arrays,\n",
    "- save arrays as a txt value.\n"
   ]
  },
  {
   "cell_type": "markdown",
   "metadata": {},
   "source": [
    "\n",
    "NumPy is a Python package for efficient handling of data in the form of vectors, matrices, etc. Further details about the package and its manual can be found on https://numpy.org. NumPy provides a faster and more memory-efficient alternative to Python lists [1]. It is also compatible with many statistical packages. In this section, we will work through the fundamentals of the package."
   ]
  },
  {
   "cell_type": "code",
   "execution_count": 3,
   "metadata": {},
   "outputs": [],
   "source": [
    "# let us first import the package, np is a common abbreviation\n",
    "import numpy as np\n",
    "\n"
   ]
  },
  {
   "cell_type": "markdown",
   "metadata": {},
   "source": [
    "### Introduction to NumPy arrays\n",
    "The main concept in NumPy is an array. It is equivalent to a Python list, but under the hood of the package, the underlying code representing an array is written differently and it has additional functionalities. \n",
    "\n",
    "You can create a NumPy array from a Python list like this:"
   ]
  },
  {
   "cell_type": "code",
   "execution_count": 3,
   "metadata": {},
   "outputs": [],
   "source": [
    "list = [1, 2, 3, 4]\n",
    "# arr is a NumPy array\n",
    "arr = np.array(list)\n",
    "\n",
    "# or if you want to do it in one line:\n",
    "arr = np.array([1, 2, 3, 4])\n"
   ]
  },
  {
   "cell_type": "markdown",
   "metadata": {},
   "source": [
    "Each singular position in an array, like the numbers 1-4, are referred to as elements.\n",
    "\n",
    "If you want to convert a NumPy array to a Python list, you can just do the following:"
   ]
  },
  {
   "cell_type": "code",
   "execution_count": 4,
   "metadata": {},
   "outputs": [],
   "source": [
    "back_to_list = arr.tolist()\n",
    "\n",
    "# where arr can be replaced with any other variable name pointing to a numpy array name you created"
   ]
  },
  {
   "cell_type": "markdown",
   "metadata": {},
   "source": [
    "You can determine the type of your variable (and check if the conversion worked) like this:"
   ]
  },
  {
   "cell_type": "code",
   "execution_count": 5,
   "metadata": {},
   "outputs": [
    {
     "name": "stdout",
     "output_type": "stream",
     "text": [
      "NumPy array:\n",
      "<class 'numpy.ndarray'>\n",
      "Python list:\n",
      "<class 'list'>\n"
     ]
    }
   ],
   "source": [
    "# run the previous cells to be able to print the messages here\n",
    "print('NumPy array:')\n",
    "print(type(arr))\n",
    "\n",
    "\n",
    "print('Python list:')\n",
    "print(type(back_to_list))"
   ]
  },
  {
   "cell_type": "markdown",
   "metadata": {},
   "source": [
    "So far you have seen an example of a one-dimensional array `[1, 2, 3, 4]`, which could represent a vector. You could also easily create 2D or 3D arrays:"
   ]
  },
  {
   "cell_type": "code",
   "execution_count": 6,
   "metadata": {},
   "outputs": [
    {
     "name": "stdout",
     "output_type": "stream",
     "text": [
      "2D array\n",
      "[[1 2]\n",
      " [3 4]]\n",
      "3D array\n",
      "[[[ 1  2  3]\n",
      "  [ 4  5  6]\n",
      "  [ 7  8  9]]\n",
      "\n",
      " [[10 11 12]\n",
      "  [13 14 15]\n",
      "  [16 17 18]]\n",
      "\n",
      " [[19 20 21]\n",
      "  [22 23 24]\n",
      "  [25 26 27]]]\n"
     ]
    }
   ],
   "source": [
    "print(\"2D array\")\n",
    "arr2D = np.array([[1,2], [3, 4]])\n",
    "print(arr2D)\n",
    "\n",
    "print(\"3D array\")\n",
    "arr3D = np.array([[[1, 2, 3],\n",
    "        [4, 5, 6],\n",
    "        [7, 8, 9]],\n",
    "        \n",
    "       [[10, 11, 12],\n",
    "        [13, 14, 15],\n",
    "        [16, 17, 18]],\n",
    "\n",
    "       [[19, 20, 21],\n",
    "        [22, 23, 24],\n",
    "        [25, 26, 27]]])\n",
    "\n",
    "print(arr3D)"
   ]
  },
  {
   "cell_type": "markdown",
   "metadata": {},
   "source": [
    "As you can see above, creating more dimensions simply involves nesting another array inside array elements. This way you could create N-dimensional arrays, where N-1 is how many times arrays were nested.\n",
    "\n",
    "\n",
    "You can check the size and the dimensionality of your arrays with `.shape` attribute (attributes are explained in module 7): "
   ]
  },
  {
   "cell_type": "code",
   "execution_count": 7,
   "metadata": {},
   "outputs": [
    {
     "name": "stdout",
     "output_type": "stream",
     "text": [
      "The shape of the 2D array:\n",
      "(2, 2)\n",
      "The shape of the 3D array:\n",
      "(3, 3, 3)\n"
     ]
    }
   ],
   "source": [
    "\n",
    "print(\"The shape of the 2D array:\")\n",
    "print(arr2D.shape)\n",
    "\n",
    "print(\"The shape of the 3D array:\")\n",
    "print(arr3D.shape)\n"
   ]
  },
  {
   "cell_type": "markdown",
   "metadata": {},
   "source": [
    "The amount of numbers in parentheses indicates the dimensionality (which can alternatively be checked with `arr2D.ndim`) and the values correspond to the number of elements in each dimension/axis. So here for example the `(2, 2)` shape means the array has 2 rows and 2 columns. "
   ]
  },
  {
   "cell_type": "markdown",
   "metadata": {},
   "source": [
    "### Selecting a single array element\n",
    "Now let's see how to select array elements we're interested in.\n",
    "\n",
    "To fetch a value, you need to know its index position in all dimensions of an array. For example, we would like to obtain the element with value 3 in array `arr2D`:"
   ]
  },
  {
   "cell_type": "code",
   "execution_count": 8,
   "metadata": {},
   "outputs": [
    {
     "name": "stdout",
     "output_type": "stream",
     "text": [
      "[[1 2]\n",
      " [3 4]]\n"
     ]
    }
   ],
   "source": [
    "print(arr2D)"
   ]
  },
  {
   "cell_type": "markdown",
   "metadata": {},
   "source": [
    "This element is found in the second row and the first column. However indexing of all lists and arrays in Python starts with 0, so the element is in row 1, column 0 according to the Python language:"
   ]
  },
  {
   "cell_type": "code",
   "execution_count": null,
   "metadata": {},
   "outputs": [
    {
     "name": "stdout",
     "output_type": "stream",
     "text": [
      "3\n"
     ]
    }
   ],
   "source": [
    "row_id = 1\n",
    "column_id = 0\n",
    "\n",
    "# let's fetch the element with value 3\n",
    "print(arr2D[row_id, column_id])\n"
   ]
  },
  {
   "cell_type": "markdown",
   "metadata": {},
   "source": [
    "Now we would like to select value 6 in `arr3D`. Since we have more dimensions now, referring to the element positions by just columns and rows is not sufficient, so we will call them axes instead, which is also the terminology used in NumPy documentation to describe their functions."
   ]
  },
  {
   "cell_type": "code",
   "execution_count": 54,
   "metadata": {},
   "outputs": [
    {
     "name": "stdout",
     "output_type": "stream",
     "text": [
      "6\n"
     ]
    }
   ],
   "source": [
    "axis0 = 0\n",
    "axis1 = 1\n",
    "axis2 = 2\n",
    "print(arr3D[axis0, axis1, axis2])\n"
   ]
  },
  {
   "cell_type": "markdown",
   "metadata": {},
   "source": [
    "**Exercise**\n",
    "\n",
    "(a) Select value 4 in arr2D and value 22 in arr3D.\n",
    "\n",
    "(b) Select value 2 in arr.\n",
    "\n"
   ]
  },
  {
   "cell_type": "code",
   "execution_count": null,
   "metadata": {},
   "outputs": [],
   "source": [
    "# your code goes here"
   ]
  },
  {
   "cell_type": "markdown",
   "metadata": {},
   "source": [
    "```{dropdown} 💡 Solution\n",
    "```python\n",
    "# (a)\n",
    "print(arr2D[1, 1])\n",
    "print(arr3D[2, 1, 0])\n",
    "# (b)\n",
    "print(arr[1])"
   ]
  },
  {
   "cell_type": "markdown",
   "metadata": {},
   "source": [
    "### Selecting a range of elements in an array\n",
    "Let us see how to select a subset of elements in an array. If you are interested in an entire axis/row/column, just specify the index and `:` for all the other values that follow in the other dimension(s):"
   ]
  },
  {
   "cell_type": "code",
   "execution_count": 62,
   "metadata": {},
   "outputs": [
    {
     "name": "stdout",
     "output_type": "stream",
     "text": [
      "[1 2]\n"
     ]
    }
   ],
   "source": [
    "# select row 0 in arr2D\n",
    "print(arr2D[0, :])"
   ]
  },
  {
   "cell_type": "markdown",
   "metadata": {},
   "source": [
    "Here we will explore how to slice an array:"
   ]
  },
  {
   "cell_type": "code",
   "execution_count": 4,
   "metadata": {},
   "outputs": [
    {
     "name": "stdout",
     "output_type": "stream",
     "text": [
      "[[ 1  2  3  4]\n",
      " [ 5  6  7  8]\n",
      " [ 9 10 11 12]\n",
      " [13 14 15 16]]\n"
     ]
    }
   ],
   "source": [
    "larger_array = np.array([[ 1,  2,  3,  4], \n",
    "                        [ 5,  6,  7,  8],\n",
    "                        [ 9, 10, 11, 12], \n",
    "                        [13, 14, 15, 16]])\n",
    "print(larger_array)"
   ]
  },
  {
   "cell_type": "markdown",
   "metadata": {},
   "source": [
    "We would like to select a subset of `larger_array` containing values 1, 2, 3, 5, 6, 7. These elements cover rows 0, 1 and columns 0, 1, 2. The interval of positions can be selected `start:end` like here:\n",
    "                                                                "
   ]
  },
  {
   "cell_type": "code",
   "execution_count": 88,
   "metadata": {},
   "outputs": [
    {
     "name": "stdout",
     "output_type": "stream",
     "text": [
      "[[1 2 3]\n",
      " [5 6 7]]\n"
     ]
    }
   ],
   "source": [
    "row_start = 0\n",
    "row_end = 2\n",
    "col_start = 0\n",
    "col_end = 3\n",
    "print(larger_array[row_start:row_end,col_start:col_end])"
   ]
  },
  {
   "cell_type": "markdown",
   "metadata": {},
   "source": [
    "\n",
    "An important thing to keep in mind here is that *end* number is not included in the selected range of positions when slicing arrays, so eg. when you want to select rows 0 and 1, your `end` value is 2 like shown above.\n",
    "\n",
    "\n",
    "Now, what if you are only interested in specific elements that don't follow a neat range like in previous examples?"
   ]
  },
  {
   "cell_type": "code",
   "execution_count": null,
   "metadata": {},
   "outputs": [
    {
     "name": "stdout",
     "output_type": "stream",
     "text": [
      "[1 2 3 4]\n"
     ]
    }
   ],
   "source": [
    "# do you remember the 1D array? \n",
    "print(arr)"
   ]
  },
  {
   "cell_type": "markdown",
   "metadata": {},
   "source": [
    "That's how you would select elements with values 1, 3, 4:"
   ]
  },
  {
   "cell_type": "code",
   "execution_count": null,
   "metadata": {},
   "outputs": [
    {
     "name": "stdout",
     "output_type": "stream",
     "text": [
      "[1 3 4]\n"
     ]
    }
   ],
   "source": [
    "# put all of their positions in a list or an array\n",
    "select_these = [0, 2, 3]\n",
    "print(arr[select_these])"
   ]
  },
  {
   "cell_type": "markdown",
   "metadata": {},
   "source": [
    "And how would you select elements with values 3, 10, 16 in `larger_array`?"
   ]
  },
  {
   "cell_type": "code",
   "execution_count": 94,
   "metadata": {},
   "outputs": [
    {
     "name": "stdout",
     "output_type": "stream",
     "text": [
      "[[ 1  2  3  4]\n",
      " [ 5  6  7  8]\n",
      " [ 9 10 11 12]\n",
      " [13 14 15 16]]\n"
     ]
    }
   ],
   "source": [
    "print(larger_array)"
   ]
  },
  {
   "cell_type": "markdown",
   "metadata": {},
   "source": [
    "You would just create separate lists of their positions for each dimension:"
   ]
  },
  {
   "cell_type": "code",
   "execution_count": 8,
   "metadata": {},
   "outputs": [
    {
     "name": "stdout",
     "output_type": "stream",
     "text": [
      "[ 3 10 16]\n"
     ]
    }
   ],
   "source": [
    "axis0_list = [0, 2, 3]\n",
    "axis1_list = [2, 1, 3]\n",
    "print(larger_array[axis0_list, axis1_list])"
   ]
  },
  {
   "cell_type": "markdown",
   "metadata": {},
   "source": [
    "**Exercise**\n",
    "\n",
    "Select values 5, 12 in `larger_array`."
   ]
  },
  {
   "cell_type": "code",
   "execution_count": null,
   "metadata": {},
   "outputs": [],
   "source": [
    "# your code goes here"
   ]
  },
  {
   "cell_type": "markdown",
   "metadata": {},
   "source": [
    "```{dropdown} 💡 Solution\n",
    "```python\n",
    "axis0_list = [1, 2]\n",
    "axis1_list = [0, 3]\n",
    "print(larger_array[axis0_list, axis1_list])"
   ]
  },
  {
   "cell_type": "markdown",
   "metadata": {},
   "source": [
    "### Selecting array values according to specific criteria"
   ]
  },
  {
   "cell_type": "markdown",
   "metadata": {},
   "source": [
    "Here we will discuss a couple of examples where you can select values that meet certain rules:"
   ]
  },
  {
   "cell_type": "code",
   "execution_count": null,
   "metadata": {},
   "outputs": [
    {
     "name": "stdout",
     "output_type": "stream",
     "text": [
      "[1 2 3 4 5 6 7 8 9]\n"
     ]
    }
   ],
   "source": [
    "# select elements with values that are below 10 in larger_array:\n",
    "\n",
    "print(larger_array[larger_array < 10])"
   ]
  },
  {
   "cell_type": "markdown",
   "metadata": {},
   "source": [
    "What if you want to select elements that need to meet more than one criterion? Put each criterion in brackets and combine them with `&` like here: "
   ]
  },
  {
   "cell_type": "code",
   "execution_count": null,
   "metadata": {},
   "outputs": [
    {
     "name": "stdout",
     "output_type": "stream",
     "text": [
      "[6 7 8 9]\n"
     ]
    }
   ],
   "source": [
    "# select elements with values that are below 10 and more than 5 in larger_array:\n",
    "\n",
    "print(larger_array[(larger_array > 5) & (larger_array < 10)])"
   ]
  },
  {
   "cell_type": "markdown",
   "metadata": {},
   "source": [
    "**Exercise**\n",
    "\n",
    "Filter out for values equal to or larger than 2, smaller than 5, and not equal to 4 in `larger_array`."
   ]
  },
  {
   "cell_type": "code",
   "execution_count": null,
   "metadata": {},
   "outputs": [],
   "source": [
    "# your code goes here"
   ]
  },
  {
   "cell_type": "markdown",
   "metadata": {},
   "source": [
    "```{dropdown} 💡 Solution\n",
    "```python\n",
    "print(larger_array[(larger_array >= 2) & (larger_array < 5) & (larger_array != 4)])"
   ]
  },
  {
   "cell_type": "markdown",
   "metadata": {},
   "source": [
    "### Filling out arrays with values\n",
    "\n",
    "Now that we know how to select elements of interest, we can populate arrays with values in a way we want. Let's inspect how we could do this:"
   ]
  },
  {
   "cell_type": "code",
   "execution_count": null,
   "metadata": {},
   "outputs": [
    {
     "name": "stdout",
     "output_type": "stream",
     "text": [
      "Newly initiated array:\n",
      "[[0. 0. 0. 0. 0.]\n",
      " [0. 0. 0. 0. 0.]\n",
      " [0. 0. 0. 0. 0.]\n",
      " [0. 0. 0. 0. 0.]\n",
      " [0. 0. 0. 0. 0.]]\n",
      "Array with one new value:\n",
      "[[0. 0. 0. 0. 0.]\n",
      " [0. 0. 0. 0. 0.]\n",
      " [0. 0. 0. 0. 0.]\n",
      " [0. 0. 0. 0. 1.]\n",
      " [0. 0. 0. 0. 0.]]\n",
      "Array with more 1s:\n",
      "[[0. 0. 1. 0. 0.]\n",
      " [0. 0. 0. 0. 0.]\n",
      " [0. 1. 0. 0. 0.]\n",
      " [0. 0. 0. 1. 1.]\n",
      " [0. 0. 0. 0. 0.]]\n"
     ]
    }
   ],
   "source": [
    "new_array = np.zeros((5, 5)) # this function allows us to create a 2D NumPy array of size 5x5, all filled with zeros\n",
    "print(\"Newly initiated array:\")\n",
    "print(new_array)\n",
    "# fill element in position [3, 4] with a value of 1:\n",
    "new_array[3, 4] = 1\n",
    "print(\"Array with one new value:\")\n",
    "print(new_array)\n",
    "\n",
    "# fill multiple elements with specified position with a value of 1:\n",
    "axis0_list = [0, 2, 3]\n",
    "axis1_list = [2, 1, 3]\n",
    "new_array[axis0_list, axis1_list] = 1 \n",
    "print(\"Array with more 1s:\")\n",
    "print(new_array)\n",
    "\n",
    "\n"
   ]
  },
  {
   "cell_type": "markdown",
   "metadata": {},
   "source": [
    "Things get slightly trickier when you want to put an array of values into another larger array, not just a scalar value as shown above.\n",
    "The selection of the range of positions is specified differently:"
   ]
  },
  {
   "cell_type": "code",
   "execution_count": null,
   "metadata": {},
   "outputs": [
    {
     "name": "stdout",
     "output_type": "stream",
     "text": [
      "arrayA\n",
      "[[1 2 3]\n",
      " [4 5 6]\n",
      " [7 8 9]]\n",
      "arrayB\n",
      "[[0. 0. 0. 0. 0.]\n",
      " [0. 0. 0. 0. 0.]\n",
      " [0. 0. 0. 0. 0.]\n",
      " [0. 0. 0. 0. 0.]\n",
      " [0. 0. 0. 0. 0.]]\n"
     ]
    }
   ],
   "source": [
    "# let's say we want to put arrayA in the middle of the larger arrayB:\n",
    "arrayA = np.array([[1, 2, 3], [4, 5, 6], [7, 8, 9]])\n",
    "print(\"arrayA\")\n",
    "print(arrayA)\n",
    "arrayB = np.zeros((5, 5))\n",
    "print(\"arrayB\")\n",
    "print(arrayB)\n"
   ]
  },
  {
   "cell_type": "markdown",
   "metadata": {},
   "source": [
    "If you just want to select an interval of positions, you need to remember to include the second square brackets for the second position and `:` in `[:, 1:4]` as a carry-over from the previous axis. This ensures the correct dimensionality format is preserved for `arrayB`."
   ]
  },
  {
   "cell_type": "code",
   "execution_count": 11,
   "metadata": {},
   "outputs": [
    {
     "name": "stdout",
     "output_type": "stream",
     "text": [
      "[[0. 0. 0. 0. 0.]\n",
      " [0. 1. 2. 3. 0.]\n",
      " [0. 4. 5. 6. 0.]\n",
      " [0. 7. 8. 9. 0.]\n",
      " [0. 0. 0. 0. 0.]]\n"
     ]
    }
   ],
   "source": [
    "arrayB[1:4][:, 1:4] = arrayA\n",
    "print(arrayB)"
   ]
  },
  {
   "cell_type": "markdown",
   "metadata": {},
   "source": [
    "However sometimes you might prefer to provide the range of positions as a list of indices instead of the `start:end` interval - for example, because you might want to write a function that needs to accept arguments in such format. In this case, you would do it like this: "
   ]
  },
  {
   "cell_type": "code",
   "execution_count": null,
   "metadata": {},
   "outputs": [
    {
     "name": "stdout",
     "output_type": "stream",
     "text": [
      "[[0. 0. 0. 0. 0.]\n",
      " [0. 1. 2. 3. 0.]\n",
      " [0. 4. 5. 6. 0.]\n",
      " [0. 7. 8. 9. 0.]\n",
      " [0. 0. 0. 0. 0.]]\n"
     ]
    }
   ],
   "source": [
    "axis0_list = [1, 2, 3]\n",
    "axis1_list = [1, 2, 3]\n",
    "\n",
    "# this time the list of indices need to be in the array format\n",
    "axis0_array = np.array(axis0_list)\n",
    "axis1_array = np.array(axis1_list)\n",
    "\n",
    "arrayB = np.zeros((5, 5))\n",
    "\n",
    "arrayB[axis0_array[:, None], axis1_array] = arrayA\n",
    "\n",
    "print(arrayB)"
   ]
  },
  {
   "cell_type": "markdown",
   "metadata": {},
   "source": [
    "What if you put a 2D slice of `arrayB` (with values 2, 3, 5, 6) using the list of positions into `arrayC`? In this case you would need to remember how to select this slice to preserve its 2D shape."
   ]
  },
  {
   "cell_type": "code",
   "execution_count": null,
   "metadata": {},
   "outputs": [
    {
     "name": "stdout",
     "output_type": "stream",
     "text": [
      "[2. 3. 5. 6.]\n"
     ]
    }
   ],
   "source": [
    "# the previously shown method for selecting elements puts them all into a 1D array:\n",
    "axis0_list = [1, 1, 2, 2]\n",
    "axis1_list = [2, 3, 2, 3]\n",
    "print(arrayB[axis0_list, axis1_list])"
   ]
  },
  {
   "cell_type": "code",
   "execution_count": null,
   "metadata": {},
   "outputs": [
    {
     "name": "stdout",
     "output_type": "stream",
     "text": [
      "[[2. 3.]\n",
      " [5. 6.]]\n"
     ]
    }
   ],
   "source": [
    "# to preserve the 2D dimensionality of your selected slice to copy into arrayC, you need to choose the slice like this:\n",
    "axis0_list = [1, 2]\n",
    "axis1_list = [2, 3]\n",
    "print(arrayB[axis0_list][:, axis1_list])\n"
   ]
  },
  {
   "cell_type": "code",
   "execution_count": 15,
   "metadata": {},
   "outputs": [
    {
     "name": "stdout",
     "output_type": "stream",
     "text": [
      "populated arrayC\n",
      "[[1. 1. 1. 1. 1.]\n",
      " [1. 1. 2. 3. 1.]\n",
      " [1. 1. 5. 6. 1.]\n",
      " [1. 1. 1. 1. 1.]\n",
      " [1. 1. 1. 1. 1.]]\n"
     ]
    }
   ],
   "source": [
    "\n",
    "arrayC = np.ones((5, 5)) # This generates a 2D array of size 5x5, all filled with ones.\n",
    "\n",
    "axis0_array = np.array(axis0_list)\n",
    "axis1_array = np.array(axis1_list)\n",
    "\n",
    "arrayC[axis0_array[:, None], axis1_array] = arrayB[axis0_list][:, axis1_list]\n",
    "\n",
    "print(\"populated arrayC\")\n",
    "print(arrayC)"
   ]
  },
  {
   "cell_type": "markdown",
   "metadata": {},
   "source": [
    "### Joining arrays together\n",
    "\n",
    "Combining NumPy arrays into one is different from Python lists. Their shapes need to match for a successful concatenation.\n",
    "\n",
    "To explain this, let's try to append `extra_array` to `arrayA`:\n"
   ]
  },
  {
   "cell_type": "code",
   "execution_count": 220,
   "metadata": {},
   "outputs": [
    {
     "name": "stdout",
     "output_type": "stream",
     "text": [
      "arrayA\n",
      "[[1 2 3]\n",
      " [4 5 6]\n",
      " [7 8 9]]\n",
      "extra_array\n",
      "['A' 'A' 'A']\n"
     ]
    }
   ],
   "source": [
    "arrayA = np.array([[1, 2, 3], [4, 5, 6], [7, 8, 9]])\n",
    "print(\"arrayA\")\n",
    "print(arrayA)\n",
    "\n",
    "print(\"extra_array\")\n",
    "extra_array = np.array([\"A\", \"A\", \"A\"])\n",
    "print(extra_array)"
   ]
  },
  {
   "cell_type": "markdown",
   "metadata": {},
   "source": [
    "We won't be able to concatenate both arrays immediately, because their shapes and dimensionalities don't match:"
   ]
  },
  {
   "cell_type": "code",
   "execution_count": null,
   "metadata": {},
   "outputs": [
    {
     "name": "stdout",
     "output_type": "stream",
     "text": [
      "arrayA\n",
      "(3, 3)\n",
      "extra_array\n",
      "(3,)\n"
     ]
    }
   ],
   "source": [
    "print(\"arrayA\")\n",
    "print(arrayA.shape) # it's 2D\n",
    "print(\"extra_array\") \n",
    "print(extra_array.shape) # it's 1D"
   ]
  },
  {
   "cell_type": "markdown",
   "metadata": {},
   "source": [
    "To make them match, we can reshape `extra_array` to become an additional row for `arrayA`."
   ]
  },
  {
   "cell_type": "code",
   "execution_count": null,
   "metadata": {},
   "outputs": [
    {
     "name": "stdout",
     "output_type": "stream",
     "text": [
      "As a row\n",
      "[['A' 'A' 'A']]\n",
      "Its new shape\n",
      "(1, 3)\n"
     ]
    }
   ],
   "source": [
    "# initially extra_array was just a 1D array, now we turn it into a 2D format.\n",
    "extra_row_array = extra_array.reshape((1,-1)) \n",
    "# 1  in (1, -1) reshaping means that you want to have 1 position in dimension 1 \n",
    "# and -1 means that you don't impose restrictions on how the rest of elements are arranged in the other dimension\n",
    "print(\"As a row\")\n",
    "print(extra_row_array)\n",
    "print(\"Its new shape\")\n",
    "print(extra_row_array.shape)"
   ]
  },
  {
   "cell_type": "code",
   "execution_count": null,
   "metadata": {},
   "outputs": [
    {
     "name": "stdout",
     "output_type": "stream",
     "text": [
      "[['1' '2' '3']\n",
      " ['4' '5' '6']\n",
      " ['7' '8' '9']\n",
      " ['A' 'A' 'A']]\n"
     ]
    }
   ],
   "source": [
    "# that's how we can append the extra_array at the end:\n",
    "print(np.append(arrayA, extra_row_array, axis=0))\n",
    "# We need to specify axis number in np.append to clarify in which direction we append the arrays"
   ]
  },
  {
   "cell_type": "code",
   "execution_count": null,
   "metadata": {},
   "outputs": [
    {
     "name": "stdout",
     "output_type": "stream",
     "text": [
      "[['A' 'A' 'A']\n",
      " ['1' '2' '3']\n",
      " ['4' '5' '6']\n",
      " ['7' '8' '9']]\n"
     ]
    }
   ],
   "source": [
    "# we can also change the order\n",
    "print(np.append(extra_row_array, arrayA, axis=0))"
   ]
  },
  {
   "cell_type": "markdown",
   "metadata": {},
   "source": [
    "In this example, it's shown how we can append the `extra_array` as a column:"
   ]
  },
  {
   "cell_type": "code",
   "execution_count": 243,
   "metadata": {},
   "outputs": [
    {
     "name": "stdout",
     "output_type": "stream",
     "text": [
      "As a column\n",
      "[['A']\n",
      " ['A']\n",
      " ['A']]\n",
      "Its new shape\n",
      "(3, 1)\n"
     ]
    }
   ],
   "source": [
    "extra_column_array = extra_array.reshape((-1, 1))\n",
    "print(\"As a column\")\n",
    "print(extra_column_array)\n",
    "print(\"Its new shape\")\n",
    "print(extra_column_array.shape)"
   ]
  },
  {
   "cell_type": "code",
   "execution_count": 244,
   "metadata": {},
   "outputs": [
    {
     "name": "stdout",
     "output_type": "stream",
     "text": [
      "[['1' '2' '3' 'A']\n",
      " ['4' '5' '6' 'A']\n",
      " ['7' '8' '9' 'A']]\n"
     ]
    }
   ],
   "source": [
    "print(np.append(arrayA, extra_column_array, axis=1))"
   ]
  },
  {
   "cell_type": "markdown",
   "metadata": {},
   "source": [
    "**Exercise**\n",
    "\n",
    "Place the following array `exercise_array` in the middle and right column of `arrayA`.\n"
   ]
  },
  {
   "cell_type": "code",
   "execution_count": null,
   "metadata": {},
   "outputs": [],
   "source": [
    "exercise_array = np.array([[-9, -15, -9], [-3, -10, -5]])\n",
    "arrayA = np.array([[1, 2, 3], [4, 5, 6], [7, 8, 9]])\n",
    "# your code goes here\n"
   ]
  },
  {
   "cell_type": "markdown",
   "metadata": {},
   "source": [
    "```{dropdown} 💡 Solution\n",
    "\n",
    "One of the possible ways to achieve this result:\n",
    "```python\n",
    "exercise_array = exercise_array.reshape((3, 2))\n",
    "arrayA[:, 1:] = exercise_array\n",
    "print(arrayA)\n"
   ]
  },
  {
   "cell_type": "markdown",
   "metadata": {},
   "source": [
    "### Mathematical operations on arrays"
   ]
  },
  {
   "cell_type": "markdown",
   "metadata": {},
   "source": [
    "Addition/subtraction on arrays in NumPy visually look like addition/subtraction on matrices and vectors. Each element in array 1 will \"interact mathematically\" with the element in array 2 with the corresponding positions. The arrays must have matching shapes for the operations to be successful. They can easily extend to N-dimensional arrays."
   ]
  },
  {
   "cell_type": "code",
   "execution_count": 295,
   "metadata": {},
   "outputs": [],
   "source": [
    "vector1 = np.array([1, 2])\n",
    "vector2 = np.array([3, 4])\n"
   ]
  },
  {
   "cell_type": "code",
   "execution_count": 296,
   "metadata": {},
   "outputs": [
    {
     "name": "stdout",
     "output_type": "stream",
     "text": [
      "Sum of two array vectors:\n",
      "[4 6]\n",
      "Difference of two array vectors:\n",
      "[-2 -2]\n"
     ]
    }
   ],
   "source": [
    "\n",
    "print(\"Sum of two array vectors:\")\n",
    "print(vector1+vector2)\n",
    "print(\"Difference of two array vectors:\")\n",
    "print(vector1-vector2)"
   ]
  },
  {
   "cell_type": "markdown",
   "metadata": {},
   "source": [
    "Here is an example with matrices:"
   ]
  },
  {
   "cell_type": "code",
   "execution_count": 311,
   "metadata": {},
   "outputs": [
    {
     "name": "stdout",
     "output_type": "stream",
     "text": [
      "Sum of two array matrices:\n",
      "[[11  4]\n",
      " [ 6  5]]\n"
     ]
    }
   ],
   "source": [
    "arr1 = np.array([[1, 2], [3, 4]])\n",
    "arr2 = np.array([[10, 2], [3, 1]])\n",
    "print(\"Sum of two array matrices:\")\n",
    "print(arr1+arr2)"
   ]
  },
  {
   "cell_type": "markdown",
   "metadata": {},
   "source": [
    "Multiplication and division between arrays is also done element-wise in NumPy, but it doesn't have the same correspondence to the mathematical notation on paper as the operations above:"
   ]
  },
  {
   "cell_type": "code",
   "execution_count": null,
   "metadata": {},
   "outputs": [
    {
     "name": "stdout",
     "output_type": "stream",
     "text": [
      "arr1:\n",
      "[[1 2]\n",
      " [3 4]]\n",
      "arr2:\n",
      "[[10  2]\n",
      " [ 3  1]]\n",
      "Elementwise division\n",
      "[[0.1 1. ]\n",
      " [1.  4. ]]\n",
      "Elementwise multiplication\n",
      "[[10  4]\n",
      " [ 9  4]]\n",
      "Elementwise raising to a power\n",
      "[[ 1  4]\n",
      " [27  4]]\n"
     ]
    }
   ],
   "source": [
    "\n",
    "print(\"arr1:\")\n",
    "print(arr1)\n",
    "\n",
    "print(\"arr2:\")\n",
    "print(arr2)\n",
    "\n",
    "print(\"Elementwise division\")\n",
    "print(arr1 / arr2)\n",
    "# here element [i, j] in arr1 is divided by the correspoding element [i, j] in arr2\n",
    "\n",
    "# same rule applies to multiplication\n",
    "print(\"Elementwise multiplication\")\n",
    "print(arr1 * arr2)\n",
    "\n",
    "print(\"Elementwise raising to a power\")\n",
    "print(arr1 ** arr2)\n"
   ]
  },
  {
   "cell_type": "markdown",
   "metadata": {},
   "source": [
    "Any addition/subtraction/multiplication/division/raising to a power on an array with a scalar will perfom this operation on each array element.\n",
    "Some examples:"
   ]
  },
  {
   "cell_type": "code",
   "execution_count": 313,
   "metadata": {},
   "outputs": [
    {
     "name": "stdout",
     "output_type": "stream",
     "text": [
      "arr1:\n",
      "[[1 2]\n",
      " [3 4]]\n",
      "Addition\n",
      "[[2 3]\n",
      " [4 5]]\n",
      "Subtraction\n",
      "[[-1  0]\n",
      " [ 1  2]]\n",
      "Multiplication\n",
      "[[10 20]\n",
      " [30 40]]\n",
      "Division\n",
      "[[0.1 0.2]\n",
      " [0.3 0.4]]\n",
      "Raising to the second power\n",
      "[[ 1  4]\n",
      " [ 9 16]]\n"
     ]
    }
   ],
   "source": [
    "print(\"arr1:\")\n",
    "print(arr1)\n",
    "\n",
    "print(\"Addition\")\n",
    "result = arr1 + 1\n",
    "print(result)\n",
    "\n",
    "print(\"Subtraction\")\n",
    "result = arr1 - 2\n",
    "print(result)\n",
    "\n",
    "print(\"Multiplication\")\n",
    "result = arr1 * 10\n",
    "print(result)\n",
    "\n",
    "print(\"Division\")\n",
    "result = arr1 / 10\n",
    "print(result)\n",
    "\n",
    "print(\"Raising to the second power\")\n",
    "result = arr1 ** 2\n",
    "print(result)\n",
    "\n"
   ]
  },
  {
   "cell_type": "markdown",
   "metadata": {},
   "source": [
    "If you wanted to do a proper matrix multiplication or dot product, you can use `@`:"
   ]
  },
  {
   "cell_type": "code",
   "execution_count": 314,
   "metadata": {},
   "outputs": [
    {
     "name": "stdout",
     "output_type": "stream",
     "text": [
      "vector1:\n",
      "[1 2]\n",
      "vector2:\n",
      "[3 4]\n",
      "Dot product of vector1 and vector2\n",
      "11\n",
      "arr1:\n",
      "[[1 2]\n",
      " [3 4]]\n",
      "arr2:\n",
      "[[10  2]\n",
      " [ 3  1]]\n",
      "Matrix multiplication of arr1 and arr2\n",
      "[[16  4]\n",
      " [42 10]]\n"
     ]
    }
   ],
   "source": [
    "print(\"vector1:\")\n",
    "print(vector1)\n",
    "\n",
    "print(\"vector2:\")\n",
    "print(vector2)\n",
    "\n",
    "print(\"Dot product of vector1 and vector2\")\n",
    "print(vector1 @ vector2)\n",
    "\n",
    "print(\"arr1:\")\n",
    "print(arr1)\n",
    "\n",
    "print(\"arr2:\")\n",
    "print(arr2)\n",
    "\n",
    "print(\"Matrix multiplication of arr1 and arr2\")\n",
    "print(arr1 @ arr2)"
   ]
  },
  {
   "cell_type": "markdown",
   "metadata": {},
   "source": [
    "With NumPy, you can also find the maximum and minimum values in an array:"
   ]
  },
  {
   "cell_type": "code",
   "execution_count": 315,
   "metadata": {},
   "outputs": [
    {
     "name": "stdout",
     "output_type": "stream",
     "text": [
      "arr2:\n",
      "[[10  2]\n",
      " [ 3  1]]\n",
      "Maximum value in arr2 is 10\n",
      "Minimum value in arr2 is 1\n"
     ]
    }
   ],
   "source": [
    "print(\"arr2:\")\n",
    "print(arr2)\n",
    "\n",
    "print(\"Maximum value in arr2 is \" + str(np.max(arr2)))\n",
    "\n",
    "print(\"Minimum value in arr2 is \" + str(np.min(arr2)))\n",
    "\n"
   ]
  },
  {
   "cell_type": "markdown",
   "metadata": {},
   "source": [
    "Not specifying axis in `np.max` or `np.min` leads to the search of the max/min value in an entire array. However determining one will return a max value along that dimension:"
   ]
  },
  {
   "cell_type": "code",
   "execution_count": 318,
   "metadata": {},
   "outputs": [
    {
     "name": "stdout",
     "output_type": "stream",
     "text": [
      "[10  2]\n",
      "[10  3]\n"
     ]
    }
   ],
   "source": [
    "print(np.max(arr2, axis=0)) # returns the maximum value in each column\n",
    "print(np.max(arr2, axis=1)) # returns the maximum value in each row"
   ]
  },
  {
   "cell_type": "markdown",
   "metadata": {},
   "source": [
    "You could also get a position of the element with max/min value:"
   ]
  },
  {
   "cell_type": "code",
   "execution_count": 322,
   "metadata": {},
   "outputs": [
    {
     "name": "stdout",
     "output_type": "stream",
     "text": [
      "vector2:\n",
      "[3 4]\n",
      "Positions of elements with max and min values respectively: \n",
      "1\n",
      "0\n"
     ]
    }
   ],
   "source": [
    "print(\"vector2:\")\n",
    "print(vector2)\n",
    "\n",
    "print(\"Positions of elements with max and min values respectively: \")\n",
    "print(np.argmax(vector2))\n",
    "print(np.argmin(vector2))"
   ]
  },
  {
   "cell_type": "markdown",
   "metadata": {},
   "source": [
    "Things get slightly more complicated when we want to obtain positions from `argmax`/`argmin` for an array with dimentionality N > 1:"
   ]
  },
  {
   "cell_type": "code",
   "execution_count": 326,
   "metadata": {},
   "outputs": [
    {
     "name": "stdout",
     "output_type": "stream",
     "text": [
      "arr2:\n",
      "[[10  2]\n",
      " [ 3  1]]\n",
      "Argmax positons?\n",
      "0\n"
     ]
    }
   ],
   "source": [
    "print(\"arr2:\")\n",
    "print(arr2)\n",
    "\n",
    "print(\"Argmax positons?\")\n",
    "print(np.argmax(arr2))"
   ]
  },
  {
   "cell_type": "markdown",
   "metadata": {},
   "source": [
    "Only one index is returned, because the 2D array got flattened to 1D. To obtain both indices, we need to reconstruct the indices of the array to its original shape. We can do it with `np.unravel_index` function:"
   ]
  },
  {
   "cell_type": "code",
   "execution_count": 328,
   "metadata": {},
   "outputs": [
    {
     "name": "stdout",
     "output_type": "stream",
     "text": [
      "(0, 0)\n"
     ]
    }
   ],
   "source": [
    "print(np.unravel_index(np.argmax(arr2), arr2.shape))"
   ]
  },
  {
   "cell_type": "markdown",
   "metadata": {},
   "source": [
    "NumPy also conveniently provides built-in functions for common statistical operations:"
   ]
  },
  {
   "cell_type": "code",
   "execution_count": 329,
   "metadata": {},
   "outputs": [
    {
     "name": "stdout",
     "output_type": "stream",
     "text": [
      "arr2:\n",
      "[[10  2]\n",
      " [ 3  1]]\n",
      "Arithmetic mean for all elements in arr2:\n",
      "4.0\n",
      "Standard deviation for all elements in arr2:\n",
      "3.5355339059327378\n"
     ]
    }
   ],
   "source": [
    "print(\"arr2:\")\n",
    "print(arr2)\n",
    "\n",
    "print(\"Arithmetic mean for all elements in arr2:\")\n",
    "print(np.mean(arr2))\n",
    "print(\"Standard deviation for all elements in arr2:\")\n",
    "print(np.std(arr2))"
   ]
  },
  {
   "cell_type": "markdown",
   "metadata": {},
   "source": [
    "`np.mean` and `np.std` follow the same rules with axis argument like in `np.max`. "
   ]
  },
  {
   "cell_type": "markdown",
   "metadata": {},
   "source": [
    "### Saving a NumPy array as a txt file and loading it"
   ]
  },
  {
   "cell_type": "markdown",
   "metadata": {},
   "source": [
    "Some of your array computations might last a long time, so you might just want to save the final array and be able to return to it later. Here you can see how to save a NumPy array as a txt file:"
   ]
  },
  {
   "cell_type": "code",
   "execution_count": null,
   "metadata": {},
   "outputs": [],
   "source": [
    "# you can specify where you want to save your array, eg. arrayA, by providing a file path\n",
    "file_path = \"./\" # in this example, we are saving the file in the same folder as this script\n",
    "np.savetxt(file_path+\"array_name.txt\", arrayA, delimiter=\"\\t\") # delimiter informs what spacing should be used between array elements\n",
    "\n",
    "# you can alternatively save your array as a CSV file (which is coma-separated)\n",
    "np.savetxt(file_path+\"array_name.csv\", arrayA, delimiter=\",\")\n"
   ]
  },
  {
   "cell_type": "markdown",
   "metadata": {},
   "source": [
    "Tab-separated and coma-separated txt files allow easier manipulation with code. Additionally, txt files are commonly used open-source human-readable formats, which enhances the reproducibility of your code analysis."
   ]
  },
  {
   "cell_type": "markdown",
   "metadata": {},
   "source": [
    "### References\n",
    "\n",
    "1. https://numpy.org/doc/stable/user/whatisnumpy.html\n"
   ]
  }
 ],
 "metadata": {
  "kernelspec": {
   "display_name": "PhD",
   "language": "python",
   "name": "python3"
  },
  "language_info": {
   "codemirror_mode": {
    "name": "ipython",
    "version": 3
   },
   "file_extension": ".py",
   "mimetype": "text/x-python",
   "name": "python",
   "nbconvert_exporter": "python",
   "pygments_lexer": "ipython3",
   "version": "3.12.2"
  }
 },
 "nbformat": 4,
 "nbformat_minor": 2
}
