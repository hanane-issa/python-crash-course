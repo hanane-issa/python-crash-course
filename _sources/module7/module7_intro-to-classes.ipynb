{
 "cells": [
  {
   "cell_type": "code",
   "execution_count": null,
   "id": "1586ca79",
   "metadata": {
    "tags": [
     "hide-input",
     "hide-output",
     "thebe-init"
    ]
   },
   "outputs": [],
   "source": [
    "import sys\n",
    "import os\n",
    "sys.path.insert(0, os.path.abspath(os.path.join(os.getcwd(), '..', 'shared')))\n",
    "import setup_code\n",
    "stroke_data = setup_code.stroke_data"
   ]
  },
  {
   "cell_type": "markdown",
   "id": "32fcbff5",
   "metadata": {},
   "source": [
    "# Module 7: Introduction to Classes\n",
    "\n",
    "In this module, we will go through objects and classes in Python."
   ]
  },
  {
   "cell_type": "markdown",
   "id": "a835f7ef",
   "metadata": {},
   "source": [
    "## Classes and objects"
   ]
  },
  {
   "cell_type": "markdown",
   "id": "0a3ab92b",
   "metadata": {},
   "source": [
    "### What are classes and objects?\n",
    "\n",
    "In layman's terms, classes are templates/blueprints that you make your objects out of and objects are instances of a class. In Python, almost everything in Python is an object. For exmaple, a string like \"dog\" is an object of the `str` class. Another example, what you learned in module 4, `pandas.DataFrame` is a class, and when you load a csv file using this class, you have created an object of the class `pandas.DataFrame`.\n",
    "\n",
    "Python is an object-oriented programming (OOP) language. OOP is a paradigm that centers around the concepts of objects. However, Python would also allow you to go away from OOP and use other programming style such as procedural and functional, meaning you don't have to use objects if you don't want to."
   ]
  },
  {
   "cell_type": "markdown",
   "id": "1f65223b",
   "metadata": {},
   "source": [
    "### Why would we choose OOP?\n",
    "\n",
    "There are some advantages of using OOP in Python:\n",
    "- You can have better organization of your code, since you can group related data together.\n",
    "- You can reuse some of your code, as you can create multiple objects from the same blueprint.\n",
    "- Build hierarchies of classes, to further organize your code."
   ]
  },
  {
   "cell_type": "markdown",
   "id": "9255ed9e",
   "metadata": {},
   "source": [
    "## Examples\n",
    "\n",
    "Let's see some concrete examples of a class, we will write a blueprint to create a \"dog\" object."
   ]
  },
  {
   "cell_type": "code",
   "execution_count": null,
   "id": "bedda6f0",
   "metadata": {},
   "outputs": [],
   "source": [
    "class Dog:\n",
    "    species = 'Canis lupus familiaris'\n",
    "    def __init__(self, name, age, owner):\n",
    "        self.name = name\n",
    "        self.age = age\n",
    "        self.owner = owner"
   ]
  },
  {
   "cell_type": "markdown",
   "id": "2f0f61dd",
   "metadata": {},
   "source": [
    "`def __init__()` is referred to as the constructor, it is a special method used to initialize your object. The word `self` is the first argument which refers to the specific instance of the object, in fact it does not have to be the word `self` but it is a common convention, no need to change it. In this example, there are three pieces of information that you need to create the `Dog` object: name, age and owner. That information will become the attributes of the object you create and you will be able to access them later. \n",
    "You can think of attributes as data or information of an object. In Python, a method is a function defined within a class, and they are usually associated with a class. Whereas as function are mostly standalone. So we call `def __init__()` a method and not a function."
   ]
  },
  {
   "cell_type": "markdown",
   "id": "85834aad",
   "metadata": {},
   "source": [
    "Let's create our first object:"
   ]
  },
  {
   "cell_type": "code",
   "execution_count": null,
   "id": "07a684c2",
   "metadata": {},
   "outputs": [],
   "source": [
    "dog1 = Dog(\"Buddy\", 5, \"Alice\")"
   ]
  },
  {
   "cell_type": "markdown",
   "id": "0f4977d0",
   "metadata": {},
   "source": [
    "Now, we can ask Python what this object is by typing:"
   ]
  },
  {
   "cell_type": "code",
   "execution_count": null,
   "id": "33d75828",
   "metadata": {},
   "outputs": [],
   "source": [
    "type(dog1)"
   ]
  },
  {
   "cell_type": "markdown",
   "id": "cb7a174c",
   "metadata": {},
   "source": [
    "and it will give you this: `__main__.Dog`. This is telling you the class `Dog` is from the module/script `__main__`, and `__main__` is the script that we are executing the code from."
   ]
  },
  {
   "cell_type": "markdown",
   "id": "dbfe936a",
   "metadata": {},
   "source": [
    "## Attributes"
   ]
  },
  {
   "cell_type": "markdown",
   "id": "7dbfac60",
   "metadata": {},
   "source": [
    "You can access the attributes by using the dot `.` after the name of the object and the attribute you want. For example, if we want to print the name of `dog1`, we will type:"
   ]
  },
  {
   "cell_type": "code",
   "execution_count": null,
   "id": "701acc03",
   "metadata": {},
   "outputs": [],
   "source": [
    "print(dog1.name)"
   ]
  },
  {
   "cell_type": "markdown",
   "id": "31213174",
   "metadata": {},
   "source": [
    "In the same way you can access the age and the name of the owner.\n",
    "\n",
    "Now, if you try to access an attribute that doesn't exist yet, you will get an error. For example running `print(dog1.breed)` will give you this error:\n",
    "`AttributeError: 'Dog' object has no attribute 'breed'`"
   ]
  },
  {
   "cell_type": "markdown",
   "id": "42fa86d2",
   "metadata": {},
   "source": [
    "The good news is you can just add that to your object by typing:"
   ]
  },
  {
   "cell_type": "code",
   "execution_count": null,
   "id": "e65a5d9b",
   "metadata": {},
   "outputs": [],
   "source": [
    "dog1.breed = 'Labrador'"
   ]
  },
  {
   "cell_type": "markdown",
   "id": "160ca0a3",
   "metadata": {},
   "source": [
    "If you run `print(dog1.breed)` again, you will get `'Labrador'`.\n",
    "Let's create out second `dog` object:"
   ]
  },
  {
   "cell_type": "code",
   "execution_count": null,
   "id": "4d198de2",
   "metadata": {},
   "outputs": [],
   "source": [
    "dog2 = Dog(\"Sam\", 5, \"Alice\")"
   ]
  },
  {
   "cell_type": "markdown",
   "id": "481b1d02",
   "metadata": {},
   "source": [
    "As practice, try printing out the `species` attributes for `dog1` and `dog2`, they should be the same. "
   ]
  },
  {
   "cell_type": "markdown",
   "id": "9c261e4f",
   "metadata": {},
   "source": [
    "Now you can type `dog1.__dict__` to access the attribute names and their values.\n",
    "\n",
    "However, if you add an attribute that is not in the class blueprint, it will not show up in the new `Dog` object.\n",
    "\n",
    "Attributes like `name`, `age` and `owner` are instance attributes, meaning they are specific to the objects created. Whereas `species` is a class attribute, this value will be the same for all objects created from the same class blueprint, until the class is changed by you.\n"
   ]
  },
  {
   "cell_type": "markdown",
   "id": "aa334acf",
   "metadata": {},
   "source": [
    "## Creating methods"
   ]
  },
  {
   "cell_type": "markdown",
   "id": "69a03020",
   "metadata": {},
   "source": [
    "### Instance methods "
   ]
  },
  {
   "cell_type": "markdown",
   "id": "05a4eea6",
   "metadata": {},
   "source": [
    "We can add methods to the `Dog` class and make it do certain things. \n",
    "You have encountered and used a lot methods before. Fro example, the `.lower()` method of a string `str` class, if you type:\n",
    "`'DOG'.lower()` Python will return `dog` because the method converted all uppercase letters to lower case.\n",
    "\n",
    "We can, for example, add a method like so:"
   ]
  },
  {
   "cell_type": "code",
   "execution_count": null,
   "id": "0f6697e3",
   "metadata": {},
   "outputs": [],
   "source": [
    "class Dog:\n",
    "    def __init__(self, name, age, owner):\n",
    "        self.name = name\n",
    "        self.age = age\n",
    "        self.owner = owner\n",
    "    \n",
    "    def bark(self):\n",
    "        return 'Woof'"
   ]
  },
  {
   "cell_type": "markdown",
   "id": "9881ee22",
   "metadata": {},
   "source": [
    "When you define the method, remember to add the word `self` as the first argument. `self` allows the method to access the data/attributes of that instance of the `dog` class. For example, let's imagine a world here dogs can talk, you can add a method:"
   ]
  },
  {
   "cell_type": "code",
   "execution_count": null,
   "id": "680e97be",
   "metadata": {},
   "outputs": [],
   "source": [
    "def say_hello(self):\n",
    "        return f\"My name is {self.name} and I am {self.age} years old. My owner is {self.owner}.\""
   ]
  },
  {
   "cell_type": "markdown",
   "id": "1e1f2ca5",
   "metadata": {},
   "source": [
    "If you do not put the first argument `self`, you will get this error: `TypeError: Dog.say_hello() takes 0 positional arguments but 1 was given`.\n",
    "This is because when you call a class method, the instance of the object (i.e. the object) is passed as the first argument.\n",
    "\n",
    "If we create a new `Dog` instance with `dog1 = Dog(\"Buddy\", 5, \"Alice\")`, we should be able to use that method like so:"
   ]
  },
  {
   "cell_type": "code",
   "execution_count": null,
   "id": "55cf6867",
   "metadata": {},
   "outputs": [],
   "source": [
    "print(dog1.bark())"
   ]
  },
  {
   "cell_type": "markdown",
   "id": "9b8616dd",
   "metadata": {},
   "source": [
    "You should get `Woof`."
   ]
  },
  {
   "cell_type": "markdown",
   "id": "36ba55cd",
   "metadata": {},
   "source": [
    "### Class methods"
   ]
  },
  {
   "cell_type": "markdown",
   "id": "6901d697",
   "metadata": {},
   "source": [
    "Another type of method is the class method. You can do so by adding this to the `Dog` object:"
   ]
  },
  {
   "cell_type": "code",
   "execution_count": null,
   "id": "c0bca04f",
   "metadata": {},
   "outputs": [],
   "source": [
    "@classmethod\n",
    "def my_species(cls):\n",
    "    return f\"My species is {cls.species}.\""
   ]
  },
  {
   "cell_type": "markdown",
   "id": "d735ac7d",
   "metadata": {},
   "source": [
    "Here, `@classmethod` is a decorator, it tells Python that the method is a class method. As the name implies, this method allows you to access class level attributes, in this case the information `species`. When the method `my_species()` is called, the first argument being passed into the method is the class itself, so we use `cls` as common practice to be the first argument. \n",
    "If you type `print(Dog.my_species())`, you will get `'Canis lupus familiaris'`. You do not have to have an object to use the class method. Because, the class method uses the class itself as the first argument, it does not need an instance of that class."
   ]
  },
  {
   "cell_type": "markdown",
   "id": "e58146f6",
   "metadata": {},
   "source": [
    "## Make setter and getter methods"
   ]
  },
  {
   "cell_type": "markdown",
   "id": "d7b95bc4",
   "metadata": {},
   "source": [
    "You can actually change the attributes of the object. If you type `dog1.name = 'Max`, the attribute `name` will be changed to 'Max'. This sometimes may not be a good behavior that you want, so why don't we try to add another layer to protect the attributes.\n"
   ]
  },
  {
   "cell_type": "code",
   "execution_count": null,
   "id": "f294debb",
   "metadata": {},
   "outputs": [],
   "source": [
    "class Dog:\n",
    "    def __init__(self, name, age, owner):\n",
    "        self._name = name\n",
    "        self._age = age\n",
    "        self._owner = owner\n",
    "\n",
    "    @property\n",
    "    def name(self):\n",
    "        return self._name\n",
    "\n",
    "    @property\n",
    "    def age(self):\n",
    "        return self._age\n",
    "\n",
    "    @age.setter\n",
    "    def age(self, new_age):\n",
    "        if new_age < 0:\n",
    "            raise ValueError(\"age cannot be negative\")\n",
    "        self._age = new_age\n",
    "    \n",
    "    def bark(self):\n",
    "        return 'Woof'"
   ]
  },
  {
   "cell_type": "markdown",
   "id": "0bac6d98",
   "metadata": {},
   "source": [
    "We have rename the attributes in the constructor to `_name`, `_age`, and `_owner`. We have added `_` in front of the original attributes.\n",
    "\n",
    "Python does not really hide attributes with `_` in front, but it tells other users they should not modify them directly. \n",
    "The `@property` is called a decorator, it changes the properties for the method that it is applied to. In this case, it changes the methods `name()` and `age()` so that they can be called just like an attribute. `name()` and `age()` are getter methods, because they get you the attributes you want. \n",
    "So now if you type `dog1.name = 'Max'`, you should get an error: `AttributeError: can't set attribute 'name'`.\n",
    "\n",
    "What about setting the attribute? We can do so by using a setter method. The decorator `@age.setter` tells python the method is a setter method for `age`. You can also ensure that the new value makes sense, for example, the new age is not negative."
   ]
  },
  {
   "cell_type": "markdown",
   "id": "9fe2ad21",
   "metadata": {},
   "source": [
    "## Inheritance and polymorphism\n",
    "\n",
    "What if you want to create several classes and there is a relationship between them? Well, we can try using a concept in OOP called inheritance. \n",
    "Let's go straight into an example. Say you want to create a dog class and a cat class, since they are both mammal, domesticated and cute etc. we can create a parent class for them. "
   ]
  },
  {
   "cell_type": "code",
   "execution_count": null,
   "id": "975a2d6e",
   "metadata": {},
   "outputs": [],
   "source": [
    "class Mammal:\n",
    "    species_name = ''\n",
    "    def __init__(self, name, age):\n",
    "        self.name = name\n",
    "        self.age = age\n",
    "    \n",
    "    def make_noise(self):\n",
    "        return ''"
   ]
  },
  {
   "cell_type": "markdown",
   "id": "0ec10501",
   "metadata": {},
   "source": [
    "Now that we have a blueprint of a parent class, we can create blueprints for the child classes. The child classes will build upon the parent class, they will 'inherit' the attributes and methods from the parent. But the child classes can also add new attributes and methods if its own. Let's create a `Dog` and a `Cat` class."
   ]
  },
  {
   "cell_type": "code",
   "execution_count": null,
   "id": "b161b02d",
   "metadata": {},
   "outputs": [],
   "source": [
    "class Dog(Mammal):\n",
    "    species_name = 'Canis lupus familiaris'\n",
    "    def make_noise(self):\n",
    "        return 'Woof'\n",
    "class Cat(Mammal):\n",
    "    species_name = 'Felis catus'\n",
    "    def make_noise(self):\n",
    "        return 'Meow'"
   ]
  },
  {
   "cell_type": "markdown",
   "id": "64eacabc",
   "metadata": {},
   "source": [
    "\n",
    "To inherit from a class, we put the parent class that we want to inherit from in the parenthesis of the new class like so: `class Dog(Mammal)`.\n",
    "In our `Dog` and `Cat` classes, we do not need to define the `__init__()` method because it is already defined in the parent class. If you want to create a `Dog` object, you will have to specify the name and age like so: `Dog(\"Buddy\",5)`. \n",
    "We have redefined the class attribute from the parent class `species_name` in each child class, and redefine the method `make_noise()`. Redefining can also be called overriding in OOP language, we can override the parent attributes and methods and make the child's attributes and methods unique. \n",
    "If you do not override, the child will inherit directly from the parent, in our case `species_name` will be an empty string and the method `make_noise()` will also return an empty string.\n",
    "\n",
    "Let's create another `Dog` instance: "
   ]
  },
  {
   "cell_type": "code",
   "execution_count": null,
   "id": "b132b3e7",
   "metadata": {},
   "outputs": [],
   "source": [
    "dog3 = Dog(\"Dewey\", 5)"
   ]
  },
  {
   "cell_type": "markdown",
   "id": "adb6e8e1",
   "metadata": {},
   "source": [
    "If you run `type(dog3)`, you will get `__main__.Dog` which is the class that the object belong to. But if you want to check the parent of the `Dog` class, you can run this:"
   ]
  },
  {
   "cell_type": "code",
   "execution_count": null,
   "id": "9c29bebc",
   "metadata": {},
   "outputs": [],
   "source": [
    "Dog.__base__"
   ]
  },
  {
   "cell_type": "markdown",
   "id": "18d254b9",
   "metadata": {},
   "source": [
    "And you will get `__main__.Mammal`. \n",
    "Or if you want to know explicitly which class is a child of another class, you can try this:"
   ]
  },
  {
   "cell_type": "code",
   "execution_count": null,
   "id": "3f1a229b",
   "metadata": {},
   "outputs": [],
   "source": [
    "issubclass(Dog, Mammal)"
   ]
  },
  {
   "cell_type": "markdown",
   "id": "cade1ca2",
   "metadata": {},
   "source": [
    "If you run this code, you will get `True`. For the `issubclass`, the first argument is the child class we want to test, and the second argument is the suspected parent class of the first one. \n",
    "If you switch the order of `Dog` and `Mammal` like this: `issubclass(Mammal, Dog)`. You will get `False`."
   ]
  },
  {
   "cell_type": "markdown",
   "id": "6517285a",
   "metadata": {},
   "source": [
    "### Adding methods\n",
    "We can also add methods specific to the child classes."
   ]
  },
  {
   "cell_type": "code",
   "execution_count": null,
   "id": "d64765d6",
   "metadata": {},
   "outputs": [],
   "source": [
    "class Dog(Mammal):\n",
    "    species_name = 'Canis lupus familiaris'\n",
    "    def make_noise(self):\n",
    "        return 'Woof'\n",
    "    def swim(self):\n",
    "        return 'swimming'\n",
    "class Cat(Mammal):\n",
    "    species_name = 'Felis catus'\n",
    "    def make_noise(self):\n",
    "        return 'Meow'\n",
    "    def climb(self):\n",
    "        return 'climbing'"
   ]
  },
  {
   "cell_type": "markdown",
   "id": "0583804c",
   "metadata": {},
   "source": [
    "We have added a `swim()` method to the `Dog` class and a `climb()` method to the `Cat` class. These methods are specific to their own class. The shows the flexibility of inheritance, even though the two classes inherited from the same parent, you can still make the child classes unique.\n",
    "\n",
    "If we create a cat object: `cat1 = Cat(\"Whiskers\", 3)`. And if you run `cat1.swim()`, you will get this error: `AttributeError: 'Cat' object has no attribute 'swim'` because `swim()` is a `Dog` method."
   ]
  },
  {
   "cell_type": "markdown",
   "id": "bc210d39",
   "metadata": {},
   "source": [
    "### Extending methods\n",
    "\n",
    "What if you don't want to override the parent's method but to extend it, can we do that? Most certainly yes. We use the method `super()` to do so."
   ]
  },
  {
   "cell_type": "code",
   "execution_count": null,
   "id": "ed36dcbc",
   "metadata": {},
   "outputs": [],
   "source": [
    "class Dog(Mammal):\n",
    "    species_name = 'Canis lupus familiaris'\n",
    "    def __init__(self, name, age, breed):\n",
    "        super().__init__(name, age)\n",
    "        self.breed = breed\n",
    "    def make_noise(self):\n",
    "        return 'Woof'\n",
    "    def swim(self):\n",
    "        return 'swimming'"
   ]
  },
  {
   "cell_type": "markdown",
   "id": "fa2e7c0f",
   "metadata": {},
   "source": [
    "Within the new constructor method, we use `super()` to call the constructor method from the parent class and give it the same parameters `name` and `age`. Then, we added another parameter to construct a `Dog` object which is this line `self.breed = breed`. Now, if you want to create a `Dog` object, you will need an extra parameter: `dog1 = Dog(\"Buddy\",5, 'rottweiler')`."
   ]
  },
  {
   "cell_type": "markdown",
   "id": "557b8baf",
   "metadata": {},
   "source": [
    "### Why use inheritance?"
   ]
  },
  {
   "cell_type": "markdown",
   "id": "14ff0744",
   "metadata": {},
   "source": [
    "These are some of the advantages of using inheritance in Python:\n",
    "- Reuse code. If you are creating multiple child classes, you do not have to write the same code every time.\n",
    "- Better organization. If you have a real-world relationship between classes you want to preserve, inheritance is a good way to do it. \n",
    "- Modularity. You can split your code into different small chunks.\n",
    "- Flexibility. New attributes and methods can be added to the child classes to make them unique.\n",
    "- Polymorphism. The child classes can be treated in a similar way because they have inherited the attributes and methods from the parent. We can do so even without knowing the specific methods to each child class."
   ]
  },
  {
   "cell_type": "markdown",
   "id": "e970b36c",
   "metadata": {},
   "source": [
    "## Concrete example"
   ]
  },
  {
   "cell_type": "markdown",
   "id": "93a72ac2",
   "metadata": {},
   "source": [
    "So in what way are classes and objects related to what we have learned in the previous modules? Well, remember module 4 where we learned to used Pandas DataFrames and module 5 where we learned how to visualize data? Pandas DataFrame is actually a class and we can create our own child class to visualize the data."
   ]
  },
  {
   "cell_type": "markdown",
   "id": "82a613d0",
   "metadata": {},
   "source": [
    "### Loading packages and the data\n",
    "First, let's do the usual and import necessary packages."
   ]
  },
  {
   "cell_type": "code",
   "execution_count": null,
   "id": "98d08e60",
   "metadata": {},
   "outputs": [],
   "source": [
    "import matplotlib.pyplot as plt\n",
    "import seaborn as sns\n",
    "import pandas as pd\n",
    "import numpy as np"
   ]
  },
  {
   "cell_type": "markdown",
   "id": "7f3220b8",
   "metadata": {},
   "source": [
    "We already have the dataset imported as `stroke_data` (see hidden cell at top of notebook if you're curious to see the code)."
   ]
  },
  {
   "cell_type": "markdown",
   "id": "e9b4c887",
   "metadata": {},
   "source": [
    "### pandas.core.frame.DataFrame\n",
    "\n",
    "If you check the type of the object stroke_data with the command `type(stroke_data)`, you will see that it belongs to `pandas.core.frame.DataFrame`.\n",
    "Just like our example of `Mammal` and `Dog`, it has its own attributes and methods.\n",
    "\n",
    "For example, `.index`, `.shape` and `.columns` etc., are attributes. `.index` will give you the index of the dataframe, `.shape` will give you the shape of the dataframe and `.columns` will give you the name of the columns.\n",
    "\n",
    "Whereas `.head()`, `.tail()` and `.info()` etc., are methods of the Pandas DataFrame class. "
   ]
  },
  {
   "cell_type": "markdown",
   "id": "a12e3cb7",
   "metadata": {},
   "source": [
    "### Create our own child class\n",
    "\n",
    "Now, what if you don't like the way the index of a dataframe is being returned by the Pandas Dataframe class? \n",
    "What if you want to customize the the built-in plotting methods so that you don't have to explicitly write the code every time? \n",
    "You can create your own child class and inherit from the parent class, which in this case is the Pandas Dataframe class. This way you will retain a lot of other functionalities.\n",
    "\n",
    "We will write our own child class, we will call it `MyDataFrame`."
   ]
  },
  {
   "cell_type": "code",
   "execution_count": null,
   "id": "18f23f4c",
   "metadata": {},
   "outputs": [],
   "source": [
    "class MyDataFrame(pd.DataFrame):\n",
    "    @property\n",
    "    def _constructor(self):\n",
    "        return MyDataFrame\n",
    "\n",
    "    @property\n",
    "    def index(self):\n",
    "        real_idex = super().index\n",
    "        return real_idex.tolist()\n",
    "\n",
    "    def hist(self, column, **kwargs):\n",
    "        plt.hist(self[column], bins=30, alpha=0.6, edgecolor='black')\n",
    "        plt.xlabel('Value', fontsize=14)\n",
    "        plt.ylabel('Probability density',fontsize=14)\n",
    "        plt.xticks(fontsize=12)\n",
    "        plt.yticks(fontsize=12)\n",
    "        plt.title('Normalized Histogram (Density)', fontsize=18)\n",
    "        return "
   ]
  },
  {
   "cell_type": "markdown",
   "id": "fddbdc31",
   "metadata": {},
   "source": [
    "\n",
    "We have seen `@property` from before in this module, it allows the method `_constructor()` to behave like an attribute so we can call it without the parentheses. We have to define the `_constructor()` method because if we do an operation like slicing (using `.loc`), it will return another object of our class `MyDataFrame` and not the parent class.\n",
    "\n",
    "We have overridden the `.index` attribute from `pd.DataFrame`. We have called the original attribute by using `super().index`, then we return the index that has been converted to a list object by using `.tolist()`.\n",
    "\n",
    "We have also overridden the `hist()` method for plotting a histogram plot from the `pd.DataFrame` class. We have opted to use `hist()` method from `matplotlib`, we have also added the x and y labels, ticks and a title. Note that we are using the `matplotlib.pyplot` module in the method, so you will have to import the `matplotlib` before you instantiate your subclass or directly put it in the method just in case."
   ]
  },
  {
   "cell_type": "code",
   "execution_count": null,
   "id": "08744b39",
   "metadata": {},
   "outputs": [],
   "source": [
    "def hist(self, column, **kwargs):\n",
    "    plt.hist(self[column], bins=30, alpha=0.6, edgecolor='black')\n",
    "    plt.xlabel('Value', fontsize=14)\n",
    "    plt.ylabel('Probability density',fontsize=14)\n",
    "    plt.xticks(fontsize=12)\n",
    "    plt.yticks(fontsize=12)\n",
    "    plt.title('Normalized Histogram (Density)', fontsize=18)\n",
    "    return "
   ]
  },
  {
   "cell_type": "markdown",
   "id": "95e0fb71",
   "metadata": {},
   "source": [
    "### Testing\n",
    "\n",
    "Now, let's convert a dataframe into our class `my_stroke_data = MyDataFrame(stroke_data)`\n",
    "\n",
    "If you try `type(my_stroke_data)`, it will return our subclass `MyDataFrame`. NICE!!\n",
    "Try getting the index with `my_stroke_data.index`, it will return a list. Double NICE!!\n",
    "And finally, if you try plotting a histogram using `my_stroke_data.hist('age')`, you will get a `matplotlib` histogram instead of the original plot."
   ]
  },
  {
   "cell_type": "markdown",
   "id": "4c392047",
   "metadata": {},
   "source": [
    "## Conclusion\n",
    "\n",
    "In this tutorial, we have gone through the fundamentals of object-oriented programming in Python using classes and objects. You learned how to define a class, instantiate an object, and use attributes and methods. \n",
    "\n",
    "Understanding classes and objects is essential for writing clean, modular and reusable code. This is especially important when building larger applications or modeling real-world systems. As you learn more about Python, you can consider applying what you learned to build scalable tools for your own use or for others. \n",
    "\n",
    "Keep calm and code on.\n",
    "\n",
    "\n",
    "\n",
    "\n",
    "\n",
    "\n",
    "\n"
   ]
  }
 ],
 "metadata": {
  "jupytext": {
   "cell_metadata_filter": "-all",
   "main_language": "python",
   "notebook_metadata_filter": "-all"
  },
  "language_info": {
   "name": "python"
  }
 },
 "nbformat": 4,
 "nbformat_minor": 5
}
