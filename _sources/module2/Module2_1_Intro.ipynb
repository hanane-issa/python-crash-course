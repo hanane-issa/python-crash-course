{
 "cells": [
  {
   "cell_type": "markdown",
   "id": "7c166203",
   "metadata": {},
   "source": [
    "# M2: Python Foundations\n",
    "\n",
    "Now that you have set up everything and know how to run Python code, we can get started with writing our first algorithms! In this module we will go over the basic building blocks you need to write a Python code such as variables, conditional blocks, and error handling. At the end of this module you will be able to already do some basic manipulations and calculations of biomedical data using Python code.\n",
    "\n",
    "## 1. Python Syntax\n",
    "Before we dive deeper, it’s important to get a feel for how Python code is organised — in other words, its syntax.\n",
    "\n",
    "### 1.1. Indentation and Code Blocks\n",
    "\n",
    "In Python, each new statement normally starts on a new line. This means you don't need to end each line with a semicolon `;`, unlike some other programming languages.\n",
    "\n",
    "Python also uses **indentation** to define blocks of code. In other languages, you might see curly braces `{}` or keywords to group code together. In Python, you just add spaces or a tab at the beginning of a line to show that it belongs to a block. One indent is usually either one tab (<kbd>Tab</kbd>) or four spaces (<kbd>Space</kbd>). \n",
    "\n",
    "When you indent a line, you’re creating a \"child\" of the previous line. Usually, a \"parent\" line ends with a colon `:` (you’ll see more examples of when colons are used when we cover conditionals later in Chapter [](M2-conditional-blocks-header)). You can also have multiple blocks nested inside each other. \n",
    "\n",
    "To end a block, just remove the indentation (using <kbd>Shift</kbd> + <kbd>Tab</kbd>). It’s also a good habit to leave a blank line between big blocks of code to make everything easier to read."
   ]
  },
  {
   "cell_type": "markdown",
   "id": "355ead63",
   "metadata": {},
   "source": [
    "```python\n",
    "im_a_parent:\n",
    "    im_a_child:\n",
    "        im_a_grandchild:\n",
    "            print(\"I am a grandchild!\")\n",
    "        im_a_second_grandchild:\n",
    "            print(\"I am another grandchild!\")\n",
    "    im_a_second_child:\n",
    "        im_a_third_grandchild:\n",
    "            print(\"I am the third grandchild!\")\n",
    "\n",
    "im_a_new_parent:\n",
    "    im_a_new_child:\n",
    "        print(\"I am a new child!\")\n",
    "```"
   ]
  },
  {
   "cell_type": "markdown",
   "id": "38404be2",
   "metadata": {},
   "source": [
    "These syntax rules do not only help to keep your code neat, but also make it easier and quicker to write them, eliminating common mistakes (such as forgetting to put a semicolon at the end of a line).\n",
    "\n",
    "Below is an example of an `if` statement using indentation. The `if` statement checks whether the `age` variable is greater than 18. The line `print(\"The patient is an adult.\")` is indented to show that it belongs to — or is a child of — the `if` statement’s code block. This line is only executed if `age` is greater than 18. \n",
    "\n",
    "Do not worry if you are not yet familiar with the specific details in the code snippet — we will learn them throughout this course! The most important takeaway here is that **consistent indentation is crucial**. If the indentation in your code is inconsistent, Python will raise an *error*!"
   ]
  },
  {
   "cell_type": "code",
   "execution_count": 1,
   "id": "deec581e",
   "metadata": {},
   "outputs": [
    {
     "name": "stdout",
     "output_type": "stream",
     "text": [
      "The patient is an adult.\n"
     ]
    }
   ],
   "source": [
    "age = 20\n",
    "\n",
    "if age > 18:\n",
    "    print(\"The patient is an adult.\")"
   ]
  },
  {
   "cell_type": "markdown",
   "id": "56351bd3",
   "metadata": {},
   "source": [
    "### 1.2. Comments\n",
    "\n",
    "We have already briefly introduced **comments** in the previous module. As a reminder,comments are lines or parts of lines that Python does not execute. They can be used to explain your code. It is very useful to have comments throughout your code. When other people read your code (or even when you read it yourself later), it is often difficult to understand what it is trying to achieve based on the executable lines alone. Having comments alongside the code, explaining its purpose, makes understanding it a lot easier.\n",
    "\n",
    "Comments are also useful when debugging, as they can be used to temporarily disable lines of code. Just remember to either uncomment or delete these lines later to keep your code neat!\n",
    "\n",
    "There are two types of comments: **single-line comments** and **multi-line comments**.\n",
    "\n",
    "- **Single-line comments:** Start the comment text with a hashtag `#`, for example:"
   ]
  },
  {
   "cell_type": "code",
   "execution_count": 2,
   "id": "51205845",
   "metadata": {},
   "outputs": [
    {
     "name": "stdout",
     "output_type": "stream",
     "text": [
      "Hello, World!\n"
     ]
    }
   ],
   "source": [
    "# This is a single-line comment.\n",
    "print(\"Hello, World!\") # This part is also a comment."
   ]
  },
  {
   "cell_type": "markdown",
   "id": "6f8b27b6",
   "metadata": {},
   "source": [
    "- **Multi-line comments:** Use triple quotes (`\"\"\"` or `'''`) around the comment text, for example:"
   ]
  },
  {
   "cell_type": "markdown",
   "id": "226e9e28",
   "metadata": {},
   "source": [
    "```python\n",
    "\"\"\"\n",
    "This is a multi-line comment.\n",
    "It can span multiple lines.\n",
    "\"\"\"\n",
    "````"
   ]
  },
  {
   "cell_type": "markdown",
   "id": "27d24f6b",
   "metadata": {},
   "source": [
    "### 1.3. Basic Print Statements\n",
    "\n",
    "While not technically part of the syntax rules, the `print()` function is a very useful feature, which is why we introduce it early on. As mentioned in the previous module, it is used to display output on the screen. In a jupyter notebook it will display everything in a print statement underneath the code cell. When running code in the terminal it will show all your print statements in the terminal. Print statements are very useful for keeping track of where you are in your code, preliminary results, and whether your code is working as expected. Note: in Jupyter notebook the last line of a cell will also always be displayed. But it is a good habit to always use a print statement and to not rely on the automatic output since your code structure can change easily."
   ]
  },
  {
   "cell_type": "code",
   "execution_count": 3,
   "id": "707c266f",
   "metadata": {},
   "outputs": [
    {
     "name": "stdout",
     "output_type": "stream",
     "text": [
      "Hello, Python!\n",
      "Hello, User!\n"
     ]
    },
    {
     "data": {
      "text/plain": [
       "'Hello, from the last line in the cell'"
      ]
     },
     "execution_count": 3,
     "metadata": {},
     "output_type": "execute_result"
    }
   ],
   "source": [
    "'Hello, from the first line in the cell' #this string will not be printed\n",
    "print(\"Hello, Python!\")\n",
    "print(\"Hello, User!\")\n",
    "'Hello, from the last line in the cell' # this string will be printed since it is the last line in a jupyter notebook cell"
   ]
  },
  {
   "cell_type": "markdown",
   "id": "f63d5396",
   "metadata": {},
   "source": [
    "### 1.4. Quick Practice\n",
    "\n",
    "We have reached the end of the first chapter! You should now be able to write your first snippet of Python code. Let's start with the standard first programme: printing 'Hello, World!'.\n",
    "\n",
    "To practise the syntax, you will create an `if` statement (similar to the example before). The code should have a variable called `say_hello` which is set to `True` (can be defined the same way as `age` in the above example - you will learn what variables are in the next chapter). It should have then an `if` statement that calls the `print()` function if `say_hello == True `. The `print()` function should output `'Hello, World!'`. Try to also add both multi-line and single-line comments to explain your code.\n",
    "\n",
    "Try creating the code in the following empty code block. Remember that you can click the spaceship symbol at the top right hand side of the page and then 'Live Code' to be able to write and run your code directly in this book. If you get stuck or what to compare solutions, open the hidden solution code block underneath.\n"
   ]
  },
  {
   "cell_type": "code",
   "execution_count": 4,
   "id": "9bb3bfb0",
   "metadata": {},
   "outputs": [],
   "source": [
    "# Put your code here"
   ]
  },
  {
   "cell_type": "markdown",
   "id": "9ad20dd5",
   "metadata": {},
   "source": [
    "```{dropdown} 💡 Solution\n",
    "\n",
    "```python\n",
    "\n",
    "\"\"\"\n",
    "Example of a simple if statement with indentation.\n",
    "It will print 'Hello, World!' if say_hello is True.\n",
    "\"\"\"\n",
    "\n",
    "say_hello = True # we want to say hello\n",
    "\n",
    "if say_hello == True:\n",
    "    print(\"Hello, World!\")"
   ]
  },
  {
   "cell_type": "markdown",
   "id": "dbe46f01",
   "metadata": {},
   "source": [
    "```{admonition} 🎯 Mini-Challenge: Test Your Code\n",
    ":class: tip\n",
    "\n",
    "Try changing the value of `say_hello` to `False`.\n",
    "\n",
    "What happens when you run the code now?\n",
    "\n",
    "```{dropdown} 💡 Solution\n",
    "Because the condition in the `if` statement is no longer `True`, the `print()` line will not be executed!"
   ]
  }
 ],
 "metadata": {
  "kernelspec": {
   "display_name": "jupyter_course_venv",
   "language": "python",
   "name": "python3"
  },
  "language_info": {
   "codemirror_mode": {
    "name": "ipython",
    "version": 3
   },
   "file_extension": ".py",
   "mimetype": "text/x-python",
   "name": "python",
   "nbconvert_exporter": "python",
   "pygments_lexer": "ipython3",
   "version": "3.13.2"
  }
 },
 "nbformat": 4,
 "nbformat_minor": 5
}
