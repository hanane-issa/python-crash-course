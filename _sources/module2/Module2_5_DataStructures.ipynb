{
 "cells": [
  {
   "cell_type": "markdown",
   "id": "a32bd1d1",
   "metadata": {},
   "source": [
    "## 5. Data Structures\n",
    "\n",
    "### 5.1. What is a Data Structure?\n",
    "\n",
    "A **data structure** is a data type which is used to organise and store multiple data points / values, so that they can be accessed and worked with efficiently. In Python, some of the most commonly used built-in data structures (sequence data types) are **lists**, **tuples**, **dictionaries**, and **sets**."
   ]
  },
  {
   "cell_type": "markdown",
   "id": "b9f29ac1",
   "metadata": {},
   "source": [
    "### 5.2. Lists\n",
    "\n",
    "A **list** is an ordered, changeable collection of items. Lists can contain items of any type (even a mixture of types).\n",
    "\n",
    "Lists are created using square brackets `[ ]`:"
   ]
  },
  {
   "cell_type": "code",
   "execution_count": 15,
   "id": "b5cddfc8",
   "metadata": {},
   "outputs": [
    {
     "name": "stdout",
     "output_type": "stream",
     "text": [
      "['apple', 'banana', 'cherry']\n"
     ]
    }
   ],
   "source": [
    "fruits = [\"apple\", \"banana\", \"cherry\"]\n",
    "print(fruits)"
   ]
  },
  {
   "cell_type": "markdown",
   "id": "48a6ad3f",
   "metadata": {},
   "source": [
    "You can access elements of the list using indexing (remember that Python indexing starts at 0). To access the last entry of the list you can also use the -1 index:"
   ]
  },
  {
   "cell_type": "code",
   "execution_count": 16,
   "id": "445d6306",
   "metadata": {},
   "outputs": [
    {
     "name": "stdout",
     "output_type": "stream",
     "text": [
      "apple\n",
      "banana\n",
      "cherry\n",
      "cherry\n"
     ]
    }
   ],
   "source": [
    "print(fruits[0]) # Output: apple\n",
    "print(fruits[1]) # Output: banana\n",
    "print(fruits[2]) # Output: cherry\n",
    "print(fruits[-1]) # Output: cherry"
   ]
  },
  {
   "cell_type": "markdown",
   "id": "31ab7359",
   "metadata": {},
   "source": [
    "You can also modify lists, i.e. change one entry with another, by assigning the list entry (accessed through its index) a new value. You can add an entry at the end of the list using the method `.append(value)` or at a specific position with the method  `.insert(index,value)`. To remove a entry use either the method `.remove(value)` for a specific value or `.pop(index)` for a specific position:"
   ]
  },
  {
   "cell_type": "code",
   "execution_count": 17,
   "id": "355a943b",
   "metadata": {},
   "outputs": [
    {
     "name": "stdout",
     "output_type": "stream",
     "text": [
      "['apple', 'blueberry', 'cherry']\n",
      "['apple', 'blueberry', 'cherry', 'orange']\n",
      "['apple', 'kiwi', 'blueberry', 'cherry', 'orange']\n",
      "['apple', 'blueberry', 'cherry', 'orange']\n",
      "['apple', 'blueberry', 'cherry']\n"
     ]
    }
   ],
   "source": [
    "fruits[1] = \"blueberry\" #change the entry at index 1\n",
    "print(fruits) # Output: ['apple', 'blueberry', 'cherry']\n",
    "\n",
    "fruits.append(\"orange\") # Add to the end of the list\n",
    "print(fruits) # Output: ['apple', 'blueberry', 'cherry', 'orange']\n",
    "\n",
    "fruits.insert(1, \"kiwi\") # Add to list at the index 1\n",
    "print(fruits) # Output: ['apple', 'kiwi', 'blueberry', 'cherry', 'orange']\n",
    "\n",
    "fruits.remove(\"kiwi\") # Remove the entry with value \"kiwi\"\n",
    "print(fruits) # Output: ['apple', 'blueberry', 'cherry', 'orange']\n",
    "\n",
    "fruits.pop(-1) # Remove the last entry in the list\n",
    "print(fruits) # Output: ['apple', 'blueberry', 'cherry']"
   ]
  },
  {
   "cell_type": "markdown",
   "id": "b0876dbe",
   "metadata": {},
   "source": [
    "If you have a list of values and you want to add it to a different list you have two options. The method `new_list.append(list)` adds the whole list as a single element to the new one. In contrast the method `new_list.extend(list)` adds each element of the list as its own entry in the new list:"
   ]
  },
  {
   "cell_type": "code",
   "execution_count": 18,
   "id": "e43a3b3c",
   "metadata": {},
   "outputs": [
    {
     "name": "stdout",
     "output_type": "stream",
     "text": [
      "['apple', 'blueberry', 'cherry']\n",
      "['apple', 'blueberry', 'cherry', 'mango', 'peach', 'pear']\n",
      "['apple', 'blueberry', 'cherry', 'mango', 'peach', 'pear', ['kiwi', 'plum']]\n"
     ]
    }
   ],
   "source": [
    "print(fruits) # Output: ['apple', 'blueberry', 'cherry']\n",
    "more_fruit = [\"mango\", \"peach\", \"pear\"]\n",
    "fruits.extend(more_fruit) # Add the entries in more_fruit to the end\n",
    "print(fruits) # Each fruit is added individually: ['apple', 'blueberry', 'cherry', 'mango', 'peach', 'pear']\n",
    "\n",
    "even_more_fruit = [\"kiwi\", \"plum\"]\n",
    "fruits.append(even_more_fruit) # Add the list even_more_fruit to the end\n",
    "print(fruits) # The list even_more_fruit is added as a single entry: ['apple', 'blueberry', 'cherry', 'mango', 'peach', 'pear', ['kiwi', 'plum']]"
   ]
  },
  {
   "cell_type": "markdown",
   "id": "06b7bf48",
   "metadata": {},
   "source": [
    "### 5.3. Tuples\n",
    "\n",
    "A **tuple** is similar to a list, but it is **immutable** — meaning its entries cannot be changed after creation.\n",
    "\n",
    "Tuples are defined using round brackets `(` `)`:"
   ]
  },
  {
   "cell_type": "code",
   "execution_count": 19,
   "id": "fa69eaf7",
   "metadata": {},
   "outputs": [
    {
     "name": "stdout",
     "output_type": "stream",
     "text": [
      "(4, 5)\n"
     ]
    }
   ],
   "source": [
    "coordinates = (4, 5)\n",
    "print(coordinates)"
   ]
  },
  {
   "cell_type": "markdown",
   "id": "79dc5a00",
   "metadata": {},
   "source": [
    "You can access tuple elements just like lists:"
   ]
  },
  {
   "cell_type": "code",
   "execution_count": 20,
   "id": "57a79532",
   "metadata": {},
   "outputs": [
    {
     "name": "stdout",
     "output_type": "stream",
     "text": [
      "4\n"
     ]
    }
   ],
   "source": [
    "print(coordinates[0]) # Output: 4"
   ]
  },
  {
   "cell_type": "markdown",
   "id": "4a246196",
   "metadata": {},
   "source": [
    "You **cannot modify** a tuple once it is created, e.g., changing a value, adding a new entry, removing an entry, ..."
   ]
  },
  {
   "cell_type": "code",
   "execution_count": 21,
   "id": "34bc2689",
   "metadata": {},
   "outputs": [
    {
     "ename": "TypeError",
     "evalue": "'tuple' object does not support item assignment",
     "output_type": "error",
     "traceback": [
      "\u001b[31m---------------------------------------------------------------------------\u001b[39m",
      "\u001b[31mTypeError\u001b[39m                                 Traceback (most recent call last)",
      "\u001b[36mCell\u001b[39m\u001b[36m \u001b[39m\u001b[32mIn[21]\u001b[39m\u001b[32m, line 1\u001b[39m\n\u001b[32m----> \u001b[39m\u001b[32m1\u001b[39m \u001b[43mcoordinates\u001b[49m\u001b[43m[\u001b[49m\u001b[32;43m0\u001b[39;49m\u001b[43m]\u001b[49m = \u001b[32m10\u001b[39m \u001b[38;5;66;03m# This will raise an error!\u001b[39;00m\n",
      "\u001b[31mTypeError\u001b[39m: 'tuple' object does not support item assignment"
     ]
    }
   ],
   "source": [
    "coordinates[0] = 10 # This will raise an error!"
   ]
  },
  {
   "cell_type": "markdown",
   "id": "097fe2a5",
   "metadata": {},
   "source": [
    "### 5.4. Dictionaries\n",
    "\n",
    "A **dictionary** stores data as **key–value pairs**. To access a specific values in a list or tuple, one uses the index. For dictionaries, you can personalise what you use to access the value. For each stored value, you define a key (usually a string or integer) that is used to access that value.\n",
    "\n",
    "Dictionaries are created using curly braces `{` `}`, where each entry is `key: value`:"
   ]
  },
  {
   "cell_type": "code",
   "execution_count": null,
   "id": "927068bf",
   "metadata": {},
   "outputs": [
    {
     "name": "stdout",
     "output_type": "stream",
     "text": [
      "{'name': 'Ross', 'age': 22, 3: 'three'}\n"
     ]
    }
   ],
   "source": [
    "person = {\"name\": \"Ross\", \"age\": 22, 3: \"three\"}\n",
    "print(person)"
   ]
  },
  {
   "cell_type": "markdown",
   "id": "9389921f",
   "metadata": {},
   "source": [
    "You can access, modify, and delete values by their keys the same way as when using indexes for lists (only exception: `.remove()` does not work). To create a new entry, assign a value to a key that has not been used before. All keys in the dictionary can be listed using the method `.keys()` and values using `.values()`."
   ]
  },
  {
   "cell_type": "code",
   "execution_count": null,
   "id": "7132421e",
   "metadata": {},
   "outputs": [
    {
     "name": "stdout",
     "output_type": "stream",
     "text": [
      "Ross\n",
      "three\n",
      "22\n",
      "{'name': 'Ross', 'age': 31, 3: 'three'}\n",
      "{'name': 'Ross', 'age': 31, 3: 'three', 'height': 5.75}\n",
      "{'name': 'Ross', 'age': 31, 'height': 5.75}\n",
      "dict_keys(['name', 'age', 'height'])\n",
      "dict_values(['Ross', 31, 5.75])\n"
     ]
    }
   ],
   "source": [
    "print(person[\"name\"]) # Output: Ross\n",
    "print(person[3]) # Output: three\n",
    "print(person['age'])\n",
    "\n",
    "#change the age\n",
    "person[\"age\"] = 31\n",
    "print(person) # Output: {'name': 'Ross', 'age': 31, 3: 'three'}\n",
    "\n",
    "#add a new key-value pair\n",
    "person[\"height\"] = 5.75\n",
    "print(person) # Output: {'name': 'Ross', 3: 'three', 'height': 5.75}\n",
    "\n",
    "#remove a key-value pair by its key\n",
    "person.pop(3)\n",
    "print(person) # Output: {'name': 'Ross', 'age': 31, 'height': 5.75}\n",
    "\n",
    "#get all keys\n",
    "print(person.keys()) # Output: dict_keys(['name', 'age', 'height'])\n",
    "#get all values\n",
    "print(person.values()) # Output: dict_values(['Ross', 31, 5.75])"
   ]
  },
  {
   "cell_type": "markdown",
   "id": "1e2629c6",
   "metadata": {},
   "source": [
    "### 5.5. Sets\n",
    "\n",
    "A **set** is an unordered collection of unique items. Sets automatically remove duplicate entries.\n",
    "\n",
    "Sets are created using curly braces `{` `}`, but without key–value pairs and just the value for each entry:"
   ]
  },
  {
   "cell_type": "code",
   "execution_count": null,
   "id": "add21ac6",
   "metadata": {},
   "outputs": [
    {
     "name": "stdout",
     "output_type": "stream",
     "text": [
      "{'dog', 'bird', 'cat'}\n"
     ]
    }
   ],
   "source": [
    "animals = {\"cat\", \"dog\", \"bird\", \"dog\"}\n",
    "print(animals) # note that the duplicate \"dog\" is removed"
   ]
  },
  {
   "cell_type": "markdown",
   "id": "1a384f9d",
   "metadata": {},
   "source": [
    "Since sets are unordered it is not subscriptable, i.e. we can't access specific entries using the index or key as before. We can still add new entries using the `.add(value)` method and delete entries using `.remove(value)`."
   ]
  },
  {
   "cell_type": "code",
   "execution_count": null,
   "id": "aed6b73c",
   "metadata": {},
   "outputs": [
    {
     "name": "stdout",
     "output_type": "stream",
     "text": [
      "{'dog', 'bird', 'fish', 'cat'}\n",
      "{'dog', 'bird', 'fish'}\n"
     ]
    },
    {
     "ename": "TypeError",
     "evalue": "'set' object is not subscriptable",
     "output_type": "error",
     "traceback": [
      "\u001b[31m---------------------------------------------------------------------------\u001b[39m",
      "\u001b[31mTypeError\u001b[39m                                 Traceback (most recent call last)",
      "\u001b[36mCell\u001b[39m\u001b[36m \u001b[39m\u001b[32mIn[48]\u001b[39m\u001b[32m, line 11\u001b[39m\n\u001b[32m      7\u001b[39m \u001b[38;5;28mprint\u001b[39m(animals) \u001b[38;5;66;03m# Output: {'dog', 'bird', 'fish'}\u001b[39;00m\n\u001b[32m     10\u001b[39m \u001b[38;5;66;03m#try to access by index\u001b[39;00m\n\u001b[32m---> \u001b[39m\u001b[32m11\u001b[39m \u001b[38;5;28mprint\u001b[39m(\u001b[43manimals\u001b[49m\u001b[43m[\u001b[49m\u001b[32;43m0\u001b[39;49m\u001b[43m]\u001b[49m) \u001b[38;5;66;03m# This will raise an error!\u001b[39;00m\n",
      "\u001b[31mTypeError\u001b[39m: 'set' object is not subscriptable"
     ]
    }
   ],
   "source": [
    "#add a new entry\n",
    "animals.add(\"fish\")\n",
    "print(animals) # Output: {'cat', 'dog', 'bird', 'fish'}\n",
    "\n",
    "#remove an entry\n",
    "animals.remove(\"cat\")\n",
    "print(animals) # Output: {'dog', 'bird', 'fish'}\n",
    "\n",
    "\n",
    "#try to access by index\n",
    "print(animals[0]) # This will raise an error!"
   ]
  },
  {
   "cell_type": "markdown",
   "id": "24dfb8f7",
   "metadata": {},
   "source": [
    "### 5.6. Data structure operators\n",
    "\n",
    "There are various methods and operators that can used for all data structures besides what has been introduced so far. Here are some examples:\n",
    "- `in` operator: check whether a value is an entry in the structure. For dictionaries this will **check for the key** and not for the value.\n",
    "- `len()` function: get the number of entries in the data structure"
   ]
  },
  {
   "cell_type": "code",
   "execution_count": null,
   "id": "fa54af00",
   "metadata": {},
   "outputs": [
    {
     "name": "stdout",
     "output_type": "stream",
     "text": [
      "Example data structures:\n",
      "[1, 2, 3]\n",
      "(1, 2, 3)\n",
      "{1, 2, 3}\n",
      "{'a': 1, 'b': 2, 'c': 3}\n",
      "Checking for 1 in each data structure:\n",
      "True\n",
      "True\n",
      "True\n",
      "False\n",
      "Checking for \"a\" in each data structure:\n",
      "False\n",
      "False\n",
      "False\n",
      "True\n",
      "Length of each data structure:\n",
      "3\n",
      "3\n",
      "3\n",
      "3\n"
     ]
    }
   ],
   "source": [
    "#define and print different data structures\n",
    "example_list = [1, 2, 3]\n",
    "example_tuple = (1, 2, 3)\n",
    "example_set = {1, 2, 3}\n",
    "example_dict = {\"a\": 1, \"b\": 2, \"c\": 3}\n",
    "\n",
    "print(f'Example data structures:')\n",
    "print(example_list) # Output: [1, 2, 3]\n",
    "print(example_tuple) # Output: (1, 2, 3)\n",
    "print(example_set) # Output: {1, 2, 3}\n",
    "print(example_dict) # Output: {'a': 1, 'b': 2, 'c': 3}\n",
    "\n",
    "# check for 1 in each of them\n",
    "print('Checking for 1 in each data structure:')\n",
    "print(1 in example_list) # Output: True\n",
    "print(1 in example_tuple) # Output: True\n",
    "print(1 in example_set) # Output: True\n",
    "print(1 in example_dict) # Output: False --> 1 is an value, not a key\n",
    "\n",
    "# check for \"a\" in each of them\n",
    "print('Checking for \"a\" in each data structure:')\n",
    "print(\"a\" in example_list) # Output: False\n",
    "print(\"a\" in example_tuple) # Output: False\n",
    "print(\"a\" in example_set) # Output: False\n",
    "print(\"a\" in example_dict) # Output: True --> key in dict\n",
    "\n",
    "# get length of each of them\n",
    "print('Length of each data structure:')\n",
    "print(len(example_list)) # Output: 3\n",
    "print(len(example_tuple)) # Output: 3\n",
    "print(len(example_set)) # Output: 3\n",
    "print(len(example_dict)) # Output: 3\n",
    "\n"
   ]
  },
  {
   "cell_type": "markdown",
   "id": "f8ad912c",
   "metadata": {},
   "source": [
    "### 5.7. Quick Practice\n",
    "\n",
    "Try these small challenges:\n",
    "\n",
    "- Create a list called colours containing at least three colour names.\n",
    "\n",
    "- Create a tuple called dimensions with three numbers inside.\n",
    "\n",
    "- Create a dictionary called student with keys \"name\" and \"age\" and give it reasonable values.\n",
    "\n",
    "- Create a set called numbers_set with some numbers, including duplicates.\n",
    "\n",
    "Print each data structure to see the result.\n",
    "\n"
   ]
  },
  {
   "cell_type": "code",
   "execution_count": null,
   "id": "43b849c5",
   "metadata": {},
   "outputs": [],
   "source": [
    "# Put your code here"
   ]
  },
  {
   "cell_type": "markdown",
   "id": "12c146c2",
   "metadata": {},
   "source": [
    "```{dropdown} 💡 Solution\n",
    "```python\n",
    "colours = [\"red\", \"blue\", \"green\"]\n",
    "dimensions = (1920, 1080)\n",
    "student = {\"name\": \"Bob\", \"age\": 20}\n",
    "numbers_set = {1, 2, 2, 3, 4}\n",
    "\n",
    "print(colours)\n",
    "print(dimensions)\n",
    "print(student)\n",
    "print(numbers_set)"
   ]
  }
 ],
 "metadata": {
  "kernelspec": {
   "display_name": "jupyter_course_venv",
   "language": "python",
   "name": "python3"
  },
  "language_info": {
   "codemirror_mode": {
    "name": "ipython",
    "version": 3
   },
   "file_extension": ".py",
   "mimetype": "text/x-python",
   "name": "python",
   "nbconvert_exporter": "python",
   "pygments_lexer": "ipython3",
   "version": "3.13.2"
  }
 },
 "nbformat": 4,
 "nbformat_minor": 5
}
