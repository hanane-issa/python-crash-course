{
 "cells": [
  {
   "cell_type": "code",
   "execution_count": null,
   "id": "0532bb3b",
   "metadata": {
    "tags": [
     "hide-input",
     "hide-output",
     "thebe-init"
    ]
   },
   "outputs": [],
   "source": [
    "import sys\n",
    "import os\n",
    "sys.path.insert(0, os.path.abspath(os.path.join(os.getcwd(), '..', 'shared')))\n",
    "import setup_code\n",
    "stroke_data = setup_code.stroke_data"
   ]
  },
  {
   "cell_type": "markdown",
   "id": "381dd43b",
   "metadata": {},
   "source": [
    "# Data visualization with matpotlib and seaborn\n"
   ]
  },
  {
   "cell_type": "markdown",
   "id": "aa32dd6d",
   "metadata": {},
   "source": [
    "To get started, in your jupyter notebook or your python environment, import the necessary packages:"
   ]
  },
  {
   "cell_type": "code",
   "execution_count": null,
   "id": "b5196c67",
   "metadata": {},
   "outputs": [],
   "source": [
    "import matplotlib.pyplot as plt\n",
    "import seaborn as sns\n",
    "import pandas as pd\n",
    "import numpy as np"
   ]
  },
  {
   "cell_type": "markdown",
   "id": "9a2ee52c",
   "metadata": {},
   "source": [
    "## Explore the dataset"
   ]
  },
  {
   "cell_type": "markdown",
   "id": "bcbe3044",
   "metadata": {},
   "source": [
    "First, let's explore the dataset. If you are running this locally, make sure to import the dataset first, paying attention to the path of your file."
   ]
  },
  {
   "cell_type": "code",
   "execution_count": null,
   "id": "a52407ac",
   "metadata": {},
   "outputs": [],
   "source": [
    "#Display the first 5 rows of the dataset\n",
    "stroke_data.head(5)"
   ]
  },
  {
   "cell_type": "markdown",
   "id": "d6bab99b",
   "metadata": {},
   "source": [
    "## A little bit of data preprocessing"
   ]
  },
  {
   "cell_type": "markdown",
   "id": "c63f93ce",
   "metadata": {},
   "source": [
    "If you check the dataframe with the following code, you will see there are missing values in the bmi."
   ]
  },
  {
   "cell_type": "code",
   "execution_count": null,
   "id": "8236a2de",
   "metadata": {},
   "outputs": [],
   "source": [
    "stroke_data.isnull().sum()"
   ]
  },
  {
   "cell_type": "markdown",
   "id": "c7d6c940",
   "metadata": {},
   "source": [
    "You should have learned how to handle missing values in module 4. For simplicity, we will replace the missing values with the mean."
   ]
  },
  {
   "cell_type": "code",
   "execution_count": null,
   "id": "73ce229b",
   "metadata": {},
   "outputs": [],
   "source": [
    "### getting the bmi mean for non-null values\n",
    "bmi_mean = stroke_data[~stroke_data['bmi'].isna()]['bmi'].mean()"
   ]
  },
  {
   "cell_type": "code",
   "execution_count": null,
   "id": "ec4ed5cb",
   "metadata": {},
   "outputs": [],
   "source": [
    "### filling the missing bmi values with the mean\n",
    "na_index = stroke_data[stroke_data['bmi'].isna()].index\n",
    "stroke_data.loc[na_index, 'bmi'] = bmi_mean"
   ]
  },
  {
   "cell_type": "markdown",
   "id": "18905e8b",
   "metadata": {},
   "source": [
    "If we check again, there should be no missing values now."
   ]
  },
  {
   "cell_type": "code",
   "execution_count": null,
   "id": "6d7ba4a0",
   "metadata": {},
   "outputs": [],
   "source": [
    "stroke_data.isnull().sum()"
   ]
  },
  {
   "cell_type": "markdown",
   "id": "4d7237e2",
   "metadata": {},
   "source": [
    "## Matplotlib and histogram"
   ]
  },
  {
   "cell_type": "markdown",
   "id": "ba22998f",
   "metadata": {},
   "source": [
    "Let's start simple and try and plot a histogram. For example, if you want to check the distribution of a column e.g. avg_glucose_level, you can do so using a histogram with the following codes:"
   ]
  },
  {
   "cell_type": "code",
   "execution_count": null,
   "id": "9c943290",
   "metadata": {},
   "outputs": [],
   "source": [
    "plt.hist(stroke_data.avg_glucose_level, bins=30, alpha=0.6, edgecolor='black')\n",
    "plt.xlabel('Value')\n",
    "plt.ylabel('Probability density')\n",
    "plt.title('Normalized Histogram (Density)')\n",
    "plt.show()"
   ]
  },
  {
   "cell_type": "markdown",
   "id": "34d252a5",
   "metadata": {},
   "source": [
    "We used the function `plt.hist()` from the matplotlib pacakge to make the plot. And we input the data from the dataframe `stroke_data.avg_glucose_level` as the first argument. The argument `bins` will control how many bins you want, the higher the number the more bins there are. `alpha` allows you to change the transparency of the bins. `black` will add outlines to the bins.\n",
    "\n",
    "`plt.xlabel()` and `plt.ylabel()` will set the labels of your x-axis and y-axis respectively. `plt.title()` will set the title of the plot. Finally `plt.show()` will actually display the plot.\n",
    "\n",
    "If you want to know more about the `matplotlib.pyplot.hist()` function and its arguments, go to the [matplotlib documentation](https://matplotlib.org/stable/)"
   ]
  },
  {
   "cell_type": "markdown",
   "id": "8cce09b1",
   "metadata": {},
   "source": [
    "### Changing font size and plot size"
   ]
  },
  {
   "cell_type": "markdown",
   "id": "aa1c3aa5",
   "metadata": {},
   "source": [
    "While we have the fairly simple example of the histogram, let's try and change the fonts of the plot.\n",
    "\n",
    "What we will change:\n",
    "1. size of the plot\n",
    "2. font size of the x-axis and y-axis label\n",
    "3. font size of ticks on the x and y-axis\n",
    "\n",
    "\n",
    "Here is how you can do this:"
   ]
  },
  {
   "cell_type": "code",
   "execution_count": null,
   "id": "dd7dc934",
   "metadata": {},
   "outputs": [],
   "source": [
    "plt.figure(figsize=(6, 4))\n",
    "plt.hist(stroke_data.avg_glucose_level, bins=30, alpha=0.6, edgecolor='black')\n",
    "plt.xlabel('Value', fontsize=14)\n",
    "plt.ylabel('Probability density',fontsize=14)\n",
    "plt.xticks(fontsize=12)\n",
    "plt.yticks(fontsize=12)\n",
    "plt.title('Normalized Histogram (Density)', fontsize=18)\n",
    "plt.show()"
   ]
  },
  {
   "cell_type": "markdown",
   "id": "5df2d304",
   "metadata": {},
   "source": [
    "As you can see, it is quite straight forward. We just have to add the argument `fontsize` in some functions, the number indicate how big you want the font to be (the higher the bigger). \n",
    "The `plt.figure()` function was added at the beginning to control the size of the plot. The two numbers 6 and 4 tell python that I want the plot to be 6 inches wide and 4 inches high."
   ]
  },
  {
   "cell_type": "markdown",
   "id": "6a28b266",
   "metadata": {},
   "source": [
    "### Saving the plot"
   ]
  },
  {
   "cell_type": "markdown",
   "id": "0f3e42d3",
   "metadata": {},
   "source": [
    "Now that you have a beautiful figure, you might want to save it. You can do so by using this function `plt.savefig()`. Several formats are supported, most commonly PDF, PNG and JPEG. \n",
    "\n",
    "You can save the figure by typing:"
   ]
  },
  {
   "cell_type": "code",
   "execution_count": null,
   "id": "f6c687c9",
   "metadata": {},
   "outputs": [],
   "source": [
    "plt.savefig('avg_glucose_level_histogram.pdf', dpi=300, bbox_inches='tight')"
   ]
  },
  {
   "cell_type": "markdown",
   "id": "c4dc7d88",
   "metadata": {},
   "source": [
    "`avg_glucose_level_histogram.pdf` is the file name you want to save as, the extension `.pdf` tells python what format you want to save as. Use `.png` if you want PNG or `.jpg` if you want JPEG. \n",
    "\n",
    "`dpi` controls the resolution, the higher the number, the higher the resolution. `bbox_inches` tells python to get rid of the extra white space around the plot. \n",
    "\n",
    "If you just want to save the figure, replace `plt.show()` with `plt.savefig()`. If you want to save AND display the figure, make sure to put `plt.savefig()` before `plt.show()`. "
   ]
  },
  {
   "cell_type": "markdown",
   "id": "fb66a1c8",
   "metadata": {},
   "source": [
    "## Seaborn and scatter plot"
   ]
  },
  {
   "cell_type": "markdown",
   "id": "581b61a8",
   "metadata": {},
   "source": [
    "We will now try to make a scatter plot. We will also use a new package [seaborn](https://seaborn.pydata.org/). According to the documentation, `seaborn` 'builds on top of matplotlib and integrates closely with `pandas` data structures'.\n",
    "\n",
    "Let us plot a scatter plot of bmi vs age by using the following codes:"
   ]
  },
  {
   "cell_type": "code",
   "execution_count": null,
   "id": "f83af8ce",
   "metadata": {},
   "outputs": [],
   "source": [
    "plt.figure(figsize=(6, 4))\n",
    "sns.scatterplot(data=stroke_data, x='age', y='bmi')\n",
    "plt.title('Scatter Plot of bmi vs age')\n",
    "plt.show()"
   ]
  },
  {
   "cell_type": "markdown",
   "id": "7b58406c",
   "metadata": {},
   "source": [
    "We used the function `sns.scatterplot()` from the `seaborn` package. Here we can put the entire dataframe as the input, then we specify the columns on in the dataframe that we want as x-axis and y-axis like so: `x='age', y='bmi'`\n",
    "\n",
    "An advantage of using `seaborn` is that, we do not have to explicitly set axis labels, it is automatically done. You can stll do it if you want to customize them."
   ]
  },
  {
   "cell_type": "markdown",
   "id": "e6f3a860",
   "metadata": {},
   "source": [
    "### Color"
   ]
  },
  {
   "cell_type": "markdown",
   "id": "da232d82",
   "metadata": {},
   "source": [
    "If you want to display another information on the scatter plot, you can try by adding color to it. We can do this by adding an argument to the function like so:"
   ]
  },
  {
   "cell_type": "code",
   "execution_count": null,
   "id": "e55b292c",
   "metadata": {},
   "outputs": [],
   "source": [
    "sns.scatterplot(data=stroke_data, x='age', y='bmi', hue='stroke', alpha=0.6)"
   ]
  },
  {
   "cell_type": "markdown",
   "id": "8eadc567",
   "metadata": {},
   "source": [
    "By adding `hue='stroke`, we are telling `seaborn` to color the dots in the scatter plot according to the information in the 'stoke' column.\n",
    "\n",
    "However, if you try the line of code above you will find that the dots are overlapping and we can not visualize the color well.\n",
    "\n",
    "We can try specifying the order of which the dots are plotted for better visualization. The codes are:"
   ]
  },
  {
   "cell_type": "code",
   "execution_count": null,
   "id": "373e5a78",
   "metadata": {},
   "outputs": [],
   "source": [
    "plt.figure(figsize=(6, 4))\n",
    "sns.scatterplot(data=stroke_data[stroke_data['stroke']==0], x='age', y='bmi', alpha=0.6)\n",
    "sns.scatterplot(data=stroke_data[stroke_data['stroke']==1], x='age', y='bmi', alpha=0.6)\n",
    "plt.title('Scatter Plot of bmi vs Age')\n",
    "plt.show()"
   ]
  },
  {
   "cell_type": "markdown",
   "id": "c1d357de",
   "metadata": {},
   "source": [
    "### Multiple plots"
   ]
  },
  {
   "cell_type": "markdown",
   "id": "7f9f89da",
   "metadata": {},
   "source": [
    "Now, what if you have multiple plots and you want them side by side for comparison? You can do so by using the `plt.subplot()` function."
   ]
  },
  {
   "cell_type": "code",
   "execution_count": null,
   "id": "bccd4aaf",
   "metadata": {},
   "outputs": [],
   "source": [
    "fig, axes = plt.subplots(2, 1, figsize=(5, 10))\n",
    "sns.scatterplot(data=stroke_data, x='age', y='bmi', alpha=0.6, ax=axes[0])\n",
    "sns.scatterplot(data=stroke_data, x='age', y='avg_glucose_level', alpha=0.6, ax=axes[1])\n",
    "plt.show()"
   ]
  },
  {
   "cell_type": "markdown",
   "id": "23781738",
   "metadata": {},
   "source": [
    "The first argument 2 tells `plt.subplots()` how many rows you want to organize the subplots, and the 1 means you want only 1 column. We used the `sns.scatterplot()` function twice to plot 2 figures, and we and the argument `ax=` to tell `seaborn` where to display the subplots excatly. The rest is the same as the single figures above.\n",
    "\n",
    "If the figures have the same axis label and ticks, we can make them share the same ones to save space. And just like before, we can set the titles as well:"
   ]
  },
  {
   "cell_type": "code",
   "execution_count": null,
   "id": "6c83d37d",
   "metadata": {},
   "outputs": [],
   "source": [
    "fig, axes = plt.subplots(2, 1, figsize=(5, 8), sharex=True)\n",
    "sns.scatterplot(data=stroke_data, x='age', y='bmi', alpha=0.6, ax=axes[0])\n",
    "axes[0].set_title('scatter plot of bmmi vs age')\n",
    "sns.scatterplot(data=stroke_data, x='age', y='avg_glucose_level', alpha=0.6, ax=axes[1])\n",
    "axes[1].set_title('scatter plot of avg_glucose_level vs age')\n",
    "plt.tight_layout()\n",
    "plt.show()"
   ]
  },
  {
   "cell_type": "markdown",
   "id": "e4857bf9",
   "metadata": {},
   "source": [
    "As you can see, we added the argument `sharex=True` to the function `plt.subplots()` to tell python the subplots are sharing the x-axis. We also added the optional `plt.tight_layout()` to reduce spacing between the plots and improve the overall aethestic."
   ]
  },
  {
   "cell_type": "markdown",
   "id": "880addaa",
   "metadata": {},
   "source": [
    "## Seaborn and distribution visualization"
   ]
  },
  {
   "cell_type": "markdown",
   "id": "4fb06056",
   "metadata": {},
   "source": [
    "If you think that the histogram is not enough to visualize the distribution, you might want to try box plot and violin plot. You can use the `seaborn` package for that. Using `seaborn` you can visualize another information in the figure by using color."
   ]
  },
  {
   "cell_type": "markdown",
   "id": "e74fa5a0",
   "metadata": {},
   "source": [
    "### Box plot"
   ]
  },
  {
   "cell_type": "markdown",
   "id": "c0c449d8",
   "metadata": {},
   "source": [
    "We simply use the `sns.boxplot()` function to do the boxplot. "
   ]
  },
  {
   "cell_type": "code",
   "execution_count": null,
   "id": "1040ed36",
   "metadata": {},
   "outputs": [],
   "source": [
    "sns.boxplot(data=stroke_data, x=\"heart_disease\", y=\"bmi\", hue=\"stroke\", fill=False, gap=.1)\n",
    "plt.title('Box Plot of BMI by Heart Disease and Stroke Status')\n",
    "plt.show()"
   ]
  },
  {
   "cell_type": "markdown",
   "id": "360e4600",
   "metadata": {},
   "source": [
    "With the box plot, we can identify the outliers more easily. `fill=False` will tell `seaborn` not to fill solid color inside the boxes, `gagp=.1` is the gap between the boxes for each category of the x axis."
   ]
  },
  {
   "cell_type": "markdown",
   "id": "1eecda18",
   "metadata": {},
   "source": [
    "### Violin plot"
   ]
  },
  {
   "cell_type": "markdown",
   "id": "818925df",
   "metadata": {},
   "source": [
    "If you want to visualize the distributions another way, you might want to try violin plots. We will use `sns.violinplot()`."
   ]
  },
  {
   "cell_type": "code",
   "execution_count": null,
   "id": "69ace669",
   "metadata": {},
   "outputs": [],
   "source": [
    "sns.violinplot(data=stroke_data, x=\"heart_disease\", y=\"bmi\", hue=\"stroke\", split=True, gap=.1, inner=\"quart\")\n",
    "plt.title('Violin Plot of BMI by Heart Disease and Stroke Status')\n",
    "plt.show()"
   ]
  },
  {
   "cell_type": "markdown",
   "id": "a8081a56",
   "metadata": {},
   "source": [
    "If you use the argument `split=True`, only half of the violins will be plotted for easier comparison. `inner=\"quart\"` means quantiles of the data will be shown inside the violins, you may also choose `inner=\"box\"` to display box-and-whisker plot."
   ]
  },
  {
   "cell_type": "markdown",
   "id": "7a900993",
   "metadata": {},
   "source": [
    "## Visualizing correlation"
   ]
  },
  {
   "cell_type": "markdown",
   "id": "5b3d0134",
   "metadata": {},
   "source": [
    "### Pairplot"
   ]
  },
  {
   "cell_type": "markdown",
   "id": "c23578f5",
   "metadata": {},
   "source": [
    "We can plot pairwise scatterplots to try and see if there is any correlations that exist between any pair of variables. This is only a preliminary visualization, but it is a good place to start. We will use `seaborn` to help us. But first we need to subset the dataframe because there are some categorical variables. We will select all 3 numerical variables plus the 'stroke' column:"
   ]
  },
  {
   "cell_type": "code",
   "execution_count": null,
   "id": "851ab9f2",
   "metadata": {},
   "outputs": [],
   "source": [
    "df_pairplot = stroke_data[['age', 'bmi', 'avg_glucose_level', 'stroke']]"
   ]
  },
  {
   "cell_type": "markdown",
   "id": "ca61751b",
   "metadata": {},
   "source": [
    "Now, we can use the `sns.pairplot()` function to make the pairplot. We will color the datapoint according to the 'stroke' status."
   ]
  },
  {
   "cell_type": "code",
   "execution_count": null,
   "id": "5a8be615",
   "metadata": {},
   "outputs": [],
   "source": [
    "sns.pairplot(\n",
    "    df_pairplot,\n",
    "    hue=\"stroke\",      \n",
    "    diag_kind=\"kde\",      \n",
    "    markers=[\"o\", \"s\"], plot_kws={'s': 10}\n",
    ")\n",
    "plt.suptitle(\"Pairwise Relationships in Iris\", y =1.02)\n",
    "plt.show()"
   ]
  },
  {
   "cell_type": "markdown",
   "id": "698fcfc7",
   "metadata": {},
   "source": [
    "The argument `hue=\"stroke\"` tells `seaborn` which information it hsould use to color the data points. `diag_kind=\"kde\"` will get you kernel density estimation (kde) on the diagonal, `seaborn` also support other types such as histogram. `markers=[\"o\",\"s\"]` will specify what marker shapes you want. Finally, `plot_kws={'s':10}` will set the size of the data point. `sns.pairplot()` returns a `PairGrid` object, that is to say the usual `matplotlib` function `plt.title()` will not work, so we use `plt.suptitle()` to add a title for all subplots at the top.  \n",
    "If you want more details of the arguments of the function, please check the [seaborn](https://seaborn.pydata.org/index.html) documentation.\n",
    "\n",
    "Once you have made the pairplot, you will notice that the data points of the '0's are being plotted on top of the '1's. We can solve this by reordering the dataframe like so:"
   ]
  },
  {
   "cell_type": "code",
   "execution_count": null,
   "id": "0841d0b1",
   "metadata": {},
   "outputs": [],
   "source": [
    "df_pairplot_reordered = pd.concat([df_pairplot[df_pairplot['stroke'] == 0],\n",
    "                                   df_pairplot[df_pairplot['stroke'] == 1]]).reset_index(drop=True)"
   ]
  },
  {
   "cell_type": "markdown",
   "id": "ce9f08c5",
   "metadata": {},
   "source": [
    "We are subsetting the dataframe into 2, rows with '0's in the 'stroke' column and '1's, then we are merging them together putting '0's first. This way when `seaborn` make the plots, it will display rows with '1's last thus they will be on top.\n",
    "Now we can make the pairplot again:"
   ]
  },
  {
   "cell_type": "code",
   "execution_count": null,
   "id": "46879d11",
   "metadata": {},
   "outputs": [],
   "source": [
    "sns.pairplot(\n",
    "    df_pairplot_reordered,\n",
    "    hue=\"stroke\",      \n",
    "    diag_kind=\"kde\",      \n",
    "    markers=[\"o\", \"s\"],plot_kws={'s': 10}\n",
    ")\n",
    "plt.suptitle(\"Pairwise Relationships in Iris\", y =1.02)\n",
    "plt.show()"
   ]
  },
  {
   "cell_type": "markdown",
   "id": "813da9c6",
   "metadata": {},
   "source": [
    "Now the figure looks slightly better."
   ]
  },
  {
   "cell_type": "markdown",
   "id": "350cf781",
   "metadata": {},
   "source": [
    "### Heatmap"
   ]
  },
  {
   "cell_type": "markdown",
   "id": "a60c4c20",
   "metadata": {},
   "source": [
    "If we want a bit more details on their relationships, we can try getting the Pearson correlation. Since we only have 3 columns that are numerical in nature, we will exclude the other columns first by typing:"
   ]
  },
  {
   "cell_type": "code",
   "execution_count": null,
   "id": "e7cc4c45",
   "metadata": {},
   "outputs": [],
   "source": [
    "stroke_numerical = stroke_data.select_dtypes(include=['float64'])"
   ]
  },
  {
   "cell_type": "markdown",
   "id": "dd07abee",
   "metadata": {},
   "source": [
    "We are selecting columns that with the data type being a 'float', which is a real number with a decimal point. The other columns contain categorical data represented as an 'object' or 'int64', so we will exclude them. We use the function that comes with a `pandas` dataframe object `select_dtypes()` to select only `float64`.\n",
    "\n",
    "Next, we will use another `pandas` dataframe object function `corr()`. It will compute the pairwise correlation between the the columns that are in the dataframe. If you want more information about `corr()`, please visit the [pandas](https://pandas.pydata.org/docs/index.html). We will leave every argument as default and get the pearson correlations:"
   ]
  },
  {
   "cell_type": "code",
   "execution_count": null,
   "id": "2eeace89",
   "metadata": {},
   "outputs": [],
   "source": [
    "correlations_df = stroke_numerical.corr()"
   ]
  },
  {
   "cell_type": "markdown",
   "id": "fcbeb850",
   "metadata": {},
   "source": [
    "We will now visualize the results using a heatmap. This can easily be done with a few lines of code, we will again be using `seaborn` to help us."
   ]
  },
  {
   "cell_type": "code",
   "execution_count": null,
   "id": "292e847f",
   "metadata": {},
   "outputs": [],
   "source": [
    "plt.figure(figsize=(8, 6))\n",
    "sns.heatmap(\n",
    "    correlations_df,\n",
    "    annot=True,        # show correlation values in cells\n",
    "    fmt=\".2f\",         # format to two decimal places\n",
    ")\n",
    "plt.title(\"Correlation Matrix\")\n",
    "plt.show()"
   ]
  },
  {
   "cell_type": "markdown",
   "id": "d2aa233b",
   "metadata": {},
   "source": [
    "`annot=True` will display the Pearson values in the cells. `fmt=\".2f\"` will display the values in 2 decimal places. Please check the [seaborn](https://seaborn.pydata.org/index.html) documentation for more details."
   ]
  },
  {
   "cell_type": "markdown",
   "id": "b9d03539",
   "metadata": {},
   "source": [
    "## OPTIONAL: Linear regression and line plot"
   ]
  },
  {
   "cell_type": "markdown",
   "id": "32479344",
   "metadata": {},
   "source": [
    "If you think 2 variables have a linear relationship, we can try fitting a linear regression model and make a line plot. We will be using packages `scikit-learn` and `numpy`.\n",
    "\n",
    "You will have imported `numpy` at the start of this tutorial, let us import the functions that we will use from the `scikit-learn` package:"
   ]
  },
  {
   "cell_type": "code",
   "execution_count": null,
   "id": "c88db2a2",
   "metadata": {},
   "outputs": [],
   "source": [
    "from sklearn.linear_model import LinearRegression\n",
    "from sklearn.model_selection import train_test_split"
   ]
  },
  {
   "cell_type": "markdown",
   "id": "fc08141d",
   "metadata": {},
   "source": [
    "First, we will split the data into training and testing data to avoid overfitting. This is not too important for us because we just want to make some pretty figures! But we will do it anyway for good practice."
   ]
  },
  {
   "cell_type": "code",
   "execution_count": null,
   "id": "70099912",
   "metadata": {},
   "outputs": [],
   "source": [
    "X_train, X_test, y_train, y_test =train_test_split(stroke_data['age'].values, stroke_data['bmi'].values, test_size=20, shuffle=False)"
   ]
  },
  {
   "cell_type": "markdown",
   "id": "cee0dc43",
   "metadata": {},
   "source": [
    "We will now create a linear regression model object and fit the data to it:"
   ]
  },
  {
   "cell_type": "code",
   "execution_count": null,
   "id": "32c598e2",
   "metadata": {},
   "outputs": [],
   "source": [
    "model = LinearRegression()\n",
    "model.fit(X_train.reshape(-1, 1), y_train.reshape(-1, 1))"
   ]
  },
  {
   "cell_type": "markdown",
   "id": "f2de678f",
   "metadata": {},
   "source": [
    "`LinearRegression()` from `scikit-learn` will create a model object, then we use a function that comes with the object `fit()` to actually fit the model to the provided data. The `fit()` function takes 2D data as input, so we reshaped our data using the `numpy` function `reshape()` to change the dimension. Typing -1 will tell numpy to infer the dimension of the data without us having to tell it manually, the second argument 1 tells `numpy` we want one column.\n",
    "\n",
    "Now that we have the fitted model, let us get the predicted values from it and make a line plot. \n",
    "We will create some values as the independent variable:"
   ]
  },
  {
   "cell_type": "code",
   "execution_count": null,
   "id": "0b458f4c",
   "metadata": {},
   "outputs": [],
   "source": [
    "X_values = np.linspace(0,80,50)"
   ]
  },
  {
   "cell_type": "markdown",
   "id": "45430747",
   "metadata": {},
   "source": [
    "The `np.linspace()` function will create an array with evenly spaced numbers, in our case we specify that we want 50 numbers ranging from 0-80. We can then put `X_values` into the function `predict()` to get the predicted bmi values. "
   ]
  },
  {
   "cell_type": "code",
   "execution_count": null,
   "id": "d1e9dd17",
   "metadata": {},
   "outputs": [],
   "source": [
    "predicted_bmi = model.predict(X_values.reshape(-1, 1))"
   ]
  },
  {
   "cell_type": "markdown",
   "id": "7aabda7d",
   "metadata": {},
   "source": [
    "Now we can make a line plot with `matplotlib`:"
   ]
  },
  {
   "cell_type": "code",
   "execution_count": null,
   "id": "87f1d28d",
   "metadata": {},
   "outputs": [],
   "source": [
    "plt.plot(X_values, predicted_bmi, label='Regression Line')\n",
    "plt.xlabel('Age')\n",
    "plt.ylabel('predicted BMI')\n",
    "plt.title('Line plot of predicted BMI vs Age')\n",
    "plt.legend()\n",
    "plt.show()"
   ]
  },
  {
   "cell_type": "markdown",
   "id": "398ea0ad",
   "metadata": {},
   "source": [
    "We simply use the function `plt.plot()` to make the line. We are also labeling it the 'Regression Line', so that we when use `plt.legend()` the line will be labeled as such in the legend.\n",
    "\n",
    "We can make a scatter plot and a line plot in the same figure by using `plt.scatter()` and `plt.plot()` back to back."
   ]
  },
  {
   "cell_type": "code",
   "execution_count": null,
   "id": "72bb1116",
   "metadata": {},
   "outputs": [],
   "source": [
    "plt.scatter(stroke_data['age'], stroke_data['bmi'], label='Data Points', alpha=0.5, s= 10)\n",
    "plt.plot(X_values, predicted_bmi, label='Regression Line', color='red')\n",
    "plt.xlabel('Age')\n",
    "plt.ylabel('predicted BMI')\n",
    "plt.title('Line plot of predicted BMI vs Age')\n",
    "plt.legend()\n",
    "plt.show()"
   ]
  },
  {
   "cell_type": "markdown",
   "id": "d9d2424a",
   "metadata": {},
   "source": [
    "We can also use `seaborn` to make a scatter plot and line plot with fewer lines of code:"
   ]
  },
  {
   "cell_type": "code",
   "execution_count": null,
   "id": "f6af4656",
   "metadata": {},
   "outputs": [],
   "source": [
    "sns.regplot(data=stroke_data, x=\"age\", y=\"bmi\", scatter_kws={'s': 10},  line_kws={'color': 'red'})\n",
    "plt.title('Line plot of predicted BMI vs Age')\n",
    "plt.show()"
   ]
  },
  {
   "cell_type": "markdown",
   "id": "8f2bee2d",
   "metadata": {},
   "source": [
    "## Conclusion"
   ]
  },
  {
   "cell_type": "markdown",
   "id": "224e29fe",
   "metadata": {},
   "source": [
    "In this tutorial, you have learned how to visualize data with the `matplotlib` and `seaborn` package. There are other packages available and maybe other ways to make the same figure, but at least now you know the basics. "
   ]
  }
 ],
 "metadata": {
  "jupytext": {
   "cell_metadata_filter": "-all",
   "main_language": "python",
   "notebook_metadata_filter": "-all"
  },
  "language_info": {
   "name": "python"
  }
 },
 "nbformat": 4,
 "nbformat_minor": 5
}
