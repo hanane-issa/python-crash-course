{
 "cells": [
  {
   "cell_type": "code",
   "execution_count": 1,
   "id": "7f05bf33",
   "metadata": {
    "tags": [
     "remove-input"
    ]
   },
   "outputs": [],
   "source": [
    "import pandas as pd\n",
    "import numpy as np\n",
    "import matplotlib.pyplot as plt\n",
    "stroke_data = pd.read_csv(\"../data/healthcare-dataset-stroke-data.csv\")"
   ]
  },
  {
   "cell_type": "markdown",
   "id": "dcce8c6a",
   "metadata": {},
   "source": [
    "# Module 6: Introduction to Functions\n",
    "\n",
    "\n",
    "<div class=\"alert alert-block alert-success\">\n",
    "<b>Section Objectives:</b><br> \n",
    "- Understand how to define a function in a programming language.<br> \n",
    "- Learn how to call a function to execute its code.<br>\n",
    "</div>\n",
    "\n",
    "\n",
    "\n",
    "\n",
    "## Why write a function? \n",
    "\n",
    "1. Reuse code easily\n",
    "As you start coding and analyzing data in Python, you'll soon realize that some code snippets are repeated and can be reused. Instead of copying and pasting the same code again and again, you write it once as a function and use it whenever you need. This saves time and effort!\n",
    "\n",
    "2. Make your code cleaner and shorter\n",
    "Functions help break big problems into smaller, manageable pieces. This makes your code easier to read and understand. We often talk about avoiding 'spaghetti code'. Just as it sounds, this describes code that is unclear, a big tangled mess that’s tough to read, understand, and work with,—kind of like a bowl of spaghetti all mixed up. \n",
    "\n",
    "3. Avoid mistakes\n",
    "When you reuse the same function, you only need to test and fix the code once. This reduces errors compared to copying code multiple times.\n",
    "\n",
    "4. Organize your work\n",
    "Functions let you give a name to a block of code, which describes what it does. This helps others (and future you!) understand your program faster.\n",
    "\n",
    "## Anatomy of a Function\n",
    "\n",
    "So what are the building blocks of a function? What elements do we need for Python to understand that we're defining a function?\n",
    "\n",
    "Let's take a look at the syntax needed:\n",
    "\n",
    "<img src=\"../_static/images/function_annotation.png\" alt=\"function_explanation\" style=\"width: 1400px; height: 300px\"/>\n",
    "\n",
    "As you can see, a function requires parameters to define the type and number of values that it can accept (source: {cite} @params_vs_args). These parameters are placeholders for the actual data you want to pass when you call the function. If your function were a vending machine, then the parameters are the buttons you press to choose what comes out!\n",
    "\n",
    "\n",
    "```{note}\n",
    "You only need to define a function once, then you can use (call) it as many times as you like.\n",
    "```\n",
    "\n",
    "Let's use the Kaggle stroke data (cite) to write our first function.\n",
    "The stroke variable is binary: 1 indicates that the patient had a stroke, and 0 indicates the absence of a stroke. We can then determine the number of patients who had a stroke by calculating the sum of this column through the following function:"
   ]
  },
  {
   "cell_type": "code",
   "execution_count": 2,
   "id": "e8bedf39",
   "metadata": {},
   "outputs": [],
   "source": [
    "def count_stroke_patients(df):\n",
    "    \"\"\"\n",
    "    Return the number of patients in the dataset who had a stroke.\n",
    "\n",
    "    Parameters\n",
    "    ----------\n",
    "    df : pandas.DataFrame\n",
    "        The dataset containing patient information. Must include a 'stroke' column\n",
    "        with binary values (e.g., 0 = no stroke, 1 = stroke).\n",
    "\n",
    "    Returns\n",
    "    -------\n",
    "    int\n",
    "        The number of patients who had a stroke.\n",
    "    \"\"\"\n",
    "    stroke_count = df['stroke'].sum()\n",
    "    return stroke_count"
   ]
  },
  {
   "cell_type": "markdown",
   "id": "b610852a",
   "metadata": {},
   "source": [
    "To call the function, we use the syntax `function_name(arguments)`."
   ]
  },
  {
   "cell_type": "code",
   "execution_count": 3,
   "id": "79202233",
   "metadata": {
    "tags": [
     "remove-output"
    ]
   },
   "outputs": [
    {
     "data": {
      "text/plain": [
       "np.int64(249)"
      ]
     },
     "execution_count": 3,
     "metadata": {},
     "output_type": "execute_result"
    }
   ],
   "source": [
    "count_stroke_patients(stroke_data)"
   ]
  },
  {
   "cell_type": "markdown",
   "id": "dc6ada22",
   "metadata": {},
   "source": [
    "## The Pass Statement:  A Placeholder for Code\n",
    "\n",
    "Sometimes, when writing functions, classes, or loops, you know what you want to build — but not how just yet. You can use a `pass` statement as a placeholder to build your code and test it without any issue.\n",
    "\n",
    "### What does `pass` do? \n",
    "\n",
    "The pass statement tells Python:\n",
    "\n",
    "“Do nothing here, but don’t crash.”\n",
    "\n",
    "It’s useful when you're outlining code and want to avoid errors while the logic is still incomplete.\n",
    "\n",
    "Suppose you're planning to write a function that will analyze the relationship between smoking status and stroke, but you're not ready to write the actual logic yet."
   ]
  },
  {
   "cell_type": "code",
   "execution_count": 4,
   "id": "189e9ef7",
   "metadata": {},
   "outputs": [],
   "source": [
    "def analyze_smoking_effect(df):\n",
    "    pass  # We'll implement this later"
   ]
  },
  {
   "cell_type": "markdown",
   "id": "44f53c11",
   "metadata": {},
   "source": [
    "You can call this function, and Python won’t complain — it just won’t do anything yet.\n",
    "\n",
    "### `pass` in Conditionals\n",
    "\n",
    "You might also check if the smoking_status column exists, but want to fill in the logic later:"
   ]
  },
  {
   "cell_type": "code",
   "execution_count": 5,
   "id": "2c5cb09f",
   "metadata": {},
   "outputs": [
    {
     "ename": "NameError",
     "evalue": "name 'df' is not defined",
     "output_type": "error",
     "traceback": [
      "\u001b[31m---------------------------------------------------------------------------\u001b[39m",
      "\u001b[31mNameError\u001b[39m                                 Traceback (most recent call last)",
      "\u001b[36mCell\u001b[39m\u001b[36m \u001b[39m\u001b[32mIn[5]\u001b[39m\u001b[32m, line 1\u001b[39m\n\u001b[32m----> \u001b[39m\u001b[32m1\u001b[39m \u001b[38;5;28;01mif\u001b[39;00m \u001b[33m'\u001b[39m\u001b[33msmoking_status\u001b[39m\u001b[33m'\u001b[39m \u001b[38;5;129;01min\u001b[39;00m \u001b[43mdf\u001b[49m.columns:\n\u001b[32m      2\u001b[39m     \u001b[38;5;28;01mpass\u001b[39;00m  \u001b[38;5;66;03m# analysis will go here\u001b[39;00m\n\u001b[32m      3\u001b[39m \u001b[38;5;28;01melse\u001b[39;00m:\n",
      "\u001b[31mNameError\u001b[39m: name 'df' is not defined"
     ]
    }
   ],
   "source": [
    "if 'smoking_status' in df.columns:\n",
    "    pass  # analysis will go here\n",
    "else:\n",
    "    print(\"Column 'smoking_status' not found.\")"
   ]
  },
  {
   "cell_type": "markdown",
   "id": "7606346b",
   "metadata": {},
   "source": [
    "This code runs without error, even though the if block is empty for now.\n",
    "\n",
    "\n",
    "### What happens if we remove `pass`?"
   ]
  },
  {
   "cell_type": "code",
   "execution_count": null,
   "id": "c58cbb1b",
   "metadata": {},
   "outputs": [],
   "source": [
    "def analyze_smoking_effect(df):\n",
    "    # nothing here!"
   ]
  },
  {
   "cell_type": "markdown",
   "id": "bab19059",
   "metadata": {},
   "source": [
    "If you remove the `pass` statement, you'll be faced with an `IndentationError`, because Python expects at least one statement in a function.\n",
    "\n",
    "\n",
    "### Mini-Exercice \n",
    "\n",
    "Complete the function below to:\n",
    "\n",
    "- Check if the 'smoking_status' column exists\n",
    "\n",
    "- If yes, return a pandas Series with counts of each smoking category using .value_counts()\n",
    "\n",
    "- If no, return a message saying the column isn’t found.\n",
    "\n",
    "The pass statement is a placeholder you can replace with real code when you’re ready.\n",
    "You can call the function to see if it works!\n",
    "\n",
    "\n",
    "def count_smokers_by_category(df):\n",
    "    if 'smoking_status' in df.columns:\n",
    "        pass\n",
    "        ### TO DO: REPLACE PASS WITH YOUR CODE ###\n",
    "    else:\n",
    "        pass\n",
    "        ### TO DO: REPLACE PASS WITH YOUR CODE ###\n",
    "\n",
    "\n",
    "\n",
    "\n",
    "\n",
    "<div style=\"margin-bottom: 15px;\">\n",
    "  <details>\n",
    "    <summary>\n",
    "      <i class=\"fa fa-lightbulb\" aria-hidden=\"true\" style=\"color: yellow; font-size: 20px;\"></i> \n",
    "      Solution\n",
    "    </summary>\n",
    "    <p style=\"padding-left: 20px;\">\n",
    "    </p>\n",
    "    <pre><code class=\"python\">\n",
    "def count_smokers_by_category(df):\n",
    "    if 'smoking_status' in df.columns:\n",
    "        return df['smoking_status'].value_counts()\n",
    "    else:\n",
    "        return \"Column 'smoking_status' not found.\"\n",
    "    </code></pre>\n",
    "  </details>\n",
    "</div>"
   ]
  }
 ],
 "metadata": {
  "jupytext": {
   "formats": "md:myst",
   "text_representation": {
    "extension": ".md",
    "format_name": "myst",
    "format_version": 0.13,
    "jupytext_version": "1.11.5"
   }
  },
  "kernelspec": {
   "display_name": "Python 3",
   "language": "python",
   "name": "python3"
  },
  "language_info": {
   "codemirror_mode": {
    "name": "ipython",
    "version": 3
   },
   "file_extension": ".py",
   "mimetype": "text/x-python",
   "name": "python",
   "nbconvert_exporter": "python",
   "pygments_lexer": "ipython3",
   "version": "3.13.2"
  },
  "source_map": [
   14,
   21,
   66,
   84,
   88,
   91,
   107,
   110,
   117,
   122,
   129,
   132
  ]
 },
 "nbformat": 4,
 "nbformat_minor": 5
}