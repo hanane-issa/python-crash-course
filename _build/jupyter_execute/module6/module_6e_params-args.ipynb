{
 "cells": [
  {
   "cell_type": "code",
   "execution_count": 1,
   "id": "4253f711",
   "metadata": {
    "tags": [
     "hide-input",
     "hide-output"
    ]
   },
   "outputs": [
    {
     "ename": "Exception",
     "evalue": "File `'../shared/setup.py'` not found.",
     "output_type": "error",
     "traceback": [
      "\u001b[31m---------------------------------------------------------------------------\u001b[39m",
      "\u001b[31mOSError\u001b[39m                                   Traceback (most recent call last)",
      "\u001b[36mFile \u001b[39m\u001b[32m~\\AppData\\Local\\Programs\\Python\\Python313\\Lib\\site-packages\\IPython\\core\\magics\\execution.py:727\u001b[39m, in \u001b[36mExecutionMagics.run\u001b[39m\u001b[34m(self, parameter_s, runner, file_finder)\u001b[39m\n\u001b[32m    726\u001b[39m     fpath = arg_lst[\u001b[32m0\u001b[39m]\n\u001b[32m--> \u001b[39m\u001b[32m727\u001b[39m     filename = \u001b[43mfile_finder\u001b[49m\u001b[43m(\u001b[49m\u001b[43mfpath\u001b[49m\u001b[43m)\u001b[49m\n\u001b[32m    728\u001b[39m \u001b[38;5;28;01mexcept\u001b[39;00m \u001b[38;5;167;01mIndexError\u001b[39;00m \u001b[38;5;28;01mas\u001b[39;00m e:\n",
      "\u001b[36mFile \u001b[39m\u001b[32m~\\AppData\\Local\\Programs\\Python\\Python313\\Lib\\site-packages\\IPython\\utils\\path.py:90\u001b[39m, in \u001b[36mget_py_filename\u001b[39m\u001b[34m(name)\u001b[39m\n\u001b[32m     89\u001b[39m         \u001b[38;5;28;01mreturn\u001b[39;00m py_name\n\u001b[32m---> \u001b[39m\u001b[32m90\u001b[39m \u001b[38;5;28;01mraise\u001b[39;00m \u001b[38;5;167;01mIOError\u001b[39;00m(\u001b[33m\"\u001b[39m\u001b[33mFile `\u001b[39m\u001b[38;5;132;01m%r\u001b[39;00m\u001b[33m` not found.\u001b[39m\u001b[33m\"\u001b[39m % name)\n",
      "\u001b[31mOSError\u001b[39m: File `'../shared/setup.py'` not found.",
      "\nThe above exception was the direct cause of the following exception:\n",
      "\u001b[31mException\u001b[39m                                 Traceback (most recent call last)",
      "\u001b[36mCell\u001b[39m\u001b[36m \u001b[39m\u001b[32mIn[1]\u001b[39m\u001b[32m, line 1\u001b[39m\n\u001b[32m----> \u001b[39m\u001b[32m1\u001b[39m \u001b[43mget_ipython\u001b[49m\u001b[43m(\u001b[49m\u001b[43m)\u001b[49m\u001b[43m.\u001b[49m\u001b[43mrun_line_magic\u001b[49m\u001b[43m(\u001b[49m\u001b[33;43m'\u001b[39;49m\u001b[33;43mrun\u001b[39;49m\u001b[33;43m'\u001b[39;49m\u001b[43m,\u001b[49m\u001b[43m \u001b[49m\u001b[33;43m'\u001b[39;49m\u001b[33;43m../shared/setup.py\u001b[39;49m\u001b[33;43m'\u001b[39;49m\u001b[43m)\u001b[49m\n",
      "\u001b[36mFile \u001b[39m\u001b[32m~\\AppData\\Local\\Programs\\Python\\Python313\\Lib\\site-packages\\IPython\\core\\interactiveshell.py:2478\u001b[39m, in \u001b[36mInteractiveShell.run_line_magic\u001b[39m\u001b[34m(self, magic_name, line, _stack_depth)\u001b[39m\n\u001b[32m   2476\u001b[39m     kwargs[\u001b[33m'\u001b[39m\u001b[33mlocal_ns\u001b[39m\u001b[33m'\u001b[39m] = \u001b[38;5;28mself\u001b[39m.get_local_scope(stack_depth)\n\u001b[32m   2477\u001b[39m \u001b[38;5;28;01mwith\u001b[39;00m \u001b[38;5;28mself\u001b[39m.builtin_trap:\n\u001b[32m-> \u001b[39m\u001b[32m2478\u001b[39m     result = \u001b[43mfn\u001b[49m\u001b[43m(\u001b[49m\u001b[43m*\u001b[49m\u001b[43margs\u001b[49m\u001b[43m,\u001b[49m\u001b[43m \u001b[49m\u001b[43m*\u001b[49m\u001b[43m*\u001b[49m\u001b[43mkwargs\u001b[49m\u001b[43m)\u001b[49m\n\u001b[32m   2480\u001b[39m \u001b[38;5;66;03m# The code below prevents the output from being displayed\u001b[39;00m\n\u001b[32m   2481\u001b[39m \u001b[38;5;66;03m# when using magics with decorator @output_can_be_silenced\u001b[39;00m\n\u001b[32m   2482\u001b[39m \u001b[38;5;66;03m# when the last Python token in the expression is a ';'.\u001b[39;00m\n\u001b[32m   2483\u001b[39m \u001b[38;5;28;01mif\u001b[39;00m \u001b[38;5;28mgetattr\u001b[39m(fn, magic.MAGIC_OUTPUT_CAN_BE_SILENCED, \u001b[38;5;28;01mFalse\u001b[39;00m):\n",
      "\u001b[36mFile \u001b[39m\u001b[32m~\\AppData\\Local\\Programs\\Python\\Python313\\Lib\\site-packages\\IPython\\core\\magics\\execution.py:738\u001b[39m, in \u001b[36mExecutionMagics.run\u001b[39m\u001b[34m(self, parameter_s, runner, file_finder)\u001b[39m\n\u001b[32m    736\u001b[39m     \u001b[38;5;28;01mif\u001b[39;00m os.name == \u001b[33m'\u001b[39m\u001b[33mnt\u001b[39m\u001b[33m'\u001b[39m \u001b[38;5;129;01mand\u001b[39;00m re.match(\u001b[33mr\u001b[39m\u001b[33m\"\u001b[39m\u001b[33m^\u001b[39m\u001b[33m'\u001b[39m\u001b[33m.*\u001b[39m\u001b[33m'\u001b[39m\u001b[33m$\u001b[39m\u001b[33m\"\u001b[39m,fpath):\n\u001b[32m    737\u001b[39m         warn(\u001b[33m'\u001b[39m\u001b[33mFor Windows, use double quotes to wrap a filename: \u001b[39m\u001b[38;5;132;01m%r\u001b[39;00m\u001b[33mun \u001b[39m\u001b[33m\"\u001b[39m\u001b[33mmypath\u001b[39m\u001b[38;5;130;01m\\\\\u001b[39;00m\u001b[33mmyfile.py\u001b[39m\u001b[33m\"\u001b[39m\u001b[33m'\u001b[39m)\n\u001b[32m--> \u001b[39m\u001b[32m738\u001b[39m     \u001b[38;5;28;01mraise\u001b[39;00m \u001b[38;5;167;01mException\u001b[39;00m(msg) \u001b[38;5;28;01mfrom\u001b[39;00m\u001b[38;5;250m \u001b[39m\u001b[34;01me\u001b[39;00m\n\u001b[32m    739\u001b[39m \u001b[38;5;28;01mexcept\u001b[39;00m \u001b[38;5;167;01mTypeError\u001b[39;00m:\n\u001b[32m    740\u001b[39m     \u001b[38;5;28;01mif\u001b[39;00m fpath \u001b[38;5;129;01min\u001b[39;00m sys.meta_path:\n",
      "\u001b[31mException\u001b[39m: File `'../shared/setup.py'` not found."
     ]
    }
   ],
   "source": [
    "%run ../shared/setup.py  "
   ]
  },
  {
   "cell_type": "markdown",
   "id": "10163378",
   "metadata": {},
   "source": [
    "# Module 6e: Parameters and Arguments\n",
    "\n",
    "<div class=\"alert alert-block alert-success\">\n",
    "<b>Section Objectives:</b><br> \n",
    "- Differentiate between arguments and parameters in functions.<br>\n",
    "- Recognize how the number of arguments affects function calls and definitions.<br> \n",
    "- Implement default parameter values in function definitions.\n",
    "</div>\n",
    "\n",
    "\n",
    "\n",
    "## Parameters vs Arguments\n",
    "\n",
    "In programming, we differentiate between the variable names declared in the function, and the actual variables passed in the function.\n",
    "\n",
    "A **parameter** is the placeholder variable name you declare in the function. It is part of the function's signature.\n",
    "An **argument** is the actual variable or value you pass in the function when you call it.\n",
    "\n",
    "Let's go back to the `count_stroke_patients()` function to understand the difference better."
   ]
  },
  {
   "cell_type": "code",
   "execution_count": null,
   "id": "e1db0d7f",
   "metadata": {},
   "outputs": [],
   "source": [
    "def count_stroke_patients(df):\n",
    "    \"\"\"\n",
    "    Return the number of patients in the dataset who had a stroke.\n",
    "\n",
    "    Parameters\n",
    "    ----------\n",
    "    df : pandas.DataFrame\n",
    "        The dataset containing patient information. Must include a 'stroke' column\n",
    "        with binary values (e.g., 0 = no stroke, 1 = stroke).\n",
    "\n",
    "    Returns\n",
    "    -------\n",
    "    int\n",
    "        The number of patients who had a stroke.\n",
    "    \"\"\"\n",
    "    stroke_count = df['stroke'].sum()\n",
    "    return stroke_count"
   ]
  },
  {
   "cell_type": "markdown",
   "id": "edcc2424",
   "metadata": {},
   "source": [
    "When we defined this function, we used **df** as the parameter. It isn't a real dataset; it is an indicator for you to know that the function requires a dataframe that will be used in its code.\n",
    "(Source: {cite} @params_vs_args)"
   ]
  },
  {
   "cell_type": "code",
   "execution_count": null,
   "id": "d7cb7563",
   "metadata": {
    "tags": [
     "remove-output"
    ]
   },
   "outputs": [],
   "source": [
    "count_stroke_patients(stroke_data)"
   ]
  },
  {
   "cell_type": "markdown",
   "id": "84a81a84",
   "metadata": {},
   "source": [
    "When we called this function, we used the dataframe **stroke_data** as the argument. This is the actual data we want the function to work with.\n",
    "\n",
    "```{note}\n",
    "It's good practice to use meaningful parameter names. It makes your code more understandable and easier to maintain.\n",
    "```\n",
    "\n",
    "\n",
    "## Multiple Parameters, Multiple Arguments\n",
    "\n",
    "Functions can have more than one parameter. This allows you to pass multiple pieces of information into it. \n",
    "When you call the function, you must provide the same number of arguments (unless some parameters have default values, which you'll learn later).\n",
    "\n",
    "The order matters — the first argument goes to the first parameter, the second to the second, etc.\n",
    "\n",
    "This is called **positional arguments** (we’ll discuss keyword arguments later)."
   ]
  },
  {
   "cell_type": "code",
   "execution_count": null,
   "id": "d4d28a5e",
   "metadata": {},
   "outputs": [],
   "source": [
    "def patient_summary(df, column):\n",
    "    \"\"\"\n",
    "    Print the average value for a given column in the dataframe.\n",
    "    \"\"\"\n",
    "    avg_value = df[column].mean()\n",
    "    print(f\"The average {column} is {avg_value:.2f}\")"
   ]
  },
  {
   "cell_type": "markdown",
   "id": "b581a73a",
   "metadata": {},
   "source": [
    "With two parameters, we call the function with two arguments as follows:"
   ]
  },
  {
   "cell_type": "code",
   "execution_count": null,
   "id": "83871925",
   "metadata": {},
   "outputs": [],
   "source": [
    "patient_summary(stroke_data, \"age\")\n",
    "patient_summary(stroke_data, \"avg_glucose_level\")"
   ]
  },
  {
   "cell_type": "markdown",
   "id": "d6497e53",
   "metadata": {},
   "source": [
    "Try switching the argument order to see what the function does:"
   ]
  },
  {
   "cell_type": "code",
   "execution_count": null,
   "id": "d23ea3ea",
   "metadata": {},
   "outputs": [],
   "source": [
    "### Your code here ###"
   ]
  },
  {
   "cell_type": "markdown",
   "id": "41826128",
   "metadata": {},
   "source": [
    "## Default parameters/default arguments\n",
    "\n",
    "You can give your function parameters a default value so that callers don’t have to provide every argument every time. These are called default parameters or optional arguments."
   ]
  },
  {
   "cell_type": "code",
   "execution_count": null,
   "id": "ebea6b59",
   "metadata": {},
   "outputs": [],
   "source": [
    "def check_high_glucose(df, threshold=125):\n",
    "    \"\"\"\n",
    "    Add a column 'glucose_status' labeling patients as 'high' or 'normal'\n",
    "    based on avg_glucose_level threshold.\n",
    "    \"\"\"\n",
    "    def glucose_level(glucose):\n",
    "        if glucose > threshold:\n",
    "            return 'high'\n",
    "        else:\n",
    "            return 'normal'\n",
    "    \n",
    "    df['glucose_status'] = df['avg_glucose_level'].apply(glucose_level)\n",
    "    return df"
   ]
  },
  {
   "cell_type": "markdown",
   "id": "398e68c0",
   "metadata": {},
   "source": [
    "The parameter threshold has a default value of 125.\n",
    "\n",
    "If you call the function without specifying threshold, it will use 125."
   ]
  },
  {
   "cell_type": "code",
   "execution_count": null,
   "id": "2e67a3ce",
   "metadata": {},
   "outputs": [],
   "source": [
    "check_high_glucose(stroke_data)  # Uses default threshold = 125"
   ]
  },
  {
   "cell_type": "markdown",
   "id": "22673431",
   "metadata": {},
   "source": [
    "But you can override it by passing your own value:"
   ]
  },
  {
   "cell_type": "code",
   "execution_count": null,
   "id": "57907c40",
   "metadata": {},
   "outputs": [],
   "source": [
    "check_high_glucose(stroke_data, threshold=140)  "
   ]
  },
  {
   "cell_type": "markdown",
   "id": "304a3859",
   "metadata": {},
   "source": [
    "```{note}\n",
    "- Use default values only when it makes sense. For example, if there’s a common or typical value that fits most cases, it’s helpful to set it as a default. \n",
    "- Parameters with default values must come after parameters without defaults.\n",
    "- You cannot have a required parameter after a default one.\n",
    "```\n",
    "\n",
    "## Positional vs Keyword arguments\n",
    "\n",
    "### Using positional arguments\n",
    "You might have noticed by now that,even without default arguments, the order of called arguments matters.\n",
    "Arguments are matched to parameters based on their position — first with first, second with second, and so on.\n",
    "You must pass them in the same sequence the function expects.\n",
    "Let's take a look at the following function:"
   ]
  },
  {
   "cell_type": "code",
   "execution_count": null,
   "id": "9210d312",
   "metadata": {},
   "outputs": [],
   "source": [
    "def describe_patient(df, index, age_col, gender_col, hypertension_col):\n",
    "    \"\"\"\n",
    "    Print a basic description of a patient at the given index.\n",
    "\n",
    "    Parameters\n",
    "    ----------\n",
    "    df : pandas.DataFrame\n",
    "        The dataset containing patient information.\n",
    "    index : int\n",
    "        The row index of the patient in the dataset.\n",
    "    age_col : str\n",
    "        Name of the column containing age information.\n",
    "    gender_col : str\n",
    "        Name of the column containing gender information.\n",
    "    hypertension_col : str\n",
    "        Name of the column indicating whether the patient has hypertension (0 or 1).\n",
    "\n",
    "    Returns\n",
    "    -------\n",
    "    None\n",
    "        This function only prints output to the screen.\n",
    "    \"\"\"\n",
    "    patient = df.iloc[index]\n",
    "    \n",
    "    print(f\"Patient #{index}: {patient[age_col]}-year-old {patient[gender_col]}.\")\n",
    "    \n",
    "    if patient[hypertension_col]:\n",
    "        print(\"Has hypertension.\")\n",
    "    else:\n",
    "        print(\"No hypertension.\")"
   ]
  },
  {
   "cell_type": "markdown",
   "id": "7510b132",
   "metadata": {},
   "source": [
    "To call the function and follow the correct positional argument order, we use:"
   ]
  },
  {
   "cell_type": "code",
   "execution_count": null,
   "id": "8f6d2cbd",
   "metadata": {},
   "outputs": [],
   "source": [
    "describe_patient(stroke_data, 10, 'age', 'gender', 'hypertension')"
   ]
  },
  {
   "cell_type": "markdown",
   "id": "9218251b",
   "metadata": {},
   "source": [
    "`stroke_data` goes to `df`, `10` goes to 10 goes to `index`, `age` goes to `age_col`, `gender` goes to `gender_col`, and `hypertension` goes to `hypertension_col`.\n",
    "\n",
    "What happens if we swap the arguments `'age'` and `'gender'`?"
   ]
  },
  {
   "cell_type": "code",
   "execution_count": null,
   "id": "db1e59bd",
   "metadata": {},
   "outputs": [],
   "source": [
    "describe_patient(stroke_data, 10, 'gender', 'age', 'hypertension')"
   ]
  },
  {
   "cell_type": "markdown",
   "id": "b06dbaee",
   "metadata": {},
   "source": [
    "You’ll get nonsense output because Python assigns 'Male' to index (which should be an int), and so on.\n",
    "\n",
    "### Using keyword arguments\n",
    "You can explicitly specify which argument refers back to which parameter in your function as follows:"
   ]
  },
  {
   "cell_type": "code",
   "execution_count": null,
   "id": "f4684af0",
   "metadata": {},
   "outputs": [],
   "source": [
    "describe_patient(\n",
    "    df=stroke_data,\n",
    "    index=10,\n",
    "    age_col='age',\n",
    "    gender_col='gender',\n",
    "    hypertension_col='hypertension'\n",
    ")"
   ]
  },
  {
   "cell_type": "markdown",
   "id": "bc7bab65",
   "metadata": {},
   "source": [
    "The order then no longer matters since Python assigns the values based on the parameter names.\n",
    "\n",
    "## Arbitrary positional arguments (`*args`)\n",
    "\n",
    "Sometimes, you don’t know in advance how many positional arguments someone will pass.\n",
    "\n",
    "The *args syntax collects all extra positional arguments into a **tuple**.\n",
    "\n",
    "Let's try a different function which shows you patient data based on the index provided:"
   ]
  },
  {
   "cell_type": "code",
   "execution_count": null,
   "id": "e4c2c64b",
   "metadata": {},
   "outputs": [],
   "source": [
    "def show_patient_columns(df, index, *columns):\n",
    "    \"\"\"\n",
    "    Print specified column values for a patient at a given index.\n",
    "    \n",
    "    Parameters:\n",
    "        df (pd.DataFrame): The dataset.\n",
    "        index (int): Patient row index.\n",
    "        *columns (str): One or more column names to display.\n",
    "    \"\"\"\n",
    "    patient = df.iloc[index]\n",
    "    print(f\"Patient #{index} data:\")\n",
    "    for col in columns:\n",
    "        print(f\"{col}: {patient[col]}\")"
   ]
  },
  {
   "cell_type": "markdown",
   "id": "7e1010d8",
   "metadata": {},
   "source": [
    "Since we are using arbitrary positional arguments or *args, you can call the function with any number of columns:"
   ]
  },
  {
   "cell_type": "code",
   "execution_count": null,
   "id": "467c4ba0",
   "metadata": {},
   "outputs": [],
   "source": [
    "show_patient_columns(stroke_data, 10, 'age', 'bmi', 'avg_glucose_level')"
   ]
  },
  {
   "cell_type": "markdown",
   "id": "a5131038",
   "metadata": {},
   "source": [
    "## Arbitrary keywords arguments (`**kwargs`)\n",
    "\n",
    "The `**kwargs` syntax collects any extra keyword arguments into a **dictionary**, allowing flexible labeled data input.\n",
    "Arguments are passed as key=value pairs, and the function accesses them by key name."
   ]
  },
  {
   "cell_type": "code",
   "execution_count": null,
   "id": "a4fa3716",
   "metadata": {},
   "outputs": [],
   "source": [
    "def patient_summary(df, index, **info):\n",
    "    \"\"\"\n",
    "    Print a summary report for a specific patient, including extra labeled information.\n",
    "\n",
    "    Parameters\n",
    "    ----------\n",
    "    df : pandas.DataFrame\n",
    "        The stroke dataset containing patient data.\n",
    "    index : int\n",
    "        The row index of the patient in the DataFrame.\n",
    "    **info : dict\n",
    "        Arbitrary keyword arguments where keys are labels and values are either\n",
    "        column names in `df` or literal information to print.\n",
    "\n",
    "    Returns\n",
    "    -------\n",
    "    None\n",
    "        Prints the summary information without returning any value.\n",
    "    \"\"\"\n",
    "    patient = df.iloc[index]\n",
    "    print(f\"Summary for patient #{index}:\")\n",
    "    for label, col_name in info.items():\n",
    "        if col_name in df.columns:\n",
    "            print(f\"{label.capitalize()}: {patient[col_name]}\")\n",
    "        else:\n",
    "            print(f\"{label.capitalize()}: {col_name}\")  # literal if not a column"
   ]
  },
  {
   "cell_type": "markdown",
   "id": "dd126a2b",
   "metadata": {},
   "source": [
    "We call it like this:"
   ]
  },
  {
   "cell_type": "code",
   "execution_count": null,
   "id": "d0b80363",
   "metadata": {},
   "outputs": [],
   "source": [
    "patient_summary(\n",
    "    stroke_data,\n",
    "    7,\n",
    "    age='age',\n",
    "    gender='gender',\n",
    "    smoker='smoking_status'\n",
    ")"
   ]
  },
  {
   "cell_type": "markdown",
   "id": "4f84e902",
   "metadata": {},
   "source": [
    "Here, info is a dictionary: {'age': 'age', 'gender': 'gender', 'smoker': 'smoking_status'}.\n",
    "\n",
    "## `*args` vs `**kwargs`\n",
    "\n",
    "Both `*args` and `**kwargs` let your functions accept an arbitrary number of arguments beyond those explicitly declared, but they work differently:\n",
    "\n",
    "| Aspect             | `*args`                            | `**kwargs`                     |\n",
    "| ------------------ | ---------------------------------- | ------------------------------ |\n",
    "| Collects           | Extra positional arguments (tuple) | Extra keyword arguments (dict) |\n",
    "| Usage              | When number/order of args vary     | When number/names of args vary |\n",
    "| How to pass        | Without keywords, just values      | Using `key=value` pairs        |\n",
    "| Access in function | By position (iteration over tuple) | By keys (iteration over dict)  |\n",
    "| Example use case   | Columns list to print              | Named patient info or options  |\n",
    "| Flexibility        | Flexible number but no labels      | Flexible number and labels     |\n",
    "\n",
    "\n",
    "TLDR;\n",
    "- Use `*args` if you want to accept many values without caring about their names, like a list of columns.\n",
    "\n",
    "- Use `**kwargs` if you want to accept many options or labeled data, where each argument’s name matters.\n",
    "\n",
    "## Quick Practice\n",
    "`*args` and `**kwargs` not mutually exclusive. You can combine both in a function!\n",
    "\n",
    "Write a function named patient_report that:\n",
    "\n",
    "1) Takes these parameters:\n",
    "\n",
    "    - df: the stroke dataset DataFrame\n",
    "\n",
    "    - index: an integer representing the patient row index\n",
    "\n",
    "    - *columns: any number of column names to display\n",
    "\n",
    "    - **extra_info: any number of keyword arguments with extra info to print\n",
    "\n",
    "2) Prints a report for the patient at the given index:\n",
    "\n",
    "    - For each column in *columns, print the column name and that patient's value.\n",
    "\n",
    "    - For each key-value pair in **extra_info, print the key (capitalized) and the value as is.\n",
    "\n",
    "\n",
    "\n",
    "\n",
    "\n",
    "\n",
    "<div style=\"margin-bottom: 15px;\">\n",
    "  <details>\n",
    "    <summary>\n",
    "      <i class=\"fa fa-lightbulb-o\" aria-hidden=\"true\" style=\"color: yellow; font-size: 20px;\"></i> \n",
    "      Hint 1\n",
    "    </summary>\n",
    "    <p style=\"padding-left: 20px;\">\n",
    "    Use .capitalize() on the keys from extra_info for nicer formatting.\n",
    "    </p>\n",
    "  </details>\n",
    "</div>\n",
    "\n",
    "<div style=\"margin-bottom: 15px;\">\n",
    "  <details>\n",
    "    <summary>\n",
    "      <i class=\"fa fa-lightbulb-o\" aria-hidden=\"true\" style=\"color: yellow; font-size: 20px;\"></i> \n",
    "      Hint 2\n",
    "    </summary>\n",
    "    <p style=\"padding-left: 20px;\">\n",
    "    Loop over columns (the *args) to print each requested column and value.\n",
    "    Loop over extra_info.items() (the **kwargs) to print each key-value pair.\n",
    "    </p>\n",
    "  </details>\n",
    "</div>\n",
    "\n",
    "<div style=\"margin-bottom: 15px;\">\n",
    "  <details>\n",
    "    <summary>\n",
    "      <i class=\"fa fa-lightbulb\" aria-hidden=\"true\" style=\"color: yellow; font-size: 20px;\"></i> \n",
    "      Solution\n",
    "    </summary>\n",
    "    <p style=\"padding-left: 20px;\">\n",
    "    <pre><code class=\"python\">\n",
    "```{code-cell} python\n",
    "def patient_report(df, index, *columns, **extra_info):\n",
    "    \"\"\"\n",
    "    Print a detailed report for a specific patient in the DataFrame.\n",
    "\n",
    "    Parameters\n",
    "    ----------\n",
    "    df : pandas.DataFrame\n",
    "        The stroke dataset containing patient data.\n",
    "    index : int\n",
    "        The row index of the patient in the DataFrame.\n",
    "    *columns : str\n",
    "        Variable length argument list of column names to display values for.\n",
    "    **extra_info : dict\n",
    "        Arbitrary keyword arguments representing additional labeled information to include in the report.\n",
    "    \n",
    "    Returns\n",
    "    -------\n",
    "    None\n",
    "        This function prints the patient report directly and does not return a value.\n",
    "    \"\"\"\n",
    "    patient = df.iloc[index]\n",
    "    print(f\"Patient #{index} report:\")\n",
    "    for col in columns:\n",
    "        print(f\"{col}: {patient[col]}\")\n",
    "    for key, val in extra_info.items():\n",
    "        print(f\"{key.capitalize()}: {val}\")\n",
    "```\n",
    "    </code></pre>\n",
    "  </details>\n",
    "</div>"
   ]
  }
 ],
 "metadata": {
  "jupytext": {
   "default_lexer": "python"
  },
  "kernelspec": {
   "display_name": "Python 3",
   "language": "python",
   "name": "python3"
  },
  "language_info": {
   "codemirror_mode": {
    "name": "ipython",
    "version": 3
   },
   "file_extension": ".py",
   "mimetype": "text/x-python",
   "name": "python",
   "nbconvert_exporter": "python",
   "pygments_lexer": "ipython3",
   "version": "3.13.2"
  }
 },
 "nbformat": 4,
 "nbformat_minor": 5
}