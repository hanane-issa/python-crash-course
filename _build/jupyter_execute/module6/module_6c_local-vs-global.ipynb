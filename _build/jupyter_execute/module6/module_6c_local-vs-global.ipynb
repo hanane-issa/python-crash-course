{
 "cells": [
  {
   "cell_type": "code",
   "execution_count": 1,
   "id": "14328c3d",
   "metadata": {
    "tags": [
     "hide-input",
     "hide-output"
    ]
   },
   "outputs": [
    {
     "ename": "Exception",
     "evalue": "File `'../shared/setup.py'` not found.",
     "output_type": "error",
     "traceback": [
      "\u001b[31m---------------------------------------------------------------------------\u001b[39m",
      "\u001b[31mOSError\u001b[39m                                   Traceback (most recent call last)",
      "\u001b[36mFile \u001b[39m\u001b[32m~\\AppData\\Local\\Programs\\Python\\Python313\\Lib\\site-packages\\IPython\\core\\magics\\execution.py:727\u001b[39m, in \u001b[36mExecutionMagics.run\u001b[39m\u001b[34m(self, parameter_s, runner, file_finder)\u001b[39m\n\u001b[32m    726\u001b[39m     fpath = arg_lst[\u001b[32m0\u001b[39m]\n\u001b[32m--> \u001b[39m\u001b[32m727\u001b[39m     filename = \u001b[43mfile_finder\u001b[49m\u001b[43m(\u001b[49m\u001b[43mfpath\u001b[49m\u001b[43m)\u001b[49m\n\u001b[32m    728\u001b[39m \u001b[38;5;28;01mexcept\u001b[39;00m \u001b[38;5;167;01mIndexError\u001b[39;00m \u001b[38;5;28;01mas\u001b[39;00m e:\n",
      "\u001b[36mFile \u001b[39m\u001b[32m~\\AppData\\Local\\Programs\\Python\\Python313\\Lib\\site-packages\\IPython\\utils\\path.py:90\u001b[39m, in \u001b[36mget_py_filename\u001b[39m\u001b[34m(name)\u001b[39m\n\u001b[32m     89\u001b[39m         \u001b[38;5;28;01mreturn\u001b[39;00m py_name\n\u001b[32m---> \u001b[39m\u001b[32m90\u001b[39m \u001b[38;5;28;01mraise\u001b[39;00m \u001b[38;5;167;01mIOError\u001b[39;00m(\u001b[33m\"\u001b[39m\u001b[33mFile `\u001b[39m\u001b[38;5;132;01m%r\u001b[39;00m\u001b[33m` not found.\u001b[39m\u001b[33m\"\u001b[39m % name)\n",
      "\u001b[31mOSError\u001b[39m: File `'../shared/setup.py'` not found.",
      "\nThe above exception was the direct cause of the following exception:\n",
      "\u001b[31mException\u001b[39m                                 Traceback (most recent call last)",
      "\u001b[36mCell\u001b[39m\u001b[36m \u001b[39m\u001b[32mIn[1]\u001b[39m\u001b[32m, line 1\u001b[39m\n\u001b[32m----> \u001b[39m\u001b[32m1\u001b[39m \u001b[43mget_ipython\u001b[49m\u001b[43m(\u001b[49m\u001b[43m)\u001b[49m\u001b[43m.\u001b[49m\u001b[43mrun_line_magic\u001b[49m\u001b[43m(\u001b[49m\u001b[33;43m'\u001b[39;49m\u001b[33;43mrun\u001b[39;49m\u001b[33;43m'\u001b[39;49m\u001b[43m,\u001b[49m\u001b[43m \u001b[49m\u001b[33;43m'\u001b[39;49m\u001b[33;43m../shared/setup.py\u001b[39;49m\u001b[33;43m'\u001b[39;49m\u001b[43m)\u001b[49m\n",
      "\u001b[36mFile \u001b[39m\u001b[32m~\\AppData\\Local\\Programs\\Python\\Python313\\Lib\\site-packages\\IPython\\core\\interactiveshell.py:2478\u001b[39m, in \u001b[36mInteractiveShell.run_line_magic\u001b[39m\u001b[34m(self, magic_name, line, _stack_depth)\u001b[39m\n\u001b[32m   2476\u001b[39m     kwargs[\u001b[33m'\u001b[39m\u001b[33mlocal_ns\u001b[39m\u001b[33m'\u001b[39m] = \u001b[38;5;28mself\u001b[39m.get_local_scope(stack_depth)\n\u001b[32m   2477\u001b[39m \u001b[38;5;28;01mwith\u001b[39;00m \u001b[38;5;28mself\u001b[39m.builtin_trap:\n\u001b[32m-> \u001b[39m\u001b[32m2478\u001b[39m     result = \u001b[43mfn\u001b[49m\u001b[43m(\u001b[49m\u001b[43m*\u001b[49m\u001b[43margs\u001b[49m\u001b[43m,\u001b[49m\u001b[43m \u001b[49m\u001b[43m*\u001b[49m\u001b[43m*\u001b[49m\u001b[43mkwargs\u001b[49m\u001b[43m)\u001b[49m\n\u001b[32m   2480\u001b[39m \u001b[38;5;66;03m# The code below prevents the output from being displayed\u001b[39;00m\n\u001b[32m   2481\u001b[39m \u001b[38;5;66;03m# when using magics with decorator @output_can_be_silenced\u001b[39;00m\n\u001b[32m   2482\u001b[39m \u001b[38;5;66;03m# when the last Python token in the expression is a ';'.\u001b[39;00m\n\u001b[32m   2483\u001b[39m \u001b[38;5;28;01mif\u001b[39;00m \u001b[38;5;28mgetattr\u001b[39m(fn, magic.MAGIC_OUTPUT_CAN_BE_SILENCED, \u001b[38;5;28;01mFalse\u001b[39;00m):\n",
      "\u001b[36mFile \u001b[39m\u001b[32m~\\AppData\\Local\\Programs\\Python\\Python313\\Lib\\site-packages\\IPython\\core\\magics\\execution.py:738\u001b[39m, in \u001b[36mExecutionMagics.run\u001b[39m\u001b[34m(self, parameter_s, runner, file_finder)\u001b[39m\n\u001b[32m    736\u001b[39m     \u001b[38;5;28;01mif\u001b[39;00m os.name == \u001b[33m'\u001b[39m\u001b[33mnt\u001b[39m\u001b[33m'\u001b[39m \u001b[38;5;129;01mand\u001b[39;00m re.match(\u001b[33mr\u001b[39m\u001b[33m\"\u001b[39m\u001b[33m^\u001b[39m\u001b[33m'\u001b[39m\u001b[33m.*\u001b[39m\u001b[33m'\u001b[39m\u001b[33m$\u001b[39m\u001b[33m\"\u001b[39m,fpath):\n\u001b[32m    737\u001b[39m         warn(\u001b[33m'\u001b[39m\u001b[33mFor Windows, use double quotes to wrap a filename: \u001b[39m\u001b[38;5;132;01m%r\u001b[39;00m\u001b[33mun \u001b[39m\u001b[33m\"\u001b[39m\u001b[33mmypath\u001b[39m\u001b[38;5;130;01m\\\\\u001b[39;00m\u001b[33mmyfile.py\u001b[39m\u001b[33m\"\u001b[39m\u001b[33m'\u001b[39m)\n\u001b[32m--> \u001b[39m\u001b[32m738\u001b[39m     \u001b[38;5;28;01mraise\u001b[39;00m \u001b[38;5;167;01mException\u001b[39;00m(msg) \u001b[38;5;28;01mfrom\u001b[39;00m\u001b[38;5;250m \u001b[39m\u001b[34;01me\u001b[39;00m\n\u001b[32m    739\u001b[39m \u001b[38;5;28;01mexcept\u001b[39;00m \u001b[38;5;167;01mTypeError\u001b[39;00m:\n\u001b[32m    740\u001b[39m     \u001b[38;5;28;01mif\u001b[39;00m fpath \u001b[38;5;129;01min\u001b[39;00m sys.meta_path:\n",
      "\u001b[31mException\u001b[39m: File `'../shared/setup.py'` not found."
     ]
    }
   ],
   "source": [
    "%run ../shared/setup.py  "
   ]
  },
  {
   "cell_type": "markdown",
   "id": "ae23ae3f",
   "metadata": {},
   "source": [
    "# Module 6c: Local vs Global Variables\n",
    "\n",
    "\n",
    "<div class=\"alert alert-block alert-success\">\n",
    "<b>Section Objectives:</b><br> \n",
    "- Differentiate between local and global variables.\n",
    "</div>\n",
    "\n",
    "When working with functions, it’s important to understand where your variables \"live\" — in other words, their scope.\n",
    "\n",
    "A local variable exists only inside the function where it was defined.\n",
    "\n",
    "A global variable exists outside all functions and can be used throughout your code.\n",
    "\n",
    "Understanding the difference will help you avoid unexpected behavior when naming variables or modifying data.\n",
    "\n",
    "## Local Variables\n",
    "\n",
    "Local variables are created and used inside a function. They disappear once the function finishes running."
   ]
  },
  {
   "cell_type": "code",
   "execution_count": null,
   "id": "bae049c5",
   "metadata": {},
   "outputs": [],
   "source": [
    "def count_stroke_cases(df):\n",
    "    stroke_count = df['stroke'].sum()  \n",
    "    print(\"Number of stroke cases:\", stroke_count)"
   ]
  },
  {
   "cell_type": "markdown",
   "id": "a40907ac",
   "metadata": {},
   "source": [
    "The `stroke_count` variable is created locally inside the function. If you try to use it outside the function, Python will raise an error:"
   ]
  },
  {
   "cell_type": "code",
   "execution_count": null,
   "id": "83817679",
   "metadata": {},
   "outputs": [],
   "source": [
    "count_stroke_cases(stroke_data)\n",
    "print(stroke_count)  # ❌ NameError: name 'stroke_count' is not defined"
   ]
  },
  {
   "cell_type": "markdown",
   "id": "3518cf7c",
   "metadata": {},
   "source": [
    "## Global Variables\n",
    "\n",
    "A global variable is defined outside any function and can be accessed inside functions (but not modified unless explicitly declared as global) {cite}`global_var`."
   ]
  },
  {
   "cell_type": "code",
   "execution_count": null,
   "id": "d6c8cdf4",
   "metadata": {},
   "outputs": [],
   "source": [
    "stroke_column = 'stroke'\n",
    "def count_stroke_cases(df):\n",
    "    print(\"Stroke count:\", df[stroke_column].sum())"
   ]
  },
  {
   "cell_type": "markdown",
   "id": "996385d7",
   "metadata": {},
   "source": [
    "This works because stroke_column is defined in the global scope, and we’re only reading it.\n",
    "\n",
    "## ⚠️ Modifying Global Variables Inside Functions\n",
    "\n",
    "If you try to change a global variable inside a function, Python treats it as a new local variable unless you tell it otherwise with the global keyword.\n",
    "\n",
    "\n",
    "count = 0  # global variable"
   ]
  },
  {
   "cell_type": "code",
   "execution_count": null,
   "id": "b682527e",
   "metadata": {},
   "outputs": [],
   "source": [
    "def update_count():\n",
    "    count = count + 1  # ❌ UnboundLocalError"
   ]
  },
  {
   "cell_type": "markdown",
   "id": "1af31c1f",
   "metadata": {},
   "source": [
    "To modify a global variable safely, you must declare it:\n",
    "\n",
    "\n",
    "count = 0"
   ]
  },
  {
   "cell_type": "code",
   "execution_count": null,
   "id": "dd35b96e",
   "metadata": {},
   "outputs": [],
   "source": [
    "def update_count():\n",
    "    global count\n",
    "    count += 1"
   ]
  },
  {
   "cell_type": "markdown",
   "id": "37f6e744",
   "metadata": {},
   "source": [
    "But in most cases, it’s better to **avoid** modifying global variables inside functions. Instead, return a value from the function and update the variable outside:\n",
    "\n",
    "\n",
    "count = 0"
   ]
  },
  {
   "cell_type": "code",
   "execution_count": null,
   "id": "6f78850c",
   "metadata": {},
   "outputs": [],
   "source": [
    "def count_high_glucose(df, threshold):\n",
    "    return (df['avg_glucose_level'] > threshold).sum()\n",
    "\n",
    "count = count_high_glucose(stroke_data, 125)"
   ]
  },
  {
   "cell_type": "markdown",
   "id": "7e20001b",
   "metadata": {},
   "source": [
    "```{note}\n",
    "Use local variables as much as possible. They keep your functions self-contained, predictable, and easier to debug.\n",
    "```\n",
    "\n",
    "## Quick Practice\n",
    "\n",
    "What will happen in this code?"
   ]
  },
  {
   "cell_type": "code",
   "execution_count": null,
   "id": "c08fe3dc",
   "metadata": {},
   "outputs": [],
   "source": [
    "threshold = 130  # global\n",
    "\n",
    "def check_threshold(df):\n",
    "    threshold = 110  # local\n",
    "    print(\"Local threshold:\", threshold)\n",
    "    print(\"Patients above threshold:\", (df['avg_glucose_level'] > threshold).sum())\n",
    "\n",
    "check_threshold(stroke_data)\n",
    "print(\"Global threshold is still:\", threshold)"
   ]
  },
  {
   "cell_type": "markdown",
   "id": "efc8b4ba",
   "metadata": {},
   "source": [
    "<div style=\"margin-bottom: 15px;\">\n",
    "  <details>\n",
    "    <summary>\n",
    "      <i class=\"fa fa-lightbulb\" aria-hidden=\"true\" style=\"color: yellow; font-size: 20px;\"></i> \n",
    "      Solution\n",
    "    </summary>\n",
    "    <p style=\"padding-left: 20px;\">\n",
    "    <pre><code class=\"python\">\n",
    "The global `threshold` remains 130. Inside the function, `threshold` is a new local variable set to 110 and doesn’t affect the global one.\n",
    "  </details>\n",
    "</div>"
   ]
  }
 ],
 "metadata": {
  "jupytext": {
   "default_lexer": "python"
  },
  "kernelspec": {
   "display_name": "Python 3",
   "language": "python",
   "name": "python3"
  },
  "language_info": {
   "codemirror_mode": {
    "name": "ipython",
    "version": 3
   },
   "file_extension": ".py",
   "mimetype": "text/x-python",
   "name": "python",
   "nbconvert_exporter": "python",
   "pygments_lexer": "ipython3",
   "version": "3.13.2"
  }
 },
 "nbformat": 4,
 "nbformat_minor": 5
}