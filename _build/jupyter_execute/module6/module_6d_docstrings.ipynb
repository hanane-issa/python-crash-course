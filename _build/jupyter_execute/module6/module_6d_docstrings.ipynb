{
 "cells": [
  {
   "cell_type": "code",
   "execution_count": 1,
   "id": "66fb30c2",
   "metadata": {
    "tags": [
     "hide-input",
     "hide-output"
    ]
   },
   "outputs": [
    {
     "ename": "Exception",
     "evalue": "File `'../shared/setup.py'` not found.",
     "output_type": "error",
     "traceback": [
      "\u001b[31m---------------------------------------------------------------------------\u001b[39m",
      "\u001b[31mOSError\u001b[39m                                   Traceback (most recent call last)",
      "\u001b[36mFile \u001b[39m\u001b[32m~\\AppData\\Local\\Programs\\Python\\Python313\\Lib\\site-packages\\IPython\\core\\magics\\execution.py:727\u001b[39m, in \u001b[36mExecutionMagics.run\u001b[39m\u001b[34m(self, parameter_s, runner, file_finder)\u001b[39m\n\u001b[32m    726\u001b[39m     fpath = arg_lst[\u001b[32m0\u001b[39m]\n\u001b[32m--> \u001b[39m\u001b[32m727\u001b[39m     filename = \u001b[43mfile_finder\u001b[49m\u001b[43m(\u001b[49m\u001b[43mfpath\u001b[49m\u001b[43m)\u001b[49m\n\u001b[32m    728\u001b[39m \u001b[38;5;28;01mexcept\u001b[39;00m \u001b[38;5;167;01mIndexError\u001b[39;00m \u001b[38;5;28;01mas\u001b[39;00m e:\n",
      "\u001b[36mFile \u001b[39m\u001b[32m~\\AppData\\Local\\Programs\\Python\\Python313\\Lib\\site-packages\\IPython\\utils\\path.py:90\u001b[39m, in \u001b[36mget_py_filename\u001b[39m\u001b[34m(name)\u001b[39m\n\u001b[32m     89\u001b[39m         \u001b[38;5;28;01mreturn\u001b[39;00m py_name\n\u001b[32m---> \u001b[39m\u001b[32m90\u001b[39m \u001b[38;5;28;01mraise\u001b[39;00m \u001b[38;5;167;01mIOError\u001b[39;00m(\u001b[33m\"\u001b[39m\u001b[33mFile `\u001b[39m\u001b[38;5;132;01m%r\u001b[39;00m\u001b[33m` not found.\u001b[39m\u001b[33m\"\u001b[39m % name)\n",
      "\u001b[31mOSError\u001b[39m: File `'../shared/setup.py'` not found.",
      "\nThe above exception was the direct cause of the following exception:\n",
      "\u001b[31mException\u001b[39m                                 Traceback (most recent call last)",
      "\u001b[36mCell\u001b[39m\u001b[36m \u001b[39m\u001b[32mIn[1]\u001b[39m\u001b[32m, line 1\u001b[39m\n\u001b[32m----> \u001b[39m\u001b[32m1\u001b[39m \u001b[43mget_ipython\u001b[49m\u001b[43m(\u001b[49m\u001b[43m)\u001b[49m\u001b[43m.\u001b[49m\u001b[43mrun_line_magic\u001b[49m\u001b[43m(\u001b[49m\u001b[33;43m'\u001b[39;49m\u001b[33;43mrun\u001b[39;49m\u001b[33;43m'\u001b[39;49m\u001b[43m,\u001b[49m\u001b[43m \u001b[49m\u001b[33;43m'\u001b[39;49m\u001b[33;43m../shared/setup.py\u001b[39;49m\u001b[33;43m'\u001b[39;49m\u001b[43m)\u001b[49m\n",
      "\u001b[36mFile \u001b[39m\u001b[32m~\\AppData\\Local\\Programs\\Python\\Python313\\Lib\\site-packages\\IPython\\core\\interactiveshell.py:2478\u001b[39m, in \u001b[36mInteractiveShell.run_line_magic\u001b[39m\u001b[34m(self, magic_name, line, _stack_depth)\u001b[39m\n\u001b[32m   2476\u001b[39m     kwargs[\u001b[33m'\u001b[39m\u001b[33mlocal_ns\u001b[39m\u001b[33m'\u001b[39m] = \u001b[38;5;28mself\u001b[39m.get_local_scope(stack_depth)\n\u001b[32m   2477\u001b[39m \u001b[38;5;28;01mwith\u001b[39;00m \u001b[38;5;28mself\u001b[39m.builtin_trap:\n\u001b[32m-> \u001b[39m\u001b[32m2478\u001b[39m     result = \u001b[43mfn\u001b[49m\u001b[43m(\u001b[49m\u001b[43m*\u001b[49m\u001b[43margs\u001b[49m\u001b[43m,\u001b[49m\u001b[43m \u001b[49m\u001b[43m*\u001b[49m\u001b[43m*\u001b[49m\u001b[43mkwargs\u001b[49m\u001b[43m)\u001b[49m\n\u001b[32m   2480\u001b[39m \u001b[38;5;66;03m# The code below prevents the output from being displayed\u001b[39;00m\n\u001b[32m   2481\u001b[39m \u001b[38;5;66;03m# when using magics with decorator @output_can_be_silenced\u001b[39;00m\n\u001b[32m   2482\u001b[39m \u001b[38;5;66;03m# when the last Python token in the expression is a ';'.\u001b[39;00m\n\u001b[32m   2483\u001b[39m \u001b[38;5;28;01mif\u001b[39;00m \u001b[38;5;28mgetattr\u001b[39m(fn, magic.MAGIC_OUTPUT_CAN_BE_SILENCED, \u001b[38;5;28;01mFalse\u001b[39;00m):\n",
      "\u001b[36mFile \u001b[39m\u001b[32m~\\AppData\\Local\\Programs\\Python\\Python313\\Lib\\site-packages\\IPython\\core\\magics\\execution.py:738\u001b[39m, in \u001b[36mExecutionMagics.run\u001b[39m\u001b[34m(self, parameter_s, runner, file_finder)\u001b[39m\n\u001b[32m    736\u001b[39m     \u001b[38;5;28;01mif\u001b[39;00m os.name == \u001b[33m'\u001b[39m\u001b[33mnt\u001b[39m\u001b[33m'\u001b[39m \u001b[38;5;129;01mand\u001b[39;00m re.match(\u001b[33mr\u001b[39m\u001b[33m\"\u001b[39m\u001b[33m^\u001b[39m\u001b[33m'\u001b[39m\u001b[33m.*\u001b[39m\u001b[33m'\u001b[39m\u001b[33m$\u001b[39m\u001b[33m\"\u001b[39m,fpath):\n\u001b[32m    737\u001b[39m         warn(\u001b[33m'\u001b[39m\u001b[33mFor Windows, use double quotes to wrap a filename: \u001b[39m\u001b[38;5;132;01m%r\u001b[39;00m\u001b[33mun \u001b[39m\u001b[33m\"\u001b[39m\u001b[33mmypath\u001b[39m\u001b[38;5;130;01m\\\\\u001b[39;00m\u001b[33mmyfile.py\u001b[39m\u001b[33m\"\u001b[39m\u001b[33m'\u001b[39m)\n\u001b[32m--> \u001b[39m\u001b[32m738\u001b[39m     \u001b[38;5;28;01mraise\u001b[39;00m \u001b[38;5;167;01mException\u001b[39;00m(msg) \u001b[38;5;28;01mfrom\u001b[39;00m\u001b[38;5;250m \u001b[39m\u001b[34;01me\u001b[39;00m\n\u001b[32m    739\u001b[39m \u001b[38;5;28;01mexcept\u001b[39;00m \u001b[38;5;167;01mTypeError\u001b[39;00m:\n\u001b[32m    740\u001b[39m     \u001b[38;5;28;01mif\u001b[39;00m fpath \u001b[38;5;129;01min\u001b[39;00m sys.meta_path:\n",
      "\u001b[31mException\u001b[39m: File `'../shared/setup.py'` not found."
     ]
    }
   ],
   "source": [
    "%run ../shared/setup.py  "
   ]
  },
  {
   "cell_type": "markdown",
   "id": "af50da5e",
   "metadata": {},
   "source": [
    "# Module 6d: Docstrings\n",
    "\n",
    "<div class=\"alert alert-block alert-success\">\n",
    "<b>Section Objectives:</b><br> \n",
    "- Write and utilize docstrings to document functions.\n",
    "</div>\n",
    "\n",
    "\n",
    "\n",
    "## Docstrings\n",
    "\n",
    "Let's go back to the `count_stroke_patients()` function from the first section of this module. Notice how we had a multi-line string in triple quotes, also called documentation string or **docstring** for short. The docstring links explanatory documentation to Python objects such as functions, modules, and classes. It explains the purpose of the function, as well as the parameters required,and the output/return we get. \n",
    "It is incredibly useful for others (as well as future you!) to develop this good practice. \n",
    "\n",
    "You can access an object's documentation through the `__doc__` method or `help()` function."
   ]
  },
  {
   "cell_type": "code",
   "execution_count": null,
   "id": "4a788051",
   "metadata": {},
   "outputs": [],
   "source": [
    "def count_stroke_patients(df):\n",
    "    \"\"\"\n",
    "    Return the number of patients in the dataset who had a stroke.\n",
    "\n",
    "    Parameters\n",
    "    ----------\n",
    "    df : pandas.DataFrame\n",
    "        The dataset containing patient information. Must include a 'stroke' column\n",
    "        with binary values (e.g., 0 = no stroke, 1 = stroke).\n",
    "\n",
    "    Returns\n",
    "    -------\n",
    "    int\n",
    "        The number of patients who had a stroke.\n",
    "    \"\"\"\n",
    "    stroke_count = df['stroke'].sum()\n",
    "    return stroke_count"
   ]
  },
  {
   "cell_type": "code",
   "execution_count": null,
   "id": "0763ebfd",
   "metadata": {},
   "outputs": [],
   "source": [
    "print(\"Using __doc__:\")\n",
    "print(count_stroke_patients.__doc__)\n",
    "\n",
    "print(\"Using help:\")\n",
    "help(count_stroke_patients)"
   ]
  },
  {
   "cell_type": "markdown",
   "id": "add0bce3",
   "metadata": {},
   "source": [
    "For the sake of standardization, there a few conventions to follow when writing a docstring, mainly based on {cite}`pep_257`  and common community practices (see: {cite}`python_docstrings`):\n"
   ]
  },
  {
   "cell_type": "markdown",
   "id": "891cdd02",
   "metadata": {},
   "source": [
    "1) Basic Syntax Rules\n",
    "- Use \"\"\"triple double quotes\"\"\" even for one-liners.\n",
    "\n",
    "- Place the docstring immediately after the def or class line.\n",
    "\n",
    "- For raw strings (e.g., with backslashes), use r\"\"\"insert raw docstring here\"\"\".\n",
    "- Stick to one format, for example the Numpydoc Style used in the `count_stroke_patients()` function.\n"
   ]
  },
  {
   "cell_type": "markdown",
   "id": "7bf478f2",
   "metadata": {},
   "source": [
    "2) One-line Docstrings\n",
    "- Used for simple functions or when a brief summary suffices.\n",
    "\n",
    "- Format:\n",
    "\n",
    "    - Triple quotes on a single line.\n",
    "\n",
    "    - No blank line after.\n",
    "\n",
    "    - Imperative mood: \"Return...\" not \"Returns...\"\n",
    "\n",
    "    - End with a period.\n",
    "\n",
    "    Example:\n",
    "    ```{code-cell} python\n",
    "    :tags: [remove-output]\n",
    "    def func_example1(df):\n",
    "    \"\"\"Return the number of patients with stroke.\"\"\"\n",
    "    ```\n"
   ]
  },
  {
   "cell_type": "markdown",
   "id": "a2b4663f",
   "metadata": {},
   "source": [
    "3) Multi-line Docstrings\n",
    "\n",
    "- Format:\n",
    "\n",
    "    - First line: summary, fits on one line.\n",
    "\n",
    "    - Blank line after summary.\n",
    "\n",
    "    - Optional: detailed description (behavior, arguments, exceptions, return).\n",
    "\n",
    "    - Closing \"\"\" on its own line if the docstring spans multiple lines.\n",
    "\n",
    "    Example: see example function in building blocks section."
   ]
  },
  {
   "cell_type": "markdown",
   "id": "7e6dd759",
   "metadata": {},
   "source": [
    "References:\n",
    "```{bibliography}"
   ]
  }
 ],
 "metadata": {
  "jupytext": {
   "default_lexer": "python"
  },
  "kernelspec": {
   "display_name": "Python 3",
   "language": "python",
   "name": "python3"
  },
  "language_info": {
   "codemirror_mode": {
    "name": "ipython",
    "version": 3
   },
   "file_extension": ".py",
   "mimetype": "text/x-python",
   "name": "python",
   "nbconvert_exporter": "python",
   "pygments_lexer": "ipython3",
   "version": "3.13.2"
  }
 },
 "nbformat": 4,
 "nbformat_minor": 5
}