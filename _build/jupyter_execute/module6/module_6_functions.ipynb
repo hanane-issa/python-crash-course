{
 "cells": [
  {
   "cell_type": "markdown",
   "id": "1915dca1",
   "metadata": {},
   "source": [
    "# Module 6: Introduction to Functions\n",
    "\n",
    "<div class=\"alert alert-block alert-success\">\n",
    "<b>Module 1 Objectives:</b><br> \n",
    "By the end of this module, you will be able to:<br><br>\n",
    "\n",
    "- Understand how to define a function in a programming language.<br> \n",
    "- Learn how to call a function to execute its code.<br>\n",
    "- Understand the concept of return values from functions versus functions that only print output without returning values.<br>\n",
    "- Differentiate between local and global variables.<br>\n",
    "- Write and utilize docstrings to document functions.<br> \n",
    "- Differentiate between arguments and parameters in functions.<br>\n",
    "- Recognize how the number of arguments affects function calls and definitions.<br> \n",
    "- Implement default parameter values in function definitions.<br> \n",
    "</div>\n",
    "\n",
    "In the previous sections, we've talked about several built-in functions like `print()` and `input()`, as well as functions from installed packages like numpy's `array()` and pandas' `read_csv()`.\n",
    "\n",
    "Now we'll talk about how you can write your own functions."
   ]
  }
 ],
 "metadata": {
  "jupytext": {
   "formats": "md:myst",
   "text_representation": {
    "extension": ".md",
    "format_name": "myst",
    "format_version": 0.13,
    "jupytext_version": "1.11.5"
   }
  },
  "kernelspec": {
   "display_name": "Python 3",
   "language": "python",
   "name": "python3"
  },
  "language_info": {
   "codemirror_mode": {
    "name": "ipython",
    "version": 3
   },
   "file_extension": ".py",
   "mimetype": "text/x-python",
   "name": "python",
   "nbconvert_exporter": "python",
   "pygments_lexer": "ipython3",
   "version": "3.13.2"
  },
  "source_map": [
   13
  ]
 },
 "nbformat": 4,
 "nbformat_minor": 5
}