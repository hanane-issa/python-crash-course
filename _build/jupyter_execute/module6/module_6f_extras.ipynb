{
 "cells": [
  {
   "cell_type": "code",
   "execution_count": 1,
   "id": "0739b50c",
   "metadata": {
    "tags": [
     "hide-input",
     "hide-output",
     "thebe-init"
    ]
   },
   "outputs": [],
   "source": [
    "# Setup code; make sure to run this if using Binder or Colab\n",
    "import sys\n",
    "import os\n",
    "sys.path.insert(0, os.path.abspath(os.path.join(os.getcwd(), '..', 'shared')))\n",
    "import setup_code\n",
    "stroke_data = setup_code.stroke_data"
   ]
  },
  {
   "cell_type": "markdown",
   "id": "bfec991a",
   "metadata": {},
   "source": [
    "# Module 6f: Extra (OPTIONAL)\n",
    "\n",
    "\n",
    "<div class=\"alert alert-block alert-success\">\n",
    "<b>Section Objectives:</b><br> \n",
    "- Learn some useful functions we use often.\n",
    "</div>\n",
    "\n",
    "These are some bonus concepts that aren't essential for day-to-day data analysis but are useful to know — and can come up in more advanced tasks and code reading.\n",
    "\n"
   ]
  },
  {
   "cell_type": "markdown",
   "id": "9827c091",
   "metadata": {},
   "source": [
    "## Recursion"
   ]
  },
  {
   "cell_type": "markdown",
   "id": "4f0b7a3e",
   "metadata": {},
   "source": [
    "A recursive function is a function that calls itself to solve a problem by breaking it down into smaller parts. In contrast, an iteration (like a `for` loop) repeats a task step by step — for example, looping through rows or columns in a DataFrame.\n",
    "\n",
    "Most of the time, iteration is preferred because it’s more efficient and easier to understand for straightforward tasks. Recursion isn't commonly used in day-to-day DataFrame operations, but it's a powerful concept that helps you understand how certain algorithms (e.g. decision trees) work.\n",
    "\n",
    "Let’s say we want to calculate a factorial:"
   ]
  },
  {
   "cell_type": "code",
   "execution_count": 2,
   "id": "de0849a3",
   "metadata": {},
   "outputs": [],
   "source": [
    "def factorial(n):\n",
    "    if n == 0 or n == 1:\n",
    "        return 1\n",
    "    return n * factorial(n - 1)"
   ]
  },
  {
   "cell_type": "markdown",
   "id": "9dd6e59a",
   "metadata": {},
   "source": [
    "`factorial(3)` returns `3 * factorial(2)`, which becomes `3 * 2 * factorial(1)`, and so on…\n"
   ]
  },
  {
   "cell_type": "markdown",
   "id": "07bc5786",
   "metadata": {},
   "source": [
    "\n",
    "```{note}\n",
    "Be careful! Recursive functions must always have a base case (a stopping condition), or they’ll go on forever.\n",
    "```"
   ]
  },
  {
   "cell_type": "markdown",
   "id": "589d7d55",
   "metadata": {},
   "source": [
    "Using our stroke dataset for the next example, let's see how recursion can be useful:\n",
    "\n",
    "Without going into the details of what a decision tree is, imagine you want to sort patients into groups based on a question like, “Is the patient older than 60?”\n",
    "\n",
    "You ask this question and split the patients into two groups:\n",
    "\n",
    "Group A: Patients older than 60\n",
    "\n",
    "Group B: Patients 60 or younger\n",
    "\n",
    "For each group, you then ask another question to split it further, for example, “Does the patient have hypertension?”\n",
    "\n",
    "\n",
    "\n",
    "You keep splitting groups like this — recursively breaking down the problem — until the groups are small enough or you’ve asked enough questions."
   ]
  },
  {
   "cell_type": "markdown",
   "id": "5dfffcfc",
   "metadata": {},
   "source": [
    "## Anonymous (Lambda) Functions"
   ]
  },
  {
   "cell_type": "markdown",
   "id": "949b910a",
   "metadata": {},
   "source": [
    "A lambda function is a quick way to define a quick and simple function in one line, without using `def`. It's very useful with `.apply()` in pandas. It's an anonymous function because you create the function on the spot, without naming it."
   ]
  },
  {
   "cell_type": "markdown",
   "id": "36069cb3",
   "metadata": {},
   "source": [
    "The general syntax of a lambda function is as follows: `lambda arguments: expression`, where lambda is the keyword to define an anonymous function, arguments are the function inputs, and expression is the single expression whose result is returned automatically."
   ]
  },
  {
   "cell_type": "markdown",
   "id": "ff42764d",
   "metadata": {},
   "source": [
    "Let’s label patients with a bmi_status column, based on their BMI:"
   ]
  },
  {
   "cell_type": "code",
   "execution_count": 3,
   "id": "0d764b10",
   "metadata": {},
   "outputs": [],
   "source": [
    "stroke_data['bmi_status'] = stroke_data['bmi'].apply(lambda x: 'high' if x > 30 else 'normal')"
   ]
  },
  {
   "cell_type": "markdown",
   "id": "79fc11c4",
   "metadata": {},
   "source": [
    "This adds a new column with the label 'high' if BMI is over 30, 'normal' if less or equal to 30.\n",
    "The code above is the same as writing the following:"
   ]
  },
  {
   "cell_type": "code",
   "execution_count": 4,
   "id": "aa1e6774",
   "metadata": {},
   "outputs": [],
   "source": [
    "def bmi_label(x):\n",
    "    return 'high' if x > 30 else 'normal'\n",
    "\n",
    "stroke_data['bmi_status'] = stroke_data['bmi'].apply(bmi_label)"
   ]
  },
  {
   "cell_type": "markdown",
   "id": "e4122442",
   "metadata": {},
   "source": [
    "```{note}\n",
    "When to use lambda instead of a regular function?\n",
    "\n",
    "- When your function is short and simple, like a quick calculation or condition.\n",
    "\n",
    "- When you want to pass a function as an argument (e.g., inside `.apply()`, `.map()`, or `sorted()`).\n",
    "\n",
    "- When you don’t need to reuse the function elsewhere.\n",
    "```"
   ]
  },
  {
   "cell_type": "markdown",
   "id": "a2f089a4",
   "metadata": {},
   "source": [
    "## Useful Built-in Functions: `map`, `filter`, and `zip`"
   ]
  },
  {
   "cell_type": "markdown",
   "id": "c5dfd4a7",
   "metadata": {},
   "source": [
    "These are functions you can use with lists or Series to quickly transform or filter data."
   ]
  },
  {
   "cell_type": "markdown",
   "id": "e9ec0517",
   "metadata": {},
   "source": [
    "### `map(function, iterable)`"
   ]
  },
  {
   "cell_type": "markdown",
   "id": "37598efb",
   "metadata": {},
   "source": [
    "Useful to apply a function to every item in a list or Series."
   ]
  },
  {
   "cell_type": "code",
   "execution_count": 5,
   "id": "ef8e13c6",
   "metadata": {},
   "outputs": [],
   "source": [
    "#Example: Let’s convert categorical gender labels into numeric codes.\n",
    "stroke_data['gender_code'] = stroke_data['gender'].map({'Male': 1, 'Female': 0, 'Other': 2})"
   ]
  },
  {
   "cell_type": "markdown",
   "id": "2a264933",
   "metadata": {},
   "source": [
    "From the examples so far, you might have noticed that `.map` and `.apply` work similarly.\n",
    "\n",
    "The main difference is that:\n",
    "-  `.map()` is designed for element-wise value mapping on a single pandas Series, often using dictionaries for fast replacements.\n",
    "- `.apply()` is more flexible, working on both pandas Series and DataFrames to apply functions that can operate on elements, rows, or columns, including aggregations.\n",
    "\n",
    "You can read more about the differences from this [stackoverflow Q&A](https://stackoverflow.com/questions/19798153/difference-between-map-applymap-and-apply-methods-in-pandas)."
   ]
  },
  {
   "cell_type": "markdown",
   "id": "f96f0f88",
   "metadata": {},
   "source": [
    "### `filter(function, iterable)`\n"
   ]
  },
  {
   "cell_type": "code",
   "execution_count": 6,
   "id": "983b3bd2",
   "metadata": {
    "vscode": {
     "languageId": "plaintext"
    }
   },
   "outputs": [
    {
     "ename": "SyntaxError",
     "evalue": "invalid syntax (1883615981.py, line 1)",
     "output_type": "error",
     "traceback": [
      "  \u001b[36mCell\u001b[39m\u001b[36m \u001b[39m\u001b[32mIn[6]\u001b[39m\u001b[32m, line 1\u001b[39m\n\u001b[31m    \u001b[39m\u001b[31mFilters a list by a condition that returns True.\u001b[39m\n            ^\n\u001b[31mSyntaxError\u001b[39m\u001b[31m:\u001b[39m invalid syntax\n"
     ]
    }
   ],
   "source": [
    "Filters a list by a condition that returns True."
   ]
  },
  {
   "cell_type": "code",
   "execution_count": null,
   "id": "691213e1",
   "metadata": {},
   "outputs": [],
   "source": [
    "#Example: Get a list of patient ages 80 or older\n",
    "ages = stroke_data['age'].tolist()\n",
    "senior_patients = list(filter(lambda x: x >= 80, ages))"
   ]
  },
  {
   "cell_type": "markdown",
   "id": "7bc8bb5b",
   "metadata": {},
   "source": [
    "### `zip(function, iterable)`\n"
   ]
  },
  {
   "cell_type": "markdown",
   "id": "e4de0bf2",
   "metadata": {},
   "source": [
    "Combines two lists into pairs."
   ]
  },
  {
   "cell_type": "code",
   "execution_count": null,
   "id": "0d961e6a",
   "metadata": {},
   "outputs": [],
   "source": [
    "#Example: Pair each patient’s ID and age into tuples\n",
    "patient_ids = stroke_data['id'].head(3)\n",
    "ages = stroke_data['age'].head(3)\n",
    "\n",
    "list(zip(patient_ids, ages))"
   ]
  }
 ],
 "metadata": {
  "jupytext": {
   "default_lexer": "python"
  },
  "kernelspec": {
   "display_name": "Python 3",
   "language": "python",
   "name": "python3"
  },
  "language_info": {
   "codemirror_mode": {
    "name": "ipython",
    "version": 3
   },
   "file_extension": ".py",
   "mimetype": "text/x-python",
   "name": "python",
   "nbconvert_exporter": "python",
   "pygments_lexer": "ipython3",
   "version": "3.13.2"
  }
 },
 "nbformat": 4,
 "nbformat_minor": 5
}