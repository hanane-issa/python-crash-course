{
 "cells": [
  {
   "cell_type": "code",
   "execution_count": 1,
   "id": "0739b50c",
   "metadata": {
    "tags": [
     "hide-input",
     "hide-output"
    ]
   },
   "outputs": [
    {
     "ename": "Exception",
     "evalue": "File `'../shared/setup.py'` not found.",
     "output_type": "error",
     "traceback": [
      "\u001b[31m---------------------------------------------------------------------------\u001b[39m",
      "\u001b[31mOSError\u001b[39m                                   Traceback (most recent call last)",
      "\u001b[36mFile \u001b[39m\u001b[32m~\\AppData\\Local\\Programs\\Python\\Python313\\Lib\\site-packages\\IPython\\core\\magics\\execution.py:727\u001b[39m, in \u001b[36mExecutionMagics.run\u001b[39m\u001b[34m(self, parameter_s, runner, file_finder)\u001b[39m\n\u001b[32m    726\u001b[39m     fpath = arg_lst[\u001b[32m0\u001b[39m]\n\u001b[32m--> \u001b[39m\u001b[32m727\u001b[39m     filename = \u001b[43mfile_finder\u001b[49m\u001b[43m(\u001b[49m\u001b[43mfpath\u001b[49m\u001b[43m)\u001b[49m\n\u001b[32m    728\u001b[39m \u001b[38;5;28;01mexcept\u001b[39;00m \u001b[38;5;167;01mIndexError\u001b[39;00m \u001b[38;5;28;01mas\u001b[39;00m e:\n",
      "\u001b[36mFile \u001b[39m\u001b[32m~\\AppData\\Local\\Programs\\Python\\Python313\\Lib\\site-packages\\IPython\\utils\\path.py:90\u001b[39m, in \u001b[36mget_py_filename\u001b[39m\u001b[34m(name)\u001b[39m\n\u001b[32m     89\u001b[39m         \u001b[38;5;28;01mreturn\u001b[39;00m py_name\n\u001b[32m---> \u001b[39m\u001b[32m90\u001b[39m \u001b[38;5;28;01mraise\u001b[39;00m \u001b[38;5;167;01mIOError\u001b[39;00m(\u001b[33m\"\u001b[39m\u001b[33mFile `\u001b[39m\u001b[38;5;132;01m%r\u001b[39;00m\u001b[33m` not found.\u001b[39m\u001b[33m\"\u001b[39m % name)\n",
      "\u001b[31mOSError\u001b[39m: File `'../shared/setup.py'` not found.",
      "\nThe above exception was the direct cause of the following exception:\n",
      "\u001b[31mException\u001b[39m                                 Traceback (most recent call last)",
      "\u001b[36mCell\u001b[39m\u001b[36m \u001b[39m\u001b[32mIn[1]\u001b[39m\u001b[32m, line 1\u001b[39m\n\u001b[32m----> \u001b[39m\u001b[32m1\u001b[39m \u001b[43mget_ipython\u001b[49m\u001b[43m(\u001b[49m\u001b[43m)\u001b[49m\u001b[43m.\u001b[49m\u001b[43mrun_line_magic\u001b[49m\u001b[43m(\u001b[49m\u001b[33;43m'\u001b[39;49m\u001b[33;43mrun\u001b[39;49m\u001b[33;43m'\u001b[39;49m\u001b[43m,\u001b[49m\u001b[43m \u001b[49m\u001b[33;43m'\u001b[39;49m\u001b[33;43m../shared/setup.py\u001b[39;49m\u001b[33;43m'\u001b[39;49m\u001b[43m)\u001b[49m\n",
      "\u001b[36mFile \u001b[39m\u001b[32m~\\AppData\\Local\\Programs\\Python\\Python313\\Lib\\site-packages\\IPython\\core\\interactiveshell.py:2478\u001b[39m, in \u001b[36mInteractiveShell.run_line_magic\u001b[39m\u001b[34m(self, magic_name, line, _stack_depth)\u001b[39m\n\u001b[32m   2476\u001b[39m     kwargs[\u001b[33m'\u001b[39m\u001b[33mlocal_ns\u001b[39m\u001b[33m'\u001b[39m] = \u001b[38;5;28mself\u001b[39m.get_local_scope(stack_depth)\n\u001b[32m   2477\u001b[39m \u001b[38;5;28;01mwith\u001b[39;00m \u001b[38;5;28mself\u001b[39m.builtin_trap:\n\u001b[32m-> \u001b[39m\u001b[32m2478\u001b[39m     result = \u001b[43mfn\u001b[49m\u001b[43m(\u001b[49m\u001b[43m*\u001b[49m\u001b[43margs\u001b[49m\u001b[43m,\u001b[49m\u001b[43m \u001b[49m\u001b[43m*\u001b[49m\u001b[43m*\u001b[49m\u001b[43mkwargs\u001b[49m\u001b[43m)\u001b[49m\n\u001b[32m   2480\u001b[39m \u001b[38;5;66;03m# The code below prevents the output from being displayed\u001b[39;00m\n\u001b[32m   2481\u001b[39m \u001b[38;5;66;03m# when using magics with decorator @output_can_be_silenced\u001b[39;00m\n\u001b[32m   2482\u001b[39m \u001b[38;5;66;03m# when the last Python token in the expression is a ';'.\u001b[39;00m\n\u001b[32m   2483\u001b[39m \u001b[38;5;28;01mif\u001b[39;00m \u001b[38;5;28mgetattr\u001b[39m(fn, magic.MAGIC_OUTPUT_CAN_BE_SILENCED, \u001b[38;5;28;01mFalse\u001b[39;00m):\n",
      "\u001b[36mFile \u001b[39m\u001b[32m~\\AppData\\Local\\Programs\\Python\\Python313\\Lib\\site-packages\\IPython\\core\\magics\\execution.py:738\u001b[39m, in \u001b[36mExecutionMagics.run\u001b[39m\u001b[34m(self, parameter_s, runner, file_finder)\u001b[39m\n\u001b[32m    736\u001b[39m     \u001b[38;5;28;01mif\u001b[39;00m os.name == \u001b[33m'\u001b[39m\u001b[33mnt\u001b[39m\u001b[33m'\u001b[39m \u001b[38;5;129;01mand\u001b[39;00m re.match(\u001b[33mr\u001b[39m\u001b[33m\"\u001b[39m\u001b[33m^\u001b[39m\u001b[33m'\u001b[39m\u001b[33m.*\u001b[39m\u001b[33m'\u001b[39m\u001b[33m$\u001b[39m\u001b[33m\"\u001b[39m,fpath):\n\u001b[32m    737\u001b[39m         warn(\u001b[33m'\u001b[39m\u001b[33mFor Windows, use double quotes to wrap a filename: \u001b[39m\u001b[38;5;132;01m%r\u001b[39;00m\u001b[33mun \u001b[39m\u001b[33m\"\u001b[39m\u001b[33mmypath\u001b[39m\u001b[38;5;130;01m\\\\\u001b[39;00m\u001b[33mmyfile.py\u001b[39m\u001b[33m\"\u001b[39m\u001b[33m'\u001b[39m)\n\u001b[32m--> \u001b[39m\u001b[32m738\u001b[39m     \u001b[38;5;28;01mraise\u001b[39;00m \u001b[38;5;167;01mException\u001b[39;00m(msg) \u001b[38;5;28;01mfrom\u001b[39;00m\u001b[38;5;250m \u001b[39m\u001b[34;01me\u001b[39;00m\n\u001b[32m    739\u001b[39m \u001b[38;5;28;01mexcept\u001b[39;00m \u001b[38;5;167;01mTypeError\u001b[39;00m:\n\u001b[32m    740\u001b[39m     \u001b[38;5;28;01mif\u001b[39;00m fpath \u001b[38;5;129;01min\u001b[39;00m sys.meta_path:\n",
      "\u001b[31mException\u001b[39m: File `'../shared/setup.py'` not found."
     ]
    }
   ],
   "source": [
    "%run ../shared/setup.py  "
   ]
  },
  {
   "cell_type": "markdown",
   "id": "bfec991a",
   "metadata": {},
   "source": [
    "# Module 6f: Extra (OPTIONAL)\n",
    "\n",
    "\n",
    "<div class=\"alert alert-block alert-success\">\n",
    "<b>Section Objectives:</b><br> \n",
    "- Learn some useful functions we use often.\n",
    "</div>\n",
    "\n",
    "These are some bonus concepts that aren't essential for day-to-day data analysis but are useful to know — and often come up in more advanced tasks and code reading.\n",
    "\n",
    "## Recursion\n",
    "\n",
    "A recursive function is a function that calls itself to solve a problem step by step. Recursion is not commonly used for DataFrame operations, but it helps you understand how some algorithms work.\n",
    "\n",
    "Let’s say we want to calculate a factorial:"
   ]
  },
  {
   "cell_type": "code",
   "execution_count": null,
   "id": "de0849a3",
   "metadata": {},
   "outputs": [],
   "source": [
    "def factorial(n):\n",
    "    if n == 0 or n == 1:\n",
    "        return 1\n",
    "    return n * factorial(n - 1)"
   ]
  },
  {
   "cell_type": "markdown",
   "id": "9dd6e59a",
   "metadata": {},
   "source": [
    "`factorial(3)` returns `3 * factorial(2)`, which becomes `3 * 2 * factorial(1)`, and so on…\n",
    "\n",
    "\n",
    "```{note}\n",
    "Be careful! Recursive functions must always have a base case (a stopping condition), or they’ll go on forever.\n",
    "```\n",
    "\n",
    "## Anonymous (Lambda) Functions\n",
    "\n",
    "A lambda function is a quick way to define a simple function in one line, without using `def`. It's very useful with `.apply()` in pandas.\n",
    "Let’s label patients with a bmi_status column, based on their BMI:"
   ]
  },
  {
   "cell_type": "code",
   "execution_count": null,
   "id": "0d764b10",
   "metadata": {},
   "outputs": [],
   "source": [
    "stroke_data['bmi_status'] = stroke_data['bmi'].apply(lambda x: 'high' if x > 30 else 'normal')"
   ]
  },
  {
   "cell_type": "markdown",
   "id": "79fc11c4",
   "metadata": {},
   "source": [
    "This adds a new column with the label 'high' if BMI is over 30, 'normal' if less or equal to 30.\n",
    "The code above is the same as writing the following:"
   ]
  },
  {
   "cell_type": "code",
   "execution_count": null,
   "id": "aa1e6774",
   "metadata": {},
   "outputs": [],
   "source": [
    "def bmi_label(x):\n",
    "    return 'high' if x > 30 else 'normal'\n",
    "\n",
    "stroke_data['bmi_status'] = stroke_data['bmi'].apply(bmi_label)"
   ]
  },
  {
   "cell_type": "markdown",
   "id": "37598efb",
   "metadata": {},
   "source": [
    "## Useful Built-in Functions: `map`, `filter`, and `zip`\n",
    "\n",
    "These are functions you can use with lists or Series to quickly transform or filter data.\n",
    "\n",
    "### `map(function, iterable)`\n",
    "\n",
    "Useful to apply a function to every item in a list or Series."
   ]
  },
  {
   "cell_type": "code",
   "execution_count": null,
   "id": "ef8e13c6",
   "metadata": {},
   "outputs": [],
   "source": [
    "#Example: Let’s get stroke status labels (string) for each patient.\n",
    "stroke_flags = stroke_data['stroke'].map(lambda x: 'Yes' if x == 1 else 'No')"
   ]
  },
  {
   "cell_type": "markdown",
   "id": "f96f0f88",
   "metadata": {},
   "source": [
    "### `filter(function, iterable)`\n",
    "\n",
    "Filters a list by a condition that returns True."
   ]
  },
  {
   "cell_type": "code",
   "execution_count": null,
   "id": "691213e1",
   "metadata": {},
   "outputs": [],
   "source": [
    "#Example: Get a list of patient ages 80 or older\n",
    "ages = stroke_data['age'].tolist()\n",
    "senior_patients = list(filter(lambda x: x >= 80, ages))"
   ]
  },
  {
   "cell_type": "markdown",
   "id": "7bc8bb5b",
   "metadata": {},
   "source": [
    "### `zip(function, iterable)`\n",
    "\n",
    "Combines two lists into pairs."
   ]
  },
  {
   "cell_type": "code",
   "execution_count": null,
   "id": "0d961e6a",
   "metadata": {},
   "outputs": [],
   "source": [
    "#Example: Pair each patient’s ID and age into tuples\n",
    "patient_ids = stroke_data['id'].head(3)\n",
    "ages = stroke_data['age'].head(3)\n",
    "\n",
    "list(zip(patient_ids, ages))"
   ]
  }
 ],
 "metadata": {
  "jupytext": {
   "default_lexer": "python"
  },
  "kernelspec": {
   "display_name": "Python 3",
   "language": "python",
   "name": "python3"
  },
  "language_info": {
   "codemirror_mode": {
    "name": "ipython",
    "version": 3
   },
   "file_extension": ".py",
   "mimetype": "text/x-python",
   "name": "python",
   "nbconvert_exporter": "python",
   "pygments_lexer": "ipython3",
   "version": "3.13.2"
  }
 },
 "nbformat": 4,
 "nbformat_minor": 5
}