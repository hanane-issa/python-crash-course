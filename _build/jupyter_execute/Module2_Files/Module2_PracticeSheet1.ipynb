{
 "cells": [
  {
   "cell_type": "markdown",
   "id": "b19a89d9",
   "metadata": {},
   "source": [
    "# M2: Practice Sheet\n",
    "\n",
    "Congratulations, you have made it to the end of the second module!\n",
    "\n",
    "This module covered a lot of information very quickly, so this excercice sheet is to help you practice your gained knowledge. Ideally, you should either download this page or open it in GoogleColab / Binder (by clicking the spaceship icon on the top right), so that you can interact freely with it and add as many cells as you want. Other else you can also use the Live Button as before to run your code directly here."
   ]
  },
  {
   "cell_type": "markdown",
   "id": "6aa18133",
   "metadata": {},
   "source": [
    "```{admonition} Tip\n",
    ":class: tip\n",
    "\n",
    "As a recap, here is the most important information that was covered in this module:\n",
    "\n",
    "- Values can be stored in variables, making them easy to recall, use, and manipulate\n",
    "- Variables are defined using equal signs `=` and can be changed by reassigning a new value\n",
    "- Each variable has a data type defining what type of information they contain and how it can be manipulated. Python automatically infers the data type from the value\n",
    "- Common data types are numerical data (integers and floats), boolean, and strings\n",
    "- Other data types are sequence types/ data structures which store multiple data points, e.g. tuples `()`, lists `[]`, sets `{}`, and dictionaries `{key:value}`\n",
    "- Each data type has specific functions, methods, and operators that can be used to manipulate them, e.g. arithmetic operators, comparison operators, and logical operators\n",
    "- To make manipulations easier one can define conditional blocks, which can be used to define which block should be carried out, how often, and with which variable values\n",
    "- Running into errors is normal - clear variable names, comments, print statements, and try-expect statements are your best friend in identify where they come from"
   ]
  },
  {
   "cell_type": "markdown",
   "id": "cf7516ed",
   "metadata": {},
   "source": [
    "You will use the gained knowledge to analyse synthesised patients' data. For each of our ten patient we will know their gender, age, height, weight, whether they smoke, and diseases they have. You will create data structures that contain information about different patients, and then use conditional blocks and operations to gain insights into them."
   ]
  },
  {
   "cell_type": "markdown",
   "id": "dbb948cd",
   "metadata": {},
   "source": [
    "Lets start with patient 1: they are female, 25 years old, 1.75 m tall, weight 70.9 kg, they don't smoke, and they have asthma and diabetes. For each of these properties, create a variable and store the corresponding value in it. The diseases they have should be saves in a tuple and the smoking status should be saved as `True` or `False`."
   ]
  },
  {
   "cell_type": "code",
   "execution_count": 1,
   "id": "455215f8",
   "metadata": {},
   "outputs": [],
   "source": [
    "# Your code goes here"
   ]
  },
  {
   "cell_type": "markdown",
   "id": "c846e092",
   "metadata": {},
   "source": [
    "Can you infer what type each of the variables has? First guess, then print the value and the type of each of the variables. What type does each of these tuple entries (i.e. diseases) have? Do you have an idea how to check the type of an entry in a data structure? (remember how we access a specific value in a tuple) "
   ]
  },
  {
   "cell_type": "code",
   "execution_count": 2,
   "id": "9e31b220",
   "metadata": {},
   "outputs": [],
   "source": [
    "# Your code goes here"
   ]
  },
  {
   "cell_type": "markdown",
   "id": "9a9b2866",
   "metadata": {},
   "source": [
    "Oh no I made a mistake when I told you the information about the participant. Their age is actually 35. Could you please update the age variable and print the new value? I'm also curious about how many dieases patient 1 has. Print this information using a function to access the number of entries in the tuple."
   ]
  },
  {
   "cell_type": "code",
   "execution_count": 3,
   "id": "0c7aed70",
   "metadata": {},
   "outputs": [],
   "source": [
    "# Your code goes here"
   ]
  },
  {
   "cell_type": "markdown",
   "id": "3189c11f",
   "metadata": {},
   "source": [
    "Amazing, we have all the information about participant 1! However saving each information in an individual variable is quite a hassle. Lets use a data structure to have a better overview of each of the values. Create a list where each entry is one of the variables in the following order: gender, age, weight, height, smoking. (Tipp: you can put the actual values at each entry when defining the list or just use the variables and the list will now automatically its entries from them)"
   ]
  },
  {
   "cell_type": "code",
   "execution_count": 4,
   "id": "569a3084",
   "metadata": {},
   "outputs": [],
   "source": [
    "# Your code goes here"
   ]
  },
  {
   "cell_type": "markdown",
   "id": "a1ef6267",
   "metadata": {},
   "source": [
    "I'm sorry I complete forgot about the dieases. Please append the list with the disease values tuple. I also switched height and weight around. Reassign the value at the height position to the weight value and the value at the weight position to the height value.\n",
    "\n",
    "The list should now consist of the following entries: gender, age,  height, weight, smoking, diseases. Print the full list to make sure this is correct."
   ]
  },
  {
   "cell_type": "markdown",
   "id": "ffb5e7cc",
   "metadata": {},
   "source": [
    "```{dropdown} 💡 Solution\n",
    "```python\n",
    "#defining clinical information for participant 1\n",
    "participant1_gender = 'female'\n",
    "participant1_age = 25\n",
    "participant1_weight = 70.9\n",
    "participant1_height = 1.75\n",
    "participant1_smoking = False\n",
    "participant1_diseases = ('Asthma', 'Diabetes')\n",
    "\n",
    "# lets print the data type of each variable\n",
    "print('Information about participant 1:')\n",
    "print(f'Their gender is {participant1_gender} which is of type {type(participant1_gender)}')\n",
    "print(f'Their age is {participant1_age} which is of type {type(participant1_age)}')\n",
    "print(f'Their weight is {participant1_weight} which is of type {type(participant1_weight)}')\n",
    "print(f'Their height is {participant1_height} which is of type {type(participant1_height)}')\n",
    "print(f'Their smoking status is {participant1_smoking} which is of type {type(participant1_smoking)}')\n",
    "print(f'Their diseases are {participant1_diseases} which is of type {type(participant1_diseases)} with the diseases being type {type(participant1_diseases[0])} and {type(participant1_diseases[1])}')\n",
    "\n",
    "#changing participant age to 35\n",
    "participant1_age = 35\n",
    "print(f'Their age is now {participant1_age} which is {type(participant1_age)}')\n",
    "\n",
    "# print number of diseases\n",
    "print(f'The number of diseases is {len(participant1_diseases)}')\n",
    "\n",
    "# put all the variables in a list\n",
    "participant1_information = [participant1_gender, participant1_age, participant1_weight, participant1_height, participant1_smoking]\n",
    "print(f'Participant 1 information is: {participant1_information} which is of type {type(participant1_information)}')\n",
    "\n",
    "#appending diseases to the list\n",
    "participant1_information.append(participant1_diseases)\n",
    "\n",
    "#changing the height and weight value with each other\n",
    "participant1_information[3] = participant1_weight\n",
    "participant1_information[2] = participant1_height\n",
    "\n",
    "# print the correct list\n",
    "print(f'participant 1 information is now fixed: {participant1_information}')"
   ]
  },
  {
   "cell_type": "markdown",
   "id": "5bc1434d",
   "metadata": {},
   "source": [
    "Amazing we have all the information we need from participant 1!\n",
    "\n",
    "Lets get the information for participant 2: they are male, 40 years old, is 1.79 m tall, weights 103.4 kg,  they smoke, and they do not have any diseases. \n",
    "\n",
    "Create a list with all the information for participant 2 in the same order as for participant 1 (same as the order given here). You can choose whether you want to put the values directly into the list or create individual variables first again. Even though participant 2 does not have any diseases, we still want a tuple so that our list has the same amount of entries as participant 1. Do you have an idea how to create an empty tuple (see the hint if not)?\n",
    "\n",
    "Print the final list."
   ]
  },
  {
   "cell_type": "markdown",
   "id": "0a0f6fd8",
   "metadata": {},
   "source": [
    "```{dropdown} 💡 Hint\n",
    "\n",
    "You can create an empty data structure by simply defining it without a value in it. So for example, the disease for participant 2 would be simply `participant2_diseases = ()`"
   ]
  },
  {
   "cell_type": "code",
   "execution_count": 5,
   "id": "443b63d7",
   "metadata": {},
   "outputs": [],
   "source": [
    "# Your code goes here"
   ]
  },
  {
   "cell_type": "markdown",
   "id": "cce9f0a9",
   "metadata": {},
   "source": [
    "```{dropdown} 💡 Solution\n",
    "```python\n",
    "#defining clinical information for participant 2\n",
    "participant2_information = ['male', 40, 1.79, 103.4, True, ()]\n",
    "print(f'participant 2 information is {participant2_information}')"
   ]
  },
  {
   "cell_type": "markdown",
   "id": "9d1ea667",
   "metadata": {},
   "source": [
    "Great, we have the information for participant 1 and 2 written down. We have ten participants in total, so eight more to go: \n",
    "\n",
    "| Participant    | Gender   | Age | Height | Weight   | Smoking? | Diseases |\n",
    "| -------------- | ------   | --- | -------| -------- | -------- | -------- |\n",
    "| 3              | male     | 18  | 1.75   | 85.1     | True     | Lung cancer |     \n",
    "| 4              | female   | 83  | 1.63   | 55.9     | False    | Cardio vascular disease, Alzheimers |  \n",
    "| 5              | female   | 55  | 1.68   | 50.0     | False    | Asthma, Anxiety |  \n",
    "| 6              | female   | 32  | 1.59   | 64.0     | True     | Diabetes |  \n",
    "| 7              | male     | 21  | 1.90   | 92.9     | False    | Asthma, collon cancer  |  \n",
    "| 8              | male     | 46  | 1.71   | 75.4     | False    |  |\n",
    "| 9              | female   | 32  | 1.66   | 90.7     | True     | Depression |  \n",
    "| 10             | male     | 67  | 1.78   | 82.3     | False    | Anxiety, Diabetes, Cardio vascular disease|    \n",
    "\n",
    "You can either create a list for each of the participants, the same way you did for participant 2, or you can copy the code in the next hidden solution segment if you don't want to put all the values in manually. \n",
    "\n",
    "Note: if the participant has only one disease, you need to put a comma after the disease, e.g. `('lung cancer', )`, other else the list will not recognised it as a tuple but just as the string, which will give us troubles later on."
   ]
  },
  {
   "cell_type": "markdown",
   "id": "3342f588",
   "metadata": {},
   "source": [
    "```{dropdown} 💡 Solution\n",
    "```python\n",
    "'''\n",
    "Overview of the clinical information for each participant:\n",
    "\n",
    "| Participant    | Gender   | Age | Height | Weight   | Smoking? | Diseases |\n",
    "| -------------- | ------   | --- | -------| -------- | -------- | -------- |\n",
    "| 3              | male     | 18  | 1.75   | 85.1     | True     | Lung cancer |     \n",
    "| 4              | female   | 83  | 1.63   | 55.9     | False    | Cardio vascular disease, Alzheimers |  \n",
    "| 5              | female   | 55  | 1.68   | 50.0     | False    | Asthma, Anxiety |  \n",
    "| 6              | female   | 32  | 1.59   | 64.0     | True     | Diabetes |  \n",
    "| 7              | male     | 21  | 1.90   | 92.9     | False    | Asthma, collon cancer  |  \n",
    "| 8              | male     | 46  | 1.71   | 75.4     | False    |  |\n",
    "| 9              | female   | 32  | 1.66   | 90.7     | True     | Depression |  \n",
    "| 10             | male     | 67  | 1.78   | 82.3     | False    | Anxiety, Diabetes, Cardio vascular disease|    \n",
    "'''\n",
    "\n",
    "#Defining clinical information for each participant\n",
    "participant3_information = ['male', 18, 1.75, 85.1, True, ('Lung cancer',)]\n",
    "participant4_information = ['female', 83, 1.63, 55.9, False, ('Cardio vascular disease', 'Alzheimers')]\n",
    "participant5_information = ['female', 55, 1.68, 50.0, False, ('Asthma', 'Anxiety')]\n",
    "participant6_information = ['female', 32, 1.59, 64.0, True, ('Diabetes',)]\n",
    "participant7_information = ['male', 21, 1.90, 92.9, False, ('Asthma', 'Colon cancer')]\n",
    "participant8_information = ['male', 46, 1.71, 75.4, False, ()]\n",
    "participant9_information = ['female', 32, 1.66, 90.7, True, ('Depression',)]\n",
    "participant10_information = ['male', 67, 1.78, 82.3, False, ('Anxiety', 'Diabetes', 'Cardio vascular disease')]\n",
    "\n",
    "print(participant9_information)"
   ]
  },
  {
   "cell_type": "markdown",
   "id": "98c407a8",
   "metadata": {},
   "source": [
    "Wow that is a lot of information! Even though we put the properties of each patient in a list, there are still ten lists here. Lets create a dictionary to more easily access the information for each participant.\n",
    "\n",
    "Create a dictionary where each key is the participant (e.g. `'participant1'`) and the value is the corresponding list. Print the finished dictionary. Also print the information only for participant 7."
   ]
  },
  {
   "cell_type": "code",
   "execution_count": 6,
   "id": "27579ea6",
   "metadata": {},
   "outputs": [],
   "source": [
    "# Your code goes here"
   ]
  },
  {
   "cell_type": "markdown",
   "id": "e48578c0",
   "metadata": {},
   "source": [
    "```{dropdown} 💡 Solution\n",
    "```python\n",
    "# Create the dictionary from the lists\n",
    "participants_clinical_information = {\n",
    "    'participant1': participant1_information,\n",
    "    'participant2': participant2_information,\n",
    "    'participant3': participant3_information,\n",
    "    'participant4': participant4_information,\n",
    "    'participant5': participant5_information,\n",
    "    'participant6': participant6_information,\n",
    "    'participant7': participant7_information,\n",
    "    'participant8': participant8_information,\n",
    "    'participant9': participant9_information,\n",
    "    'participant10': participant10_information\n",
    "}\n",
    "\n",
    "# Print the full dictionary\n",
    "print(participants_clinical_information)\n",
    "# Now we can access each participant's information by their key\n",
    "print(participants_clinical_information['participant7'])\n"
   ]
  },
  {
   "cell_type": "markdown",
   "id": "7c1a80a1",
   "metadata": {},
   "source": [
    "Great! We now have the data of all our participants and saved them in an easy to access way. Now we can finally get started to learn some information about out participants.\n",
    "\n",
    "Lets start simple. We want to access and print the age of each participant. To accomplish this we can loop through our dictionary. When we use the `for variable_name in data_structure:` statement for dictionaries we loop through each of the keys of the dictionary. So the variable is our participant. We can then use the key to access the entry in our dictionary (in this case the list of medical information).\n",
    "\n",
    "Firstly, to get a feeling for this, use the `for` loop statement: in the block print the variable/ key and the entry of the dictionary for that variable / key."
   ]
  },
  {
   "cell_type": "code",
   "execution_count": 7,
   "id": "452a8e7c",
   "metadata": {},
   "outputs": [],
   "source": [
    "# Your code goes here (should only be 2 or 3 lines long)"
   ]
  },
  {
   "cell_type": "markdown",
   "id": "4d98f170",
   "metadata": {},
   "source": [
    "```{dropdown} 💡 Solution\n",
    "```python\n",
    "for participant in participants_clinical_information:\n",
    "    print(f'participant {participant} information is {participants_clinical_information[participant]}')"
   ]
  },
  {
   "cell_type": "markdown",
   "id": "c4d42a78",
   "metadata": {},
   "source": [
    "Now that that is working replace the print statement of the dictionary entry with a new variable `participant_information` which you assign the dictionary entry for the current key to. This variable is now our list. You can now print the age, which is the second entry of the list / the new variable. "
   ]
  },
  {
   "cell_type": "code",
   "execution_count": 8,
   "id": "92e21def",
   "metadata": {},
   "outputs": [],
   "source": [
    "# Your code goes here"
   ]
  },
  {
   "cell_type": "markdown",
   "id": "12790ef8",
   "metadata": {},
   "source": [
    "```{dropdown} 💡 Solution\n",
    "```python\n",
    "for participant in participants_clinical_information:\n",
    "    participant_information = participants_clinical_information[participant]\n",
    "    print(f'participant {participant} is of age {participant_information[1]}')"
   ]
  },
  {
   "cell_type": "markdown",
   "id": "ade54b87",
   "metadata": {},
   "source": [
    "Well done! Lets try something harder: we want to know what diseases are common in our population. For this we want to know all the unique diseases and how often each of them appear in our data.\n",
    "\n",
    "As a first step, repeat the same we just did above but instead of age print the participants diseases."
   ]
  },
  {
   "cell_type": "code",
   "execution_count": 9,
   "id": "ebfb10a5",
   "metadata": {},
   "outputs": [],
   "source": [
    "# Your code goes here"
   ]
  },
  {
   "cell_type": "markdown",
   "id": "c31fcc25",
   "metadata": {},
   "source": [
    "Secondly, we will now save all of the diseases in a list. To do this, create an empty list above the for loop. Then in the `for` loop, after we print the disease, append the disease value to the list you have just created. The method `.extend(data_structure)` instead of `.append()` can be used so that each entry in the tuple will be added as an individual element to your list.\n",
    "\n",
    "Print the finished list once your are done with the for loop."
   ]
  },
  {
   "cell_type": "code",
   "execution_count": 10,
   "id": "a4bb1726",
   "metadata": {},
   "outputs": [],
   "source": [
    "# Your code goes here"
   ]
  },
  {
   "cell_type": "markdown",
   "id": "c338562a",
   "metadata": {},
   "source": [
    "Amazing we have all the diseases now in a list. Next, we want to know all the unique diseases that participants have overall. Can you remember which data structure only has unique entries? Exactly: sets. Create a new variable which is a set from the disease_list. Tipp: you can convert a data structure to a different one by using the function `data_structure_name(data_structure_variable)` where `data_structure_name` here being `set` and the the `data_structure_variable` being your list of all diseases."
   ]
  },
  {
   "cell_type": "code",
   "execution_count": 11,
   "id": "cbc9e669",
   "metadata": {},
   "outputs": [],
   "source": [
    "# Your code goes here"
   ]
  },
  {
   "cell_type": "markdown",
   "id": "d75c2e76",
   "metadata": {},
   "source": [
    "Now that we have our unique set, loop through the set. For each entry / disease print its name and how often it appears in the list of all diseases using the method `.count(value)` (`value` is the name of the disease; this method looks how often the given value appears in the list)."
   ]
  },
  {
   "cell_type": "code",
   "execution_count": 12,
   "id": "b38f8c1e",
   "metadata": {},
   "outputs": [],
   "source": [
    "# Your code goes here"
   ]
  },
  {
   "cell_type": "markdown",
   "id": "3840f894",
   "metadata": {},
   "source": [
    "```{dropdown} 💡 Solution\n",
    "```python\n",
    "#create empty list to save the diseases in\n",
    "diseases_list = []\n",
    "\n",
    "#loop through the participants and append the diseases to the list\n",
    "for participant in participants_clinical_information:\n",
    "    participant_information = participants_clinical_information[participant]\n",
    "    print(f'participant {participant} has the following diseases: {participant_information[5]}')\n",
    "    diseases_list.extend(participant_information[5])\n",
    "\n",
    "# print all the diseases that participants have\n",
    "print('The following diseases are present in the participants:')\n",
    "print(diseases_list)\n",
    "\n",
    "# get the unique diseases\n",
    "unique_diseases = (diseases_list)\n",
    "\n",
    "# loop through the unique diseases and print how many often they occur\n",
    "print('The unique diseases are:')\n",
    "for disease in unique_diseases:\n",
    "    print(f'- {disease} occuring {diseases_list.count(disease)} time(s) in the participants')\n"
   ]
  },
  {
   "cell_type": "markdown",
   "id": "a76b9c51",
   "metadata": {},
   "source": [
    "Amazing, you are already becoming an expert in `for` loops! Which is great since you will need them a lot.\n",
    "\n",
    "Lets go back to our dictionary with the information for all our participants. This time we want to compute the BMI for each participant (BMI = weight \\ (height)^2). Loop through each participant. Compute their BMI and check whether it is below 18.5 (i.e. underweight), between (or equal to) 18.5 - 25 (normal range) or over 25 (overweight). Do this by using `if-else` statements (there should be 3 in total). For each statement print the participant number, their gender, their BMI value and whether they are underweight, normal range or overweight."
   ]
  },
  {
   "cell_type": "code",
   "execution_count": 13,
   "id": "21e5ebfa",
   "metadata": {},
   "outputs": [],
   "source": [
    "# Your code goes here"
   ]
  },
  {
   "cell_type": "markdown",
   "id": "99930081",
   "metadata": {},
   "source": [
    "```{dropdown} 💡 Solution\n",
    "```python\n",
    "for participant in participants_clinical_information:\n",
    "    #get the participant information\n",
    "    participant_information = participants_clinical_information[participant]\n",
    "\n",
    "    #compute the BMI of the participant\n",
    "    BMI = participant_information[3] / (participant_information[2] ** 2)\n",
    "\n",
    "    #check if they are underweight, normal weight, or overweight\n",
    "    if BMI < 18.5:\n",
    "        print(f'participant {participant} ({participant_information[0]}) is underweight with a BMI of {BMI}.')\n",
    "    elif BMI >= 18.5 and BMI <= 25:\n",
    "        print(f'participant {participant} ({participant_information[0]}) is normal weight with a BMI of {BMI}.')\n",
    "    else:\n",
    "        print(f'participant {participant} ({participant_information[0]}) is overweight with a BMI of {BMI}.')\n"
   ]
  },
  {
   "cell_type": "markdown",
   "id": "b4b107fb",
   "metadata": {},
   "source": [
    "**need ideas for something to do with while loops (also maybe something with string manipulations? - could add some genetic code to the info for each participant for that?)(also maybe error handling)**"
   ]
  }
 ],
 "metadata": {
  "kernelspec": {
   "display_name": "jupyter_course_venv",
   "language": "python",
   "name": "python3"
  },
  "language_info": {
   "codemirror_mode": {
    "name": "ipython",
    "version": 3
   },
   "file_extension": ".py",
   "mimetype": "text/x-python",
   "name": "python",
   "nbconvert_exporter": "python",
   "pygments_lexer": "ipython3",
   "version": "3.13.2"
  }
 },
 "nbformat": 4,
 "nbformat_minor": 5
}