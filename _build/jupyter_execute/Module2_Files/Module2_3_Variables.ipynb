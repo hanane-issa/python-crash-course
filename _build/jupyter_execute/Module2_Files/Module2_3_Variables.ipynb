{
 "cells": [
  {
   "cell_type": "markdown",
   "id": "46315da4",
   "metadata": {},
   "source": [
    "# M2: Variables\n",
    "\n",
    "## 3. Variables\n",
    "\n",
    "A **variable** is a container for storing values. Each variable has a name, a value, and a data type.\n",
    "\n",
    "### 3.1. Declaration and Usage\n",
    "\n",
    "In python creating (declaring) a variable is very simply: you simply state its name, e.g. `age`, and assign it the value you want, e.g. `25`, by using an equal sign `=` : `age = 25`. You do not need to explicitly declare the type — you simply assign a value, and Python determines the type automatically.\n",
    "\n",
    "To access the value that is stored in the variable, just state the name of the variable. So for example if you write `print(age)` it will output `25`. \n",
    " \n",
    "You can change (reassign) the values of the variables at any time. Simply assign a new value to the name the same way the variable was declared."
   ]
  },
  {
   "cell_type": "code",
   "execution_count": null,
   "id": "28a1fdcd",
   "metadata": {},
   "outputs": [
    {
     "name": "stdout",
     "output_type": "stream",
     "text": [
      "Patient Information:\n",
      "Age: 25\n",
      "Name: Alice\n",
      "Height: 5.7\n",
      "Vegetarian: True\n",
      "\n",
      "Updated Patient Information:\n",
      "Age: 26\n",
      "Name: Alice\n",
      "Height: 5.7\n",
      "Vegetarian: False\n"
     ]
    }
   ],
   "source": [
    "# Create information about a patient by assigning values to variables\n",
    "age = 25\n",
    "name = \"Alice\"\n",
    "height = 5.7\n",
    "vegetarian = True\n",
    "\n",
    "# Printing the values of the variables\n",
    "print('Patient Information:')\n",
    "\n",
    "print(\"Age:\", age)\n",
    "print(\"Name:\", name)\n",
    "print(\"Height:\", height)\n",
    "print(\"Vegetarian:\", vegetarian)\n",
    "\n",
    "# Update patient information after a year\n",
    "age = 26\n",
    "vegetarian = False\n",
    "\n",
    "#printing the updated values\n",
    "print()#create empty line for better readability\n",
    "\n",
    "print('Updated Patient Information:')\n",
    "\n",
    "print(\"Age:\", age)\n",
    "print(\"Name:\", name)\n",
    "print(\"Height:\", height)\n",
    "print(\"Vegetarian:\", vegetarian)"
   ]
  },
  {
   "cell_type": "markdown",
   "id": "2d8c6435",
   "metadata": {},
   "source": [
    "### 3.2. Variable names\n",
    "\n",
    "Variable names must start with a letter or an underscore (`_`) and cannot contain spaces or special punctuation (other than underscores). Python is **case-sensitive**. This means that `myVariable` and `myvariable` would be treated as two different names / variables.\n",
    "\n",
    "It is good practice to stick to one consistent naming style. In Python, the most common style is *snake_case*, where words are separated by underscores, for example: `my_variable`. A different style that is often used and you might come across is *camelCase*, where words are not separated and each word but the first is capitalised: `myVariable`.\n",
    "\n",
    "The same way comments are useful for understanding your code, you should also give your variables informative names about what they store/ what their purpose is. For instance, someone seeing the variables `variable_one` and `variable_two` will be a lot more confused about what they are used for than someone seeing `patients_age` and `patients_height`."
   ]
  },
  {
   "cell_type": "markdown",
   "id": "7c87003c",
   "metadata": {},
   "source": [
    "### 3.3. Data Types\n",
    "\n",
    "Here are some of the most common **built-in** data types in Python:\n",
    "\n",
    "1. **Integer**: Numeric type - Whole numbers, e.g., `42`, `-3`.\n",
    "2. **Float**: Numeric type - Numbers with a decimal point, e.g., `3.14`, `-0.001`.\n",
    "3. **String**: Text type - Sequences of characters, written inside quotes, e.g., `\"Hello, Python!\"`.\n",
    "4. **Boolean**: Boolean type - Values representing `True` or `False`.\n",
    "5. **NoneType**: None type - Represented by `None`, means \"no value\" or \"nothing here yet\".\n",
    "6. **List**: Sequence type - A list of various values where each value can have any data type, e.g. `[3,'Hi',True]`\n",
    "\n",
    "Data types define what one can do with a variable, e.g. how you can manipulate them and what functions you can use on them. For instance, while you could multiply two integer variables, i.e. variables which values have the data type integer, you would get a *type error* if you tried the same with two string variables.\n",
    "\n",
    "If you do not know what type your variable has, you can simply use the function `type()` with the variable name being the argument (what you write inside the brackets) and its type being the output (the value you would get back from the function which you can print directly or save to a new variable).\n",
    "\n",
    "Over the next few chapters you will get introduced in more detail to each of these Data types (and other ones) and how you can manipulate them / work with them. We will start in the next chapter with Numeric types (integer, float) before moving on to strings and more complex types such as sequence types."
   ]
  },
  {
   "cell_type": "code",
   "execution_count": 8,
   "id": "bca790c7",
   "metadata": {},
   "outputs": [
    {
     "name": "stdout",
     "output_type": "stream",
     "text": [
      "<class 'int'>\n",
      "<class 'float'>\n",
      "<class 'str'>\n",
      "<class 'bool'>\n",
      "<class 'NoneType'>\n",
      "Type of my_int: <class 'int'>\n",
      "Multiplying my_int with it self: 100\n"
     ]
    },
    {
     "ename": "TypeError",
     "evalue": "can't multiply sequence by non-int of type 'str'",
     "output_type": "error",
     "traceback": [
      "\u001b[31m---------------------------------------------------------------------------\u001b[39m",
      "\u001b[31mTypeError\u001b[39m                                 Traceback (most recent call last)",
      "\u001b[36mCell\u001b[39m\u001b[36m \u001b[39m\u001b[32mIn[8]\u001b[39m\u001b[32m, line 21\u001b[39m\n\u001b[32m     19\u001b[39m \u001b[38;5;66;03m# Try manipulating the variables with different types\u001b[39;00m\n\u001b[32m     20\u001b[39m \u001b[38;5;28mprint\u001b[39m(\u001b[33m'\u001b[39m\u001b[33mMultiplying my_int with it self:\u001b[39m\u001b[33m'\u001b[39m, my_int * my_int) \u001b[38;5;66;03m# 100\u001b[39;00m\n\u001b[32m---> \u001b[39m\u001b[32m21\u001b[39m \u001b[38;5;28mprint\u001b[39m(\u001b[33m'\u001b[39m\u001b[33mMultiplying my_str with it self:\u001b[39m\u001b[33m'\u001b[39m, \u001b[43mmy_str\u001b[49m\u001b[43m \u001b[49m\u001b[43m*\u001b[49m\u001b[43m \u001b[49m\u001b[43mmy_str\u001b[49m) \u001b[38;5;66;03m# Error    \u001b[39;00m\n",
      "\u001b[31mTypeError\u001b[39m: can't multiply sequence by non-int of type 'str'"
     ]
    }
   ],
   "source": [
    "# Integers, floats, strings, booleans, and None\n",
    "my_int = 10\n",
    "my_float = 3.14\n",
    "my_str = \"Python\"\n",
    "my_bool = True\n",
    "my_none = None\n",
    "\n",
    "#Identifying the types of the variables\n",
    "print(type(my_int)) # <class 'int'>\n",
    "print(type(my_float)) # <class 'float'>\n",
    "print(type(my_str)) # <class 'str'>\n",
    "print(type(my_bool)) # <class 'bool'>\n",
    "print(type(my_none)) # <class 'NoneType'>\n",
    "\n",
    "#save the type of a variable in another variable\n",
    "my_int_type = type(my_int)\n",
    "print('Type of my_int:', my_int_type) # <class 'int'>\n",
    "\n",
    "# Try manipulating the variables with different types\n",
    "print('Multiplying my_int with it self:', my_int * my_int) # 100\n",
    "print('Multiplying my_str with it self:', my_str * my_str) # Error    "
   ]
  },
  {
   "cell_type": "markdown",
   "id": "ed8d83be",
   "metadata": {},
   "source": [
    "### 3.4. Quick Practice\n",
    "\n",
    "Try these simple challenges:\n",
    "\n",
    "- Create a variable called `city` and assign your favourite city name as a string.\n",
    "- Create a variable called `temperature` and assign a decimal number (float).\n",
    "- Create a variable called `is_raining` and assign either `True` or `False`.\n",
    "\n",
    "- Print the values and types of all your variables using the `print()` function!\n",
    "\n",
    "- Reassign the value of `temperature` and reprint it\n",
    " "
   ]
  },
  {
   "cell_type": "code",
   "execution_count": null,
   "id": "3114ff68",
   "metadata": {},
   "outputs": [],
   "source": [
    "# Put your code here"
   ]
  },
  {
   "cell_type": "markdown",
   "id": "5ee29906",
   "metadata": {},
   "source": [
    "```{dropdown} 💡 Solution\n",
    "```python\n",
    "#Defining our variables\n",
    "city = \"Edinburgh\"\n",
    "temperature = 18.5\n",
    "is_raining = True\n",
    "\n",
    "#Print their values and types\n",
    "print(\"City value:\", city, \"City type:\", type(city))\n",
    "print(\"Temperature value:\", temperature, \"Temperature type:\", type(temperature))\n",
    "print(\"Is it raining?\", is_raining, \"Is_raining type:\", type(is_raining))\n",
    "\n",
    "#Change the temperature value\n",
    "temperature = 15.25\n",
    "\n",
    "print(\"New Temperature value:\", temperature)"
   ]
  }
 ],
 "metadata": {
  "kernelspec": {
   "display_name": "jupyter_course_venv",
   "language": "python",
   "name": "python3"
  },
  "language_info": {
   "codemirror_mode": {
    "name": "ipython",
    "version": 3
   },
   "file_extension": ".py",
   "mimetype": "text/x-python",
   "name": "python",
   "nbconvert_exporter": "python",
   "pygments_lexer": "ipython3",
   "version": "3.13.2"
  }
 },
 "nbformat": 4,
 "nbformat_minor": 5
}