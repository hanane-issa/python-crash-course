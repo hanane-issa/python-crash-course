{
 "cells": [
  {
   "cell_type": "markdown",
   "id": "a32bd1d1",
   "metadata": {},
   "source": [
    "# M2: Data Structures"
   ]
  },
  {
   "cell_type": "markdown",
   "id": "48a6ad3f",
   "metadata": {},
   "source": []
  }
 ],
 "metadata": {
  "language_info": {
   "name": "python"
  }
 },
 "nbformat": 4,
 "nbformat_minor": 5
}