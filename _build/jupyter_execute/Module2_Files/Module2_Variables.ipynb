{
 "cells": [
  {
   "cell_type": "markdown",
   "id": "46315da4",
   "metadata": {},
   "source": [
    "# M2: Variables\n",
    "\n",
    "## 3. Variables\n",
    "\n",
    "### 3.1. Variables\n",
    "\n",
    "A **variable** is a name that refers to a value. In Python, you do not need to declare the type — you simply assign a value, and Python determines the type automatically."
   ]
  },
  {
   "cell_type": "code",
   "execution_count": 1,
   "id": "28a1fdcd",
   "metadata": {},
   "outputs": [
    {
     "name": "stdout",
     "output_type": "stream",
     "text": [
      "Age: 25\n",
      "Name: Alice\n"
     ]
    }
   ],
   "source": [
    "# Assigning values to variables\n",
    "age = 25\n",
    "name = \"Alice\"\n",
    "\n",
    "print(\"Age:\", age)\n",
    "print(\"Name:\", name)"
   ]
  },
  {
   "cell_type": "markdown",
   "id": "7c87003c",
   "metadata": {},
   "source": [
    "You can change (reassign) variables at any time.\n",
    "\n",
    "Variable names must start with a letter or an underscore (`_`) and cannot contain spaces or special punctuation (other than underscores).\n",
    "\n",
    "### 3.2. Data Types\n",
    "\n",
    "Before diving deeper into variables, let’s explore some of the most common **built-in** data types in Python:\n",
    "\n",
    "1. **Integer**: Whole numbers, e.g., `42`, `-3`.\n",
    "2. **Float**: Numbers with a decimal point, e.g., `3.14`, `-0.001`.\n",
    "3. **String**: Sequences of characters, written inside quotes, e.g., `\"Hello, Python!\"`.\n",
    "4. **Boolean**: Values representing `True` or `False`.\n",
    "5. **NoneType**: Represented by `None`, means \"no value\" or \"nothing here yet\".\n"
   ]
  },
  {
   "cell_type": "code",
   "execution_count": 2,
   "id": "bca790c7",
   "metadata": {},
   "outputs": [
    {
     "name": "stdout",
     "output_type": "stream",
     "text": [
      "<class 'int'>\n",
      "<class 'float'>\n",
      "<class 'str'>\n",
      "<class 'bool'>\n",
      "<class 'NoneType'>\n"
     ]
    }
   ],
   "source": [
    "# Integers, floats, strings, booleans, and None\n",
    "my_int = 10\n",
    "my_float = 3.14\n",
    "my_str = \"Python\"\n",
    "my_bool = True\n",
    "my_none = None\n",
    "\n",
    "print(type(my_int))   # <class 'int'>\n",
    "print(type(my_float)) # <class 'float'>\n",
    "print(type(my_str))   # <class 'str'>\n",
    "print(type(my_bool))  # <class 'bool'>\n",
    "print(type(my_none))  # <class 'NoneType'>"
   ]
  },
  {
   "cell_type": "markdown",
   "id": "d6a6879f",
   "metadata": {},
   "source": [
    "### 3.3. Case Sensitivity\n",
    "\n",
    "Python is **case-sensitive**. This means that `myVariable` and `myvariable` would be treated as two different names.\n",
    "\n",
    "It is good practice to stick to one consistent naming style. In Python, the most common style is *snake_case*, where words are separated by underscores, for example: `my_variable`."
   ]
  },
  {
   "cell_type": "markdown",
   "id": "ed8d83be",
   "metadata": {},
   "source": [
    "### 3.4. Quick Practice\n",
    "\n",
    "Try these simple challenges:\n",
    "\n",
    "- Create a variable called `city` and assign your favourite city name as a string.\n",
    "- Create a variable called `temperature` and assign a decimal number (float).\n",
    "- Create a variable called `is_raining` and assign either `True` or `False`.\n",
    "\n",
    "Print the values of all your variables using the `print()` function!\n",
    "\n",
    "```{dropdown} 💡 Click here to see a possible solution\n",
    "```python\n",
    "city = \"London\"\n",
    "temperature = 18.5\n",
    "is_raining = True\n",
    "\n",
    "print(\"City:\", city)\n",
    "print(\"Temperature:\", temperature)\n",
    "print(\"Is it raining?\", is_raining)"
   ]
  }
 ],
 "metadata": {
  "kernelspec": {
   "display_name": "base",
   "language": "python",
   "name": "python3"
  },
  "language_info": {
   "codemirror_mode": {
    "name": "ipython",
    "version": 3
   },
   "file_extension": ".py",
   "mimetype": "text/x-python",
   "name": "python",
   "nbconvert_exporter": "python",
   "pygments_lexer": "ipython3",
   "version": "3.12.9"
  }
 },
 "nbformat": 4,
 "nbformat_minor": 5
}