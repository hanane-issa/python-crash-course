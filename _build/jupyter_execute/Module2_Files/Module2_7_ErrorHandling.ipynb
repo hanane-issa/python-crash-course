{
 "cells": [
  {
   "cell_type": "markdown",
   "id": "c88247d0",
   "metadata": {},
   "source": [
    "## 7. Error Handling\n",
    "\n",
    "### 7.1. What are Errors?\n",
    "\n",
    "In programming, **errors** (also called **exceptions**) are problems that occur during the execution of a programme. \n",
    "\n",
    "If errors are not handled, they can cause the programme to crash or to not carry out the code as intended.\n",
    "\n",
    "There are different types of errors which can be sorted into the following categories:\n",
    "\n",
    "- **Syntax errors**: Mistakes in the code that prevent Python from understanding it since it violates its rules (e.g., missing a colon).\n",
    "\n",
    "- **Logical errors**: Mistakes in using the correct logic leading to wrong outputs (e.g. using > instead of <)\n",
    "\n",
    "- **Runtime errors**: Problems that happen while the programme is running preventing it from compiling (e.g. dividing by zero).\n",
    "\n",
    "- **Time Limit Exceeded error**: Error when the code take to long to execute (e.g stuck in a while loop)"
   ]
  },
  {
   "cell_type": "code",
   "execution_count": 7,
   "id": "2ad90d5e",
   "metadata": {},
   "outputs": [
    {
     "ename": "SyntaxError",
     "evalue": "expected ':' (1567955280.py, line 2)",
     "output_type": "error",
     "traceback": [
      "  \u001b[36mCell\u001b[39m\u001b[36m \u001b[39m\u001b[32mIn[7]\u001b[39m\u001b[32m, line 2\u001b[39m\n\u001b[31m    \u001b[39m\u001b[31mif 5 > 2\u001b[39m\n            ^\n\u001b[31mSyntaxError\u001b[39m\u001b[31m:\u001b[39m expected ':'\n"
     ]
    }
   ],
   "source": [
    "# Syntax error example (missing colon):\n",
    "if 5 > 2\n",
    "    print(\"Five is greater than two\")"
   ]
  },
  {
   "cell_type": "code",
   "execution_count": null,
   "id": "fd84c7e8",
   "metadata": {},
   "outputs": [
    {
     "ename": "ZeroDivisionError",
     "evalue": "division by zero",
     "output_type": "error",
     "traceback": [
      "\u001b[31m---------------------------------------------------------------------------\u001b[39m",
      "\u001b[31mZeroDivisionError\u001b[39m                         Traceback (most recent call last)",
      "\u001b[36mCell\u001b[39m\u001b[36m \u001b[39m\u001b[32mIn[5]\u001b[39m\u001b[32m, line 8\u001b[39m\n\u001b[32m      6\u001b[39m a = \u001b[32m5\u001b[39m\n\u001b[32m      7\u001b[39m b = \u001b[32m0\u001b[39m\n\u001b[32m----> \u001b[39m\u001b[32m8\u001b[39m \u001b[38;5;28mprint\u001b[39m(\u001b[43ma\u001b[49m\u001b[43m \u001b[49m\u001b[43m/\u001b[49m\u001b[43m \u001b[49m\u001b[43mb\u001b[49m)  \u001b[38;5;66;03m# This will cause a ZeroDivisionError\u001b[39;00m\n",
      "\u001b[31mZeroDivisionError\u001b[39m: division by zero"
     ]
    }
   ],
   "source": [
    "# Runtime error example (dividing by zero):\n",
    "a = 5\n",
    "b = 0\n",
    "print(a / b)  # This will cause a ZeroDivisionError"
   ]
  },
  {
   "cell_type": "markdown",
   "id": "ae02fb4c",
   "metadata": {},
   "source": [
    "### 7.2. Using try-except Blocks\n",
    "\n",
    "You can **catch and handle** errors using a `try-except` block. This allows the programme to continue running even if something goes wrong.\n",
    "\n",
    "In the previous chapter, we saw how conditional blocks (`if-else`) allow a programme to choose between different actions. Similarly, `try-except` blocks allow a programme to react differently depending on whether an error occurs during execution. Python tries to execute the code inside the `try:` block. If an error occurs while executing the code in the block, it jumps to the `except:` block."
   ]
  },
  {
   "cell_type": "code",
   "execution_count": null,
   "id": "ca1de2cb",
   "metadata": {},
   "outputs": [
    {
     "name": "stdout",
     "output_type": "stream",
     "text": [
      "Cannot divide by zero!\n"
     ]
    }
   ],
   "source": [
    "a = 5\n",
    "b = 0\n",
    "\n",
    "try:\n",
    "    result = a / b\n",
    "    print(result)\n",
    "except:\n",
    "    print(\"Cannot divide by zero!\")\n",
    "\n"
   ]
  },
  {
   "cell_type": "markdown",
   "id": "c7285174",
   "metadata": {},
   "source": [
    "```{admonition} Tip About Specific Exceptions\n",
    ":class: tip\n",
    "\n",
    "It is good practice to catch **specific** exceptions, like `ZeroDivisionError`, instead of using a general `except:` whenever possible. This avoids hiding unexpected errors that you did not intend to catch."
   ]
  },
  {
   "cell_type": "markdown",
   "id": "7a48cb18",
   "metadata": {},
   "source": [
    "### 7.3. Catching Multiple Exception Types\n",
    "\n",
    "You can handle multiple different errors using multiple except blocks with each stating the `ErrorName` (e.g. ValueError) in the condition statement. Python checks each `except` block in order and runs the first one that matches the error.\n",
    "\n",
    "The exact error message can also be saved in a variable `error_variable` by adding an `as error_variable` at the end of the `except` statement, e.g. `except ValueError as value_error:`. You can also just write `except:` or `except Exception as error_variable:` to handle any error (and capture it)."
   ]
  },
  {
   "cell_type": "code",
   "execution_count": null,
   "id": "d439c4f8",
   "metadata": {},
   "outputs": [],
   "source": [
    "try:\n",
    "    x = int(input(\"Enter a number: \"))\n",
    "    result = 10 / x\n",
    "except ValueError as value_error:\n",
    "    # This will catch the ValueError if the input is not a valid integer\n",
    "    print(\"x is not a valid number. Error message:\", value_error)\n",
    "except ZeroDivisionError as zero_division_error:\n",
    "    # This will catch the ZeroDivisionError if x is zero\n",
    "    print(\"You cannot divide by zero. Error message:\", zero_division_error)\n",
    "except Exception as expected_error:\n",
    "    print(f\"An unexpected error occurred: {expected_error}\")"
   ]
  },
  {
   "cell_type": "markdown",
   "id": "4de18250",
   "metadata": {},
   "source": [
    "### 7.4. Other try-except associated blocks\n",
    "\n",
    "The `finally` block **always runs — whether an error occurred or not**. It can be added as a block after `try-except`. You can use it to clean up actions, such as closing files or displaying a final message.\n",
    "\n",
    "In the following example, `\"Execution complete.\"` is printed no matter what happens inside the try."
   ]
  },
  {
   "cell_type": "code",
   "execution_count": null,
   "id": "30932822",
   "metadata": {},
   "outputs": [
    {
     "name": "stdout",
     "output_type": "stream",
     "text": [
      "Cannot divide by zero!\n",
      "Execution completed.\n"
     ]
    }
   ],
   "source": [
    "try:\n",
    "    x = 10 / 0\n",
    "except ZeroDivisionError:\n",
    "    print(\"Cannot divide by zero!\")\n",
    "finally:\n",
    "    print(\"Execution completed.\")"
   ]
  },
  {
   "cell_type": "markdown",
   "id": "67836d6d",
   "metadata": {},
   "source": [
    "You can also add an `else` block after a `try-except`. The `else` block runs **only if no exception was raised**.\n",
    "\n",
    "```{admonition} Tip\n",
    ":class: tip\n",
    "\n",
    "The `else` block is useful when you want to separate the code that runs when everything goes smoothly from the code that handles errors."
   ]
  },
  {
   "cell_type": "code",
   "execution_count": null,
   "id": "b4b3e8ba",
   "metadata": {},
   "outputs": [
    {
     "name": "stdout",
     "output_type": "stream",
     "text": [
      "You entered: 10\n"
     ]
    }
   ],
   "source": [
    "try:\n",
    "    number = int(input(\"Enter a number: \"))\n",
    "except ValueError:\n",
    "    print(\"Invalid input.\")\n",
    "else:\n",
    "    print(f\"You entered: {number}\")"
   ]
  },
  {
   "cell_type": "markdown",
   "id": "ab313db7",
   "metadata": {},
   "source": [
    "### 7.5. Logic errors\n",
    "\n",
    "`try-except` statements are very useful but they can only capture errors that interrupt the code / hinder it from being carried out. Often the code syntax is completely correct but its output is still wrong. These are due the code having a logic error somewhere. These errors are often a lot harder to capture or one might not even be aware of them. Make sure that you output your intermediate results, double-check all your code (for example by testing a sub-part of it whether it does what it should do - these are called *Unit tests* which are out of the scope of this tutorial but there exist various sources online), and add useful comments and variable names to reduced the chance of getting a logic error and/ or not being able to identify where it comes from."
   ]
  },
  {
   "cell_type": "markdown",
   "id": "55649337",
   "metadata": {},
   "source": [
    "### 7.6. Quick Practice\n",
    "\n",
    "Try this challenge:\n",
    "- Create two variables, `a` and `b`, where `b` is initially set to 0.\n",
    "- Write a `try-except` block that tries to divide `a` by `b`.\n",
    "- Catch and handle the `ZeroDivisionError` by printing a friendly error message and the actual message returned.\n",
    "- Add a finally block that prints `\"Finished division attempt.\"`.\n"
   ]
  },
  {
   "cell_type": "code",
   "execution_count": null,
   "id": "1c10d52a",
   "metadata": {},
   "outputs": [],
   "source": [
    "# Put your code here"
   ]
  },
  {
   "cell_type": "markdown",
   "id": "8b2929da",
   "metadata": {},
   "source": [
    "```{dropdown} 💡 Solution\n",
    "```python\n",
    "a = 10\n",
    "b = 0\n",
    "\n",
    "try:\n",
    "    result = a / b\n",
    "except ZeroDivisionError as error_message:\n",
    "    print(\"You tried to divide by zero.\")\n",
    "    print(\"The error message was:\", error_message)\n",
    "finally:\n",
    "    print(\"Finished division attempt.\")"
   ]
  }
 ],
 "metadata": {
  "kernelspec": {
   "display_name": "jupyter_course_venv",
   "language": "python",
   "name": "python3"
  },
  "language_info": {
   "codemirror_mode": {
    "name": "ipython",
    "version": 3
   },
   "file_extension": ".py",
   "mimetype": "text/x-python",
   "name": "python",
   "nbconvert_exporter": "python",
   "pygments_lexer": "ipython3",
   "version": "3.13.2"
  }
 },
 "nbformat": 4,
 "nbformat_minor": 5
}