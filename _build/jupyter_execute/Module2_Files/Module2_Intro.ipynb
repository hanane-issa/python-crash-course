{
 "cells": [
  {
   "cell_type": "markdown",
   "id": "7c166203",
   "metadata": {},
   "source": [
    "# M2: Introduction\n",
    "\n",
    "## 1. What is Python?\n",
    "\n",
    "Python is one of the most popular programming languages in the world today, and it’s used across all kinds of fields, including Bioinformatics. One big reason for its popularity is its simple, easy-to-learn syntax that feels a bit like natural language. This makes Python straightforward to write, learn, and read.\n",
    "\n",
    "Python is a general-purpose language, which means you can use it for lots of different tasks. There's also a huge collection of free, open-source Python packages and libraries that make it even more powerful. During this course, you'll get to know some of the ones that are especially handy for Bioinformatics, like `numpy` and `pandas`.\n",
    "\n",
    "Python is also an object-oriented programming (OOP) language. This means that code is organised around \"objects\" (i.e., pieces of data) rather than just functions or logical steps. This way of organising things can make it much easier to manage more complex projects. If this idea doesn’t quite make sense yet, don't worry! We'll come back to it later in Chapter ... .\n",
    "\n",
    "For now, let’s focus on getting comfortable with Python's basic syntax and building blocks. As we go along, we'll use examples from Bioinformatics so you can see how everything connects to real-world problems you're interested in.\n",
    "\n",
    "## 2. Python Syntax Basics\n",
    "\n",
    "Before we dive deeper, it’s important to get a feel for how Python code is organised — in other words, its syntax.\n",
    "\n",
    "### 2.1. Indentation and Code Blocks\n",
    "\n",
    "In Python, each new statement normally starts on a new line. This means you don't need to end each line with a semicolon `;`, unlike in some other programming languages.\n",
    "\n",
    "Python also uses **indentation** to define blocks of code. In other languages, you might see curly braces `{}` or keywords to group code together. In Python, you just add spaces or a tab at the beginning of a line to show that it belongs to a block. One indent is usually either one tab (<kbd>Tab</kbd>) or four spaces (<kbd>Space</kbd>). \n",
    "\n",
    "When you indent a line, you’re creating a \"child\" of the previous line. Usually, a \"parent\" line ends with a colon `:` (you’ll see more examples when we cover conditionals later in Chapter [](M2-conditional-blocks-header)). You can also have multiple blocks nested inside each other. \n",
    "\n",
    "To end a block, just remove the indentation (using <kbd>Shift</kbd> + <kbd>Tab</kbd>). It’s also a good habit to leave a blank line between big blocks of code to make everything easier to read."
   ]
  },
  {
   "cell_type": "markdown",
   "id": "355ead63",
   "metadata": {},
   "source": [
    "```python\n",
    "if im_a_parent:\n",
    "    if im_a_child:\n",
    "        if im_a_grandchild:\n",
    "            print(\"I am a grandchild!\")\n",
    "        if im_a_second_grandchild:\n",
    "            print(\"I am another grandchild!\")\n",
    "    if im_a_second_child:\n",
    "        if im_a_third_grandchild:\n",
    "            print(\"I am the third grandchild!\")\n",
    "\n",
    "if im_a_new_parent:\n",
    "    if im_a_new_child:\n",
    "        print(\"I am a new child!\")\n",
    "```"
   ]
  },
  {
   "cell_type": "markdown",
   "id": "38404be2",
   "metadata": {},
   "source": [
    "These syntax rules not only help to keep your code neat, but also make it easier and quicker to write, and eliminate common mistakes (such as forgetting to put a semicolon at the end of a line).\n",
    "\n",
    "Below is an example of an `if` statement using indentation. The `if` statement checks whether the `age` variable is greater than 18. The line `print(\"You are an adult.\")` is indented to show that it belongs to — or is a child of — the `if` statement’s code block. This line is only executed if `age` is greater than 18. \n",
    "\n",
    "Do not worry if you are not yet familiar with the specific details in the code snippet — we will learn them throughout this course! The most important takeaway here is that **consistent indentation is crucial**. If the indentation in your code is inconsistent, Python will raise an *error*!"
   ]
  },
  {
   "cell_type": "code",
   "execution_count": null,
   "id": "deec581e",
   "metadata": {},
   "outputs": [
    {
     "name": "stdout",
     "output_type": "stream",
     "text": [
      "You are an adult.\n"
     ]
    }
   ],
   "source": [
    "age = 20\n",
    "\n",
    "if age > 18:\n",
    "    print(\"You are an adult.\")"
   ]
  },
  {
   "cell_type": "markdown",
   "id": "56351bd3",
   "metadata": {},
   "source": [
    "### 2.2. Comments\n",
    "\n",
    "**Comments** are lines or parts of lines that Python does not execute. They can be used to explain your code. It is very useful to have comments throughout your code. When other people read your code (or even when you read it yourself later), it is often difficult to understand what it is trying to achieve based on the executable lines alone. Having comments alongside the code, explaining its purpose, makes understanding it a lot easier.\n",
    "\n",
    "Comments are also useful when debugging, as they can be used to temporarily disable lines of code. Just remember to either uncomment or delete these lines later to keep your code neat!\n",
    "\n",
    "There are two types of comments: **single-line comments** and **multi-line comments**.\n",
    "\n",
    "- **Single-line comments:** Start the comment text with a hashtag `#`, for example:"
   ]
  },
  {
   "cell_type": "code",
   "execution_count": 3,
   "id": "51205845",
   "metadata": {},
   "outputs": [
    {
     "name": "stdout",
     "output_type": "stream",
     "text": [
      "Hello, World!\n"
     ]
    }
   ],
   "source": [
    "# This is a single-line comment.\n",
    "print(\"Hello, World!\")  # This part is also a comment."
   ]
  },
  {
   "cell_type": "markdown",
   "id": "6f8b27b6",
   "metadata": {},
   "source": [
    "- **Multi-line comments:** Use triple quotes (`\"\"\"` or `'''`) around the comment text, for example:"
   ]
  },
  {
   "cell_type": "markdown",
   "id": "226e9e28",
   "metadata": {},
   "source": [
    "```python\n",
    "\"\"\"\n",
    "This is a multi-line comment.\n",
    "It can span multiple lines.\n",
    "\"\"\"\n",
    "````"
   ]
  },
  {
   "cell_type": "markdown",
   "id": "27d24f6b",
   "metadata": {},
   "source": [
    "### 2.3. Basic Print Statements\n",
    "\n",
    "While not technically part of the syntax rules, the `print()` function is a very useful feature, which is why we introduce it early. It is used to display output on the screen. You can quickly check whether your code is working as expected by printing results at different stages."
   ]
  },
  {
   "cell_type": "code",
   "execution_count": 1,
   "id": "707c266f",
   "metadata": {},
   "outputs": [
    {
     "name": "stdout",
     "output_type": "stream",
     "text": [
      "Hello, Python!\n"
     ]
    }
   ],
   "source": [
    "print(\"Hello, Python!\")"
   ]
  },
  {
   "cell_type": "markdown",
   "id": "f63d5396",
   "metadata": {},
   "source": [
    "### 2.4. Practice Example\n",
    "\n",
    "We have reached the end of the first chapter! You should now be able to write your first snippet of Python code. Let's start with the standard first programme: printing 'Hello, World!'.\n",
    "\n",
    "To practise the syntax, we will create an `if` statement (similar to the example before) that calls the `print()` function if the variable `say_hello` is `True`. We will also add both multi-line and single-line comments to explain our code.\n",
    "\n",
    "Putting this all together, we get the following:"
   ]
  },
  {
   "cell_type": "code",
   "execution_count": null,
   "id": "22813bf6",
   "metadata": {},
   "outputs": [
    {
     "name": "stdout",
     "output_type": "stream",
     "text": [
      "Hello World!\n"
     ]
    }
   ],
   "source": [
    "\"\"\"\n",
    "Example of a simple if statement with indentation.\n",
    "It will print 'Hello, World!' if say_hello is True.\n",
    "\"\"\"\n",
    "\n",
    "say_hello = True\n",
    "\n",
    "if say_hello:\n",
    "    print(\"Hello, World!\")"
   ]
  },
  {
   "cell_type": "markdown",
   "id": "dbe46f01",
   "metadata": {},
   "source": [
    "```{admonition} 🎯 Mini-Challenge: Test Your Code\n",
    ":class: tip\n",
    "\n",
    "Try changing the value of `say_hello` to `False`.\n",
    "\n",
    "What happens when you run the code now?\n",
    "\n",
    "```{dropdown} 💡 Hint\n",
    "Because the condition in the `if` statement is no longer `True`, the `print()` line will not be executed!"
   ]
  }
 ],
 "metadata": {
  "kernelspec": {
   "display_name": "base",
   "language": "python",
   "name": "python3"
  },
  "language_info": {
   "codemirror_mode": {
    "name": "ipython",
    "version": 3
   },
   "file_extension": ".py",
   "mimetype": "text/x-python",
   "name": "python",
   "nbconvert_exporter": "python",
   "pygments_lexer": "ipython3",
   "version": "3.12.9"
  }
 },
 "nbformat": 4,
 "nbformat_minor": 5
}