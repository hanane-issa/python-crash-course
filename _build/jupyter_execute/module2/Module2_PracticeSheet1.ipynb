{
 "cells": [
  {
   "cell_type": "markdown",
   "id": "b19a89d9",
   "metadata": {},
   "source": [
    "# M2: Practice Sheet\n",
    "\n",
    "Congratulations, you have made it to the end of the second module!\n",
    "\n",
    "This module covered a lot of information very quickly, so this excercice sheet is to help you practice your gained knowledge. Ideally, you should either download this page or open it in GoogleColab / Binder (by clicking the spaceship icon on the top right), so that you can interact freely with it and add as many cells as you want. Other else you can also use the Live Button as before to run your code directly here."
   ]
  },
  {
   "cell_type": "markdown",
   "id": "6aa18133",
   "metadata": {},
   "source": [
    "```{admonition} Tip\n",
    ":class: tip\n",
    "\n",
    "As a recap, here is the most important information that was covered in this module:\n",
    "\n",
    "- Values can be stored in variables, making them easy to recall, use, and manipulate.\n",
    "\n",
    "- Variables are defined using equal signs `=` and can be changed by reassigning a new value.\n",
    "\n",
    "- Each variable has a data type defining what type of information it contains and how it can be manipulated. Python automatically infers the data type from the value.\n",
    "\n",
    "- Common data types are numerical data (integers and floats), booleans, and strings.\n",
    "\n",
    "- Other data types are sequence types/data structures which store multiple data points, e.g. tuples `()`, lists `[]`, sets `{}`, and dictionaries `{key: value}`.\n",
    "\n",
    "- Each data type has specific functions, methods, and operators that can be used to manipulate them, e.g. arithmetic operators, comparison operators, and logical operators.\n",
    "\n",
    "- To make manipulations easier, one can define conditional blocks, which specify which block should be carried out, how often, and with which variable values.\n",
    "\n",
    "- Running into errors is normal – clear variable names, comments, print statements, and try-except statements are your best friends in identifying where they come from."
   ]
  },
  {
   "cell_type": "markdown",
   "id": "cf7516ed",
   "metadata": {},
   "source": [
    "You will use the knowledge you have gained to analyse synthesised patient data. For each of our ten patients, we will know their gender, age, height, weight, smoking status, and any diseases they have. You will create data structures that contain information about different patients, and then use conditional blocks and operations to gain insights into them."
   ]
  },
  {
   "cell_type": "markdown",
   "id": "dbb948cd",
   "metadata": {},
   "source": [
    "Let’s start with patient 1: she is female, 25 years old, 1.75 m tall, weighs 70.9 kg, does not smoke, and has asthma and diabetes. For each of these properties, create a variable and store the corresponding value in it. The diseases she has should be stored in a tuple, and the smoking status should be saved as `True` or `False`."
   ]
  },
  {
   "cell_type": "code",
   "execution_count": 1,
   "id": "455215f8",
   "metadata": {},
   "outputs": [],
   "source": [
    "# Your code goes here"
   ]
  },
  {
   "cell_type": "markdown",
   "id": "c846e092",
   "metadata": {},
   "source": [
    "Can you infer what type each of the variables has? First, make a guess, then print the value and the type of each variable. What type does each of the entries in the tuple (i.e. the diseases) have? Do you have an idea of how to check the type of an entry in a data structure? (Remember how we access a specific value in a tuple.)"
   ]
  },
  {
   "cell_type": "code",
   "execution_count": 2,
   "id": "9e31b220",
   "metadata": {},
   "outputs": [],
   "source": [
    "# Your code goes here"
   ]
  },
  {
   "cell_type": "markdown",
   "id": "9a9b2866",
   "metadata": {},
   "source": [
    "Oh no, I made a mistake when I told you the information about the participant — their age is actually 35. Could you please update the age variable and print the new value? I'm also curious about how many diseases patient 1 has. Print this information using a function to access the number of entries in the tuple."
   ]
  },
  {
   "cell_type": "code",
   "execution_count": 3,
   "id": "0c7aed70",
   "metadata": {},
   "outputs": [],
   "source": [
    "# Your code goes here"
   ]
  },
  {
   "cell_type": "markdown",
   "id": "3189c11f",
   "metadata": {},
   "source": [
    "Amazing, we have all the information about participant 1! However, saving each piece of information in an individual variable is quite a hassle. Let’s use a data structure to get a better overview of the values. Create a list where each entry is one of the variables in the following order: gender, age, weight, height, and smoking status.\n",
    "\n",
    "```{admonition} Tip\n",
    ":class: tip\n",
    "You can either use the actual values directly when defining the list, or use the variable names — the list will automatically include their current values."
   ]
  },
  {
   "cell_type": "code",
   "execution_count": 4,
   "id": "569a3084",
   "metadata": {},
   "outputs": [],
   "source": [
    "# Your code goes here"
   ]
  },
  {
   "cell_type": "markdown",
   "id": "a1ef6267",
   "metadata": {},
   "source": [
    "I’m sorry, I completely forgot about the diseases. Please append the list with the diseases tuple. I also realised that height and weight were switched around. Reassign the value at the height position to the weight value, and the value at the weight position to the height value.\n",
    "\n",
    "The list should now consist of the following entries: gender, age, height, weight, smoking status, and diseases. Print the full list to make sure everything is correct."
   ]
  },
  {
   "cell_type": "markdown",
   "id": "ffb5e7cc",
   "metadata": {},
   "source": [
    "```{dropdown} 💡 Solution\n",
    "```python\n",
    "# Defining clinical information for participant 1\n",
    "participant1_gender = 'female'\n",
    "participant1_age = 25\n",
    "participant1_weight = 70.9\n",
    "participant1_height = 1.75\n",
    "participant1_smoking = False\n",
    "participant1_diseases = ('Asthma', 'Diabetes')\n",
    "\n",
    "# Print the data type of each variable\n",
    "print('Information about participant 1:')\n",
    "print(f'Their gender is {participant1_gender} which is of type {type(participant1_gender)}')\n",
    "print(f'Their age is {participant1_age} which is of type {type(participant1_age)}')\n",
    "print(f'Their weight is {participant1_weight} which is of type {type(participant1_weight)}')\n",
    "print(f'Their height is {participant1_height} which is of type {type(participant1_height)}')\n",
    "print(f'Their smoking status is {participant1_smoking} which is of type {type(participant1_smoking)}')\n",
    "print(f'Their diseases are {participant1_diseases} which is of type {type(participant1_diseases)} with the diseases being type {type(participant1_diseases[0])} and {type(participant1_diseases[1])}')\n",
    "\n",
    "# Changing participant's age to 35\n",
    "participant1_age = 35\n",
    "print(f'Their age is now {participant1_age} which is {type(participant1_age)}')\n",
    "\n",
    "# Print the number of diseases\n",
    "print(f'The number of diseases is {len(participant1_diseases)}')\n",
    "\n",
    "# Put all the variables in a list\n",
    "participant1_information = [participant1_gender, participant1_age, participant1_weight, participant1_height, participant1_smoking]\n",
    "print(f'Participant 1 information is: {participant1_information} which is of type {type(participant1_information)}')\n",
    "\n",
    "# Append diseases to the list\n",
    "participant1_information.append(participant1_diseases)\n",
    "\n",
    "# Swap the height and weight values\n",
    "participant1_information[3] = participant1_weight\n",
    "participant1_information[2] = participant1_height\n",
    "\n",
    "# Print the corrected list\n",
    "print(f'participant 1 information is now fixed: {participant1_information}')"
   ]
  },
  {
   "cell_type": "markdown",
   "id": "5bc1434d",
   "metadata": {},
   "source": [
    "Amazing — we have all the information we need from participant 1!\n",
    "\n",
    "Let’s get the information for participant 2: he is male, 40 years old, 1.79 m tall, weighs 103.4 kg, smokes, and does not have any diseases.\n",
    "\n",
    "Create a list with all the information for participant 2 in the same order as for participant 1 (i.e. gender, age, height, weight, smoking status, diseases). You can choose whether to insert the values directly into the list or to create individual variables first. Even though participant 2 does not have any diseases, we still want to include a tuple so that the list has the same number of entries as participant 1. Do you have an idea how to create an empty tuple? (See the hint if not.)\n",
    "\n",
    "Print the final list."
   ]
  },
  {
   "cell_type": "markdown",
   "id": "0a0f6fd8",
   "metadata": {},
   "source": [
    "```{dropdown} 💡 Hint\n",
    "\n",
    "You can create an empty data structure by simply defining it without any values.  \n",
    "For example, the diseases for participant 2 would be defined as:\n",
    "\n",
    "```python\n",
    "participant2_diseases = ()"
   ]
  },
  {
   "cell_type": "code",
   "execution_count": 5,
   "id": "443b63d7",
   "metadata": {},
   "outputs": [],
   "source": [
    "# Your code goes here"
   ]
  },
  {
   "cell_type": "markdown",
   "id": "cce9f0a9",
   "metadata": {},
   "source": [
    "```{dropdown} 💡 Solution\n",
    "```python\n",
    "# Defining clinical information for participant 2\n",
    "participant2_information = ['male', 40, 1.79, 103.4, True, ()]\n",
    "\n",
    "# Printing the final list\n",
    "print(f'Participant 2 information is: {participant2_information}')"
   ]
  },
  {
   "cell_type": "markdown",
   "id": "9d1ea667",
   "metadata": {},
   "source": [
    "Great, we have recorded the information for participants 1 and 2. We have ten participants in total, so eight more to go:\n",
    "\n",
    "| Participant    | Gender   | Age | Height | Weight   | Smoking? | Diseases |\n",
    "| -------------- | ------   | --- | -------| -------- | -------- | -------- |\n",
    "| 3              | male     | 18  | 1.75   | 85.1     | True     | Lung cancer |     \n",
    "| 4              | female   | 83  | 1.63   | 55.9     | False    | Cardiovascular disease, Alzheimer's |  \n",
    "| 5              | female   | 55  | 1.68   | 50.0     | False    | Asthma, Anxiety |  \n",
    "| 6              | female   | 32  | 1.59   | 64.0     | True     | Diabetes |  \n",
    "| 7              | male     | 21  | 1.90   | 92.9     | False    | Asthma, Colon cancer  |  \n",
    "| 8              | male     | 46  | 1.71   | 75.4     | False    |  |\n",
    "| 9              | female   | 32  | 1.66   | 90.7     | True     | Depression |  \n",
    "| 10             | male     | 67  | 1.78   | 82.3     | False    | Anxiety, Diabetes, Cardiovascular disease|    \n",
    "\n",
    "You can either create a list for each participant in the same way you did for participant 2, or you can copy the code in the next hidden solution segment if you’d prefer not to input all the values manually.\n",
    "\n",
    "```{admonition} Note\n",
    ":class: note\n",
    "\n",
    "If a participant has only **one disease**, make sure to include a **comma** after the disease name when creating the tuple — for example:\n",
    "\n",
    "```python\n",
    "('Lung cancer',)"
   ]
  },
  {
   "cell_type": "markdown",
   "id": "3342f588",
   "metadata": {},
   "source": [
    "```{dropdown} 💡 Solution\n",
    "```python\n",
    "'''\n",
    "Overview of the clinical information for each participant:\n",
    "\n",
    "| Participant | Gender | Age | Height | Weight | Smoking? | Diseases |\n",
    "|-------------|--------|-----|--------|--------|----------|----------|\n",
    "| 3           | male   | 18  | 1.75   | 85.1   | True     | Lung cancer |\n",
    "| 4           | female | 83  | 1.63   | 55.9   | False    | Cardiovascular disease, Alzheimer’s |\n",
    "| 5           | female | 55  | 1.68   | 50.0   | False    | Asthma, Anxiety |\n",
    "| 6           | female | 32  | 1.59   | 64.0   | True     | Diabetes |\n",
    "| 7           | male   | 21  | 1.90   | 92.9   | False    | Asthma, Colon cancer |\n",
    "| 8           | male   | 46  | 1.71   | 75.4   | False    | |\n",
    "| 9           | female | 32  | 1.66   | 90.7   | True     | Depression |\n",
    "| 10          | male   | 67  | 1.78   | 82.3   | False    | Anxiety, Diabetes, Cardiovascular disease |\n",
    "'''\n",
    "\n",
    "# Defining clinical information for each participant\n",
    "participant3_information = ['male', 18, 1.75, 85.1, True, ('Lung cancer',)]\n",
    "participant4_information = ['female', 83, 1.63, 55.9, False, ('Cardiovascular disease', 'Alzheimer’s')]\n",
    "participant5_information = ['female', 55, 1.68, 50.0, False, ('Asthma', 'Anxiety')]\n",
    "participant6_information = ['female', 32, 1.59, 64.0, True, ('Diabetes',)]\n",
    "participant7_information = ['male', 21, 1.90, 92.9, False, ('Asthma', 'Colon cancer')]\n",
    "participant8_information = ['male', 46, 1.71, 75.4, False, ()]\n",
    "participant9_information = ['female', 32, 1.66, 90.7, True, ('Depression',)]\n",
    "participant10_information = ['male', 67, 1.78, 82.3, False, ('Anxiety', 'Diabetes', 'Cardiovascular disease')]\n",
    "\n",
    "# Example output\n",
    "print(participant9_information)"
   ]
  },
  {
   "cell_type": "markdown",
   "id": "98c407a8",
   "metadata": {},
   "source": [
    "Wow, that’s a lot of information! Even though we’ve put the properties of each patient into a list, we still have ten separate lists. Let’s create a dictionary to make it easier to access the information for each participant.\n",
    "\n",
    "Create a dictionary where each key is the participant (e.g. `participant1`) and the value is the corresponding list. Print the complete dictionary. Then, print only the information for participant 7."
   ]
  },
  {
   "cell_type": "code",
   "execution_count": 6,
   "id": "27579ea6",
   "metadata": {},
   "outputs": [],
   "source": [
    "# Your code goes here"
   ]
  },
  {
   "cell_type": "markdown",
   "id": "e48578c0",
   "metadata": {},
   "source": [
    "```{dropdown} 💡 Solution\n",
    "```python\n",
    "# Create the dictionary from the individual lists\n",
    "participants_clinical_information = {\n",
    "    'participant1': participant1_information,\n",
    "    'participant2': participant2_information,\n",
    "    'participant3': participant3_information,\n",
    "    'participant4': participant4_information,\n",
    "    'participant5': participant5_information,\n",
    "    'participant6': participant6_information,\n",
    "    'participant7': participant7_information,\n",
    "    'participant8': participant8_information,\n",
    "    'participant9': participant9_information,\n",
    "    'participant10': participant10_information\n",
    "}\n",
    "\n",
    "# Print the full dictionary\n",
    "print(\"All participants' clinical information:\")\n",
    "print(participants_clinical_information)\n",
    "\n",
    "# Now we can access each participant's information using their key\n",
    "print(\"Participant 7's information:\")\n",
    "print(participants_clinical_information['participant7'])"
   ]
  },
  {
   "cell_type": "markdown",
   "id": "7c1a80a1",
   "metadata": {},
   "source": [
    "Great! We now have the data for all our participants saved in an easy-to-access format. Now we can finally start learning something from it.\n",
    "\n",
    "Let’s begin with something simple: we want to access and print the age of each participant. To do this, we’ll loop through our dictionary. When we use the `for variable_name in data_structure:` statement with dictionaries, we loop through each key — in our case, the participant identifiers.\n",
    "\n",
    "We can then use the key to access the corresponding value in the dictionary (which is the list containing the participant’s medical information).\n",
    "\n",
    "To get a feel for this, start by writing a `for` loop. Inside the block, print the variable (i.e. the key) and the corresponding dictionary entry (i.e. the participant’s list of clinical information)."
   ]
  },
  {
   "cell_type": "code",
   "execution_count": 7,
   "id": "452a8e7c",
   "metadata": {},
   "outputs": [],
   "source": [
    "# Your code goes here (should only be 2 or 3 lines long)"
   ]
  },
  {
   "cell_type": "markdown",
   "id": "4d98f170",
   "metadata": {},
   "source": [
    "```{dropdown} 💡 Solution\n",
    "```python\n",
    "for participant in participants_clinical_information:\n",
    "    print(f\"{participant}'s information is: {participants_clinical_information[participant]}\")"
   ]
  },
  {
   "cell_type": "markdown",
   "id": "c4d42a78",
   "metadata": {},
   "source": [
    "Now that this is working, replace the print statement of the dictionary entry with a new variable called `participant_information`, which you assign to the dictionary entry for the current key. This variable now represents the list of clinical information for that participant. You can then print the **age**, which is the second item in the list (i.e. index 1 of the `participant_information` variable)."
   ]
  },
  {
   "cell_type": "code",
   "execution_count": 8,
   "id": "92e21def",
   "metadata": {},
   "outputs": [],
   "source": [
    "# Your code goes here"
   ]
  },
  {
   "cell_type": "markdown",
   "id": "12790ef8",
   "metadata": {},
   "source": [
    "```{dropdown} 💡 Solution\n",
    "```python\n",
    "for participant in participants_clinical_information:\n",
    "    participant_information = participants_clinical_information[participant]\n",
    "    print(f\"{participant} is {participant_information[1]} years old\")"
   ]
  },
  {
   "cell_type": "markdown",
   "id": "ade54b87",
   "metadata": {},
   "source": [
    "Well done! Let’s try something a bit more challenging: we want to find out which diseases are common in our population. To do this, we need to identify all the **unique diseases** and count how often each one appears in our data.\n",
    "\n",
    "As a first step, repeat what we did above — but this time, instead of printing the age, print each participant’s **diseases**."
   ]
  },
  {
   "cell_type": "code",
   "execution_count": 9,
   "id": "ebfb10a5",
   "metadata": {},
   "outputs": [],
   "source": [
    "# Your code goes here"
   ]
  },
  {
   "cell_type": "markdown",
   "id": "c31fcc25",
   "metadata": {},
   "source": [
    "Secondly, we will now save all of the diseases in a single list. To do this, create an empty list **above** the `for` loop. Then, inside the `for` loop — after printing the diseases — add them to the list you’ve just created.\n",
    "\n",
    "You can use the `.extend(data_structure)` method instead of `.append()`, so that each entry in the tuple is added as an individual element to your list (rather than the entire tuple being added as one item).\n",
    "\n",
    "Once the loop is complete, print the final list of diseases."
   ]
  },
  {
   "cell_type": "code",
   "execution_count": 10,
   "id": "a4bb1726",
   "metadata": {},
   "outputs": [],
   "source": [
    "# Your code goes here"
   ]
  },
  {
   "cell_type": "markdown",
   "id": "c338562a",
   "metadata": {},
   "source": [
    "Amazing — we now have all the diseases stored in a list! Next, we want to find out which **unique** diseases participants have overall.\n",
    "\n",
    "Can you remember which data structure only contains unique entries? That’s right — **sets**.\n",
    "\n",
    "Create a new variable that is a set created from the list of diseases.\n",
    "\n",
    "```{admonition} 💡 Tip\n",
    ":class: tip\n",
    "You can convert one data structure into another using the syntax `data_structure_name(data_structure_variable)`.\n",
    "In this case, `data_structure_name` is set, and `data_structure_variable` is your list of all diseases."
   ]
  },
  {
   "cell_type": "code",
   "execution_count": 11,
   "id": "cbc9e669",
   "metadata": {},
   "outputs": [],
   "source": [
    "# Your code goes here"
   ]
  },
  {
   "cell_type": "markdown",
   "id": "d75c2e76",
   "metadata": {},
   "source": [
    "Now that we have our unique set of diseases, let’s loop through it. For each entry (i.e. each disease), print its name and how often it appears in the list of all diseases.\n",
    "\n",
    "To do this, use the `.count(value)` method — where `value` is the name of the disease. This method returns the number of times the specified value appears in the list."
   ]
  },
  {
   "cell_type": "code",
   "execution_count": 12,
   "id": "b38f8c1e",
   "metadata": {},
   "outputs": [],
   "source": [
    "# Your code goes here"
   ]
  },
  {
   "cell_type": "markdown",
   "id": "3840f894",
   "metadata": {},
   "source": [
    "```{dropdown} 💡 Solution\n",
    "```python\n",
    "# Create an empty list to store all diseases\n",
    "diseases_list = []\n",
    "\n",
    "# Loop through participants and collect diseases\n",
    "for participant in participants_clinical_information:\n",
    "    participant_information = participants_clinical_information[participant]\n",
    "    print(f\"{participant} has the following diseases: {participant_information[5]}\")\n",
    "    diseases_list.extend(participant_information[5])  # use extend to unpack the tuple\n",
    "\n",
    "# Print all diseases collected\n",
    "print(\"\\nThe following diseases are present among the participants:\")\n",
    "print(diseases_list)\n",
    "\n",
    "# Create a set to get unique diseases\n",
    "unique_diseases = set(diseases_list)\n",
    "\n",
    "# Loop through the unique diseases and count occurrences\n",
    "print(\"\\nOccurrences of each unique disease:\")\n",
    "for disease in unique_diseases:\n",
    "    print(f\"- {disease} occurs {diseases_list.count(disease)} time(s)\")"
   ]
  },
  {
   "cell_type": "markdown",
   "id": "a76b9c51",
   "metadata": {},
   "source": [
    "Amazing — you’re already becoming an expert in `for` loops, which is fantastic as you’ll be using them a lot!\n",
    "\n",
    "Let’s return to our dictionary containing information for all participants. This time, we want to compute the BMI for each participant using the formula:\n",
    "$\\begin{equation}\\text{BMI} = \\frac{\\text{weight}}{\\text{height}^2}.\\end{equation}$ \n",
    "\n",
    "Loop through each participant, calculate their BMI, and check whether it falls into one of the following categories:\n",
    "\n",
    "• **Underweight**: BMI less than 18.5\n",
    "\n",
    "• **Normal range**: BMI between 18.5 and 25 (inclusive)\n",
    "\n",
    "• **Overweight**: BMI over 25\n",
    "\n",
    "\n",
    "Use `if-elif-else` statements (you should have three conditions in total).\n",
    "\n",
    "For each participant, print their number, gender, BMI value, and whether they are underweight, in the normal range, or overweight."
   ]
  },
  {
   "cell_type": "code",
   "execution_count": 13,
   "id": "21e5ebfa",
   "metadata": {},
   "outputs": [],
   "source": [
    "# Your code goes here"
   ]
  },
  {
   "cell_type": "markdown",
   "id": "99930081",
   "metadata": {},
   "source": [
    "```{dropdown} 💡 Solution\n",
    "```python\n",
    "for participant in participants_clinical_information:\n",
    "    # Get the participant's information\n",
    "    participant_information = participants_clinical_information[participant]\n",
    "\n",
    "    # Compute the BMI (BMI = weight / height²)\n",
    "    bmi = participant_information[3] / (participant_information[2] ** 2)\n",
    "\n",
    "    # Check BMI category and print result\n",
    "    if bmi < 18.5:\n",
    "        print(f\"{participant} ({participant_information[0]}) is underweight with a BMI of {bmi:.1f}.\")\n",
    "    elif 18.5 <= bmi <= 25:\n",
    "        print(f\"{participant} ({participant_information[0]}) is in the normal range with a BMI of {bmi:.1f}.\")\n",
    "    else:\n",
    "        print(f\"{participant} ({participant_information[0]}) is overweight with a BMI of {bmi:.1f}.\")"
   ]
  },
  {
   "cell_type": "markdown",
   "id": "a1ac378c",
   "metadata": {},
   "source": [
    "We’ve already used a for loop to go through all participants and calculate their BMI.\n",
    "Now let’s make our program a bit more flexible: we’ll let it look up and print the BMI for one participant at a time, and we’ll use a while loop to keep going until we decide to stop."
   ]
  },
  {
   "cell_type": "markdown",
   "id": "c60ee539",
   "metadata": {},
   "source": [
    "Use a while loop to repeatedly:\n",
    "\n",
    "1. Ask the user for a participant number (1–10).\n",
    "\n",
    "2. Look up their information in the dictionary.\n",
    "\n",
    "3. Calculate and print their BMI and weight category (underweight, normal range, or overweight).\n",
    "\n",
    "4. Stop the loop when the user types `\"exit\"`.\n",
    "\n",
    "```{admonition} 💡 New: Asking for input\n",
    ":class: tip\n",
    "\n",
    "You can ask the user to type something in using the `input()` function.\n",
    "\n",
    "The value returned by `input()` is always a string, even if the user types a number.  \n",
    "You can combine it with other code like this:\n",
    "\n",
    "```python\n",
    "participant_number = input(\"Enter a number: \")\n",
    "key = \"participant\" + participant_number"
   ]
  },
  {
   "cell_type": "markdown",
   "id": "976a74d9",
   "metadata": {},
   "source": [
    "```{dropdown} 💡 Solution\n",
    "```python\n",
    "while True:\n",
    "    user_input = input(\"Enter a participant number (1–10), or type 'exit' to stop: \")\n",
    "\n",
    "    if user_input == 'exit':\n",
    "        break  # stop the loop\n",
    "\n",
    "    key = 'participant' + user_input\n",
    "\n",
    "    if key in participants_clinical_information:\n",
    "        info = participants_clinical_information[key]\n",
    "        bmi = info[3] / (info[2] ** 2)\n",
    "\n",
    "        if bmi < 18.5:\n",
    "            category = 'underweight'\n",
    "        elif bmi <= 25:\n",
    "            category = 'in the normal range'\n",
    "        else:\n",
    "            category = 'overweight'\n",
    "\n",
    "        print(f\"{key} ({info[0]}) has a BMI of {bmi:.1f} and is {category}.\")\n",
    "    else:\n",
    "        print(\"That participant number doesn’t exist. Please enter a number from 1 to 10.\")"
   ]
  }
 ],
 "metadata": {
  "kernelspec": {
   "display_name": "jupyter_course_venv",
   "language": "python",
   "name": "python3"
  },
  "language_info": {
   "codemirror_mode": {
    "name": "ipython",
    "version": 3
   },
   "file_extension": ".py",
   "mimetype": "text/x-python",
   "name": "python",
   "nbconvert_exporter": "python",
   "pygments_lexer": "ipython3",
   "version": "3.13.2"
  }
 },
 "nbformat": 4,
 "nbformat_minor": 5
}