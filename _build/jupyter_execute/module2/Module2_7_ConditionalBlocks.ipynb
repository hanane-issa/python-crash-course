{
 "cells": [
  {
   "cell_type": "markdown",
   "id": "09602b5d",
   "metadata": {},
   "source": [
    "# M2: Conditional Blocks"
   ]
  },
  {
   "cell_type": "markdown",
   "id": "afd7b402",
   "metadata": {},
   "source": [
    "## 7. Conditional Blocks\n",
    "\n",
    "### 7.1. What is a Conditional Block?\n",
    "\n",
    "Conditional blocks allow your programme to make decisions. They control the flow of execution depending on whether a certain condition is `True` or `False`. You can either have conditional statement, where a block is carried out once if a condition is met, or a conditional loop where the block is carried out repeatedly as long as the condition is true.\n",
    "\n",
    "The most common conditional blocks are:\n",
    "- `if-else` statement: carries the block out if a condition is `True` and other else (perhaps) another block\n",
    "- `while` loop : carries out the block repetitively in a loop as long as some condition is true\n",
    "- `for` loop: carries out the same block for different variables\n",
    "\n",
    "\n",
    "A conditional block consists of the condition and the body. The condition is defined by the key word (`if`,`for`, and `while`) + the condition (using conditional operators) + colon `:`. Afterwards the body, which is the code block that should be executed, is given, which is intentet to show that it is the child of the condition. The body stops when the code it no longer indented but on the same line as the condition again.\n",
    "\n",
    "You have already seen an example of such a block in the first chapter: the `if` statement to check the patient's age."
   ]
  },
  {
   "cell_type": "markdown",
   "id": "d86a8aa5",
   "metadata": {},
   "source": [
    "```{admonition} Remainder About Indentation\n",
    ":class: tip\n",
    "\n",
    "Indentation is crucial in Python.  \n",
    "Lines that are part of a block must be indented, usually by 4 spaces or 1 tab."
   ]
  },
  {
   "cell_type": "markdown",
   "id": "98d37e72",
   "metadata": {},
   "source": [
    "### 7.2. The `if - else` Statement\n",
    "\n",
    "The `if` statement checks a condition. If the condition is `True`, the block of code underneath it (properly indented) will run. Once the block is finished, it will carry on to the next block of code underneath."
   ]
  },
  {
   "cell_type": "code",
   "execution_count": 1,
   "id": "02e5468b",
   "metadata": {},
   "outputs": [
    {
     "name": "stdout",
     "output_type": "stream",
     "text": [
      "The patient is an adult.\n"
     ]
    }
   ],
   "source": [
    "age = 20\n",
    "\n",
    "if age >= 18:\n",
    "    print(\"The patient is an adult.\")"
   ]
  },
  {
   "cell_type": "markdown",
   "id": "ddbcba91",
   "metadata": {},
   "source": [
    "Sometimes you want to run one block of code if a condition is `True`, and a different block if it is `False`. You can use the `else` statement for this. After the end of the `if` block create a new block with the same identation as the `if` with the key `else` and colon (no conditional statement is needed since it just runs if the statement above is False), i.e. `else:`:"
   ]
  },
  {
   "cell_type": "code",
   "execution_count": 2,
   "id": "00d8e541",
   "metadata": {},
   "outputs": [
    {
     "name": "stdout",
     "output_type": "stream",
     "text": [
      "The patient is a minor.\n"
     ]
    }
   ],
   "source": [
    "age = 16\n",
    "\n",
    "if age >= 18:\n",
    "    print(\"The patient is an adult.\")\n",
    "else:\n",
    "    print(\"The patient is a minor.\")"
   ]
  },
  {
   "cell_type": "markdown",
   "id": "241be08b",
   "metadata": {},
   "source": [
    "Sometimes you do not only have a binary choice but you have several possible code blocks to run. For this the \n",
    "`elif` (short for “else if”) key exist to test for additional conditions after the initial `if` statement. You can have as many `elif` statements, each with a different condition, as you want, as long as they are after the `if` and before the `else`. Python checks each condition from top to bottom and runs the first block where the condition is `True` (all other blocks are ignored) - if none of the `if` or `elif` conditions are met than the `else` block is run (if it exists - otherwise none of the blocks are run).\n",
    "\n",
    "```{admonition}\n",
    ":class: tip\n",
    "Remember, if you use `elif` or `else` you first need the `if` statement."
   ]
  },
  {
   "cell_type": "markdown",
   "id": "8304ecee",
   "metadata": {},
   "source": [
    "Try to play around with different ages and see which block will be run in the following example:"
   ]
  },
  {
   "cell_type": "code",
   "execution_count": 3,
   "id": "a24fc0ff",
   "metadata": {},
   "outputs": [
    {
     "name": "stdout",
     "output_type": "stream",
     "text": [
      "The patient is a senior.\n"
     ]
    }
   ],
   "source": [
    "age = 70\n",
    "\n",
    "if age < 13:\n",
    "    print(\"The patient is a child.\")\n",
    "elif age < 20:\n",
    "    print(\"The patient is a teenager.\")\n",
    "elif age < 65:\n",
    "    print(\"The patient is an adult.\")\n",
    "else:\n",
    "    print(\"The patient is a senior.\")"
   ]
  },
  {
   "cell_type": "markdown",
   "id": "f0ad3d9b",
   "metadata": {},
   "source": [
    "### 7.3. The `while` Loop\n",
    "\n",
    "The `while` loop checks a condition. If the condition is `True`, it carries out the block of code underneath. Different to the `if` statement, at the end of the block, it will go back up to the condition, re-check it, and carry out the block again if it is still `True`. The condition statement is similar to the `if` statement where one normally checks on the value of a predefined variable."
   ]
  },
  {
   "cell_type": "markdown",
   "id": "1e174094",
   "metadata": {},
   "source": [
    "```{admonition} Infinite loops\n",
    ":class: tip\n",
    "\n",
    "Make sure you update the value of the variable somewhere in the `while` loop body.\n",
    "\n",
    "Otherwise your variable is never changed, i.e. `True` forever, and the `while` loop never finishes and is stuck in an infinite loop. This often leads to the code crashing.\n",
    "\n",
    "If you ever run some code with a `while` loop and it takes surprisingly long, it is probably stuck. Force the code to stop and double check your block. Check how your variable gets updated and print it at the end of the block to see how it changes through each iteration."
   ]
  },
  {
   "cell_type": "code",
   "execution_count": 4,
   "id": "a81cd13a",
   "metadata": {},
   "outputs": [
    {
     "name": "stdout",
     "output_type": "stream",
     "text": [
      "Another year until adulthood: the patient is currently 1\n",
      "Another year until adulthood: the patient is currently 2\n",
      "Another year until adulthood: the patient is currently 3\n",
      "Another year until adulthood: the patient is currently 4\n",
      "Another year until adulthood: the patient is currently 5\n",
      "Another year until adulthood: the patient is currently 6\n",
      "Another year until adulthood: the patient is currently 7\n",
      "Another year until adulthood: the patient is currently 8\n",
      "Another year until adulthood: the patient is currently 9\n",
      "Another year until adulthood: the patient is currently 10\n",
      "Another year until adulthood: the patient is currently 11\n",
      "Another year until adulthood: the patient is currently 12\n",
      "Another year until adulthood: the patient is currently 13\n",
      "Another year until adulthood: the patient is currently 14\n",
      "Another year until adulthood: the patient is currently 15\n",
      "Another year until adulthood: the patient is currently 16\n",
      "Another year until adulthood: the patient is currently 17\n",
      "The patient is an adult. They are 18 years old.\n"
     ]
    }
   ],
   "source": [
    "age = 1\n",
    "\n",
    "while age < 18:\n",
    "    print(\"Another year until adulthood: the patient is currently\", age)\n",
    "    age += 1 # update the age!\n",
    "\n",
    "# Left the while loop once age >= 18\n",
    "print(\"The patient is an adult. They are\", age, \"years old.\")"
   ]
  },
  {
   "cell_type": "markdown",
   "id": "c95623dc",
   "metadata": {},
   "source": [
    "### 7.4. The `for` Loop\n",
    "\n",
    "Like the `while` loop, the body of the conditional block also gets carried out multiple times. However, instead of updating the variable in the body like in the `while` loop, the conditional statement in the `for` loop already defines which values the variable should have and change to. Each time the body is run, the variable is automatically updated, until all possible values have been considered which is when the block ends.\n",
    "\n",
    "To iterate through these different possible variables, the conditional statement consist of variable + the condition `in` + data structure: e.g. `age in ['child','adult']`. You do not need to define the variable before mentioning it in the condition like you have to in the `if` or `while` statement since it immediately assigns it the first value from the data structure any ways.\n"
   ]
  },
  {
   "cell_type": "code",
   "execution_count": 5,
   "id": "c84e696d",
   "metadata": {},
   "outputs": [
    {
     "name": "stdout",
     "output_type": "stream",
     "text": [
      "Iterating over a list\n",
      "The patient is a(n) child\n",
      "The patient is a(n) teenager\n",
      "The patient is a(n) adult\n",
      "The patient is a(n) senior\n",
      "\n",
      "Iterating over a set\n",
      "The patient is a(n) teenager\n",
      "The patient is a(n) adult\n",
      "The patient is a(n) senior\n",
      "The patient is a(n) child\n"
     ]
    }
   ],
   "source": [
    "# Iterate over a list\n",
    "print('Iterating over a list')\n",
    "for age in ['child', 'teenager', 'adult', 'senior']:\n",
    "    print(\"The patient is a(n)\", age)\n",
    "\n",
    "print()\n",
    "print('Iterating over a set')\n",
    "# Iterate over a set - remember that sets are unordered so the variable is assigned randomly to each value\n",
    "for age in {'child', 'teenager', 'adult', 'senior'}:\n",
    "    print(\"The patient is a(n)\", age)"
   ]
  },
  {
   "cell_type": "markdown",
   "id": "c6362538",
   "metadata": {},
   "source": [
    "To be able to interate through a range of numbers, we can use the range(start,end,step) function. It returns a list of integers. It takes in as an argument:\n",
    "- the starting value: optional (default to 0) - The first value the variable is set to\n",
    "- the end value: mandatory - The loop is carried out as long as the variable is less than this value (not less or equal to!)\n",
    "- the step size: optional (defaults to 1) -  For every loop this value is added to the variable"
   ]
  },
  {
   "cell_type": "code",
   "execution_count": 6,
   "id": "f765742e",
   "metadata": {},
   "outputs": [
    {
     "name": "stdout",
     "output_type": "stream",
     "text": [
      "Normale range function\n",
      "The patient is 1 years old.\n",
      "The patient is 3 years old.\n",
      "The patient is 5 years old.\n",
      "\n",
      "Range without defined step size (default is 1) or start value (default is 0)\n",
      "The patient is 0 years old.\n",
      "The patient is 1 years old.\n",
      "The patient is 2 years old.\n",
      "The patient is 3 years old.\n",
      "The patient is 4 years old.\n",
      "The patient is 5 years old.\n"
     ]
    }
   ],
   "source": [
    "\n",
    "print('Normale range function')\n",
    "for age in range(1, 6, 2):\n",
    "    print(\"The patient is\", age, \"years old.\") \n",
    "\n",
    "\n",
    "print()\n",
    "print('Range without defined step size (default is 1) or start value (default is 0)')\n",
    "for age in range(6):\n",
    "    print(\"The patient is\", age, \"years old.\") # Note that the last number is not included in the range"
   ]
  },
  {
   "cell_type": "markdown",
   "id": "7903c213",
   "metadata": {},
   "source": [
    "### 7.5. Nested Conditionals\n",
    "\n",
    "Sometimes you may need to check another condition **inside** a conditional block.\n",
    "This is called a **nested conditional**.\n",
    "\n",
    "In the following example:\n",
    "- First we loop through different ages using the for loop\n",
    "- Then inside the block we check they are at least 18"
   ]
  },
  {
   "cell_type": "code",
   "execution_count": 7,
   "id": "25e1193a",
   "metadata": {},
   "outputs": [
    {
     "name": "stdout",
     "output_type": "stream",
     "text": [
      "\n",
      "The patient is 12 years old.\n",
      "The patient is a minor.\n",
      "\n",
      "The patient is 14 years old.\n",
      "The patient is a minor.\n",
      "\n",
      "The patient is 16 years old.\n",
      "The patient is a minor.\n",
      "\n",
      "The patient is 18 years old.\n",
      "The patient is an adult.\n",
      "\n",
      "The patient is 20 years old.\n",
      "The patient is an adult.\n",
      "\n",
      "The patient is 22 years old.\n",
      "The patient is an adult.\n"
     ]
    }
   ],
   "source": [
    "for age in range(12, 24, 2):\n",
    "    print()\n",
    "    print(\"The patient is\", age, \"years old.\")\n",
    "\n",
    "    if age >= 18:\n",
    "        print(\"The patient is an adult.\")\n",
    "    else:\n",
    "        print(\"The patient is a minor.\")"
   ]
  },
  {
   "cell_type": "markdown",
   "id": "50fefd83",
   "metadata": {},
   "source": [
    "```{admonition} Tip About Readibility\n",
    ":class: tip\n",
    "\n",
    "Avoid nesting too many conditionals inside each other.  \n",
    "Deeply nested code can become hard to read.  \n",
    "Sometimes it is better to reorganise your conditions to keep your code clean and understandable."
   ]
  },
  {
   "cell_type": "markdown",
   "id": "3ab50da3",
   "metadata": {},
   "source": [
    "### 7.6. Quick Practice\n",
    "\n",
    "Try this combined challenge:\n",
    "\n",
    "- Create a variable `temperature` with a value of your choice.\n",
    "- Write an `if-elif-else` block:\n",
    "  - Print `\"It's cold!\"` if the temperature is below 10 degrees.\n",
    "  - Print `\"It's moderate!\"` if the temperature is between 10 and 20 degrees (inclusive).\n",
    "  - Otherwise, print `\"It's warm!\"`.\n",
    "\n",
    "- Add **nested conditionals**:\n",
    "  - Inside the `\"It's warm!\"` block, check if the temperature is greater than 30 degrees.\n",
    "    - If so, print an additional message: `\"It's hot!\"`.\n",
    "  - Put the whole `if-elif-else` block inside a while loop:\n",
    "    - Set a maximum temperature (greater than 30) that your temperature should get to in the conditional statement\n",
    "    - After the if blocks at the end (but still inside) the while block update the temperature by 5 degrees plus\n",
    "\n"
   ]
  },
  {
   "cell_type": "code",
   "execution_count": 8,
   "id": "880e5c87",
   "metadata": {},
   "outputs": [],
   "source": [
    "# Put your code here"
   ]
  },
  {
   "cell_type": "markdown",
   "id": "2d7c38d2",
   "metadata": {},
   "source": [
    "```{dropdown} 💡 Solution\n",
    "```python\n",
    "temperature = 9\n",
    "\n",
    "while temperature < 40:\n",
    "    if temperature < 10:\n",
    "        print(\"It's cold!\")\n",
    "    elif temperature <= 20:\n",
    "        print(\"It's moderate!\")\n",
    "    else:\n",
    "        print(\"It's warm!\")\n",
    "        if temperature > 30:\n",
    "            print(\"It's hot!\")\n",
    "    \n",
    "    temperature = temperature + 5\n",
    "    print(\"The temperature is now\", temperature)"
   ]
  }
 ],
 "metadata": {
  "kernelspec": {
   "display_name": "jupyter_course_venv",
   "language": "python",
   "name": "python3"
  },
  "language_info": {
   "codemirror_mode": {
    "name": "ipython",
    "version": 3
   },
   "file_extension": ".py",
   "mimetype": "text/x-python",
   "name": "python",
   "nbconvert_exporter": "python",
   "pygments_lexer": "ipython3",
   "version": "3.13.2"
  }
 },
 "nbformat": 4,
 "nbformat_minor": 5
}