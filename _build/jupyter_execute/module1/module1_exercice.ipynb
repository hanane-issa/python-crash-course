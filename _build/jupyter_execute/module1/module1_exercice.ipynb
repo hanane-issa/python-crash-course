{
 "cells": [
  {
   "cell_type": "markdown",
   "id": "50ce13f4",
   "metadata": {},
   "source": [
    "# Exercice 1: check your Python version"
   ]
  },
  {
   "cell_type": "markdown",
   "id": "4b4e0fee",
   "metadata": {},
   "source": [
    "## Objective\n",
    "- Import the `sys` module.\n",
    "- Print the version of Python being used.\n",
    "- Learn how to navigate a Python module documentation.\n",
    "\n",
    "## Instructions\n",
    "1. Import the `sys` module.\n",
    "2. Check the `sys` module documentation.\n",
    "2. Print the current Python version.\n",
    "3. Print a statement combining a description and the Python version."
   ]
  },
  {
   "cell_type": "markdown",
   "id": "830c7372",
   "metadata": {},
   "source": [
    "```{note}\n",
    "The `sys` module is a built-in tool in Python that lets you interact with the system your Python program is running on. \n",
    "It gives you access to things like Python's version, the command-line arguments used to run the program,\n",
    "and the ability to control how your program runs.\n",
    "\n",
    "N.B. built-in modules like `sys` are part of the standard Python installation, so you don't need to install them separately. However, they need to be imported because Python doesn't automatically load every module into memory to save resources. \n",
    "```"
   ]
  },
  {
   "cell_type": "code",
   "execution_count": 1,
   "id": "05358bb0",
   "metadata": {},
   "outputs": [],
   "source": [
    "#Import sys module"
   ]
  },
  {
   "cell_type": "code",
   "execution_count": 2,
   "id": "e3af8971",
   "metadata": {},
   "outputs": [],
   "source": [
    "#Test out function that gives you the current Python version."
   ]
  },
  {
   "cell_type": "code",
   "execution_count": 3,
   "id": "b060a81a",
   "metadata": {},
   "outputs": [],
   "source": [
    "#Print a statement combining a description and your Python version."
   ]
  },
  {
   "cell_type": "markdown",
   "id": "12b0850f",
   "metadata": {},
   "source": [
    "<details>\n",
    "<summary>Click here for hint 1</summary>\n",
    "\n",
    "**Hint 1**: check the `sys` module [documentation] (https://docs.python.org/3/library/sys.html) to find the function that gives you the Python version.\n",
    "\n",
    "\n",
    "</details>"
   ]
  },
  {
   "cell_type": "markdown",
   "id": "0552f6d0",
   "metadata": {},
   "source": [
    "<details>\n",
    "<summary>Click here for hint 2</summary>\n",
    "\n",
    "**Hint 2**: `print()` statements allow you to combine descriptive strings with outputs, e.g. print(\"your descriptive string \", sys function)\n",
    "</details>"
   ]
  },
  {
   "cell_type": "markdown",
   "id": "41d86005",
   "metadata": {
    "vscode": {
     "languageId": "html"
    }
   },
   "source": [
    "<details>\n",
    "    <summary>Click here to see the solution</summary>\n",
    "    \n",
    "    ### Solution:\n",
    "    To print your Python version, you can use the following code:\n",
    "    \n",
    "    ```python\n",
    "\n",
    "    import sys\n",
    "    print('My Python version is ', sys.version)\n",
    "    "
   ]
  },
  {
   "cell_type": "markdown",
   "id": "23aa21d7",
   "metadata": {},
   "source": [
    "### Optional: checking Python version via terminal"
   ]
  },
  {
   "cell_type": "code",
   "execution_count": null,
   "id": "e21d1135",
   "metadata": {},
   "outputs": [],
   "source": []
  }
 ],
 "metadata": {
  "kernelspec": {
   "display_name": "Python 3",
   "language": "python",
   "name": "python3"
  },
  "language_info": {
   "codemirror_mode": {
    "name": "ipython",
    "version": 3
   },
   "file_extension": ".py",
   "mimetype": "text/x-python",
   "name": "python",
   "nbconvert_exporter": "python",
   "pygments_lexer": "ipython3",
   "version": "3.13.2"
  }
 },
 "nbformat": 4,
 "nbformat_minor": 5
}