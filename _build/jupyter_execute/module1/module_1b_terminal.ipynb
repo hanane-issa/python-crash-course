{
 "cells": [
  {
   "cell_type": "markdown",
   "id": "f5c917ae",
   "metadata": {},
   "source": [
    "# Python in Terminal\n",
    "\n",
    "Before we dive into fancy tools like VS Code and Anaconda, let’s start with the basics: running Python from your terminal or command prompt.\n",
    "\n",
    "This gives you a better feel for how Python works behind the scenes.\n",
    "\n",
    "## 1. Install Python\n",
    "\n",
    "If you don’t have Python yet, follow these steps:\n",
    "\n",
    "Go to the official website: https://www.python.org/downloads\n",
    "\n",
    "Download the latest stable version (e.g., Python 3.13.2).\n",
    "\n",
    "On Windows, make sure you check the box that says:\n",
    "\n",
    "✅ \"Add Python to PATH\"\n",
    "\n",
    "## 2. Open Your Terminal\n",
    "\n",
    "On Windows: Open the Command Prompt or Anaconda Prompt\n",
    "\n",
    "On Mac: Open the Terminal app (command key (⌘) + space bar).\n",
    "\n",
    "On Linux: Open your default terminal (ctrl + alt + T).\n",
    "\n",
    "## 3. Check your Python version\n",
    "\n",
    "```bash\n",
    "python --version\n",
    "```\n",
    "\n",
    "```{note}\n",
    "Depending on your operating system and how Python is installed, this might not work. \n",
    "In this case, use \"python3\" instead of \"python\".\n",
    "```\n",
    "\n",
    "## 4. Using the Python interpreter\n",
    "\n",
    "You can now run Python in interactive mode via your terminal by typing `python` (or `python3`).\n",
    "You should see something like \"Python 3.13.2....\n",
    "Type \"help\", \"copyright\", \"credits\" or \"license\" for more information.\"\n",
    "\n",
    "To quit, simply type:\n",
    "```bash\n",
    "exit()\n",
    "```"
   ]
  }
 ],
 "metadata": {
  "jupytext": {
   "formats": "md:myst",
   "text_representation": {
    "extension": ".md",
    "format_name": "myst",
    "format_version": 0.13,
    "jupytext_version": "1.11.5"
   }
  },
  "kernelspec": {
   "display_name": "Python 3",
   "language": "python",
   "name": "python3"
  },
  "language_info": {
   "codemirror_mode": {
    "name": "ipython",
    "version": 3
   },
   "file_extension": ".py",
   "mimetype": "text/x-python",
   "name": "python",
   "nbconvert_exporter": "python",
   "pygments_lexer": "ipython3",
   "version": "3.13.2"
  },
  "source_map": [
   13
  ]
 },
 "nbformat": 4,
 "nbformat_minor": 5
}