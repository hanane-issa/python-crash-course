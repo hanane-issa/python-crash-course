{
 "cells": [
  {
   "cell_type": "markdown",
   "id": "85e44f5f",
   "metadata": {},
   "source": [
    "# Installing Python Packages\n",
    "\n",
    "\n",
    "When you install Python, it comes with a standard library containing pre-installed packages such as:\n",
    "- os (for interacting with the operating system)\n",
    "\n",
    "- math (for mathematical operations)\n",
    "\n",
    "- sys (for system-specific parameters)\n",
    "\n",
    "- datetime (for date and time manipulation)\n",
    "\n",
    "However, you still need to import them since Python needs to know which tools you're planning to use.\n",
    "Think of it as your workshop—you have access to all the tools in the toolbox, but you still have to take the right tool out before you can use it.\n",
    "\n",
    "\n",
    "```{note}\n",
    "Why doesn't Python load modules by default?\n",
    "\n",
    "- It keeps Python fast and lightweight by loading only what's needed.\n",
    "\n",
    "- It prevents naming conflicts by keeping modules separate until called.\n",
    "\n",
    "- It lets you explicitly control what your code depends on.\n",
    "```\n",
    "\n",
    "\n",
    "\n",
    "## Installing packages with pip\n",
    "\n",
    "To extend Python's capabilities, you often need to install third-party packages that are not included in the standard library. These packages are installed via pip (from PyPI) and can be anything from data science libraries like numpy and pandas, to web frameworks like Flask or Django, or machine learning tools like scikit-learn.\n",
    "\n",
    "This process is usually done in your terminal via:\n",
    "```bash\n",
    "pip install pandas\n",
    "```\n",
    "Where `pandas` is a package for data manipulation and analysis that you'll learn about in module 4.\n",
    "\n",
    "\n",
    "You can also run this shell command in your jupyter notebook, by adding a ! or % before pip ( [see more on stackoverflow] (https://stackoverflow.com/questions/45784499/what-is-the-difference-between-and-in-jupyter-notebooks) )."
   ]
  },
  {
   "cell_type": "code",
   "execution_count": 1,
   "id": "731294f4",
   "metadata": {},
   "outputs": [
    {
     "name": "stdout",
     "output_type": "stream",
     "text": [
      "Requirement already satisfied: pandas in c:\\users\\hanan\\appdata\\local\\programs\\python\\python313\\lib\\site-packages (2.2.3)\n",
      "Requirement already satisfied: numpy>=1.26.0 in c:\\users\\hanan\\appdata\\local\\programs\\python\\python313\\lib\\site-packages (from pandas) (2.2.5)\n",
      "Requirement already satisfied: python-dateutil>=2.8.2 in c:\\users\\hanan\\appdata\\local\\programs\\python\\python313\\lib\\site-packages (from pandas) (2.9.0.post0)\n",
      "Requirement already satisfied: pytz>=2020.1 in c:\\users\\hanan\\appdata\\local\\programs\\python\\python313\\lib\\site-packages (from pandas) (2025.2)\n",
      "Requirement already satisfied: tzdata>=2022.7 in c:\\users\\hanan\\appdata\\local\\programs\\python\\python313\\lib\\site-packages (from pandas) (2025.2)\n",
      "Requirement already satisfied: six>=1.5 in c:\\users\\hanan\\appdata\\local\\programs\\python\\python313\\lib\\site-packages (from python-dateutil>=2.8.2->pandas) (1.17.0)\n"
     ]
    },
    {
     "name": "stderr",
     "output_type": "stream",
     "text": [
      "\n",
      "[notice] A new release of pip is available: 25.0.1 -> 25.1.1\n",
      "[notice] To update, run: python.exe -m pip install --upgrade pip\n"
     ]
    }
   ],
   "source": [
    "!pip install pandas\n",
    "#same as: %pip install pandas"
   ]
  },
  {
   "cell_type": "markdown",
   "id": "52e309fd",
   "metadata": {},
   "source": [
    "## Installing Specific Versions of Packages\n",
    "\n",
    "We've mentioned before that, in some cases, you might be working with projects that rely on specific versions of a package. You can specify the package version you want to install:"
   ]
  },
  {
   "cell_type": "code",
   "execution_count": 2,
   "id": "c40d4311",
   "metadata": {},
   "outputs": [
    {
     "ename": "SyntaxError",
     "evalue": "invalid syntax (408236325.py, line 1)",
     "output_type": "error",
     "traceback": [
      "  \u001b[36mCell\u001b[39m\u001b[36m \u001b[39m\u001b[32mIn[2]\u001b[39m\u001b[32m, line 1\u001b[39m\n\u001b[31m    \u001b[39m\u001b[31mpip install pandas==2.2.3\u001b[39m\n        ^\n\u001b[31mSyntaxError\u001b[39m\u001b[31m:\u001b[39m invalid syntax\n"
     ]
    }
   ],
   "source": [
    "pip install pandas==2.2.3\n",
    "#replace 2.2.3 with the version you want."
   ]
  },
  {
   "cell_type": "markdown",
   "id": "4fc24d0c",
   "metadata": {},
   "source": [
    "A quick way of checking and verifying your package version is via:"
   ]
  },
  {
   "cell_type": "code",
   "execution_count": null,
   "id": "9f2d0aa5",
   "metadata": {},
   "outputs": [],
   "source": [
    "#import your package\n",
    "import pandas \n",
    "\n",
    "#check your package version\n",
    "print(pandas.__version__)"
   ]
  },
  {
   "cell_type": "markdown",
   "id": "5f18d552",
   "metadata": {},
   "source": [
    "## Installing Packages from a .tar.gz, .whl, or other file formats\n",
    "\n",
    "You can also install Python packages directly from remote URLs or local files like .tar.gz and .whl using pip."
   ]
  },
  {
   "cell_type": "code",
   "execution_count": null,
   "id": "693d34c6",
   "metadata": {},
   "outputs": [],
   "source": [
    "## from a URL (fake):\n",
    "#!pip install https://example.com/package.tar.gz\n",
    "\n",
    "## from a local file:\n",
    "#!pip install /path/to/package.tar.gz"
   ]
  },
  {
   "cell_type": "markdown",
   "id": "dbce3d20",
   "metadata": {},
   "source": [
    "## Creating a requirements file\n",
    "\n",
    "At some point, you will have a list of packages you often install and import. A nice way to streamline this process, especially if you want to share your work with other programmers, is creating a requirements file.\n",
    "\n",
    "A requirements.txt file is a simple text file that lists all of the packages your project depends on. It’s common to include the versions of each package you’ve used, ensuring that others who work on the project (or even you, in the future) can install the exact same dependencies.\n",
    "\n",
    "### Manually\n",
    "\n",
    "You can do this manually by creating a text file and listing each package name on a new line. You can also specify the package version, for example:\n",
    "\n",
    "pandas==2.2.3\n",
    "numpy==2.2.4\n",
    "\n",
    "\n",
    "### Automatically\n",
    "\n",
    "If you've already installed the packages in your current environment, you can automatically generate the requirements.txt file with this command:"
   ]
  },
  {
   "cell_type": "code",
   "execution_count": null,
   "id": "14e0cfa8",
   "metadata": {},
   "outputs": [],
   "source": [
    "!pip freeze > requirements.txt"
   ]
  },
  {
   "cell_type": "markdown",
   "id": "b019c141",
   "metadata": {},
   "source": [
    "This command lists all the installed packages and their versions in the current Python environment and saves them in requirements.txt."
   ]
  },
  {
   "cell_type": "code",
   "execution_count": null,
   "id": "31414f00",
   "metadata": {},
   "outputs": [],
   "source": [
    "!pip install -r requirements.txt"
   ]
  },
  {
   "cell_type": "markdown",
   "id": "db816259",
   "metadata": {},
   "source": [
    "This will read the requirements.txt file and install the packages listed in it, ensuring that the environment is set up with the correct dependencies.\n",
    "(Note:this assumes the text file is in the same working directory as your notebook.)\n",
    "\n",
    "## Importing packages in the next modules\n",
    "\n",
    "In Python, you can use the *as* keyword to give a module or package an alias, which means you can refer to it by a shorter or more convenient name. This is especially helpful when the package name is long, or when you want to use a commonly accepted alias.\n",
    "\n",
    "Syntax for Import Aliases\n",
    "The basic syntax for creating an import alias is:"
   ]
  },
  {
   "cell_type": "code",
   "execution_count": null,
   "id": "97857366",
   "metadata": {},
   "outputs": [],
   "source": [
    "import <module_name> as <alias_name>"
   ]
  },
  {
   "cell_type": "markdown",
   "id": "a30e15f4",
   "metadata": {},
   "source": [
    "Where <module_name> is the actual name of the package or module, and  <alias_name> is the shorter or more convenient name you want to use for that package."
   ]
  },
  {
   "cell_type": "code",
   "execution_count": null,
   "id": "d8ce7373",
   "metadata": {},
   "outputs": [],
   "source": [
    "#Example: \n",
    "import pandas as pd"
   ]
  },
  {
   "cell_type": "markdown",
   "id": "ca121e5a",
   "metadata": {},
   "source": [
    "```{note}\n",
    "Why use aliases for imports?\n",
    "- Convenience: Shorter names make code more readable and less repetitive.\n",
    "- Consistency: Many libraries (like pandas, numpy, matplotlib, etc.) have common aliases that people use across the community, so it's easier to share and collaborate with others when using these same aliases.\n",
    "- Readability: Some packages have long names, and using an alias makes the code cleaner and easier to read. That said, there is no need for an alias if the package name is short e.g. os, sys.\n",
    "- Avoiding name conflicts\n",
    "\n",
    "\n",
    "```"
   ]
  }
 ],
 "metadata": {
  "jupytext": {
   "formats": "md:myst",
   "text_representation": {
    "extension": ".md",
    "format_name": "myst",
    "format_version": 0.13,
    "jupytext_version": "1.11.5"
   }
  },
  "kernelspec": {
   "display_name": "Python 3",
   "language": "python",
   "name": "python3"
  },
  "language_info": {
   "codemirror_mode": {
    "name": "ipython",
    "version": 3
   },
   "file_extension": ".py",
   "mimetype": "text/x-python",
   "name": "python",
   "nbconvert_exporter": "python",
   "pygments_lexer": "ipython3",
   "version": "3.13.2"
  },
  "source_map": [
   13,
   59,
   62,
   66,
   69,
   72,
   79,
   86,
   92,
   112,
   114,
   119,
   121,
   134,
   136,
   140,
   143
  ]
 },
 "nbformat": 4,
 "nbformat_minor": 5
}