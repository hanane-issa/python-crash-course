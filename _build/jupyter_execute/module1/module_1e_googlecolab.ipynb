{
 "cells": [
  {
   "cell_type": "markdown",
   "id": "352e2a6d",
   "metadata": {},
   "source": [
    "# Executing the notebook exercices\n",
    "\n",
    "1. Run in Google Colab\n",
    "- Easiest option — no setup needed.\n",
    "\n",
    "- Just click the “Open in Colab” button at the top of each notebook page in this book.\n",
    "\n",
    "- It runs in your browser and saves changes to your Google Drive (if you sign in).\n",
    "\n",
    "\n",
    "2. Run on Binder\n",
    "Great if you want a full coding environment in your browser.\n",
    "\n",
    "Binder launches a temporary Jupyter environment (with a file browser, terminal, and notebooks).\n",
    "\n",
    "No installation required, but it takes a minute to load.\n",
    "\n",
    "\n",
    "3. Download and Run Locally\n",
    "\n",
    "Best for learning how to run Python on your own machine.\n",
    "\n",
    "Download the notebook (.ipynb) from GitHub.\n",
    "\n",
    "Open it using your preferred code editor/IDE, whether it's VSCode+Jupyter\n",
    "\n",
    "You can also clone the whole repo:\n",
    "\n",
    "git clone https://github.com/hanane-issa/python-crash-course.git\n",
    "cd python-crash-course"
   ]
  }
 ],
 "metadata": {
  "jupytext": {
   "formats": "md:myst",
   "text_representation": {
    "extension": ".md",
    "format_name": "myst",
    "format_version": 0.13,
    "jupytext_version": "1.11.5"
   }
  },
  "kernelspec": {
   "display_name": "Python 3",
   "language": "python",
   "name": "python3"
  },
  "language_info": {
   "codemirror_mode": {
    "name": "ipython",
    "version": 3
   },
   "file_extension": ".py",
   "mimetype": "text/x-python",
   "name": "python",
   "nbconvert_exporter": "python",
   "pygments_lexer": "ipython3",
   "version": "3.13.2"
  },
  "source_map": [
   13
  ]
 },
 "nbformat": 4,
 "nbformat_minor": 5
}