{
 "cells": [
  {
   "cell_type": "markdown",
   "id": "7ec7fe3f",
   "metadata": {},
   "source": [
    "```{image} ../images/vscode.png\n",
    ":alt: vscode logo\n",
    ":class: bg-primary mb-1\n",
    ":width: 200px\n",
    ":align: center\n",
    "```\n",
    "\n",
    "\n",
    "# Python in Anaconda Navigator\n",
    "\n",
    "Anaconda Navigator is a graphical user interface (GUI) designed to make managing Python projects and environments easier.\n",
    "\n",
    "It simplifies package and environment management. Many scientific packages depend on specific versions of other packages, and Navigator helps manage these dependencies across multiple environments. \n",
    "\n",
    "Think of it like having different furniture in different rooms of the house: a kitchen will have a stove, an oven, and a variety of cooking appliances, while a bedroom will have a bed and a closet. \n",
    "\n",
    "In this case, you can build a working environment specifically for your machine learning projects with the latest Python version, pytorch, or tensorflow. You can also have a separate working environment to work with legacy code, maintaining older code and projects that do not support the latest python versions (e.g. deprecated syntax, packages and libraries that break with newer Python version,etc.).\n",
    "\n",
    "Anaconda is available for Windows, Linux, and macOS.\n",
    "\n",
    "#### 1. Download and Install Anaconda Nagivator\n",
    "\n",
    "Download and run the Anaconda Distribution installer from [here](https://www.anaconda.com/download/success)\n",
    "\n",
    "As an 'all-in-one' toolbox, it will install the following applications: \n",
    "- Anaconda Navigator\n",
    "- Anaconda Prompt: a command-line tool to run Python and manage Anaconda environments with conda commands.\n",
    "- Anaconda Powershell Prompt: Same as Anaconda Prompt, but uses PowerShell for advanced Windows scripting capabilities.\n",
    "- Jupyter Notebook: an interactive coding environment, described in (vscode page link)\n",
    "- Spyder: a Python IDE\n",
    "\n",
    "#### 2. Explore the Interface\n",
    "\n",
    "![anaconda_page](../images/nav-tabs.png)\n",
    "\n",
    "The following applications can be launched from/installed on Anaconda Navigator and allow you to write Python code:\n",
    "- [Jupyter Notebook](https://jupyter-notebook.readthedocs.io/en/latest/)\n",
    "- [Jupyter Lab](https://jupyterlab.readthedocs.io/en/latest/) (more flexible than Jupyter Notebook; allows for file browsing and multiple panels.)\n",
    "- [VSCode](https://www.anaconda.com/docs/tools/working-with-conda/ide-tutorials/vscode)\n",
    "- [Spyder](https://www.anaconda.com/docs/tools/working-with-conda/ide-tutorials/spyder)\n",
    "- [PyCharm](https://www.anaconda.com/docs/tools/working-with-conda/ide-tutorials/pycharm)\n",
    "\n",
    "\n",
    "```{note}\n",
    "You can launch RStudio from Anaconda Navigator!\n",
    "```\n",
    "\n",
    "#### 3. Create your working environment\n",
    "\n",
    "![anaconda-nav gif](../images/anaconda_create_env.gif)\n",
    "\n",
    "You can create a new environment through the Anaconda Navigator interface. Go to the Environments tab, and press the Create button. Choose a name for your environment, and select which Python version you want to work with.\n",
    "\n",
    "\n",
    "![anaconda-prompt](../images/anaconda_prompt/png)\n",
    "\n",
    "Alternatively, you can do this through the Anaconda prompt with conda commands. Conda is the package and environment manager that comes with Anaconda. \n",
    "\n",
    "You can find the prompt tool through your computer's search bar, or through the Anaconda Navigator."
   ]
  },
  {
   "cell_type": "code",
   "execution_count": 1,
   "id": "11d28ebe",
   "metadata": {},
   "outputs": [
    {
     "ename": "ValueError",
     "evalue": "The python kernel does not appear to be a conda environment.  Please use ``%pip install`` instead.",
     "output_type": "error",
     "traceback": [
      "\u001b[31m---------------------------------------------------------------------------\u001b[39m",
      "\u001b[31mValueError\u001b[39m                                Traceback (most recent call last)",
      "\u001b[36mCell\u001b[39m\u001b[36m \u001b[39m\u001b[32mIn[1]\u001b[39m\u001b[32m, line 1\u001b[39m\n\u001b[32m----> \u001b[39m\u001b[32m1\u001b[39m \u001b[43mget_ipython\u001b[49m\u001b[43m(\u001b[49m\u001b[43m)\u001b[49m\u001b[43m.\u001b[49m\u001b[43mrun_line_magic\u001b[49m\u001b[43m(\u001b[49m\u001b[33;43m'\u001b[39;49m\u001b[33;43mconda\u001b[39;49m\u001b[33;43m'\u001b[39;49m\u001b[43m,\u001b[49m\u001b[43m \u001b[49m\u001b[33;43m'\u001b[39;49m\u001b[33;43mcreate --name my_env python==3.13.2\u001b[39;49m\u001b[33;43m'\u001b[39;49m\u001b[43m)\u001b[49m\n",
      "\u001b[36mFile \u001b[39m\u001b[32m~\\AppData\\Local\\Programs\\Python\\Python313\\Lib\\site-packages\\IPython\\core\\interactiveshell.py:2478\u001b[39m, in \u001b[36mInteractiveShell.run_line_magic\u001b[39m\u001b[34m(self, magic_name, line, _stack_depth)\u001b[39m\n\u001b[32m   2476\u001b[39m     kwargs[\u001b[33m'\u001b[39m\u001b[33mlocal_ns\u001b[39m\u001b[33m'\u001b[39m] = \u001b[38;5;28mself\u001b[39m.get_local_scope(stack_depth)\n\u001b[32m   2477\u001b[39m \u001b[38;5;28;01mwith\u001b[39;00m \u001b[38;5;28mself\u001b[39m.builtin_trap:\n\u001b[32m-> \u001b[39m\u001b[32m2478\u001b[39m     result = \u001b[43mfn\u001b[49m\u001b[43m(\u001b[49m\u001b[43m*\u001b[49m\u001b[43margs\u001b[49m\u001b[43m,\u001b[49m\u001b[43m \u001b[49m\u001b[43m*\u001b[49m\u001b[43m*\u001b[49m\u001b[43mkwargs\u001b[49m\u001b[43m)\u001b[49m\n\u001b[32m   2480\u001b[39m \u001b[38;5;66;03m# The code below prevents the output from being displayed\u001b[39;00m\n\u001b[32m   2481\u001b[39m \u001b[38;5;66;03m# when using magics with decorator @output_can_be_silenced\u001b[39;00m\n\u001b[32m   2482\u001b[39m \u001b[38;5;66;03m# when the last Python token in the expression is a ';'.\u001b[39;00m\n\u001b[32m   2483\u001b[39m \u001b[38;5;28;01mif\u001b[39;00m \u001b[38;5;28mgetattr\u001b[39m(fn, magic.MAGIC_OUTPUT_CAN_BE_SILENCED, \u001b[38;5;28;01mFalse\u001b[39;00m):\n",
      "\u001b[36mFile \u001b[39m\u001b[32m~\\AppData\\Local\\Programs\\Python\\Python313\\Lib\\site-packages\\IPython\\core\\magics\\packaging.py:27\u001b[39m, in \u001b[36mis_conda_environment.<locals>.wrapper\u001b[39m\u001b[34m(*args, **kwargs)\u001b[39m\n\u001b[32m     25\u001b[39m \u001b[38;5;66;03m# TODO: does this need to change on windows?\u001b[39;00m\n\u001b[32m     26\u001b[39m \u001b[38;5;28;01mif\u001b[39;00m \u001b[38;5;129;01mnot\u001b[39;00m Path(sys.prefix, \u001b[33m\"\u001b[39m\u001b[33mconda-meta\u001b[39m\u001b[33m\"\u001b[39m, \u001b[33m\"\u001b[39m\u001b[33mhistory\u001b[39m\u001b[33m\"\u001b[39m).exists():\n\u001b[32m---> \u001b[39m\u001b[32m27\u001b[39m     \u001b[38;5;28;01mraise\u001b[39;00m \u001b[38;5;167;01mValueError\u001b[39;00m(\n\u001b[32m     28\u001b[39m         \u001b[33m\"\u001b[39m\u001b[33mThe python kernel does not appear to be a conda environment.  \u001b[39m\u001b[33m\"\u001b[39m\n\u001b[32m     29\u001b[39m         \u001b[33m\"\u001b[39m\u001b[33mPlease use ``\u001b[39m\u001b[33m%\u001b[39m\u001b[33mpip install`` instead.\u001b[39m\u001b[33m\"\u001b[39m\n\u001b[32m     30\u001b[39m     )\n\u001b[32m     31\u001b[39m \u001b[38;5;28;01mreturn\u001b[39;00m func(*args, **kwargs)\n",
      "\u001b[31mValueError\u001b[39m: The python kernel does not appear to be a conda environment.  Please use ``%pip install`` instead."
     ]
    }
   ],
   "source": [
    "conda create --name my_env python==3.13.2"
   ]
  },
  {
   "cell_type": "markdown",
   "id": "8dd75bb7",
   "metadata": {},
   "source": [
    "This will create a new environment named \"my_env\" with Python version 3.13.2 . \n",
    "Afterwards, you can activate this new environment and start working in it through the following command:"
   ]
  },
  {
   "cell_type": "code",
   "execution_count": null,
   "id": "cb21f67c",
   "metadata": {},
   "outputs": [],
   "source": [
    "conda activate my_env"
   ]
  },
  {
   "cell_type": "markdown",
   "id": "138125b4",
   "metadata": {},
   "source": [
    "You can find more useful commands in the conda documentation [here](https://docs.conda.io/projects/conda/en/latest/user-guide/cheatsheet.html).\n",
    "You can also find tutorials on Anaconda Navigator on the [official website](https://www.anaconda.com/docs/tools/anaconda-navigator/tutorials/main)."
   ]
  }
 ],
 "metadata": {
  "jupytext": {
   "formats": "md:myst",
   "text_representation": {
    "extension": ".md",
    "format_name": "myst",
    "format_version": 0.13,
    "jupytext_version": "1.11.5"
   }
  },
  "kernelspec": {
   "display_name": "Python 3",
   "language": "python",
   "name": "python3"
  },
  "language_info": {
   "codemirror_mode": {
    "name": "ipython",
    "version": 3
   },
   "file_extension": ".py",
   "mimetype": "text/x-python",
   "name": "python",
   "nbconvert_exporter": "python",
   "pygments_lexer": "ipython3",
   "version": "3.13.2"
  },
  "source_map": [
   13,
   76,
   78,
   83,
   85
  ]
 },
 "nbformat": 4,
 "nbformat_minor": 5
}