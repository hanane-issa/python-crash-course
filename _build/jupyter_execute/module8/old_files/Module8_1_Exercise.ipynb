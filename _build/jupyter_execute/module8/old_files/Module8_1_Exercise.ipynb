{
 "cells": [
  {
   "cell_type": "markdown",
   "id": "3d32cade",
   "metadata": {},
   "source": [
    "# M8: Heart Disease Dataset\n",
    "\n",
    "Congratulations, you have made it to the last module! Throughout the course, you have covered the fundamental knowledge and packages needed to apply Python programming in bioinformatics.\n",
    "\n",
    "The aim of this module is to help you consolidate what you have learned. We will introduce a new dataset for you to analyse and explore. You'll be given a series of exercises designed for you to complete independently, with minimal external assistance.\n",
    "\n",
    "If you find yourself stuck, make sure to give it a proper attempt on your own first. If that doesn't resolve the issue, revisit earlier modules to refresh your memory. And if you're still unsure, feel free to use Google or consult the solution sheet as a last resort."
   ]
  },
  {
   "cell_type": "markdown",
   "id": "1cce2fd0",
   "metadata": {},
   "source": [
    "## Initial Exploration"
   ]
  },
  {
   "cell_type": "markdown",
   "id": "05807302",
   "metadata": {},
   "source": [
    "The dataset that we will be using is the Heart Disease Dataset from UC Irvine Machine Learning Repository: https://archive.ics.uci.edu/dataset/45/heart+disease\n",
    "\n",
    "This dataset is intended for a machine learning task: given a set of patient features, the goal is to predict whether the patient has been diagnosed with heart disease (the target variable). While building such a model is beyond the scope of this course, you will conduct some initial exploratory analyses to become familiar with the dataset and its contents.\n",
    "\n",
    "These exploratory analyses are often an essential first step, regardless of whether your aim to develop a machine learning model or to pursue other kinds of investigation.\n",
    "\n",
    "**### Exercise 1:**\n",
    "Take a few minutes to read through the dataset description on the website to familiarise yourself with its structure and the variables it contains."
   ]
  },
  {
   "cell_type": "markdown",
   "id": "695f6507",
   "metadata": {},
   "source": [
    "Great! Now that you've had a look at the dataset description, let's dive into the data itself.\n",
    "\n",
    "Don't worry if you didn't understand everything — things should become clearer as you familiarise yourself with the dataset through practice.\n",
    "\n",
    "At the top right of the website, you'll find a button labelled `IMPORT IN PYTHON`. Clicking on it will show you which package to install and how to load the dataset using it.\n",
    "\n",
    "**Exercise 2:**\n",
    "Install the required package (using any of the methods you've learned) and import the dataset into your Python environment."
   ]
  },
  {
   "cell_type": "markdown",
   "id": "56fc368d",
   "metadata": {},
   "source": [
    "```{dropdown}\n",
    "\n",
    "{admonition}\n",
    ":class: tip\n",
    "\n",
    "For the first part of the exercises, you mainly just need to follow the example code provided on the website.\n",
    "\n",
    "Take your time going through the initial code, it will help you begin exploring the dataset and understanding what is being provided and how to work with it."
   ]
  },
  {
   "cell_type": "code",
   "execution_count": 1,
   "id": "2cda99fb",
   "metadata": {},
   "outputs": [],
   "source": [
    "# Your code goes here\n"
   ]
  },
  {
   "cell_type": "markdown",
   "id": "d8f8ec46",
   "metadata": {},
   "source": [
    "**Exercise 3:**\n",
    "Create an instance of the Heart Disease dataset using the `fetch_ucirepo` object. Then:\n",
    "- Check the **type** of the dataset object you've created.\n",
    "- Use `dir()` on the object to list its attributes.\n",
    "- Try accessing `.metadata`, `.variables`, and `.data`. What types are these? What kind of information do they contain?\n",
    "\n",
    "This will help you understand how the dataset is structured and how to navigate it."
   ]
  },
  {
   "cell_type": "markdown",
   "id": "ca4ca2b9",
   "metadata": {},
   "source": [
    "```{dropdown}\n",
    "\n",
    "{admonition}\n",
    ":class: tip\n",
    "\n",
    "Use `type(heart_disease)` and `dir(heart_disease)` to explore the structure of the object.\n",
    "\n",
    "You’ll find that `heart_disease` has components like `.metadata` (a dictionary), `.variables` (a DataFrame), and `.data` (a dictionary containing the features and target)."
   ]
  },
  {
   "cell_type": "code",
   "execution_count": 2,
   "id": "c1a8d492",
   "metadata": {},
   "outputs": [],
   "source": [
    "# Your code goes here"
   ]
  },
  {
   "cell_type": "markdown",
   "id": "df74ef47",
   "metadata": {},
   "source": [
    "**Exercise 4:**\n",
    "Print the metadata information about the dataset. Try to answer the following questions based on what you find:\n",
    "- How many data points (patients) and how many features are there?\n",
    "- What are the names of the demographic features?\n",
    "- What is the name of the target variable?\n",
    "- Are there any missing values in the dataset? If so, how can they be identified?"
   ]
  },
  {
   "cell_type": "code",
   "execution_count": 3,
   "id": "c503a026",
   "metadata": {},
   "outputs": [],
   "source": [
    "# Your code goes here"
   ]
  },
  {
   "cell_type": "markdown",
   "id": "933adb93",
   "metadata": {},
   "source": [
    "**Exercise 5:**\n",
    "Print the variable information for the dataset. Try to answer the following questions based on the output:\n",
    "- Which variables have missing values?\n",
    "- What is the unit of *resting blood pressure*?\n",
    "- How many categorical variables are there?"
   ]
  },
  {
   "cell_type": "code",
   "execution_count": 4,
   "id": "619bf4dd",
   "metadata": {},
   "outputs": [],
   "source": [
    "# Your code goes here"
   ]
  },
  {
   "cell_type": "markdown",
   "id": "4e58a063",
   "metadata": {},
   "source": [
    "```{admonition} Reflection\n",
    ":class: note\n",
    "\n",
    "Based on the metadata and variable information, write down answers to the following:\n",
    "\n",
    "- What types of features are present in the dataset (categorical, integer, real)?\n",
    "- Which features seem to be demographic?\n",
    "- Are there any features with missing values?\n",
    "- What does the target variable represent, and how is it structured?\n",
    "- Are there any variables you expect might be particularly important for heart disease prediction?\n",
    "\n",
    "Take a moment to write 3–5 bullet points. This will help you later when you're cleaning the data and doing visualisation or analysis."
   ]
  },
  {
   "cell_type": "markdown",
   "id": "83e44d9f",
   "metadata": {},
   "source": [
    "**Exercise 6:**\n",
    "Extract the feature values and the target values into two separate variables. Print each of them.\n",
    "- Do the number of rows and columns make sense?\n",
    "- Are you able to understand what information they contain based on the metadata exploration?\n",
    "- If not, revisit the website, metadata, and variable information to clarify.\n",
    "\n",
    "Next, import the `pandas` library. Combine the feature and target values into a single pandas DataFrame, where each row represents a patient and each column represents a feature, with the final column being the target variable. Display the first five rows of the resulting DataFrame."
   ]
  },
  {
   "cell_type": "markdown",
   "id": "5336ee56",
   "metadata": {},
   "source": [
    "```{dropdown}\n",
    "\n",
    "{admonition}\n",
    ":class: tip\n",
    "\n",
    "If you're unsure how best to combine the features and target, start by checking their types. You'll see that they are already both in the pandas framework, so you'll need to use a pandas command to combine the two into the required layout — this should only require one line of code.\n",
    "\n",
    "Whenever you're unsure how to manipulate the data, the first step should always be to check its type. This will help you better understand what operations are available."
   ]
  },
  {
   "cell_type": "code",
   "execution_count": 5,
   "id": "528a43b1",
   "metadata": {},
   "outputs": [],
   "source": [
    "# Your code goes here"
   ]
  },
  {
   "cell_type": "markdown",
   "id": "e70ab106",
   "metadata": {},
   "source": [
    "# Data Cleaning"
   ]
  },
  {
   "cell_type": "markdown",
   "id": "f3241175",
   "metadata": {},
   "source": [
    "Now that we have everything in a single, tidy DataFrame, we need to make sure the data is properly cleaned before we begin analysing it.\n",
    "\n",
    "Let's start with missing values. From the metadata, we already know that the variables `ca` and `thal` contain missing values.\n",
    "\n",
    "**Exercise 7:**\n",
    "To decide how to handle these missing values, we first need a more detailed understanding. For both `ca` and `thal`, print the following information:\n",
    "- The full column of values\n",
    "- How many times each contains a `NaN` value\n",
    "- The number of unique values in the column, and what those values are\n",
    "- The type of each feature (use the variable information DataFrame to check this)"
   ]
  },
  {
   "cell_type": "code",
   "execution_count": 6,
   "id": "66ac8702",
   "metadata": {},
   "outputs": [],
   "source": [
    "# Your code goes here"
   ]
  },
  {
   "cell_type": "markdown",
   "id": "28e24334",
   "metadata": {},
   "source": [
    "You should notice that `ca` contains integer values, while `thal` is categorical, with each having four or three unique values respectively (excluding `NaN`). For this reason, it wouldn't make sense to replace the missing values with the mean. Instead, a simple approach is to remove patients (rows) with any missing (`NaN`) values.\n",
    "\n",
    "**Exercise 8:**\n",
    "Remove all rows (patients) that contain any NaN values. Then:\n",
    "- Print the number of NaN values in each column to ensure that none remain\n",
    "- Print the shape of the DataFrame and check whether the number of removed rows makes sense\n",
    "- Reset the row index after dropping the rows with missing data"
   ]
  },
  {
   "cell_type": "code",
   "execution_count": 7,
   "id": "8bdad782",
   "metadata": {},
   "outputs": [],
   "source": [
    "# Your code goes here"
   ]
  },
  {
   "cell_type": "markdown",
   "id": "92ec4b6b",
   "metadata": {},
   "source": [
    "**Exercise 9:**\n",
    "Check that none of the columns or rows are duplicates of one another."
   ]
  },
  {
   "cell_type": "code",
   "execution_count": 8,
   "id": "a6f969fb",
   "metadata": {},
   "outputs": [],
   "source": [
    "# Your code goes here"
   ]
  },
  {
   "cell_type": "markdown",
   "id": "adfc3dc5",
   "metadata": {},
   "source": [
    "As a final step, we want to ensure that the target variable (`num`) is in the correct format.\n",
    "According to the website, it should take five possible values: 0, 1, 2, 3, and 4.\n",
    "A value of 0 indicates no heart disease, while values 1–4 represent different categories of heart disease.\n",
    "\n",
    "\n",
    "**Exercise 10:**\n",
    "- Check the type of `num` and its unique values, as you did in earlier exercises, to confirm that the data matches the description.\n",
    "- Create a new column at the end of the DataFrame called `heart_disease_binary`. This column should contain 0 if `num` is 0, and 1 otherwise. Use a lambda function to achieve this transformation.\n",
    "- Print the final DataFrame to verify the result."
   ]
  },
  {
   "cell_type": "code",
   "execution_count": 9,
   "id": "fb6e15ff",
   "metadata": {},
   "outputs": [],
   "source": [
    "# Your code goes here"
   ]
  },
  {
   "cell_type": "markdown",
   "id": "b890f8b6",
   "metadata": {},
   "source": [
    "## Exploratory analyses"
   ]
  },
  {
   "cell_type": "markdown",
   "id": "3854979a",
   "metadata": {},
   "source": []
  }
 ],
 "metadata": {
  "kernelspec": {
   "display_name": "jupyter_course_venv",
   "language": "python",
   "name": "python3"
  },
  "language_info": {
   "codemirror_mode": {
    "name": "ipython",
    "version": 3
   },
   "file_extension": ".py",
   "mimetype": "text/x-python",
   "name": "python",
   "nbconvert_exporter": "python",
   "pygments_lexer": "ipython3",
   "version": "3.13.2"
  }
 },
 "nbformat": 4,
 "nbformat_minor": 5
}