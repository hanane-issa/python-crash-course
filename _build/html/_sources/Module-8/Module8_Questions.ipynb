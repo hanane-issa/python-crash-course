{
 "cells": [
  {
   "cell_type": "markdown",
   "id": "3d32cade",
   "metadata": {},
   "source": [
    "# M8: Final Practice on a Heart Disease Dataset\n",
    "\n",
    "Congratulations, you have made it to the last module! Throughout the course, you have covered the fundamental knowledge and packages needed to apply Python in bioinformatics.\n",
    "\n",
    "The aim of this module is to help you consolidate what you have learned. We will introduce a new dataset for you to analyse and explore. You'll be given a series of exercises designed for you to complete independently, with minimal external assistance.\n",
    "\n",
    "If you find yourself stuck, make sure to give it a proper attempt on your own first. If that doesn't resolve the issue, revisit earlier modules to refresh your memory. And if you're still unsure, feel free to use Google. Indeed, knowing how to use Google to look up code/ functions to accomplish a task is an important skill on its own. As a last resort you can use the solution sheet."
   ]
  },
  {
   "cell_type": "markdown",
   "id": "493cea85",
   "metadata": {},
   "source": [
    "---\n",
    "---"
   ]
  },
  {
   "cell_type": "markdown",
   "id": "1cce2fd0",
   "metadata": {},
   "source": [
    "## Loading the Dataset"
   ]
  },
  {
   "cell_type": "markdown",
   "id": "05807302",
   "metadata": {},
   "source": [
    "The dataset that we will be using is the *Heart Disease Dataset* from UC Irvine Machine Learning Repository: https://archive.ics.uci.edu/dataset/45/heart+disease\n",
    "\n",
    "This dataset is intended for a machine learning task: given a set of patient features, the goal is to predict whether the patient has been diagnosed with a heart disease (the target variable). While building such a model is beyond the scope of this course, you will conduct some initial exploratory analyses to become familiar with the dataset and its contents.\n",
    "\n",
    "These exploratory analyses are often an essential first step, regardless of whether your aim to develop a machine learning model or to pursue other kinds of investigation.\n",
    "\n"
   ]
  },
  {
   "cell_type": "markdown",
   "id": "7fcf43f8",
   "metadata": {},
   "source": [
    "---"
   ]
  },
  {
   "cell_type": "markdown",
   "id": "18dff73d",
   "metadata": {},
   "source": [
    "### Exercise 1: Understanding the Dataset\n",
    "\n",
    "*Take a few minutes to read through the dataset description on the website to familiarise yourself with its structure and the variables it contains.*"
   ]
  },
  {
   "cell_type": "markdown",
   "id": "ff7712a8",
   "metadata": {},
   "source": [
    "---"
   ]
  },
  {
   "cell_type": "markdown",
   "id": "437aee3b",
   "metadata": {},
   "source": [
    "Great! Now that you've had a look at the dataset description, let's dive into the data itself.\n",
    "\n",
    "Don't worry if you didn't understand everything — things should become clearer as you familiarise yourself with the dataset through practice.\n",
    "\n",
    "At the top right-hand side of the datasets's website, you'll find a button labelled `IMPORT IN PYTHON`. Clicking on it will show you which package to install and how to load the dataset.\n",
    "\n",
    "\n",
    "![Overview of the website](./pictures/websitescreenshot_overview.png)\n",
    "\n",
    "\n",
    "![Import overview](./pictures/websitescreenshot_import.png)\n"
   ]
  },
  {
   "cell_type": "markdown",
   "id": "9ba82126",
   "metadata": {},
   "source": [
    "```{admonition} Tip\n",
    ":class: tip\n",
    "\n",
    "For the first part of the exercises, you mainly just need to follow this example code from the website.\n",
    "\n",
    "Take your time going through the initial code, it will help you begin exploring the dataset and understanding what is being provided and how to work with it."
   ]
  },
  {
   "cell_type": "markdown",
   "id": "af07507f",
   "metadata": {},
   "source": [
    "---"
   ]
  },
  {
   "cell_type": "markdown",
   "id": "d14b0c06",
   "metadata": {},
   "source": [
    "### Exercise 2: Import the Dataset Using the UCI Package\n",
    "\n",
    "*Install the required package (using any of the methods you've learned) and import the package into your code.*\n",
    "\n"
   ]
  },
  {
   "cell_type": "code",
   "execution_count": 64,
   "id": "2cda99fb",
   "metadata": {},
   "outputs": [],
   "source": [
    "# Write your code here."
   ]
  },
  {
   "cell_type": "markdown",
   "id": "64fc25f4",
   "metadata": {},
   "source": [
    "---"
   ]
  },
  {
   "cell_type": "markdown",
   "id": "d8f8ec46",
   "metadata": {},
   "source": [
    "### Exercise 3: Explore the Structure of the Dataset Object\n",
    "\n",
    "1. *Create a Heart Disease dataset object by using `fetch_ucirepo(id=45)`.*\n",
    "2. *Check the **type** of the dataset object you've created.*\n",
    "3. *Use `dir()` on the object to list its attributes.*\n",
    "4. *Try accessing `.metadata`, `.variables`, and `.data`. What kind of information do they contain? What type are they?*\n",
    "\n",
    "*This will help you understand how the dataset is structured and how to navigate it.*"
   ]
  },
  {
   "cell_type": "code",
   "execution_count": 65,
   "id": "c1a8d492",
   "metadata": {},
   "outputs": [],
   "source": [
    "# Write your code here."
   ]
  },
  {
   "cell_type": "markdown",
   "id": "a3c11276",
   "metadata": {},
   "source": [
    "---"
   ]
  },
  {
   "cell_type": "markdown",
   "id": "df74ef47",
   "metadata": {},
   "source": [
    "### Exercise 4: Summarise the Metadata\n",
    "\n",
    "*Print the metadata information about the dataset. Try to answer the following questions based on what you find:*\n",
    "1. *How many data points (patients) and how many features are there?*\n",
    "2. *What are the names of the demographic features?*\n",
    "3. *What is the name of the target variable?*\n",
    "4. *Are there any missing values in the dataset? How can you identify them?*"
   ]
  },
  {
   "cell_type": "code",
   "execution_count": 66,
   "id": "c503a026",
   "metadata": {},
   "outputs": [],
   "source": [
    "# Write your code here."
   ]
  },
  {
   "cell_type": "markdown",
   "id": "98f65796",
   "metadata": {},
   "source": [
    "---"
   ]
  },
  {
   "cell_type": "markdown",
   "id": "933adb93",
   "metadata": {},
   "source": [
    "### Exercise 5: Inspect Variable Details and Metadata\n",
    "\n",
    "1. *Save the the feature information from `dataset.variables` in a new variable*\n",
    "2. *Print the variable information and what type it is.*\n",
    "3. *Which variables have missing values?*\n",
    "4. *What is the unit of **resting blood pressure**?*\n",
    "5. *How many categorical variables are there?*"
   ]
  },
  {
   "cell_type": "code",
   "execution_count": 67,
   "id": "52b58e1e",
   "metadata": {},
   "outputs": [],
   "source": [
    "# Write your code here."
   ]
  },
  {
   "cell_type": "code",
   "execution_count": null,
   "id": "1b85e7d2",
   "metadata": {},
   "outputs": [],
   "source": []
  },
  {
   "cell_type": "markdown",
   "id": "3957cfe1",
   "metadata": {},
   "source": [
    "---"
   ]
  },
  {
   "cell_type": "markdown",
   "id": "83e44d9f",
   "metadata": {},
   "source": [
    "### Exercise 6: Convert Data to DataFrame Format for Exploration\n",
    "\n",
    "1. *Extract the feature values and the target values into two separate variables. Print each of them.*\n",
    "2. *Do the number of rows and columns make sense?*\n",
    "3. *Are you able to understand what information they contain based on the metadata exploration? If not, revisit the website, metadata, and variable information to clarify.*\n",
    "5. *Import the `pandas` library.*\n",
    "6. *Combine the feature and target values into a single pandas DataFrame, where each row represents a patient and each column represents a feature, with the final column being the target variable.*\n",
    "7. *Display the first five rows of the resulting DataFrame.*"
   ]
  },
  {
   "cell_type": "markdown",
   "id": "98eb6cd1",
   "metadata": {},
   "source": [
    "```{dropdown} Tip\n",
    ":class: tip\n",
    "\n",
    "If you're unsure how best to combine the features and target, start by checking their types. You'll see that they are already both in the pandas framework, so you'll need to use a pandas command to combine the two into the required layout — this should only require one line of code.\n",
    "\n",
    "Whenever you're unsure how to manipulate the data, the first step should always be to check its type. This will help you better understand what operations are available.\n",
    "```"
   ]
  },
  {
   "cell_type": "code",
   "execution_count": 68,
   "id": "528a43b1",
   "metadata": {},
   "outputs": [],
   "source": [
    "# Write your code here."
   ]
  },
  {
   "cell_type": "markdown",
   "id": "6ee030ad",
   "metadata": {},
   "source": [
    "---\n",
    "---"
   ]
  },
  {
   "cell_type": "markdown",
   "id": "e70ab106",
   "metadata": {},
   "source": [
    "## Data Cleaning"
   ]
  },
  {
   "cell_type": "markdown",
   "id": "f3241175",
   "metadata": {},
   "source": [
    "Now that we have everything in a single, tidy DataFrame, we need to make sure the data is properly cleaned before we begin analysing it.\n",
    "\n",
    "Let's start with missing values. From the metadata, we already know that the features `ca` and `thal` contain missing values.\n",
    "\n"
   ]
  },
  {
   "cell_type": "markdown",
   "id": "a9af2331",
   "metadata": {},
   "source": [
    "---"
   ]
  },
  {
   "cell_type": "markdown",
   "id": "99ec1de2",
   "metadata": {},
   "source": [
    "### Exercise 7: Investigating Missing Values in the Dataset\n",
    "\n",
    "*To decide how to handle these missing values, we first need a more detailed understanding. For both `ca` and `thal`, print the following information:*\n",
    "1. *The full column of values.*\n",
    "2. *How many times each contains a `NaN` value.*\n",
    "3. *The number of unique values in the column, and what those values are.*\n",
    "4. *The type of each feature (use the variable information DataFrame to check this).*\n",
    "5. *Based on these results, think about what the best way to handle the missing data is.*"
   ]
  },
  {
   "cell_type": "code",
   "execution_count": 69,
   "id": "66ac8702",
   "metadata": {},
   "outputs": [],
   "source": [
    "# Write your code here."
   ]
  },
  {
   "cell_type": "markdown",
   "id": "7fb8a562",
   "metadata": {},
   "source": [
    "---"
   ]
  },
  {
   "cell_type": "markdown",
   "id": "28e24334",
   "metadata": {},
   "source": [
    "You should notice that `ca` contains integer values, while `thal` is categorical, with each having four or three unique values respectively (excluding `NaN`). For this reason, it wouldn't make sense to replace the missing values with the mean. We could replace it with the mode (the category / integer that is most common for that feature). However, since only a maximum of six patients out of the 303 have missing values (four for `ca` and two for `thal`) we can instead also just remove patients (rows) with any missing (`NaN`) values without loosing to much data."
   ]
  },
  {
   "cell_type": "markdown",
   "id": "d49221b8",
   "metadata": {},
   "source": [
    "---"
   ]
  },
  {
   "cell_type": "markdown",
   "id": "3a0c000c",
   "metadata": {},
   "source": [
    "### Exercise 8: Removing Rows with Missing Values\n",
    "\n",
    "1. *Remove all rows (patients) that contain any `NaN` values.*\n",
    "2. *Print the number of NaN values in each column to ensure that none remain.*\n",
    "3. *Print the shape of the DataFrame and check whether the number of rows makes sense.*\n",
    "4. *Reset the row index after dropping the rows with missing data.*"
   ]
  },
  {
   "cell_type": "code",
   "execution_count": 70,
   "id": "8bdad782",
   "metadata": {},
   "outputs": [],
   "source": [
    "# Write your code here."
   ]
  },
  {
   "cell_type": "markdown",
   "id": "34b0503b",
   "metadata": {},
   "source": [
    "---"
   ]
  },
  {
   "cell_type": "markdown",
   "id": "f17a86d1",
   "metadata": {},
   "source": [
    "Great, now you should have no missing values in your dataset. A different problem that sometimes occurs is that the data is entered wrongly, leading to duplicate patients or features (i.e. they have the exact same values). We need to make sure that we do not have this problem here."
   ]
  },
  {
   "cell_type": "markdown",
   "id": "4e115660",
   "metadata": {},
   "source": [
    "---"
   ]
  },
  {
   "cell_type": "markdown",
   "id": "92ec4b6b",
   "metadata": {},
   "source": [
    "### Exercise 9: Checking for Duplicate Rows and Columns\n",
    "\n",
    "1. *Get the duplicate rows*\n",
    "2. *Print the number of duplicate rows*\n",
    "3. *Write an if statement that prints the duplicate rows and removes them if there are any*\n",
    "4. *Do the same for the columns*"
   ]
  },
  {
   "cell_type": "code",
   "execution_count": 71,
   "id": "a6f969fb",
   "metadata": {},
   "outputs": [],
   "source": [
    "# Write your code here."
   ]
  },
  {
   "cell_type": "markdown",
   "id": "f2c4c420",
   "metadata": {},
   "source": [
    "---"
   ]
  },
  {
   "cell_type": "markdown",
   "id": "53a10494",
   "metadata": {},
   "source": [
    "As a final step, we want to ensure that the target variable (`num`) is in the correct format.\n",
    "According to the website, it should take five possible values: 0, 1, 2, 3, and 4.\n",
    "A value of 0 indicates no heart disease, while values 1–4 represent different categories of heart disease.\n",
    "For your analyses you might only be interested in whether the patient has the disease or not but not what type. For instance, for binary classification tasks or to simplify analysis. So the target values need to be converted into binary:\n",
    "- 0 → no heart disease  (False / 0)\n",
    "- 1–4 → heart disease present (True / 1)"
   ]
  },
  {
   "cell_type": "markdown",
   "id": "a179feaa",
   "metadata": {},
   "source": [
    "---"
   ]
  },
  {
   "cell_type": "markdown",
   "id": "0e518303",
   "metadata": {},
   "source": [
    "### Exercise 10: Create a Binary Target Variable\n",
    "\n",
    "1. *Check the type of `num` and its unique values, as you did in earlier exercises, to confirm that the data matches the description.*\n",
    "2. *Create a new column at the end of the DataFrame called `heart_disease_binary`. This column should contain 0 if `num` is 0, and 1 otherwise. Use a lambda function to achieve this transformation.*\n",
    "3. *Print the final DataFrame to verify the result.*"
   ]
  },
  {
   "cell_type": "code",
   "execution_count": 72,
   "id": "fb6e15ff",
   "metadata": {},
   "outputs": [],
   "source": [
    "# Write your code here."
   ]
  },
  {
   "cell_type": "markdown",
   "id": "8cb4efb9",
   "metadata": {},
   "source": [
    "---\n",
    "---"
   ]
  },
  {
   "cell_type": "markdown",
   "id": "b890f8b6",
   "metadata": {},
   "source": [
    "## Exploratory Data Analysis (EDA)"
   ]
  },
  {
   "cell_type": "markdown",
   "id": "bf63fd08",
   "metadata": {},
   "source": [
    "Now that the dataset is clean, we can begin exploring the different features. Visualisation is a key part of **exploratory data analysis (EDA)**: it helps us detect patterns, identify outliers, and better understand the structure of our data — all of which can inform future modelling decisions. \n",
    "\n",
    "We'll start by plotting the **individual features** to understand their distributions. Depending on the type of the feature different plots and analysis methods need to be used. There are two main types:\n",
    "- Numerical (quantities and measurements)\n",
    "- Categorical (groups, types, labels)\n",
    "\n",
    "Note that this type might not perfectly align with the type python asigns to a value. We will refer to whether the feature is numerical or categorical as **feature type** and the type you get from Python when using `type()` as **Python type**."
   ]
  },
  {
   "cell_type": "markdown",
   "id": "bb3c0199",
   "metadata": {},
   "source": [
    "**Numerical Features**\n",
    "\n",
    "These represent measurable quantities, and they can be either:\n",
    "\n",
    "| Type        | Description                         | Example from Dataset         | Visualisation         |\n",
    "|-------------|-------------------------------------|------------------------------|-----------------------|\n",
    "| Continuous  | Can take any value within a range   | `chol`, `oldpeak`            | Histogram             |\n",
    "| Discrete    | Countable whole numbers             | `ca` (number of vessels)     | Histogram or bar plot |\n",
    "\n",
    "\n",
    "Even though both feature types are numeric, you might treat them differently in analysis. For example, **standardisation** usually make sense for continuous variables but not for small-range discrete variables like `ca` or `slope`.\n"
   ]
  },
  {
   "cell_type": "markdown",
   "id": "bb76c6a0",
   "metadata": {},
   "source": [
    "```{admonition} Continuous vs Discrete – Real vs Representation\n",
    ":class: note\n",
    "\n",
    "Some variables, like **age**, may appear as **discrete** in a dataset (e.g. whole years),  \n",
    "but they are **inherently continuous** — people can be 18.5 or 73.2 years old.  \n",
    "Because it spans a wide range and behaves like a measurement, **age is typically analysed as continuous**.\n",
    "\n",
    "In contrast, features like **number of vessels (`ca`)** are **truly discrete**:  \n",
    "you can’t have 2.5 vessels — it’s either 2 or 3. These are counts and must be treated accordingly.\n",
    "\n",
    "- Discrete features with **many unique values** (like age) are often analysed as continuous.\n",
    "- Truly discrete, **count-based** features are handled differently — especially in statistical models."
   ]
  },
  {
   "cell_type": "markdown",
   "id": "1a347893",
   "metadata": {},
   "source": [
    "**Categorical Features**\n",
    "\n",
    "These represent groups or labels. They can be:\n",
    "\n",
    "| Type     | Description                           | Example from Dataset       | Visualisation  |\n",
    "|----------|---------------------------------------|----------------------------|----------------|\n",
    "| Nominal  | No natural order                      | sex, thal, chest pain type | Bar plot       |\n",
    "| Ordinal  | Ordered categories                    | slope (up, flat, down)     | Bar plot       |\n",
    "\n",
    "Just because a feature is stored as an integer doesn't mean its feature type is numerical. Many **categorical variables** are encoded as integers (e.g., `sex`, `cp`, `slope`), but these values represent **categories**, not measurements."
   ]
  },
  {
   "cell_type": "markdown",
   "id": "46e3d4f9",
   "metadata": {},
   "source": [
    "```{admonition} Identifiers\n",
    ":class: note\n",
    "\n",
    "Some biomedical datasets include IDs (e.g., patient ID or record number). These are usually:\n",
    "- Unique per row\n",
    "- Not useful for prediction\n",
    "- Should not be plotted or included in modelling"
   ]
  },
  {
   "cell_type": "markdown",
   "id": "db0f6e42",
   "metadata": {},
   "source": [
    "Always check the variable and its description to know whether it is categorical or numerical. You can look at different information to help you with this:\n",
    "\n",
    "-\tUse `.dtypes` on the dataframe:\n",
    "    - float64 → likely continuous\n",
    "    - int64 → might be either discrete or categorical\n",
    "\n",
    "-\tUse `.nunique()` on the dataframe:\n",
    "    - Few unique values (e.g. 2–4) → probably categorical\n",
    "    - Many unique values (30+) → likely continuous\n",
    "\n",
    "-\tUse the variable descriptions / information:\n",
    "    - They say if the the \"Categorical\" or \"Integer\"\n",
    "    - Do they describe a measurement (e.g. blood pressure)? → Numerical\n",
    "    - Do they describe a group or type (e.g. chest pain type)? → Categorical\n",
    "    \n",
    "If you are not sure you can always just try plotting both histograms and bar plots and see what fits your data better. "
   ]
  },
  {
   "cell_type": "markdown",
   "id": "4be97b39",
   "metadata": {},
   "source": [
    "---"
   ]
  },
  {
   "cell_type": "markdown",
   "id": "3232fe76",
   "metadata": {},
   "source": [
    "### Exercise 11: Classify Each Variable by Type\n",
    "\n",
    "*Identify the type of each feature. This will guide you in which visualisation, transformation, or statistical method to apply later. Consider the following variable types:*\n",
    "- **Continuous numerical** – real-valued measurements with many unique values\n",
    "- **Discrete numerical** – count-based integers\n",
    "- **Nominal categorical** – unordered categories\n",
    "    - *Binary* – a special case with exactly two values\n",
    "- **Ordinal categorical** – ordered categories\n",
    "- **Identifier / metadata** – e.g., patient IDs (not used in modelling)\n",
    "\n",
    "*(Not all types may be present in this dataset)*\n",
    "\n",
    "*Create a list for categorial and continuos features and put the name of the features in them accordingly  (ignoring their subtypes).*"
   ]
  },
  {
   "cell_type": "code",
   "execution_count": 73,
   "id": "c4d4c73e",
   "metadata": {},
   "outputs": [],
   "source": [
    "# Write your code here."
   ]
  },
  {
   "cell_type": "markdown",
   "id": "265d8db1",
   "metadata": {},
   "source": [
    "---"
   ]
  },
  {
   "cell_type": "markdown",
   "id": "f2f3c8c5",
   "metadata": {},
   "source": [
    "Now that you know the type of each feature you can start plotting them. Lets start with categorial variables using bar plots. Bar plots show category frequencies clearly helping you to:\n",
    "- Understand class balance (e.g., male vs female)\n",
    "- Identify rare or dominant categories\n",
    "- Spot issues like unbalanced variables, which can affect modelling"
   ]
  },
  {
   "cell_type": "markdown",
   "id": "9a81b404",
   "metadata": {},
   "source": [
    "---"
   ]
  },
  {
   "cell_type": "markdown",
   "id": "df3a65b0",
   "metadata": {},
   "source": [
    "### Exercise 12: Visualise Categorical Feature Distributions\n",
    "\n",
    "1. *Import the `matplotlib.pyplot` library as `plt` and `seaborn`.*\n",
    "2. *Create a function to create a bar plot for a categorial feature - include labels, a legend, and a title. You can use either `.countplot()` from seaborn or extract the value counts from the dataframe and use `.plot()` on them.* \n",
    "3. *Loop through the categorial feature list to create bar plots for each of them.*"
   ]
  },
  {
   "cell_type": "code",
   "execution_count": 74,
   "id": "1d4cbe11",
   "metadata": {},
   "outputs": [],
   "source": [
    "# Write your code here."
   ]
  },
  {
   "cell_type": "markdown",
   "id": "8ffbe8d6",
   "metadata": {},
   "source": [
    "---"
   ]
  },
  {
   "cell_type": "markdown",
   "id": "be159d98",
   "metadata": {},
   "source": [
    "Let's do the same for the continuous numerical features you identified earlier. We will use histograms since they are ideal for:\n",
    "- Understanding the shape of the distribution (e.g. symmetric, skewed, bimodal)\n",
    "- Identifying outliers or unusual values\n",
    "- Comparing ranges and spread between features"
   ]
  },
  {
   "cell_type": "markdown",
   "id": "ce95135b",
   "metadata": {},
   "source": [
    "---"
   ]
  },
  {
   "cell_type": "markdown",
   "id": "09b03433",
   "metadata": {},
   "source": [
    "### Exercise 13: Visualising Continuous Features Distributions\n",
    "\n",
    "1. *Create a function to create a histogram for a continuos feature - include labels, a legend, and a title. You can use either `.histplot()` from seaborn or `.hist()` from `matplotlib` on them.* \n",
    "2. *Loop through the continuos feature list to create histograms for each of them.*"
   ]
  },
  {
   "cell_type": "markdown",
   "id": "e9c35fe0",
   "metadata": {},
   "source": [
    "```{dropdown} Tip\n",
    ":class: tip\n",
    "- Use `bins=20` and `edgecolor='black'` for either `seaborn` or `matplotlib` for clean visuals\n",
    "```"
   ]
  },
  {
   "cell_type": "code",
   "execution_count": 75,
   "id": "2f9e046a",
   "metadata": {},
   "outputs": [],
   "source": [
    "# Write your code here."
   ]
  },
  {
   "cell_type": "markdown",
   "id": "bc272299",
   "metadata": {},
   "source": [
    "---"
   ]
  },
  {
   "cell_type": "markdown",
   "id": "9a034e47",
   "metadata": {},
   "source": [
    "For now you have only looked at the distributions of the features for the whole dataset. Sometimes you might be interested in understanding the distribution of a feature for some subgroups instead to understand how these groups differ from each other. For instance, there tend to be differences between male and female patients in how diseases present. Lets investigate whether any of the features' value distributions differ between male and female patients. This can help identify biological or physiological differences, features that may require sex-specific modelling, and whether standardisation should be stratified (i.e. standardise the data within the subgroups instead of across the whole dataset)."
   ]
  },
  {
   "cell_type": "markdown",
   "id": "144304cc",
   "metadata": {},
   "source": [
    "```{admonition} Unequal group sizes can affect your interpretations\n",
    ":class: warning\n",
    "\n",
    "In our dataset, around **68% of the patients are male**, and only **32% are female**. \n",
    "\n",
    "This imbalance can impact how we interpret feature distributions. For example, if a certain chest pain type appears more often in males, it may simply reflect the larger number of male patients — not a true difference in risk or symptoms.\n",
    "\n",
    "```"
   ]
  },
  {
   "cell_type": "markdown",
   "id": "3c78cf1d",
   "metadata": {},
   "source": [
    "---"
   ]
  },
  {
   "cell_type": "markdown",
   "id": "a977cbda",
   "metadata": {},
   "source": [
    "### Exercise 14: Compare Categorical Distributions by Sex\n",
    "\n",
    "1. *Create a plot with as many subplots as there are categorical features.*\n",
    "2. *Loop through each of the categorical features.*\n",
    "3. *Within the loop: Create bar subplot for the feature, stratified by sex. You need one bar for each category within each sex group  - include labels, a legend, and a title. You can use either `.countplot()` from `seaborn` or extract the number of entries for each category for each sex from the dataframe and use `.plot()` on them.*"
   ]
  },
  {
   "cell_type": "markdown",
   "id": "7d82d673",
   "metadata": {},
   "source": [
    "```{dropdown} Tip\n",
    ":class: tip\n",
    "- Use `enumerate(categorical_list)` when looping through the list to access the index and name of the feature at the same time (the index is useful for selecting the correct subplot while the name is needed for labelling)\n",
    "- Set `hue=sex` in `.countplot()` to have it stratisfied by sex.\n",
    "- Use `pd.crosstab()` or `df.groupby('sex')[feature].value_counts()` to create the subgroups value counts for plotting if you want to use the `.plot()` option.\n",
    "```"
   ]
  },
  {
   "cell_type": "code",
   "execution_count": 76,
   "id": "c6a821fc",
   "metadata": {},
   "outputs": [],
   "source": [
    "# Write your code here."
   ]
  },
  {
   "cell_type": "markdown",
   "id": "dfbb1bba",
   "metadata": {},
   "source": [
    "---"
   ]
  },
  {
   "cell_type": "markdown",
   "id": "8e5262ed",
   "metadata": {},
   "source": [
    "### Exercise 15: Compare Continuous Features by Sex\n",
    "\n",
    "1. *Create a plot with as many subplots as there are continuous features.*\n",
    "2. *Loop through each of the continuous features.*\n",
    "3. *Within the loop: Plot a subplot of overlaid histograms for male and female patients for the feature. Include labels, a legend, and a title. You can use either `.histplot()` from seaborn or `.hist` from `matplotlib`.*"
   ]
  },
  {
   "cell_type": "code",
   "execution_count": 77,
   "id": "b8928ea5",
   "metadata": {},
   "outputs": [],
   "source": [
    "# Write your code here."
   ]
  },
  {
   "cell_type": "markdown",
   "id": "502d0ba6",
   "metadata": {},
   "source": [
    "```{dropdown} Tip\n",
    ":class: tip\n",
    "- Set `hue=sex` in `.histplot()` to have it stratisfied by sex.\n",
    "- If using `matplotlib` create two histograms in the subplot, one for each sex by selecting the correct subdata from the main dataframe\n",
    "```"
   ]
  },
  {
   "cell_type": "markdown",
   "id": "2a5e8419",
   "metadata": {},
   "source": [
    "---"
   ]
  },
  {
   "cell_type": "markdown",
   "id": "ed02165b",
   "metadata": {},
   "source": [
    "### Exercise 16: Boxplots of Continuous Features by Sex\n",
    "\n",
    "*In the previous exercise, you used **stratified histograms** to see how the distribution shape of each continuous variable differs between males and females. Now, you'll use **boxplots** to visualise the differences. While histograms are better for understanding the full shape of a distribution (e.g., unimodal, skewed, bimodal), boxplots give a cleaner summary of central tendency and variability, especially for comparisons across groups.*\n",
    "\n",
    "**Task:**\n",
    "1. *Create a plot with as many subplots as there are continuous features.*\n",
    "2. *Loop through each of the continuous features.*\n",
    "3. *Within the loop: Plot a subplot of a boxplot comparing the distribution for males and females patients for that feature - include labels, a legend, and a title. Use `.boxplot()` from `seaborn` for this the same way you did the histogram.*"
   ]
  },
  {
   "cell_type": "code",
   "execution_count": 78,
   "id": "407b61e5",
   "metadata": {},
   "outputs": [],
   "source": [
    "# Write your code here."
   ]
  },
  {
   "cell_type": "markdown",
   "id": "e20bb353",
   "metadata": {},
   "source": [
    "---"
   ]
  },
  {
   "cell_type": "markdown",
   "id": "006209b3",
   "metadata": {},
   "source": [
    "The next step after looking at the distributions of the features for the whole dataset or subgroups is to start exploring the relationship between two features. A **correlation matrix** is a powerful way to do this for two continuous features since it can be used to:\n",
    "- Identify **linear relationships** (positive or negative) between features\n",
    "- Detect **redundant features** (strong correlation between features means similar information)\n",
    "- Understand which variables may interact in modelling"
   ]
  },
  {
   "cell_type": "markdown",
   "id": "1cc090cd",
   "metadata": {},
   "source": [
    "---"
   ]
  },
  {
   "cell_type": "markdown",
   "id": "60b22402",
   "metadata": {},
   "source": [
    "### Exercise 17: Exploring Relationships Between Continuous Features\n",
    "\n",
    "1. *Create a new pandas dataframe with only the continuous features.*\n",
    "2. *Use `.corr()` on the new dataframe to compute the Pearson correlation matrix and save it in a new variable `corr_matrix`.*\n",
    "3. *Plot the `corr_matrix` as a heatmap using `seaborn` - include annotation, labels, a legend, and a title.*\n",
    "4. *Interpret the heatmap:*\n",
    "   - *Which features are positively or negatively correlated?*\n",
    "   - *Are any relationships strong (above $\\pm0.6$)?*\n",
    "   - *Do any pairs look redundant or surprisingly independent?*"
   ]
  },
  {
   "cell_type": "code",
   "execution_count": 79,
   "id": "a4b9f9ca",
   "metadata": {},
   "outputs": [],
   "source": [
    "# Write your code here."
   ]
  },
  {
   "cell_type": "markdown",
   "id": "a70925d5",
   "metadata": {},
   "source": [
    "```{dropdown} Tip\n",
    ":class: tip\n",
    "- Set `annot=True` inside `seaborn.heatmap()` to show correlation values\n",
    "- Set `cmap='coolwarm'` inside `seaborn.heatmap()` for intuitive colouring\n",
    "```"
   ]
  },
  {
   "cell_type": "markdown",
   "id": "d6bd7979",
   "metadata": {},
   "source": [
    "---"
   ]
  },
  {
   "cell_type": "markdown",
   "id": "4ca53ef7",
   "metadata": {},
   "source": [
    "We can't always trust the results from the Pearson correlation. Some of our continuous features are **right-skewed**, contain **outliers**, and might have **non-linear** relations. This violates Pearson correlation assumption of normality and linearity, which may lead to underestimation of non-linear relationship or high sensitivity to outliers. Instead you can compute **Spearman correlation**, which is based on **ranks** (not raw values), more **robust to outliers and skew**, and better at detecting **monotonic (non-linear)** trends."
   ]
  },
  {
   "cell_type": "markdown",
   "id": "99ede96a",
   "metadata": {},
   "source": [
    "---"
   ]
  },
  {
   "cell_type": "markdown",
   "id": "08237f42",
   "metadata": {},
   "source": [
    "### Exercise 18: Spearman Correlation\n",
    "\n",
    "1. *Use `.corr(method='spearman')` to compute the Spearman correlation matrix of the continous dataframe.*\n",
    "2. *Plot it as a heatmap (just like before).*\n",
    "3. *Compare it to your Pearson matrix:*\n",
    "   - *Which pairs change the most?*\n",
    "   - *Are there any new strong relationships?*\n",
    "   - *Do any associations disappear?*\n",
    "\n",
    "*Seeing how these two methods differ gives you a deeper view of your data and helps decide whether some features need **transformation** or **nonlinear methods** downstream.*"
   ]
  },
  {
   "cell_type": "code",
   "execution_count": 80,
   "id": "b16b7ab8",
   "metadata": {},
   "outputs": [],
   "source": [
    "# Write your code here."
   ]
  },
  {
   "cell_type": "markdown",
   "id": "3234ef2c",
   "metadata": {},
   "source": [
    "---"
   ]
  },
  {
   "cell_type": "markdown",
   "id": "71aa637a",
   "metadata": {},
   "source": [
    "You've explored relationships between features. Now it's time to ask which features differ most between patients with and without heart disease. This is a crucial part of exploratory analysis and feature selection. You’ll stratify patients based on the binary outcome: `heart_disease_binary` (0 = no disease, 1 = disease).\n",
    "\n",
    "Not only are we interested in visualising how the distribution differ depending on whether a patient has a heart disease but also if these differences are **significant** using **statistical tests**. Statistical tests return **p-values**. A **low p-value** (e.g., < 0.05) means the feature is **significantly associated** with heart disease. If the result is not significant, it may not be useful on its own — or it might require interaction with other features.\n",
    "\n",
    "For continuous features the statistical test we would use is a **t-test** which checks if the means of a feature between patients with and without heart disease are significantly different. A non-parametric alternative for this for non-normal feature distributions is the **Mann–Whitney U** test. For categorical features we would use a **chi-squared test of independence** test which compares whether the category counts differ significantly between patients with and without heart disease.\n",
    "\n",
    "This last part is more complicated what we have done so far and requires you to look up and try to understand functions by yourself. This is an important skill to have since you will often require new, specific packages and functions for the task that you use python for. Googling a function together with other keywords such as 'python' or the package name should return you the official documentation as one of the first results. Practice in reading them and understanding the information they give you is in important. In this case you will look at the `scipy` package: https://docs.scipy.org/doc/scipy/index.html."
   ]
  },
  {
   "cell_type": "markdown",
   "id": "d8e84104",
   "metadata": {},
   "source": [
    "---"
   ]
  },
  {
   "cell_type": "markdown",
   "id": "3c25631a",
   "metadata": {},
   "source": [
    "### Exercise 19: Explore Continuous Feature Relationships with the Target Variable\n",
    "\n",
    "1. *For each continuous feature:*\n",
    "    - *Create a boxplot grouped by `heart_disease_binary`*\n",
    "    - *Optionally: also create stratified histograms or violin plots*\n",
    "2. *Observe:*\n",
    "    - *Which variables show clear separation between the two classes?*\n",
    "    - *Are there noticeable shifts in distribution or outliers?*\n",
    "    - *Which features might be informative for classification?*\n",
    "\n",
    "*This step helps you identify potential predictors of heart disease, builds intuition about what differences exist between groups, and sets the stage for later statistical testing or modelling.*"
   ]
  },
  {
   "cell_type": "code",
   "execution_count": 81,
   "id": "5bfa1714",
   "metadata": {},
   "outputs": [],
   "source": [
    "# Write your code here."
   ]
  },
  {
   "cell_type": "markdown",
   "id": "2e72be7b",
   "metadata": {},
   "source": [
    "---"
   ]
  },
  {
   "cell_type": "markdown",
   "id": "2042ec1d",
   "metadata": {},
   "source": [
    "### Exercise 20: Statistical Test Continuous Feature Relationships with the Target Variable\n",
    "\n",
    "1. *If needed, install SciPy.*\n",
    "2. *Import `ttest_ind` and `mannwhitneyu` from `scipy.stats`.*\n",
    "3. *Split the dataframe into patients with and without a heart disease*\n",
    "4. *Look at the documentation of `ttest_ind` and `mannwhitneyu` online to understand how they are used to carry out a t-test or Mann–Whitney U test respectively. Check in what form the data needs to be provided in and how to get the p-value.*\n",
    "5. *For each continuous feature run:*\n",
    "\t- *Independent T-test*\n",
    "\t- *Mann–Whitney U test*\n",
    "6. *Print and interpret the p-values:*\n",
    "\t- *Which features show statistically significant differences?*\n",
    "\t- *Do results change between t-test and Mann–Whitney?*"
   ]
  },
  {
   "cell_type": "code",
   "execution_count": 82,
   "id": "522b58aa",
   "metadata": {},
   "outputs": [],
   "source": [
    "# Write your code here."
   ]
  },
  {
   "cell_type": "markdown",
   "id": "892cafff",
   "metadata": {},
   "source": [
    "```{admonition} Reminder: Check distribution shape\n",
    ":class: tip\n",
    "\n",
    "When results **disagree**, it often reflects a violation of assumptions — such as **skewness** or **outliers** — which makes the **non-parametric test** more trustworthy. Use your **histograms and boxplots** from earlier to decide which test is appropriate.\n",
    "\n",
    "- If a feature is **skewed** or has **many outliers**, the **Mann–Whitney U test** is more reliable.\n",
    "- If a feature is **symmetric** and looks normally distributed, the **t-test** is usually appropriate.\n",
    "\n",
    "This helps ensure you're using valid statistical assumptions, and makes your results more trustworthy. You can also use both tests for robustness, especially with non-normal data.\n",
    "```"
   ]
  },
  {
   "cell_type": "markdown",
   "id": "e292f4af",
   "metadata": {},
   "source": [
    "---"
   ]
  },
  {
   "cell_type": "markdown",
   "id": "0db1ec53",
   "metadata": {},
   "source": [
    "### Exercise 21: Exploring Categorical Feature Relationships with the Target Variable\n",
    "\n",
    "*You've explored continuous variables in detail — now it's time to analyse how **categorical features** relate to heart disease.*\n",
    "\n",
    "1. *For each categorical feature:*\n",
    "    - *Create a bar chart grouped by `heart_disease_binary` like you did to compare female vs male patients.*\n",
    "2. *Observe:*\n",
    "    - *Which variables show clear differences between the two classes?*\n",
    "    - *Which features might be informative for classification?*\n"
   ]
  },
  {
   "cell_type": "code",
   "execution_count": 83,
   "id": "aab88f01",
   "metadata": {},
   "outputs": [],
   "source": [
    "# Write your code here."
   ]
  },
  {
   "cell_type": "markdown",
   "id": "6ee43485",
   "metadata": {},
   "source": [
    "---"
   ]
  },
  {
   "cell_type": "markdown",
   "id": "852407f2",
   "metadata": {},
   "source": [
    "### Exercise 22: Statistical Test Categorical Feature Relationships with the Target Variable\n",
    "\n",
    "1. *If needed, install SciPy.*\n",
    "2. *Import `chi2_contingency` from `scipy.stats`.*\n",
    "3. *Look at the documentation of `chi2_contingency` online to understand how it is used to carry out a chi-squared test. Check in what form the data needs to be provided and how to get the p-value.*\n",
    "4. *For each categorical feature run a chi-squared test of independence test*\n",
    "5. *Print and interpret the p-values - which features show statistically significant differences?*"
   ]
  },
  {
   "cell_type": "code",
   "execution_count": 84,
   "id": "1e5a426e",
   "metadata": {},
   "outputs": [],
   "source": [
    "# Write your code here."
   ]
  },
  {
   "cell_type": "markdown",
   "id": "9b54814a",
   "metadata": {},
   "source": [
    "---"
   ]
  },
  {
   "cell_type": "markdown",
   "id": "667c3dec",
   "metadata": {},
   "source": [
    "## Congratulations, you have made it to the end of the course! \n",
    "\n",
    "We are aware that this practice sheet has not covered everything you have learned in this course such as `numpy` and creating classes. We did not want it to get to long. But if you have some time left, try to come up with your own tasks! Think about what analyses you might want to carry out with this dataset and how you could accomplish them. You can always use Google to help you. ChatGPT or other Large Language Models might be useful too if you get very stuck. But be careful with their usage, relying to much on them will restrict your learning and stop you from coming up with solutions and problem solving by yourself. Also, its answers might not always be correct.\n",
    "\n",
    "We hope you enjoyed the course and found it helpful! Please let us know if there is anything else you would find useful for it to cover, if you found any errors, and overall thoughts on it."
   ]
  }
 ],
 "metadata": {
  "kernelspec": {
   "display_name": "jupyter_course_venv",
   "language": "python",
   "name": "python3"
  },
  "language_info": {
   "codemirror_mode": {
    "name": "ipython",
    "version": 3
   },
   "file_extension": ".py",
   "mimetype": "text/x-python",
   "name": "python",
   "nbconvert_exporter": "python",
   "pygments_lexer": "ipython3",
   "version": "3.13.2"
  }
 },
 "nbformat": 4,
 "nbformat_minor": 5
}
