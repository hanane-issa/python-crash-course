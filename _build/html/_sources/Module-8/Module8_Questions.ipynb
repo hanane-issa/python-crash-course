{
 "cells": [
  {
   "cell_type": "markdown",
   "id": "3d32cade",
   "metadata": {},
   "source": [
    "# M8: Final Practice: Heart Disease Dataset\n",
    "\n",
    "You have made it to the last module! Throughout the course, you have covered the fundamental knowledge and Python packages needed to apply programming in bioinformatics.\n",
    "\n",
    "The aim of this module is to help you consolidate what you have learned. We will introduce a new dataset for you to analyse and explore. You'll be given a series of exercises designed for you to complete independently, with minimal external assistance.\n",
    "\n",
    "If you find yourself stuck, make sure to give it a proper attempt on your own first. If that doesn't resolve the issue, revisit earlier modules to refresh your memory. And if you're still unsure, feel free to use Google or consult the solution sheet as a last resort."
   ]
  },
  {
   "cell_type": "markdown",
   "id": "493cea85",
   "metadata": {},
   "source": [
    "---\n",
    "---"
   ]
  },
  {
   "cell_type": "markdown",
   "id": "1cce2fd0",
   "metadata": {},
   "source": [
    "## Initial Exploration"
   ]
  },
  {
   "cell_type": "markdown",
   "id": "05807302",
   "metadata": {},
   "source": [
    "The dataset that we will be using is the *Heart Disease Dataset* from UC Irvine Machine Learning Repository: https://archive.ics.uci.edu/dataset/45/heart+disease\n",
    "\n",
    "This dataset is intended for a machine learning task: given a set of patient features, the goal is to predict whether the patient has been diagnosed with heart disease (the target variable). While building such a model is beyond the scope of this course, you will conduct some initial exploratory analyses to become familiar with the dataset and its contents.\n",
    "\n",
    "Exploratory analysis is often an essential first step, regardless of whether your aim is to develop a machine learning model or to pursue other kinds of investigation.\n",
    "\n",
    "### Exercise 1: Understanding the Dataset\n",
    "\n",
    "*Take a few minutes to read through the dataset description on the website and familiarise yourself with its structure and the variables it contains.*"
   ]
  },
  {
   "cell_type": "markdown",
   "id": "7fcf43f8",
   "metadata": {},
   "source": []
  },
  {
   "cell_type": "markdown",
   "id": "ff7712a8",
   "metadata": {},
   "source": [
    "---"
   ]
  },
  {
   "cell_type": "markdown",
   "id": "437aee3b",
   "metadata": {},
   "source": [
    "Great! Now that you've had a look at the dataset description, let's dive into the data itself.\n",
    "\n",
    "Don't worry if you didn't understand everything — things should become clearer as you familiarise yourself with the dataset through practice.\n",
    "\n",
    "At the top right of the website, you'll find a button labelled `IMPORT IN PYTHON`. Clicking on it will show you which package to install and how to load the dataset using it.\n",
    "\n",
    "### Exercise 2: Import the Dataset Using the UCI Interface\n",
    "\n",
    "*Install the required package (using any of the methods you've learned) and import the dataset into your Python environment.*\n",
    "\n",
    "```{admonition}\n",
    ":class: tip\n",
    "\n",
    "For the first part of the exercises, you mainly just need to follow the example code provided on the website.\n",
    "\n",
    "Take your time going through the initial code, it will help you begin exploring the dataset and understanding what is being provided and how to work with it."
   ]
  },
  {
   "cell_type": "code",
   "execution_count": 3,
   "id": "2cda99fb",
   "metadata": {},
   "outputs": [],
   "source": [
    "# Write your code here."
   ]
  },
  {
   "cell_type": "markdown",
   "id": "64fc25f4",
   "metadata": {},
   "source": [
    "---"
   ]
  },
  {
   "cell_type": "markdown",
   "id": "d8f8ec46",
   "metadata": {},
   "source": [
    "### Exercise 3: Explore the Structure of the Dataset Object\n",
    "\n",
    "*Create an instance of the Heart Disease dataset using the `fetch_ucirepo` object. Then:*\n",
    "- *Check the **type** of the dataset object you've created.*\n",
    "- *Use `dir()` on the object to list its attributes.*\n",
    "- *Try accessing `.metadata`, `.variables`, and `.data`. What types are these? What kind of information do they contain?*\n",
    "\n",
    "*This will help you understand how the dataset is structured and how to navigate it.*\n",
    "\n",
    "```{admonition}\n",
    ":class: tip\n",
    "\n",
    "Use `type(heart_disease)` and `dir(heart_disease)` to explore the structure of the object.\n",
    "\n",
    "You’ll find that `heart_disease` has components like `.metadata` (a dictionary), `.variables` (a DataFrame), and `.data` (a dictionary containing the features and target).\n",
    "```"
   ]
  },
  {
   "cell_type": "code",
   "execution_count": 4,
   "id": "c1a8d492",
   "metadata": {},
   "outputs": [],
   "source": [
    "# Write your code here."
   ]
  },
  {
   "cell_type": "markdown",
   "id": "a3c11276",
   "metadata": {},
   "source": [
    "---"
   ]
  },
  {
   "cell_type": "markdown",
   "id": "df74ef47",
   "metadata": {},
   "source": [
    "### Exercise 4: Summarise the Dataset Metadata\n",
    "\n",
    "*Print the metadata information about the dataset. Try to answer the following questions based on what you find:*\n",
    "- *How many data points (patients) and how many features are there?*\n",
    "- *What are the names of the demographic features?*\n",
    "- *What is the name of the target variable?*\n",
    "- *Are there any missing values in the dataset?*"
   ]
  },
  {
   "cell_type": "code",
   "execution_count": 5,
   "id": "c503a026",
   "metadata": {},
   "outputs": [],
   "source": [
    "# Write your code here."
   ]
  },
  {
   "cell_type": "markdown",
   "id": "98f65796",
   "metadata": {},
   "source": [
    "---"
   ]
  },
  {
   "cell_type": "markdown",
   "id": "933adb93",
   "metadata": {},
   "source": [
    "### Exercise 5: Inspect Variable Details and Metadata\n",
    "\n",
    "*Print the variable information for the dataset. Try to answer the following questions based on the output:*\n",
    "- *Which variables have missing values?*\n",
    "- *What is the unit of **resting blood pressure**?*\n",
    "- *How many categorical variables are there?*"
   ]
  },
  {
   "cell_type": "code",
   "execution_count": 6,
   "id": "52b58e1e",
   "metadata": {},
   "outputs": [],
   "source": [
    "# Write your code here."
   ]
  },
  {
   "cell_type": "markdown",
   "id": "3957cfe1",
   "metadata": {},
   "source": [
    "---"
   ]
  },
  {
   "cell_type": "markdown",
   "id": "83e44d9f",
   "metadata": {},
   "source": [
    "### Exercise 6: Convert Data to DataFrame Format for Exploration\n",
    "\n",
    "*Extract the feature values and the target values into two separate variables. Print each of them.*\n",
    "- *Do the number of rows and columns make sense?*\n",
    "- *Are you able to understand what information they contain based on the metadata exploration?*\n",
    "- *If not, revisit the website, metadata, and variable information to clarify.*\n",
    "\n",
    "*Next, import the `pandas` library. Combine the feature and target values into a single pandas DataFrame, where each row represents a patient and each column represents a feature, with the final column being the target variable. Display the first five rows of the resulting DataFrame.*\n",
    "\n",
    "```{admonition}\n",
    ":class: tip\n",
    "\n",
    "If you're unsure how best to combine the features and target, start by checking their types. You'll see that they are already both in the pandas framework, so you'll need to use a pandas command to combine the two into the required layout — this should only require one line of code.\n",
    "\n",
    "Whenever you're unsure how to manipulate the data, the first step should always be to check its type. This will help you better understand what operations are available.\n",
    "```"
   ]
  },
  {
   "cell_type": "code",
   "execution_count": 7,
   "id": "528a43b1",
   "metadata": {},
   "outputs": [],
   "source": [
    "# Write your code here."
   ]
  },
  {
   "cell_type": "markdown",
   "id": "6ee030ad",
   "metadata": {},
   "source": [
    "---\n",
    "---"
   ]
  },
  {
   "cell_type": "markdown",
   "id": "e70ab106",
   "metadata": {},
   "source": [
    "## Data Cleaning"
   ]
  },
  {
   "cell_type": "markdown",
   "id": "f3241175",
   "metadata": {},
   "source": [
    "Now that we have everything in a single, tidy DataFrame, we need to make sure the data is properly cleaned before we begin analysing it.\n",
    "\n",
    "Let's start with missing values. From the metadata, we already know that the variables `ca` and `thal` contain missing values.\n",
    "\n",
    "### Exercise 7: Investigating Missing Values in the Dataset\n",
    "\n",
    "*To decide how to handle these missing values, we first need a more detailed understanding. For both `ca` and `thal`, print the following information:*\n",
    "- *The full column of values*\n",
    "- *How many times each contains a `NaN` value*\n",
    "- *The number of unique values in the column, and what those values are*\n",
    "- *The type of each feature (use the variable information DataFrame to check this)*"
   ]
  },
  {
   "cell_type": "code",
   "execution_count": 9,
   "id": "66ac8702",
   "metadata": {},
   "outputs": [],
   "source": [
    "# Write your code here."
   ]
  },
  {
   "cell_type": "markdown",
   "id": "7fb8a562",
   "metadata": {},
   "source": [
    "---"
   ]
  },
  {
   "cell_type": "markdown",
   "id": "28e24334",
   "metadata": {},
   "source": [
    "You should notice that `ca` contains integer values, while `thal` is categorical, with each having four or three unique values respectively (excluding `NaN`). For this reason, it wouldn't make sense to replace the missing values with the mean. Instead, a simple approach is to remove patients (rows) with any missing (`NaN`) values.\n",
    "\n",
    "\n",
    "### Exercise 8: Removing Rows with Missing Values\n",
    "\n",
    "*Remove all rows (patients) that contain any `NaN` values. Then:*\n",
    "- *Print the number of NaN values in each column to ensure that none remain*\n",
    "- *Print the shape of the DataFrame and check whether the number of removed rows makes sense*\n",
    "- *Reset the row index after dropping the rows with missing data*"
   ]
  },
  {
   "cell_type": "code",
   "execution_count": 10,
   "id": "8bdad782",
   "metadata": {},
   "outputs": [],
   "source": [
    "# Write your code here."
   ]
  },
  {
   "cell_type": "markdown",
   "id": "34b0503b",
   "metadata": {},
   "source": [
    "---"
   ]
  },
  {
   "cell_type": "markdown",
   "id": "92ec4b6b",
   "metadata": {},
   "source": [
    "### Exercise 9: Checking for Duplicate Rows and Columns\n",
    "\n",
    "*Check that none of the columns or rows are duplicates of one another.*"
   ]
  },
  {
   "cell_type": "code",
   "execution_count": 11,
   "id": "a6f969fb",
   "metadata": {},
   "outputs": [],
   "source": [
    "# Write your code here."
   ]
  },
  {
   "cell_type": "markdown",
   "id": "f2c4c420",
   "metadata": {},
   "source": [
    "---"
   ]
  },
  {
   "cell_type": "markdown",
   "id": "53a10494",
   "metadata": {},
   "source": [
    "As a final step, we want to ensure that the target variable (`num`) is in the correct format.\n",
    "According to the website, it should take five possible values: 0, 1, 2, 3, and 4.\n",
    "A value of 0 indicates no heart disease, while values 1–4 represent different categories of heart disease.\n",
    "\n",
    "### Exercise 10: Create a Binary Target Variable\n",
    "- *Check the type of `num` and its unique values, as you did in earlier exercises, to confirm that the data matches the description.*\n",
    "- *Create a new column at the end of the DataFrame called `heart_disease_binary`. This column should contain 0 if `num` is 0, and 1 otherwise. Use a lambda function to achieve this transformation.*\n",
    "- *Print the final DataFrame to verify the result.*"
   ]
  },
  {
   "cell_type": "code",
   "execution_count": 12,
   "id": "fb6e15ff",
   "metadata": {},
   "outputs": [],
   "source": [
    "# Write your code here."
   ]
  },
  {
   "cell_type": "markdown",
   "id": "229b7e92",
   "metadata": {},
   "source": [
    "```{admonition} Why we use a lambda here\n",
    ":class: tip\n",
    "The lambda function allows us to create a binary indicator:  \n",
    "- 0 → no heart disease  \n",
    "- 1–4 → heart disease present\n",
    "\n",
    "This is often useful for binary classification tasks, or to simplify analysis."
   ]
  },
  {
   "cell_type": "markdown",
   "id": "8cb4efb9",
   "metadata": {},
   "source": [
    "---\n",
    "---"
   ]
  },
  {
   "cell_type": "markdown",
   "id": "b890f8b6",
   "metadata": {},
   "source": [
    "## Exploratory Data Analysis (EDA)"
   ]
  },
  {
   "cell_type": "markdown",
   "id": "bf63fd08",
   "metadata": {},
   "source": [
    "#### Visualising the Data\n",
    "\n",
    "Now that the dataset is clean, we can begin exploring the distributions of different types of features.\n",
    "\n",
    "Visualisation is a key part of **exploratory data analysis (EDA)**: it helps us detect patterns, identify outliers, and better understand the structure of our data — all of which can inform future modelling decisions.\n",
    "\n",
    "We'll start by looking at the **distribution of individual features**, which helps us understand:\n",
    "- What kind of data each column contains (categorical, continuous, etc.)\n",
    "- Whether values are skewed, symmetric, uniform, or contain outliers\n",
    "- Which features are best visualised as\n",
    "    - **histograms** (for continuous values)\n",
    "    - **bar plots** (for categorical values)"
   ]
  },
  {
   "cell_type": "markdown",
   "id": "3794d2cd",
   "metadata": {},
   "source": [
    "#### How Do You Know What Type a Feature Is?\n",
    "\n",
    "Different types of variables require different plots and analysis methods. Let's walk through the main categories and how to spot them.\n",
    "\n",
    "##### Two Main Types\n",
    "1. **Numerical** (quantities and measurements)\n",
    "2. **Categorical** (groups, types, labels)\n",
    "\n",
    "##### Numerical Features\n",
    "These represent measurable quantities, and they can be either:\n",
    "\n",
    "| Type        | Description                         | Example                      | Visualisation        |\n",
    "|-------------|-------------------------------------|------------------------------|-----------------------|\n",
    "| Continuous  | Can take any value within a range   | `chol`, `oldpeak`            | Histogram             |\n",
    "| Discrete    | Countable whole numbers             | `ca` (number of vessels)     | Histogram or bar plot |\n",
    "\n",
    "```{note}\n",
    "Even though both types are numeric, you might treat them differently in analysis.\n",
    "\n",
    "For example, **log transformations or standardisation** usually make sense for continuous variables  \n",
    "but not for small-range discrete variables like `ca` or `slope`."
   ]
  },
  {
   "cell_type": "markdown",
   "id": "74744c64",
   "metadata": {},
   "source": [
    "```{admonition} Continuous vs Discrete – Real vs Representation\n",
    ":class: note\n",
    "\n",
    "Some variables, like **age**, may appear as **discrete** in a dataset (e.g. whole years),  \n",
    "but they are **inherently continuous** — people can be 18.5 or 73.2 years old.  \n",
    "Because it spans a wide range and behaves like a measurement, **age is typically analysed as continuous**.\n",
    "\n",
    "In contrast, features like **number of vessels (`ca`)** are **truly discrete**:  \n",
    "you can’t have 2.5 vessels — it’s either 2 or 3. These are counts and must be treated accordingly.\n",
    "\n",
    "- Discrete features with **many unique values** (like age) are often analysed as continuous.\n",
    "- Truly discrete, **count-based** features are handled differently — especially in statistical models."
   ]
  },
  {
   "cell_type": "markdown",
   "id": "115fd7c1",
   "metadata": {},
   "source": [
    "##### Categorical Features\n",
    "These represent groups or labels. They can be:\n",
    "\n",
    "| Type     | Description                           | Example                    | Visualisation |\n",
    "|----------|---------------------------------------|----------------------------|----------------|\n",
    "| Nominal | No natural order                       | sex, thal, chest pain type | Bar plot       |\n",
    "| Ordinal | Ordered categories                     | slope (up, flat, down)     | Bar plot       |\n",
    "\n",
    "```{admonition}\n",
    ":class: warning\n",
    "\n",
    "Just because a feature is stored as an integer doesn't mean it's numerical.\n",
    "\n",
    "Many **categorical variables** are encoded as integers (e.g., `sex`, `cp`, `slope`),  \n",
    "but these values represent **categories**, not measurements.\n",
    "\n",
    "Always check the metadata or variable descriptions to know whether a variable is truly categorical."
   ]
  },
  {
   "cell_type": "markdown",
   "id": "046ea042",
   "metadata": {},
   "source": [
    "##### Special Note: Identifiers\n",
    "\n",
    "Some biomedical datasets include IDs (e.g., patient ID or record number). These are usually:\n",
    "- Unique per row\n",
    "- Not useful for prediction\n",
    "- Should not be plotted or included in modelling"
   ]
  },
  {
   "cell_type": "markdown",
   "id": "db0f6e42",
   "metadata": {},
   "source": [
    "#### How Can You Figure This Out?\n",
    "\n",
    "Try the following steps to classify your features:\n",
    "\n",
    "1.\tUse the `variables` table:\n",
    "It often indicates if a variable is \"Categorical\" or \"Integer\".\n",
    "\n",
    "2.\tCheck `.dtypes`:\n",
    "- float64 → likely continuous\n",
    "- int64 → might be either discrete or categorical\n",
    "\n",
    "3.\tUse `.nunique()`:\n",
    "- Few unique values (e.g. 2–4) → probably categorical\n",
    "- Many unique values (30+) → likely continuous\n",
    "\n",
    "4.\tUse the variable descriptions:\n",
    "- Do they describe a measurement (e.g. blood pressure)? → Numerical\n",
    "- Do they describe a group or type (e.g. chest pain type)? → Categorical\n",
    "\n",
    "5.\tPlot to be sure:\n",
    "- Histograms reveal shape and spread of numerical data\n",
    "- Bar plots show category frequencies clearly"
   ]
  },
  {
   "cell_type": "markdown",
   "id": "4be97b39",
   "metadata": {},
   "source": [
    "---"
   ]
  },
  {
   "cell_type": "markdown",
   "id": "3232fe76",
   "metadata": {},
   "source": [
    "### Exercise 11: Classify Each Variable by Type\n",
    "\n",
    "*Before plotting or analysing features, it's important to understand what **kind of variable** each column represents.*\n",
    "\n",
    "*Your goal is to carefully classify each feature in the dataset into a suitable variable type.*\n",
    "*This helps guide which visualisation, transformation, or statistical method to apply later.*\n",
    "\n",
    "**Common Variable Types to Consider:**\n",
    "\n",
    "*(Not all types may be present in this dataset)*\n",
    "- **Continuous numerical** – real-valued measurements with many unique values\n",
    "- **Discrete numerical** – count-based integers\n",
    "- **Nominal categorical** – unordered categories\n",
    "    - *Binary* – a special case with exactly two values\n",
    "- **Ordinal categorical** – ordered categories\n",
    "- **Identifier / metadata** – e.g., patient IDs (not used in modelling)\n",
    "\n",
    "**Tools to Help You Decide:**\n",
    "- `.dtypes` to check each column’s data type\n",
    "- `.nunique()` to see how many distinct values each feature has\n",
    "- `variables[['name', 'type', 'description']]` to understand what each column represents\n",
    "\n",
    "**Task:**\n",
    "- *Create a list of variables that fall into each type above (if applicable).*\n",
    "- *Focus especially on identifying categorical and continuous features.*"
   ]
  },
  {
   "cell_type": "code",
   "execution_count": 13,
   "id": "c4d4c73e",
   "metadata": {},
   "outputs": [],
   "source": [
    "# Write your code here."
   ]
  },
  {
   "cell_type": "markdown",
   "id": "9a81b404",
   "metadata": {},
   "source": [
    "---"
   ]
  },
  {
   "cell_type": "markdown",
   "id": "df3a65b0",
   "metadata": {},
   "source": [
    "### Exercise 12: Explore Categorical Variable Distributions\n",
    "\n",
    "*Your goal is to explore how categorical variables are distributed across the dataset.*\n",
    "\n",
    "*This can help you:*\n",
    "- *Understand class balance (e.g., male vs female)*\n",
    "- *Identify rare or dominant categories*\n",
    "- *Spot issues like unbalanced variables, which can affect modelling*\n",
    "\n",
    "**Task:**\n",
    "1. *Import the visualisation library*\n",
    "2. *Use a loop to create bar plots for each categorical feature.*\n",
    "\t- *Use `.value_counts()` to get category counts.*\n",
    "\t- *Use `plot(kind='bar')` to create the bar plot.*\n",
    "3. *Try displaying all the plots in a grid of subplots for clarity.*"
   ]
  },
  {
   "cell_type": "code",
   "execution_count": 14,
   "id": "1d4cbe11",
   "metadata": {},
   "outputs": [],
   "source": [
    "# Write your code here."
   ]
  },
  {
   "cell_type": "markdown",
   "id": "8ffbe8d6",
   "metadata": {},
   "source": [
    "---"
   ]
  },
  {
   "cell_type": "markdown",
   "id": "09b03433",
   "metadata": {},
   "source": [
    "### Exercise 13: Compare Categorical Distributions by Sex\n",
    "\n",
    "*In this exercise, you'll explore how categorical feature distributions vary between male and female patients.*\n",
    "\n",
    "**Task:**\n",
    "1. *Use your list of categorical features.*\n",
    "2. *Create bar plots for each feature, stratified by sex:*\n",
    "    - *One bar for each category within each sex group.*\n",
    "3. *Use `pd.crosstab()` or `df.groupby('sex')[feature].value_counts()` to count values.*\n",
    "4. *Plot them using `kind='bar'` or `kind='barh'` with legends and labels.*\n",
    "\n",
    "```{admonition}\n",
    ":class: tip\n",
    "\n",
    "Use subplots to display multiple plots at once.\n",
    "```\n",
    "\n",
    "```{admonition} Unequal group sizes can affect your interpretations\n",
    ":class: warning\n",
    "\n",
    "In our dataset, around **68% of the patients are male**, and only **32% are female**.  \n",
    "This imbalance can impact how we interpret feature distributions.\n",
    "\n",
    "For example, if a certain chest pain type appears more often in males, it may simply reflect the larger number of male patients — not a true difference in risk or symptoms.\n",
    "\n",
    "To make more meaningful comparisons, we’ll now **stratify** our plots by sex and compare distributions **within** each group.\n",
    "```"
   ]
  },
  {
   "cell_type": "code",
   "execution_count": 15,
   "id": "2f9e046a",
   "metadata": {},
   "outputs": [],
   "source": [
    "# Write your code here."
   ]
  },
  {
   "cell_type": "markdown",
   "id": "bc272299",
   "metadata": {},
   "source": [
    "---"
   ]
  },
  {
   "cell_type": "markdown",
   "id": "a977cbda",
   "metadata": {},
   "source": [
    "### Exercise 14: Visualising Continuous Features with Histograms\n",
    "\n",
    "*Now let's explore the continuous numerical features you identified earlier.*\n",
    "\n",
    "*Histograms are ideal for:*\n",
    "- *Understanding the shape of the distribution (e.g. symmetric, skewed, bimodal)*\n",
    "- *Identifying outliers or unusual values*\n",
    "- *Comparing ranges and spread between features*\n",
    "\n",
    "**Task:**\n",
    "1. *Create a list of continuous features from your earlier classification.*\n",
    "2. *Plot a histogram for each of them.*\n",
    "    - *You can use `df[feature].hist()` or `plt.hist()`.*\n",
    "3. *Optionally, group them in subplots for clarity.*\n",
    "\n",
    "```{admonition}\n",
    ":class: tip\n",
    "- Use `bins=20` and `edgecolor='black'` for clean visuals\n",
    "- Set `figsize=(15, 10)` for a good layout\n",
    "```"
   ]
  },
  {
   "cell_type": "code",
   "execution_count": 16,
   "id": "c6a821fc",
   "metadata": {},
   "outputs": [],
   "source": [
    "# Write your code here."
   ]
  },
  {
   "cell_type": "markdown",
   "id": "afd9d660",
   "metadata": {},
   "source": [
    "```{admonition} What to do with skewed distributions?\n",
    ":class: tip\n",
    "\n",
    "Skewed variables can sometimes distort correlations or model predictions.\n",
    "\n",
    "A common fix is to apply a **log transformation** to make the data more normal.  \n",
    "This is especially helpful for positively skewed data like `oldpeak` or `chol`.\n",
    "\n",
    "```python\n",
    "import numpy as np\n",
    "df['log_oldpeak'] = np.log1p(df['oldpeak']) # log1p handles 0s safely\n",
    "\n",
    "```"
   ]
  },
  {
   "cell_type": "markdown",
   "id": "dfbb1bba",
   "metadata": {},
   "source": [
    "---"
   ]
  },
  {
   "cell_type": "markdown",
   "id": "8e5262ed",
   "metadata": {},
   "source": [
    "### Exercise 15: Compare Continuous Features by Sex\n",
    "\n",
    "*Let's explore how continuous feature distributions differ between male and female patients. This can help identify:*\n",
    "- *Biological or physiological differences*\n",
    "- *Features that may require sex-specific modelling*\n",
    "- *Whether standardisation should be stratified*\n",
    "\n",
    "**Task:**\n",
    "- *Use the list of continuous features: `['age', 'trestbps', 'chol', 'thalach', 'oldpeak']`*\n",
    "- *For each feature, plot overlaid histograms for male and female patients*\n",
    "- *Use `alpha=0.5` and different colours to distinguish the groups*\n",
    "- *Add titles, axis labels, and a legend*"
   ]
  },
  {
   "cell_type": "code",
   "execution_count": 17,
   "id": "b8928ea5",
   "metadata": {},
   "outputs": [],
   "source": [
    "# Write your code here."
   ]
  },
  {
   "cell_type": "markdown",
   "id": "2a5e8419",
   "metadata": {},
   "source": [
    "---"
   ]
  },
  {
   "cell_type": "markdown",
   "id": "ed02165b",
   "metadata": {},
   "source": [
    "### Exercise 16: Boxplots of Continuous Features by Sex\n",
    "\n",
    "*In the previous exercise, you used **stratified histograms** to see how the distribution shape of each continuous variable differs between males and females.*\n",
    "\n",
    "*Now, you'll use **boxplots** to visualise:*\n",
    "\n",
    "- *Summary statistics (median, quartiles)*\n",
    "\n",
    "- *Spread and skewness*\n",
    "\n",
    "- *Outliers more clearly*\n",
    "\n",
    "\n",
    "*While histograms are better for understanding the full shape of a distribution (e.g., unimodal, skewed, bimodal), boxplots give a cleaner summary of central tendency and variability, especially for comparisons across groups.*\n",
    "\n",
    "*Using both gives a more complete picture and helps confirm or refine your interpretations.*\n",
    "\n",
    "**Task:**\n",
    "\n",
    "1. *Import seaborn if you haven't yet*\n",
    "\n",
    "2. *Choose a list of continuous features to explore*\n",
    "\n",
    "3. *For each feature, create a boxplot comparing the distribution for males and females*\n"
   ]
  },
  {
   "cell_type": "code",
   "execution_count": 18,
   "id": "407b61e5",
   "metadata": {},
   "outputs": [],
   "source": [
    "# Write your code here."
   ]
  },
  {
   "cell_type": "markdown",
   "id": "1cc090cd",
   "metadata": {},
   "source": [
    "---"
   ]
  },
  {
   "cell_type": "markdown",
   "id": "60b22402",
   "metadata": {},
   "source": [
    "### Exercise 17: Exploring Relationships Between Continuous Features\n",
    "\n",
    "So far, you've explored each continuous variable individually. Now let's investigate how they relate to each other.\n",
    "\n",
    "A **correlation matrix** is a powerful way to:\n",
    "\n",
    "- Identify **linear relationships** (positive or negative)\n",
    "\n",
    "- Detect **redundant features** (high correlation means similar information)\n",
    "\n",
    "- Understand which variables may interact in modelling\n",
    "\n",
    "**Task:**\n",
    "\n",
    "1. *Create a new dataframe with only the continuous features*\n",
    "\n",
    "2. *Use `.corr()` to compute the Pearson correlation matrix*\n",
    "\n",
    "3. *Plot the matrix using `seaborn.heatmap()`*\n",
    "\t- *Set `annot=True` to show correlation values*\n",
    "\t- *Set `cmap='coolwarm'` for intuitive colouring*\n",
    "\n",
    "4. *Interpret the heatmap:*\n",
    "   - *Which features are positively or negatively correlated?*\n",
    "   - *Are any relationships strong (above $\\pm0.6$)?*\n",
    "   - *Do any pairs look redundant or surprisingly independent?*\n",
    "   - *What might this imply about modelling?*\n",
    "\n",
    "```{admonition} How to interpret correlations\n",
    ":class: tip\n",
    "\n",
    "- Values near +1 mean strong positive correlation\n",
    "\n",
    "- Values near –1 mean strong negative correlation\n",
    "\n",
    "- Values near 0 mean no linear relationship\n",
    "\n",
    "We'll use this to guide our understanding of which features are related and which are independent.\n",
    "\n",
    "```\n",
    "\n",
    "```{admonition} Why not always trust correlation blindly?\n",
    ":class: warning\n",
    "\n",
    "Some of our continuous features are **right-skewed** or contain **outliers**.\n",
    "\n",
    "*Pearson correlation* assumes normality and linearity, so in these cases it may:\n",
    "\n",
    "- Underestimate a nonlinear relationship\n",
    "\n",
    "- Be overly sensitive to outliers\n",
    "\n",
    "To explore this further, you could:\n",
    "\n",
    "- Use `.corr(method='spearman')` for rank-based correlation\n",
    "\n",
    "- Apply transformations (e.g., log) to reduce skew before computing correlations\n",
    "```"
   ]
  },
  {
   "cell_type": "code",
   "execution_count": 19,
   "id": "a4b9f9ca",
   "metadata": {},
   "outputs": [],
   "source": [
    "# Write your code here."
   ]
  },
  {
   "cell_type": "markdown",
   "id": "d6bd7979",
   "metadata": {},
   "source": [
    "---"
   ]
  },
  {
   "cell_type": "markdown",
   "id": "08237f42",
   "metadata": {},
   "source": [
    "### Exercise 18: Spearman Correlation\n",
    "\n",
    "You've just explored **Pearson correlation**, which measures *linear* relationships.\n",
    "But some of our variables are **skewed**, and may violate Pearson's assumptions.\n",
    "\n",
    "In this exercise, you'll compute **Spearman correlation**, which is:\n",
    "\n",
    "- Based on **ranks**, not raw values\n",
    "\n",
    "- More **robust to outliers and skew**\n",
    "\n",
    "- Better at detecting **monotonic (nonlinear)** trends\n",
    "\n",
    "**Task:**\n",
    "\n",
    "1. *Use `.corr(method='spearman')` to compute the Spearman correlation matrix.*\n",
    "\n",
    "2. *Plot it as a heatmap (just like before).*\n",
    "\n",
    "3. *Compare it to your Pearson matrix:*\n",
    "   - *Which pairs change the most?*\n",
    "   - *Are there any new strong relationships?*\n",
    "   - *Do any associations disappear?*\n",
    "\n",
    "```{admonition} Why this matters\n",
    ":class: info\n",
    "\n",
    "Seeing how these two methods differ gives you a deeper view of your data and helps decide whether some features need **transformation** or **nonlinear methods** downstream."
   ]
  },
  {
   "cell_type": "code",
   "execution_count": 20,
   "id": "b16b7ab8",
   "metadata": {},
   "outputs": [],
   "source": [
    "# Write your code here."
   ]
  },
  {
   "cell_type": "markdown",
   "id": "d8e84104",
   "metadata": {},
   "source": [
    "---"
   ]
  },
  {
   "cell_type": "markdown",
   "id": "3c25631a",
   "metadata": {},
   "source": [
    "### Exercise 19: Explore Feature Relationships with the Target Variable\n",
    "\n",
    "You've explored relationships between features. Now it's time to ask which features differ most between patients with and without heart disease.*\n",
    "\n",
    "This is a crucial part of exploratory analysis and feature selection. You’ll stratify patients based on the binary outcome: `heart_disease_binary` (0 = no disease, 1 = disease)\n",
    "\n",
    "**Task:**\n",
    "1. *Pick your continuous features*\n",
    "2. *For each one:*\n",
    "    - *Create a boxplot grouped by `heart_disease_binary`*\n",
    "    - *Optionally: also create stratified histograms or violin plots*\n",
    "3. *Observe:*\n",
    "    - *Which variables show clear separation between the two classes?*\n",
    "    - *Are there noticeable shifts in distribution or outliers?*\n",
    "    - *Which features might be informative for classification?*\n",
    "\n",
    "*This step helps identify potential predictors of heart disease, builds intuition about what differences exist between groups, and sets the stage for later statistical testing or modelling.*"
   ]
  },
  {
   "cell_type": "code",
   "execution_count": 21,
   "id": "5bfa1714",
   "metadata": {},
   "outputs": [],
   "source": [
    "# Write your code here."
   ]
  },
  {
   "cell_type": "markdown",
   "id": "2e72be7b",
   "metadata": {},
   "source": [
    "---"
   ]
  },
  {
   "cell_type": "markdown",
   "id": "2042ec1d",
   "metadata": {},
   "source": [
    "### Exercise 20: Statistical Testing — Heart Disease vs Continuous Features\n",
    "\n",
    "You've already visualised how the distributions of continuous variables differ depending on whether a patient has heart disease.\n",
    "\n",
    "Now you'll perform **statistical tests** to check if those differences are **significant**.\n",
    "\n",
    "**Goal:**\n",
    "*Test whether each continuous feature differs **significantly** between:*\n",
    "\n",
    "- *`heart_disease_binary = 0` → No heart disease*\n",
    "\n",
    "- *`heart_disease_binary = 1` → Heart disease present*\n",
    "\n",
    "**Task:**\n",
    "\n",
    "1. *If needed, install SciPy first. Then import `ttest_ind` and `mannwhitneyu` from `scipy.stats`.*\n",
    "\n",
    "2. *Run both tests for each continuous feature:*\n",
    "\n",
    "\t- *T-test: checks if means are significantly different*\n",
    "\n",
    "\t- *Mann–Whitney U: non-parametric alternative for non-normal distributions*\n",
    "\n",
    "3. *Print and interpret the p-values:*\n",
    "\n",
    "\t- *Which features show statistically significant differences?*\n",
    "\n",
    "\t- *Do results change between t-test and Mann–Whitney?*\n",
    "\n",
    "```{admonition} Reminder: Check distribution shape\n",
    ":class: tip\n",
    "\n",
    "Use your **histograms and boxplots** from earlier to decide which test is appropriate.\n",
    "\n",
    "- If a feature is **skewed** or has **many outliers**, the **Mann–Whitney U test** is more reliable.\n",
    "\n",
    "- If a feature is **symmetric** and looks normally distributed, the **t-test** is usually appropriate.\n",
    "\n",
    "This helps ensure you're using valid statistical assumptions, and makes your results more trustworthy.\n",
    "```"
   ]
  },
  {
   "cell_type": "code",
   "execution_count": 22,
   "id": "b58d4ebe",
   "metadata": {},
   "outputs": [],
   "source": [
    "# Write your code here."
   ]
  },
  {
   "cell_type": "markdown",
   "id": "a922ac8e",
   "metadata": {},
   "source": [
    "```{admonition}\n",
    ":class: warning\n",
    "When results **disagree**, it often reflects a violation of assumptions — such as **skewness** or **outliers** — which makes the **non-parametric test** more trustworthy.\n",
    "```\n",
    "\n",
    "```{admonition} Takeaways\n",
    ":class: tip\n",
    "\n",
    "- Use both tests for robustness, especially with non-normal data.\n",
    "\n",
    "- Several features (like `thalach` and `oldpeak`) show strong group separation — they may be useful for modelling heart disease.\n",
    "\n",
    "- For features like chol, the visualisations and test disagreements suggest caution — it may require transformation or further exploration."
   ]
  },
  {
   "cell_type": "markdown",
   "id": "e292f4af",
   "metadata": {},
   "source": [
    "---"
   ]
  },
  {
   "cell_type": "markdown",
   "id": "0db1ec53",
   "metadata": {},
   "source": [
    "### Exercise 21: Exploring Categorical Features vs Heart Disease\n",
    "\n",
    "You've explored continuous variables in detail — now it's time to analyse how **categorical features** relate to heart disease.\n",
    "\n",
    "This is especially important for features like:\n",
    "- `cp` (chest pain type)\n",
    "- `thal` (thalassemia type)\n",
    "- `slope` (slope of ST segment)\n",
    "- `sex`, `fbs`, `restecg`, etc.\n",
    "\n",
    "**Part 1: Visualise Category vs. Target**\n",
    "\n",
    "**Task:** \n",
    "\n",
    "*For each categorical feature:*\n",
    "- *Create a **grouped bar chart** showing the count of heart disease (0 vs 1) per category.*\n",
    "- *Use `pd.crosstab()` or `df.groupby()`.*\n",
    "- *Plot with `plot(kind='bar', stacked=True)` or `seaborn.countplot()`.*\n"
   ]
  },
  {
   "cell_type": "code",
   "execution_count": 23,
   "id": "aab88f01",
   "metadata": {},
   "outputs": [],
   "source": [
    "# Write your code here."
   ]
  },
  {
   "cell_type": "markdown",
   "id": "e78d1c72",
   "metadata": {},
   "source": [
    "**Part 2: Statistical Test — Chi-Squared**\n",
    "\n",
    "**Task:**\n",
    "\n",
    "*Run a **chi-squared test of independence** for each categorical feature vs. heart disease.*\n"
   ]
  },
  {
   "cell_type": "code",
   "execution_count": 24,
   "id": "1e5a426e",
   "metadata": {},
   "outputs": [],
   "source": [
    "# Write your code here."
   ]
  },
  {
   "cell_type": "markdown",
   "id": "cd45e518",
   "metadata": {},
   "source": [
    "```{admonition} Interpreting Chi-Squared\n",
    ":class: tip\n",
    "\n",
    "- A **low p-value** (e.g., < 0.05) means the feature is **significantly associated** with heart disease.\n",
    "- If the result is not significant, it may not be useful on its own — or it might require interaction with other features.\n"
   ]
  },
  {
   "cell_type": "markdown",
   "id": "9b54814a",
   "metadata": {},
   "source": [
    "---"
   ]
  },
  {
   "cell_type": "markdown",
   "id": "0ae83518",
   "metadata": {},
   "source": [
    "### *(Optional)* Exercise 22: K-Means Clustering — Grouping Patients\n",
    "\n",
    "So far, you've explored individual features and compared them to heart disease status.\n",
    "Now let's see if we can **automatically group patients** based on patterns in their data — without using the diagnosis label.\n",
    "\n",
    "This is known as **unsupervised learning**, and one of the most widely used methods is **K-Means Clustering**.\n",
    "\n",
    "*In this exercise, you'll:*\n",
    "\n",
    "- *Select features that appear **statistically informative***\n",
    "- ***Standardise** them so they're on the same scale*\n",
    "- *Use **K-Means** to form two clusters ($K = 2$)*\n",
    "- *Check how well the clusters align with actual heart disease labels*\n",
    "\n",
    "```{admonition}\n",
    ":class: info\n",
    "\n",
    "What is K-Means Clustering?\n",
    "\n",
    "K-Means is an **unsupervised** machine learning algorithm. It tries to:\n",
    "- Divide the data into $K$ groups (clusters) based on similarity\n",
    "- Assign each data point to the cluster with the **nearest \"centroid\"** (a kind of average)\n",
    "- Repeat the process until the clusters stop changing\n",
    "\n",
    "In this exercise, we'll set $K = 2$ — asking the algorithm to find *two* natural groups of patients, based only on selected features (not the diagnosis).\n",
    "\n",
    "Then, we'll compare the resulting clusters with the actual heart disease labels to see if the grouping aligns with reality.\n"
   ]
  },
  {
   "cell_type": "markdown",
   "id": "ab78ec63",
   "metadata": {},
   "source": [
    "**Task**\n",
    "\n",
    "1. ***Select features**:*\n",
    "*Use a mix of continuous and categorical features that showed **strong group differences** earlier.*\n",
    "   - For example:\n",
    "     - Continuous: `age`, `thalach`, `oldpeak`, `trestbps`\n",
    "     - Categorical: `cp`, `thal`, `slope`, `sex`\n",
    "\n",
    "2. ***One-hot encode** the categorical variables using [`pd.get_dummies()`](https://pandas.pydata.org/docs/reference/api/pandas.get_dummies.html)*\n",
    "\n",
    "```{admonition} What is One-Hot Encoding\n",
    ":class: tip\n",
    "\n",
    "Most machine learning algorithms, including K-Means, **can't handle categorical variables directly**.\n",
    "\n",
    "**One-hot encoding** turns each category into its own **binary (0 or 1)** column.\n",
    "\n",
    "Example:\n",
    "If the `cp` (chest pain type) variable has 4 categories (0, 1, 2, 3), it will become 3 new columns: `cp_1`, `cp_2`, `cp_3` (we drop one to avoid redundancy).\n",
    "\n",
    "This lets the model use each category as a separate feature.\n",
    "```\n",
    "\n",
    "3. ***Standardise** the continuous features using [`StandardScaler`](https://scikit-learn.org/stable/modules/generated/sklearn.preprocessing.StandardScaler.html)*\n",
    "\n",
    "4. ***Combine** the encoded categorical and scaled continuous features into one single dataset*\n",
    "\n",
    "5. ***Fit KMeans** with `n_clusters=2` and assign cluster labels*\n",
    "\n",
    "```{admonition} How to run K-Means in Python\n",
    ":class: tip\n",
    "```python\n",
    "from sklearn.cluster import KMeans\n",
    "\n",
    "# Create a KMeans object\n",
    "kmeans = KMeans(n_clusters=2, random_state=0)\n",
    "\n",
    "# Fit it to the data and assign cluster labels to each patient\n",
    "df['cluster'] = kmeans.fit_predict(X_cluster)\n",
    "```"
   ]
  },
  {
   "cell_type": "markdown",
   "id": "6c879c3e",
   "metadata": {},
   "source": [
    "6. ***Compare** the resulting clusters to actual `heart_disease_binary` values using:*\n",
    "   - *A **confusion matrix** (`pd.crosstab()`)*\n",
    "   - *An optional **heatmap** for visualisation*\n",
    "\n",
    "```{admonition} What is a Confusion Matrix?\n",
    ":class: tip\n",
    "A **confusion matrix** is a table used to compare the model's predictions with the actual values.  \n",
    "It shows how many patients were correctly or incorrectly assigned to each group.\n",
    "\n",
    "For example, in our case:\n",
    "\n",
    "- Rows = the **cluster labels** assigned by K-Means (cluster 0 or 1)\n",
    "- Columns = the **true diagnosis** (`heart_disease_binary` = 0 or 1)\n",
    "\n",
    "This helps you assess how well the clusters match real diagnoses.\n",
    "\n",
    "To create it in pandas:\n",
    "\n",
    "```python\n",
    "pd.crosstab(df['cluster_kmeans'], df['heart_disease_binary'], \n",
    "            rownames=['Cluster'], colnames=['Heart Disease'])"
   ]
  },
  {
   "cell_type": "code",
   "execution_count": 25,
   "id": "9d3fd432",
   "metadata": {},
   "outputs": [],
   "source": [
    "# Write your code here."
   ]
  }
 ],
 "metadata": {
  "kernelspec": {
   "display_name": "Python Crash Course",
   "language": "python",
   "name": "pythoncc"
  },
  "language_info": {
   "codemirror_mode": {
    "name": "ipython",
    "version": 3
   },
   "file_extension": ".py",
   "mimetype": "text/x-python",
   "name": "python",
   "nbconvert_exporter": "python",
   "pygments_lexer": "ipython3",
   "version": "3.10.13"
  }
 },
 "nbformat": 4,
 "nbformat_minor": 5
}
