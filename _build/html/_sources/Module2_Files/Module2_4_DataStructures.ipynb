{
 "cells": [
  {
   "cell_type": "markdown",
   "id": "a32bd1d1",
   "metadata": {},
   "source": [
    "# M2: Data Structures\n",
    "\n",
    "## 5. Data Structures\n",
    "\n",
    "### 5.1. What is a Data Structure?\n",
    "\n",
    "A **data structure** is a way of organising and storing data so that it can be accessed and worked with efficiently.  \n",
    "In Python, some of the most commonly used built-in data structures are **lists**, **tuples**, **dictionaries**, and **sets**.\n",
    "\n",
    "\n",
    "### 5.2. Lists\n",
    "\n",
    "A **list** is an ordered, changeable collection of items. Lists can contain items of any type (even a mixture of types).\n",
    "\n",
    "Lists are created using square brackets `[ ]`:"
   ]
  },
  {
   "cell_type": "code",
   "execution_count": 1,
   "id": "b5cddfc8",
   "metadata": {},
   "outputs": [
    {
     "name": "stdout",
     "output_type": "stream",
     "text": [
      "['apple', 'banana', 'cherry']\n"
     ]
    }
   ],
   "source": [
    "fruits = [\"apple\", \"banana\", \"cherry\"]\n",
    "print(fruits)"
   ]
  },
  {
   "cell_type": "markdown",
   "id": "48a6ad3f",
   "metadata": {},
   "source": [
    "You can access elements using indexing (remember that Python indexing starts at 0):"
   ]
  },
  {
   "cell_type": "code",
   "execution_count": null,
   "id": "445d6306",
   "metadata": {},
   "outputs": [
    {
     "name": "stdout",
     "output_type": "stream",
     "text": [
      "apple\n",
      "banana\n"
     ]
    }
   ],
   "source": [
    "print(fruits[0]) # Output: apple\n",
    "print(fruits[1]) # Output: banana"
   ]
  },
  {
   "cell_type": "markdown",
   "id": "31ab7359",
   "metadata": {},
   "source": [
    "You can also modify **lists**:"
   ]
  },
  {
   "cell_type": "code",
   "execution_count": 3,
   "id": "355a943b",
   "metadata": {},
   "outputs": [
    {
     "name": "stdout",
     "output_type": "stream",
     "text": [
      "['apple', 'blueberry', 'cherry']\n"
     ]
    }
   ],
   "source": [
    "fruits[1] = \"blueberry\"\n",
    "print(fruits) # Output: ['apple', 'blueberry', 'cherry']"
   ]
  },
  {
   "cell_type": "markdown",
   "id": "06b7bf48",
   "metadata": {},
   "source": [
    "### 5.3. Tuples\n",
    "\n",
    "A **tuple** is similar to a list, but it is **immutable** — meaning it cannot be changed after creation.\n",
    "\n",
    "Tuples are created using round brackets `(` `)`:"
   ]
  },
  {
   "cell_type": "code",
   "execution_count": 4,
   "id": "fa69eaf7",
   "metadata": {},
   "outputs": [
    {
     "name": "stdout",
     "output_type": "stream",
     "text": [
      "(4, 5)\n"
     ]
    }
   ],
   "source": [
    "coordinates = (4, 5)\n",
    "print(coordinates)"
   ]
  },
  {
   "cell_type": "markdown",
   "id": "79dc5a00",
   "metadata": {},
   "source": [
    "You can access tuple elements just like lists:"
   ]
  },
  {
   "cell_type": "code",
   "execution_count": 5,
   "id": "57a79532",
   "metadata": {},
   "outputs": [
    {
     "name": "stdout",
     "output_type": "stream",
     "text": [
      "4\n"
     ]
    }
   ],
   "source": [
    "print(coordinates[0]) # Output: 4"
   ]
  },
  {
   "cell_type": "markdown",
   "id": "4a246196",
   "metadata": {},
   "source": [
    "But you **cannot modify** a tuple once it is created:"
   ]
  },
  {
   "cell_type": "code",
   "execution_count": 6,
   "id": "34bc2689",
   "metadata": {},
   "outputs": [
    {
     "ename": "TypeError",
     "evalue": "'tuple' object does not support item assignment",
     "output_type": "error",
     "traceback": [
      "\u001b[31m---------------------------------------------------------------------------\u001b[39m",
      "\u001b[31mTypeError\u001b[39m                                 Traceback (most recent call last)",
      "\u001b[36mCell\u001b[39m\u001b[36m \u001b[39m\u001b[32mIn[6]\u001b[39m\u001b[32m, line 1\u001b[39m\n\u001b[32m----> \u001b[39m\u001b[32m1\u001b[39m \u001b[43mcoordinates\u001b[49m\u001b[43m[\u001b[49m\u001b[32;43m0\u001b[39;49m\u001b[43m]\u001b[49m = \u001b[32m10\u001b[39m \u001b[38;5;66;03m# This will raise an error!\u001b[39;00m\n",
      "\u001b[31mTypeError\u001b[39m: 'tuple' object does not support item assignment"
     ]
    }
   ],
   "source": [
    "coordinates[0] = 10 # This will raise an error!"
   ]
  },
  {
   "cell_type": "markdown",
   "id": "097fe2a5",
   "metadata": {},
   "source": [
    "### 5.4. Dictionaries\n",
    "\n",
    "A **dictionary** stores data as **key–value pairs**.\n",
    "Dictionaries are created using curly braces `{` `}`:"
   ]
  },
  {
   "cell_type": "code",
   "execution_count": 9,
   "id": "927068bf",
   "metadata": {},
   "outputs": [
    {
     "name": "stdout",
     "output_type": "stream",
     "text": [
      "{'name': 'Ross', 'age': 22}\n"
     ]
    }
   ],
   "source": [
    "person = {\"name\": \"Ross\", \"age\": 22}\n",
    "print(person)"
   ]
  },
  {
   "cell_type": "markdown",
   "id": "9389921f",
   "metadata": {},
   "source": [
    "You can access and modify values by their key:"
   ]
  },
  {
   "cell_type": "code",
   "execution_count": 10,
   "id": "7132421e",
   "metadata": {},
   "outputs": [
    {
     "name": "stdout",
     "output_type": "stream",
     "text": [
      "Ross\n",
      "{'name': 'Ross', 'age': 31}\n"
     ]
    }
   ],
   "source": [
    "print(person[\"name\"]) # Output: Ross\n",
    "person[\"age\"] = 31\n",
    "print(person) # Output: {'name': 'Ross', 'age': 31}"
   ]
  },
  {
   "cell_type": "markdown",
   "id": "1e2629c6",
   "metadata": {},
   "source": [
    "### 5.5. Sets\n",
    "\n",
    "A **set** is an unordered collection of unique items. Sets automatically remove duplicate entries.\n",
    "\n",
    "Sets are created using curly braces `{` `}`, but without key–value pairs:"
   ]
  },
  {
   "cell_type": "code",
   "execution_count": 11,
   "id": "add21ac6",
   "metadata": {},
   "outputs": [
    {
     "name": "stdout",
     "output_type": "stream",
     "text": [
      "{'bird', 'dog', 'cat'}\n"
     ]
    }
   ],
   "source": [
    "animals = {\"cat\", \"dog\", \"bird\"}\n",
    "print(animals)"
   ]
  },
  {
   "cell_type": "markdown",
   "id": "ede9d5ba",
   "metadata": {},
   "source": [
    "Sets automatically eliminate duplicates:"
   ]
  },
  {
   "cell_type": "code",
   "execution_count": 12,
   "id": "a18220d8",
   "metadata": {},
   "outputs": [
    {
     "name": "stdout",
     "output_type": "stream",
     "text": [
      "{1, 2, 3}\n"
     ]
    }
   ],
   "source": [
    "numbers = {1, 2, 2, 3}\n",
    "print(numbers) # Output: {1, 2, 3}"
   ]
  },
  {
   "cell_type": "markdown",
   "id": "f8ad912c",
   "metadata": {},
   "source": [
    "### 5.6. Quick Practice\n",
    "\n",
    "Try these small challenges:\n",
    "\n",
    "- Create a list called colours containing at least three colour names.\n",
    "\n",
    "- Create a tuple called dimensions with two numbers inside.\n",
    "\n",
    "- Create a dictionary called student with keys \"name\" and \"age\".\n",
    "\n",
    "- Create a set called numbers_set with some numbers, including duplicates.\n",
    "\n",
    "Print each data structure to see the result.\n",
    "\n",
    "```{dropdown} 💡 Click here to see a possible solution\n",
    "```python\n",
    "colours = [\"red\", \"blue\", \"green\"]\n",
    "dimensions = (1920, 1080)\n",
    "student = {\"name\": \"Bob\", \"age\": 20}\n",
    "numbers_set = {1, 2, 2, 3, 4}\n",
    "\n",
    "print(colours)\n",
    "print(dimensions)\n",
    "print(student)\n",
    "print(numbers_set)"
   ]
  }
 ],
 "metadata": {
  "kernelspec": {
   "display_name": "base",
   "language": "python",
   "name": "python3"
  },
  "language_info": {
   "codemirror_mode": {
    "name": "ipython",
    "version": 3
   },
   "file_extension": ".py",
   "mimetype": "text/x-python",
   "name": "python",
   "nbconvert_exporter": "python",
   "pygments_lexer": "ipython3",
   "version": "3.12.9"
  }
 },
 "nbformat": 4,
 "nbformat_minor": 5
}
