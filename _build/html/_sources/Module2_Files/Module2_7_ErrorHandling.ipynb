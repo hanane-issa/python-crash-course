{
 "cells": [
  {
   "cell_type": "markdown",
   "id": "c88247d0",
   "metadata": {},
   "source": [
    "# M2: Error Handling\n",
    "\n",
    "## 7. Error Handling\n",
    "\n",
    "In the previous chapter, we saw how conditional blocks (`if-elif-else`) allow a programme to choose between different actions. Similarly, `try-except` blocks allow a programme to react differently depending on whether an error occurs during execution.\n",
    "\n",
    "### 7.1. What are Errors?\n",
    "\n",
    "In programming, **errors** (also called **exceptions**) are problems that occur during the execution of a programme. \n",
    "\n",
    "If errors are not handled, they can cause the programme to crash.\n",
    "\n",
    "There are different types of errors. Here are two important categories:\n",
    "\n",
    "- **Syntax errors**: Mistakes in the code that prevent Python from understanding it (e.g., missing a colon).\n",
    "\n",
    "- **Runtime errors**: Problems that happen while the programme is running (e.g., dividing by zero)."
   ]
  },
  {
   "cell_type": "code",
   "execution_count": 6,
   "id": "2ad90d5e",
   "metadata": {},
   "outputs": [
    {
     "ename": "SyntaxError",
     "evalue": "expected ':' (1567955280.py, line 2)",
     "output_type": "error",
     "traceback": [
      "  \u001b[36mCell\u001b[39m\u001b[36m \u001b[39m\u001b[32mIn[6]\u001b[39m\u001b[32m, line 2\u001b[39m\n\u001b[31m    \u001b[39m\u001b[31mif 5 > 2\u001b[39m\n            ^\n\u001b[31mSyntaxError\u001b[39m\u001b[31m:\u001b[39m expected ':'\n"
     ]
    }
   ],
   "source": [
    "# Syntax error example (missing colon):\n",
    "if 5 > 2\n",
    "    print(\"Five is greater than two\")"
   ]
  },
  {
   "cell_type": "code",
   "execution_count": 5,
   "id": "fd84c7e8",
   "metadata": {},
   "outputs": [
    {
     "ename": "ZeroDivisionError",
     "evalue": "division by zero",
     "output_type": "error",
     "traceback": [
      "\u001b[31m---------------------------------------------------------------------------\u001b[39m",
      "\u001b[31mZeroDivisionError\u001b[39m                         Traceback (most recent call last)",
      "\u001b[36mCell\u001b[39m\u001b[36m \u001b[39m\u001b[32mIn[5]\u001b[39m\u001b[32m, line 8\u001b[39m\n\u001b[32m      6\u001b[39m a = \u001b[32m5\u001b[39m\n\u001b[32m      7\u001b[39m b = \u001b[32m0\u001b[39m\n\u001b[32m----> \u001b[39m\u001b[32m8\u001b[39m \u001b[38;5;28mprint\u001b[39m(\u001b[43ma\u001b[49m\u001b[43m \u001b[49m\u001b[43m/\u001b[49m\u001b[43m \u001b[49m\u001b[43mb\u001b[49m)  \u001b[38;5;66;03m# This will cause a ZeroDivisionError\u001b[39;00m\n",
      "\u001b[31mZeroDivisionError\u001b[39m: division by zero"
     ]
    }
   ],
   "source": [
    "# Runtime error example (dividing by zero):\n",
    "a = 5\n",
    "b = 0\n",
    "print(a / b)  # This will cause a ZeroDivisionError"
   ]
  },
  {
   "cell_type": "markdown",
   "id": "ae02fb4c",
   "metadata": {},
   "source": [
    "### 7.2. Using try-except Blocks\n",
    "\n",
    "You can **catch and handle** errors using a `try-except` block. This allows the programme to continue running even if something goes wrong.\n",
    "\n",
    "Python tries to execute the code inside the `try:` block. If an error occurs, it jumps to the `except:` block."
   ]
  },
  {
   "cell_type": "code",
   "execution_count": 1,
   "id": "ca1de2cb",
   "metadata": {},
   "outputs": [
    {
     "name": "stdout",
     "output_type": "stream",
     "text": [
      "Cannot divide by zero!\n"
     ]
    }
   ],
   "source": [
    "a = 5\n",
    "b = 0\n",
    "\n",
    "try:\n",
    "    result = a / b\n",
    "    print(result)\n",
    "except ZeroDivisionError:\n",
    "    print(\"Cannot divide by zero!\")"
   ]
  },
  {
   "cell_type": "markdown",
   "id": "c7285174",
   "metadata": {},
   "source": [
    "```{admonition} Tip About Specific Exceptions\n",
    ":class: tip\n",
    "\n",
    "It is good practice to catch **specific** exceptions, like `ZeroDivisionError`, instead of using a general `except:` whenever possible. This avoids hiding unexpected errors that you did not intend to catch."
   ]
  },
  {
   "cell_type": "markdown",
   "id": "7a48cb18",
   "metadata": {},
   "source": [
    "### 7.3. Catching Multiple Exception Types\n",
    "\n",
    "You can handle multiple different errors by using multiple except blocks.\n",
    "\n",
    "Python checks each `except` block in order and runs the first one that matches the error."
   ]
  },
  {
   "cell_type": "code",
   "execution_count": null,
   "id": "d439c4f8",
   "metadata": {},
   "outputs": [],
   "source": [
    "try:\n",
    "    x = int(input(\"Enter a number: \"))\n",
    "    result = 10 / x\n",
    "except ValueError:\n",
    "    print(\"That was not a valid number.\")\n",
    "except ZeroDivisionError:\n",
    "    print(\"You cannot divide by zero.\")"
   ]
  },
  {
   "cell_type": "markdown",
   "id": "4de18250",
   "metadata": {},
   "source": [
    "### 7.4. The finally Block\n",
    "\n",
    "The `finally` block always runs — whether an error occurred or not.\n",
    "You can use it to clean up actions, such as closing files or displaying a final message.\n",
    "\n",
    "In the following example, `\"Execution complete.\"` is printed no matter what happens inside the try."
   ]
  },
  {
   "cell_type": "code",
   "execution_count": 4,
   "id": "30932822",
   "metadata": {},
   "outputs": [
    {
     "name": "stdout",
     "output_type": "stream",
     "text": [
      "Cannot divide by zero!\n",
      "Execution complete.\n"
     ]
    }
   ],
   "source": [
    "try:\n",
    "    x = 10 / 0\n",
    "except ZeroDivisionError:\n",
    "    print(\"Cannot divide by zero!\")\n",
    "finally:\n",
    "    print(\"Execution complete.\")"
   ]
  },
  {
   "cell_type": "markdown",
   "id": "67836d6d",
   "metadata": {},
   "source": [
    "### 7.5. The `else` Block (optional)\n",
    "\n",
    "You can also add an `else` block after a `try-except`. The `else` block runs **only if no exception was raised**.\n",
    "\n",
    "```{admonition} Tip\n",
    ":class: tip\n",
    "\n",
    "The `else` block is useful when you want to separate the code that runs when everything goes smoothly from the code that handles errors."
   ]
  },
  {
   "cell_type": "code",
   "execution_count": 7,
   "id": "b4b3e8ba",
   "metadata": {},
   "outputs": [
    {
     "name": "stdout",
     "output_type": "stream",
     "text": [
      "You entered: 2\n"
     ]
    }
   ],
   "source": [
    "try:\n",
    "    number = int(input(\"Enter a number: \"))\n",
    "except ValueError:\n",
    "    print(\"Invalid input.\")\n",
    "else:\n",
    "    print(f\"You entered: {number}\")"
   ]
  },
  {
   "cell_type": "markdown",
   "id": "55649337",
   "metadata": {},
   "source": [
    "### 7.6. Quick Practice\n",
    "\n",
    "Try this challenge:\n",
    "- Create two variables, `a` and `b`, where `b` is initially set to 0.\n",
    "- Write a `try-except` block that tries to divide `a` by `b`.\n",
    "- Catch and handle the `ZeroDivisionError` by printing a friendly error message.\n",
    "- Add a finally block that prints `\"Finished division attempt.\"`.\n",
    "\n",
    "```{dropdown} 💡 Click here to see a possible solution\n",
    "```python\n",
    "a = 10\n",
    "b = 0\n",
    "\n",
    "try:\n",
    "    result = a / b\n",
    "except ZeroDivisionError:\n",
    "    print(\"You tried to divide by zero.\")\n",
    "finally:\n",
    "    print(\"Finished division attempt.\")"
   ]
  }
 ],
 "metadata": {
  "kernelspec": {
   "display_name": "base",
   "language": "python",
   "name": "python3"
  },
  "language_info": {
   "codemirror_mode": {
    "name": "ipython",
    "version": 3
   },
   "file_extension": ".py",
   "mimetype": "text/x-python",
   "name": "python",
   "nbconvert_exporter": "python",
   "pygments_lexer": "ipython3",
   "version": "3.12.9"
  }
 },
 "nbformat": 4,
 "nbformat_minor": 5
}
