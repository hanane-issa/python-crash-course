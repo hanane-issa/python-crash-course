{
 "cells": [
  {
   "cell_type": "markdown",
   "id": "1119511b",
   "metadata": {},
   "source": [
    "# M2: Operations\n",
    "\n",
    "## 4 Operators and Expressions\n",
    "\n",
    "**Expressions** are pieces of code that produce a value. They often involve **operators** – symbols or keywords that tell Python what kind of operation to perform.\n",
    "\n",
    "### 4.1. Arithmetic Operators\n",
    "\n",
    "| **Operator** |   **Description**   | **Example** | **Result** |\n",
    "| :----------: | :-----------------: | :---------: | :--------: |\n",
    "|      +       |      Addition       |    3 + 2    |     5      |\n",
    "|      -       |     Subtraction     |    3 - 2    |     1      |\n",
    "|      *       |   Multiplication    |    3 * 2    |     6      |\n",
    "|      /       |  Division (float)   |    3 / 2    |    1.5     |\n",
    "|      //      |   Floor Division    |   3 // 2    |     1      |\n",
    "|      %       | Modulus (remainder) |    3 % 2    |     1      |\n",
    "|      **      |   Exponentiation    |   3 ** 2    |     9      |"
   ]
  },
  {
   "cell_type": "code",
   "execution_count": 1,
   "id": "b4402e50",
   "metadata": {},
   "outputs": [
    {
     "name": "stdout",
     "output_type": "stream",
     "text": [
      "Sum: 13\n",
      "Division: 3.3333333333333335\n",
      "Remainder: 1\n"
     ]
    }
   ],
   "source": [
    "a = 10\n",
    "b = 3\n",
    "\n",
    "sum_result = a + b # Output: 13\n",
    "division_result = a / b # Output: 3.3333...\n",
    "mod_result = a % b # Output: 1\n",
    "\n",
    "print(\"Sum:\", sum_result)\n",
    "print(\"Division:\", division_result)\n",
    "print(\"Remainder:\", mod_result)"
   ]
  },
  {
   "cell_type": "markdown",
   "id": "77d160c0",
   "metadata": {},
   "source": [
    "```{admonition} Important Note About Division\n",
    ":class: tip\n",
    "\n",
    "In Python, division using `/` always produces a **float**, even if the result looks like a whole number.\n",
    "\n",
    "For example:\n",
    "\n",
    "```python\n",
    "print(4 / 2) # Output: 2.0"
   ]
  },
  {
   "cell_type": "markdown",
   "id": "a09c4fdd",
   "metadata": {},
   "source": [
    "### 4.2. Comparison Operators\n",
    "\n",
    "Used to **compare** two values; the result is always a **Boolean** (`True` or `False`).\n",
    "\n",
    "| **Operator** | **Description**  | **Example** | **Result** |\n",
    "| :----------: | :--------------: | :---------: | :--------: |\n",
    "|      ==      |     Equal to     |   3 == 2    |   False    |\n",
    "|      !=      |   Not equal to   |   3 != 2    |    True    |\n",
    "|      >       |   Greater than   |    3 > 2    |    True    |\n",
    "|      <       |    Less than     |    3 < 2    |   False    |\n",
    "|      >=      | Greater or equal |   3 >= 3    |    True    |\n",
    "|      <=      |  Less or equal   |   3 <= 2    |   False    |\n",
    "\n",
    "\n",
    "### 4.3. Logical Operators\n",
    "\n",
    "Operate on **Boolean** values (`True` or `False`) and return also a **Boolean**.\n",
    "\n",
    "| **Operator** |                **Description**                 |     **Example**     | **Result** |\n",
    "| :----------: | :--------------------------------------------: | :-----------------: | :--------: |\n",
    "|     and      |      True if **both** conditions are True      | (3 > 2) and (2 > 1) |    True    |\n",
    "|      or      |   True if **at least one** condition is True   | (3 > 2) or (2 == 1) |    True    |\n",
    "|     not      | Inverts the Boolean value (True becomes False) |     not (3 > 2)     |   False    |\n"
   ]
  },
  {
   "cell_type": "code",
   "execution_count": 2,
   "id": "ee50cd61",
   "metadata": {},
   "outputs": [
    {
     "name": "stdout",
     "output_type": "stream",
     "text": [
      "False\n",
      "True\n",
      "False\n"
     ]
    }
   ],
   "source": [
    "print((3 > 2) and (4 > 5)) # Output: False\n",
    "print((2 < 5) or (10 < 3)) # Output: True\n",
    "print(not (1 == 1)) # Output: False"
   ]
  },
  {
   "cell_type": "markdown",
   "id": "0a3c15f4",
   "metadata": {},
   "source": [
    "### 4.4. Combining Operators into Expressions\n",
    "\n",
    "You can combine multiple operators in a single expression. Python follows the standard **order of operations** rules (also known as BIDMAS or PEMDAS depending on region):\n",
    "\n",
    "1. Parentheses.\n",
    "\n",
    "2. Exponents.\n",
    "\n",
    "3. Multiplication / Division.\n",
    "\n",
    "4. Addition / Subtraction.\n"
   ]
  },
  {
   "cell_type": "code",
   "execution_count": 4,
   "id": "bb8ff76a",
   "metadata": {},
   "outputs": [
    {
     "name": "stdout",
     "output_type": "stream",
     "text": [
      "13\n",
      "16\n"
     ]
    }
   ],
   "source": [
    "result = 3 + 5 * 2 # Output: 13\n",
    "# Multiplication done first => 3 + 10 = 13\n",
    "print(result)\n",
    "\n",
    "parenthesised_result = (3 + 5) * 2 # Output: 16\n",
    "# Parentheses first => 8 * 2 = 16\n",
    "print(parenthesised_result)"
   ]
  },
  {
   "cell_type": "markdown",
   "id": "512107bb",
   "metadata": {},
   "source": [
    "### 4.5. Quick Practice\n",
    "\n",
    "Try to guess the results of the following expressions:\n",
    "\n",
    "- `5 + 2 * 3`\n",
    "\n",
    "- `(5 + 2) * 3`\n",
    "\n",
    "- `10 // 3`\n",
    "\n",
    "- `10 % 3`\n",
    "\n",
    "- `(5 > 3) and (2 < 1)`\n",
    "\n",
    "- `4 == 4`\n",
    "\n",
    "- `not (4 == 4)`\n",
    "\n",
    "```{dropdown} 💡 Click here to see the answers\n",
    "```python\n",
    "print(5 + 2 * 3) # Output: 11\n",
    "print((5 + 2) * 3) # Output: 21\n",
    "print(10 // 3) # Output: 3\n",
    "print(10 % 3) # Output: 1\n",
    "print((5 > 3) and (2 < 1)) # Output: False\n",
    "print(4 == 4) # Output: True\n",
    "print(not (4 == 4)) # Output: False"
   ]
  }
 ],
 "metadata": {
  "kernelspec": {
   "display_name": "base",
   "language": "python",
   "name": "python3"
  },
  "language_info": {
   "codemirror_mode": {
    "name": "ipython",
    "version": 3
   },
   "file_extension": ".py",
   "mimetype": "text/x-python",
   "name": "python",
   "nbconvert_exporter": "python",
   "pygments_lexer": "ipython3",
   "version": "3.12.9"
  }
 },
 "nbformat": 4,
 "nbformat_minor": 5
}
