{
 "cells": [
  {
   "cell_type": "markdown",
   "id": "09602b5d",
   "metadata": {},
   "source": [
    "# M2: Conditional Blocks"
   ]
  },
  {
   "cell_type": "markdown",
   "id": "afd7b402",
   "metadata": {},
   "source": [
    "## 6. Conditional Blocks\n",
    "\n",
    "### 6.1. What is a Conditional Block?\n",
    "\n",
    "Conditional blocks allow your programme to make decisions. They control the flow of execution depending on whether a certain condition is `True` or `False`.\n",
    "\n",
    "The most common way to create a conditional block in Python is using an `if` statement."
   ]
  },
  {
   "cell_type": "markdown",
   "id": "98d37e72",
   "metadata": {},
   "source": [
    "### 6.2. The `if` Statement\n",
    "\n",
    "The `if` statement checks a condition. If the condition is `True`, the block of code underneath it (properly indented) will run."
   ]
  },
  {
   "cell_type": "code",
   "execution_count": 1,
   "id": "02e5468b",
   "metadata": {},
   "outputs": [
    {
     "name": "stdout",
     "output_type": "stream",
     "text": [
      "You are an adult.\n"
     ]
    }
   ],
   "source": [
    "age = 20\n",
    "\n",
    "if age >= 18:\n",
    "    print(\"You are an adult.\")"
   ]
  },
  {
   "cell_type": "markdown",
   "id": "a0d2d5ca",
   "metadata": {},
   "source": [
    "```{admonition} Remainder About Indentation\n",
    ":class: tip\n",
    "\n",
    "Indentation is crucial in Python.  \n",
    "Lines that are part of an `if` block must be indented, usually by 4 spaces or 1 tab."
   ]
  },
  {
   "cell_type": "markdown",
   "id": "ddbcba91",
   "metadata": {},
   "source": [
    "### 6.3. The `if-else` Structure\n",
    "\n",
    "Sometimes you want to run one block of code if a condition is `True`, and a different block if it is `False`. You can use `else` for this."
   ]
  },
  {
   "cell_type": "code",
   "execution_count": 2,
   "id": "00d8e541",
   "metadata": {},
   "outputs": [
    {
     "name": "stdout",
     "output_type": "stream",
     "text": [
      "You are a minor.\n"
     ]
    }
   ],
   "source": [
    "age = 16\n",
    "\n",
    "if age >= 18:\n",
    "    print(\"You are an adult.\")\n",
    "else:\n",
    "    print(\"You are a minor.\")"
   ]
  },
  {
   "cell_type": "markdown",
   "id": "241be08b",
   "metadata": {},
   "source": [
    "If the `if` condition is `False`, Python runs the code inside the `else` block.\n",
    "\n",
    "### 6.4. The `if-elif-else` Chain\n",
    "\n",
    "Sometimes you want to check multiple conditions in sequence.\n",
    "You can use `elif` (short for “else if”) to test additional conditions."
   ]
  },
  {
   "cell_type": "code",
   "execution_count": 3,
   "id": "a24fc0ff",
   "metadata": {},
   "outputs": [
    {
     "name": "stdout",
     "output_type": "stream",
     "text": [
      "You are a senior.\n"
     ]
    }
   ],
   "source": [
    "age = 70\n",
    "\n",
    "if age < 13:\n",
    "    print(\"You are a child.\")\n",
    "elif age < 20:\n",
    "    print(\"You are a teenager.\")\n",
    "elif age < 65:\n",
    "    print(\"You are an adult.\")\n",
    "else:\n",
    "    print(\"You are a senior.\")"
   ]
  },
  {
   "cell_type": "markdown",
   "id": "7903c213",
   "metadata": {},
   "source": [
    "Python checks each condition from top to bottom and runs the first block where the condition is `True`.\n",
    "\n",
    "### 6.5. Nested Conditionals\n",
    "\n",
    "Sometimes you may need to check another condition **inside** a conditional block.\n",
    "This is called a **nested conditional**.\n",
    "\n",
    "In the following example:\n",
    "- First, we check if the person is at least 18.\n",
    "- Then, inside that block, we check if they have identification (`has_id`)."
   ]
  },
  {
   "cell_type": "code",
   "execution_count": 4,
   "id": "25e1193a",
   "metadata": {},
   "outputs": [
    {
     "name": "stdout",
     "output_type": "stream",
     "text": [
      "Entry permitted.\n"
     ]
    }
   ],
   "source": [
    "age = 25\n",
    "has_id = True\n",
    "\n",
    "if age >= 18:\n",
    "    if has_id:\n",
    "        print(\"Entry permitted.\")\n",
    "    else:\n",
    "        print(\"No ID — entry denied.\")\n",
    "else:\n",
    "    print(\"You must be at least 18 to enter.\")"
   ]
  },
  {
   "cell_type": "markdown",
   "id": "50fefd83",
   "metadata": {},
   "source": [
    "```{admonition} Tip About Readibility\n",
    ":class: tip\n",
    "\n",
    "Avoid nesting too many conditionals inside each other.  \n",
    "Deeply nested code can become hard to read.  \n",
    "Sometimes it is better to reorganise your conditions to keep your code clean and understandable."
   ]
  },
  {
   "cell_type": "markdown",
   "id": "3ab50da3",
   "metadata": {},
   "source": [
    "### 6.6. Quick Practice\n",
    "\n",
    "Try this combined challenge:\n",
    "\n",
    "- Create a variable `temperature` with a value of your choice.\n",
    "- Write an `if-elif-else` block:\n",
    "  - Print `\"It's cold!\"` if the temperature is below 10 degrees.\n",
    "  - Print `\"It's moderate!\"` if the temperature is between 10 and 20 degrees (inclusive).\n",
    "  - Otherwise, print `\"It's warm!\"`.\n",
    "- Add a **nested conditional**:\n",
    "  - Inside the `\"It's warm!\"` block, check if the temperature is greater than 30 degrees.\n",
    "    - If so, print an additional message: `\"It's hot!\"`.\n",
    "\n",
    "```{dropdown} 💡 Click here to see a possible solution\n",
    "```python\n",
    "temperature = 35\n",
    "\n",
    "if temperature < 10:\n",
    "    print(\"It's cold!\")\n",
    "elif temperature <= 20:\n",
    "    print(\"It's moderate!\")\n",
    "else:\n",
    "    print(\"It's warm!\")\n",
    "    if temperature > 30:\n",
    "        print(\"It's hot!\")"
   ]
  }
 ],
 "metadata": {
  "kernelspec": {
   "display_name": "base",
   "language": "python",
   "name": "python3"
  },
  "language_info": {
   "codemirror_mode": {
    "name": "ipython",
    "version": 3
   },
   "file_extension": ".py",
   "mimetype": "text/x-python",
   "name": "python",
   "nbconvert_exporter": "python",
   "pygments_lexer": "ipython3",
   "version": "3.12.9"
  }
 },
 "nbformat": 4,
 "nbformat_minor": 5
}
