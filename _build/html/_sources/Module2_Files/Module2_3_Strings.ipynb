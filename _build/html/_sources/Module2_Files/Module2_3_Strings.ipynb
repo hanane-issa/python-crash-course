{
 "cells": [
  {
   "cell_type": "markdown",
   "id": "f1dcf864",
   "metadata": {},
   "source": [
    "# M2: Strings\n",
    "\n",
    "## 4. Strings\n",
    "\n",
    "### 4.1. What is a String?\n",
    "\n",
    "A **string** is a sequence of characters enclosed in single (`'`) or double (`\"`) quotation marks. Both styles work the same way in Python."
   ]
  },
  {
   "cell_type": "code",
   "execution_count": 1,
   "id": "9e9f1180",
   "metadata": {},
   "outputs": [],
   "source": [
    "my_string = \"Hello, World!\"\n",
    "another_string = 'Python is fun!'"
   ]
  },
  {
   "cell_type": "markdown",
   "id": "a22ad7d8",
   "metadata": {},
   "source": [
    "You can also create multi-line strings using triple quotes (`'''` or `\"\"\"`)"
   ]
  },
  {
   "cell_type": "code",
   "execution_count": null,
   "id": "c71cf209",
   "metadata": {},
   "outputs": [],
   "source": [
    "multi_line = \"\"\"This is\n",
    "a string\n",
    "spanning 3 lines.\"\"\""
   ]
  },
  {
   "cell_type": "markdown",
   "id": "44b2ddac",
   "metadata": {},
   "source": [
    "Strings are used whenever you need to work with text data."
   ]
  },
  {
   "cell_type": "markdown",
   "id": "b742cf89",
   "metadata": {},
   "source": [
    "### 4.2. Basic String Operations\n",
    "\n",
    "You can combine, repeat, and access parts of strings in Python. For this, mathematical operators are often used, resembling operations of numerical variables.\n",
    "\n",
    "##### Concatenation (joining strings)\n",
    "\n",
    "You can join strings together using the `+` operator."
   ]
  },
  {
   "cell_type": "code",
   "execution_count": null,
   "id": "ad4049de",
   "metadata": {},
   "outputs": [
    {
     "name": "stdout",
     "output_type": "stream",
     "text": [
      "Hello, Alice!\n"
     ]
    }
   ],
   "source": [
    "greeting = \"Hello\"\n",
    "name = \"Alice\"\n",
    "message = greeting + \", \" + name + \"!\" # joining the two string variables with the strings \", \" and \"!\"; Note that \", \" has a space \n",
    "print(message) # Output: Hello, Alice!"
   ]
  },
  {
   "cell_type": "markdown",
   "id": "14ceab87",
   "metadata": {},
   "source": [
    "##### Repetition (repeating strings)\n",
    "\n",
    "You can repeat a string multiple times using the `*` operator and an integer value stating how often it should be repeated."
   ]
  },
  {
   "cell_type": "code",
   "execution_count": null,
   "id": "b8b0c546",
   "metadata": {},
   "outputs": [
    {
     "name": "stdout",
     "output_type": "stream",
     "text": [
      "hahahahaha\n"
     ]
    }
   ],
   "source": [
    "laugh = \"ha\" * 5\n",
    "print(laugh) # Output: hahaha"
   ]
  },
  {
   "cell_type": "markdown",
   "id": "533839d0",
   "metadata": {},
   "source": [
    "##### Accessing characters (indexing)\n",
    "\n",
    "You can access individual characters in a string by putting square brackets `[` `]` after the string with the index of the character that you want to access inside it."
   ]
  },
  {
   "cell_type": "code",
   "execution_count": null,
   "id": "d4c9fb29",
   "metadata": {},
   "outputs": [
    {
     "name": "stdout",
     "output_type": "stream",
     "text": [
      "P\n",
      "y\n"
     ]
    }
   ],
   "source": [
    "text = \"Python\"\n",
    "print(text[0]) # Output: P\n",
    "print(text[1]) # Output: y"
   ]
  },
  {
   "cell_type": "markdown",
   "id": "ac514330",
   "metadata": {},
   "source": [
    "```{admonition} Indexing in Python\n",
    ":class: tip\n",
    "\n",
    "In Python, **indexing starts at 0**.  \n",
    "This means that the first character or item has index `0`, the second has index `1`, and so on.\n",
    "\n",
    "Visual example:\n",
    "```text\n",
    "Index:    0   1   2   3   4   5\n",
    "Letter:   P   y   t   h   o   n"
   ]
  },
  {
   "cell_type": "markdown",
   "id": "47c6cf2a",
   "metadata": {},
   "source": [
    "### 4.3. Common String Methods\n",
    "\n",
    "Python provides many useful methods to work with strings.\n",
    "\n",
    "A method is a function that is defined specifically for a certain data type (or class - you will learn exactly what they are in Chapter ...). It is not used like a standard function where you just write the function name and put your variable name inside as an argument, e.g. `print(text)`, but by adding it to the end of your variable name separated with a period `.`, e.g. `text.method()`. Methods still have the brackets in the end where you might have to insert additional arguments needed to run it.\n",
    "\n",
    "Some of the most common methods that are defined for string variables are:\n",
    "\n",
    "- `.lower()`: Converts all characters to lowercase.\n",
    "\n",
    "- `.upper()`: Converts all characters to uppercase.\n",
    "\n",
    "- `.strip()`: Removes spaces from the beginning and end.\n",
    "\n",
    "- `.replace(old, new)`: Replaces part of a string with something else for every occurrence of it. Parameters:\n",
    "    - old: The part of the string you want replaced\n",
    "    - new: What you replace it with\n",
    "\n",
    "- `.find(substring)`: Finds the index of the first occurrence of a substring. Parameters:\n",
    "    - substring: The substring/character that you want to find in your string\n",
    "\n",
    "You can also chain methods together\n"
   ]
  },
  {
   "cell_type": "code",
   "execution_count": 4,
   "id": "27bf2ed9",
   "metadata": {},
   "outputs": [
    {
     "name": "stdout",
     "output_type": "stream",
     "text": [
      "Original sentence:    This is Python!   \n",
      "Stripped sentence without whitespace: This is Python!\n",
      "Lowercase sentence:    this is python!   \n",
      "Uppercase sentence:    THIS IS PYTHON!   \n",
      "Replaced a full word in the sentence:    This is Magic!   \n",
      "Replaced white space with underscore: ___This_is_Python!___\n",
      "Found \"Python\" at index: 11\n",
      "Found \"i\" for the first time at index: 5\n",
      "Stripped and lowercase sentence (in one step): this is python!\n"
     ]
    }
   ],
   "source": [
    "sentence = \"   This is Python!   \"\n",
    "print(f'Original sentence: {sentence}') # Output: \"   This is Python!   \"\n",
    "\n",
    "stripped_sentence = sentence.strip() # removes leading and trailing whitespace\n",
    "print(f'Stripped sentence without whitespace: {stripped_sentence}') # Output: \"This is Python!\"\n",
    "\n",
    "lowercase_sentence = sentence.lower() # converts all characters to lowercase\n",
    "print(f'Lowercase sentence: {lowercase_sentence}') # Output: \"   this is python!   \"\n",
    "\n",
    "uppercase_sentence = sentence.upper() # converts all characters to uppercase\n",
    "print(f'Uppercase sentence: {uppercase_sentence}') # Output: \"   THIS IS PYTHON!   \"\n",
    "\n",
    "replaced_word_sentence = sentence.replace(\"Python\", \"Magic\") # replaces \"Python\" with \"Magic\"\n",
    "print(f'Replaced a full word in the sentence: {replaced_word_sentence}') # Output: \"   This is Magic!   \"\n",
    "\n",
    "replaced_character_sentence = sentence.replace(\" \", \"_\") # replaces all spaces with underscores\n",
    "print(f'Replaced white space with underscore: {replaced_character_sentence}') # Output: \"___This_is_Python!___\"\n",
    "\n",
    "found_unique_word = sentence.find(\"Python\") # finds the index of the first occurrence of \"Python\"\n",
    "print(f'Found \"Python\" at index: {found_unique_word}') # Output: 7\n",
    "\n",
    "found_multiple_character = sentence.find(\"i\") # finds the index of the first occurrence of \"i\"\n",
    "print(f'Found \"i\" for the first time at index: {found_multiple_character}') # Output: 5\n",
    "\n",
    "#you can also chain methods\n",
    "lowercase_stripped_sentence = sentence.strip().lower() # removes leading and trailing whitespace and converts all characters to lowercase\n",
    "print(f'Stripped and lowercase sentence (in one step): {lowercase_stripped_sentence}') # Output: \"this is python!\"\n",
    "\n"
   ]
  },
  {
   "cell_type": "markdown",
   "id": "4430da0f",
   "metadata": {},
   "source": [
    "### 4.4. Quick Practice\n",
    "\n",
    "Try these small challenges:\n",
    "\n",
    "- Create a variable called quote and assign your favourite quote as a string. Add extra space at either the start or end.\n",
    "\n",
    "- Print the quote in **uppercase letters**.\n",
    "\n",
    "- Print the quote with **no extra spaces** at the start or end."
   ]
  },
  {
   "cell_type": "code",
   "execution_count": null,
   "id": "07401580",
   "metadata": {},
   "outputs": [],
   "source": [
    "# Put your code here"
   ]
  },
  {
   "cell_type": "markdown",
   "id": "574ba873",
   "metadata": {},
   "source": [
    "```{dropdown} 💡 Solution\n",
    "```python\n",
    "quote = \"  Machine learning is transforming how we diagnose, predict, and understand diseases.  \"\n",
    "print(quote.upper())\n",
    "print(quote.strip())"
   ]
  }
 ],
 "metadata": {
  "kernelspec": {
   "display_name": "jupyter_course_venv",
   "language": "python",
   "name": "python3"
  },
  "language_info": {
   "codemirror_mode": {
    "name": "ipython",
    "version": 3
   },
   "file_extension": ".py",
   "mimetype": "text/x-python",
   "name": "python",
   "nbconvert_exporter": "python",
   "pygments_lexer": "ipython3",
   "version": "3.13.2"
  }
 },
 "nbformat": 4,
 "nbformat_minor": 5
}
