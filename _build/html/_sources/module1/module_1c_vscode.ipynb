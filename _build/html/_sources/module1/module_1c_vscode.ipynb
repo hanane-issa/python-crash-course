{
 "cells": [
  {
   "cell_type": "markdown",
   "id": "9bbbdda3",
   "metadata": {},
   "source": [
    "```{image} ../_static/images/vscode-alt.png\n",
    ":alt: vscode logo\n",
    ":class: bg-primary mb-1\n",
    ":width: 200px\n",
    ":align: center\n",
    "```\n",
    "\n",
    "\n",
    "# Python in VSCode\n",
    "\n",
    "<div class=\"alert alert-block alert-success\">\n",
    "<b>Section Objectives:</b><br> \n",
    "- Set up and customize VS Code.<br> \n",
    "- Write your first Python code.<br> \n",
    "</div>\n",
    "\n",
    "\n",
    "Virtual Studio Code (VSCode) is a lightweight, open-source code editor  developed by Microsoft for a wide range of programming languages, including Python. It contains a vast library of extensions which allows you to customize your work environment.\n",
    "\n",
    "As a comprehensive tool, it has support for version control (Git), debugging, and code editing. Moreover, it has a very active community and plenty of tutorials and documentation available online. \n",
    "\n",
    "VSCode works across all major platforms: Windows, macOS, and Linux. \n",
    "\n",
    "\n",
    "\n",
    "## 1. Download VSCode\n",
    "\n",
    "Let's start by downloading the code editor [here](https://code.visualstudio.com/download) and installing it.\n",
    "\n",
    "\n",
    "## 2. Install Necessary Plugins\n",
    "\n",
    "You will need to install the Python extension as well as the Jupyter extension.\n",
    "\n",
    "<img src=\"../_static/images/vscode_guide1.png\" alt=\"vscode_extensions\" style=\"width: 1700px; height: 500px\"/>\n",
    "\n",
    "## 3. Create a New File\n",
    "\n",
    "Once you have set up VS Code with the necessary extensions, you can create any file by selecting the following:\n",
    "File > New File\n",
    "\n",
    "```{image} ../_static/images/vscode_newfile.png\n",
    ":alt: vscode new file\n",
    ":class: bg-primary mb-1\n",
    ":width: 500px\n",
    ":align: center\n",
    "```\n",
    "\n",
    "You will be prompted to select a file type, for example a text file, a python file (.py) or a jupyter notebook (.ipynb).\n",
    "\n",
    "Let's start with a new jupyter notebook file to start writing your first Python code.\n",
    "\n",
    "## 4. Writing your first Python code\n",
    "\n",
    "<img src=\"../_static/images/vscode_firstcode.gif\" alt=\"ipynb gif\" style=\"width: 1200px; height: 300px\"/>\n",
    "\n",
    "As mentioned before, jupyter notebooks allow you to interactively write code (including Python code) and combine it wiht text, images, and graphs.\n",
    "\n",
    "You can add text and headers to your notebook by selecting Markdown as the programming language for your cell, or selecting \"Add Markdown\". You can find more information on basic Markdown syntax [here](https://www.markdownguide.org/basic-syntax/).\n",
    "\n",
    "\n",
    "To begin writing Python code in your notebook, simply change the cell type to Code, or insert a new code cell with Python as the language."
   ]
  },
  {
   "cell_type": "code",
   "execution_count": 1,
   "id": "a22be024",
   "metadata": {},
   "outputs": [
    {
     "name": "stdout",
     "output_type": "stream",
     "text": [
      "Hello, world!\n"
     ]
    }
   ],
   "source": [
    "# My first code\n",
    "print(\"Hello, world!\")"
   ]
  },
  {
   "cell_type": "markdown",
   "id": "51dcdff8",
   "metadata": {},
   "source": [
    "The print() function is one of the most basic and useful functions in Python. It outputs whatever is inside the parentheses to the screen — in this case, the message \"Hello, world!\". It's commonly used for displaying messages, debugging, and showing the results of calculations or operations.\n",
    "\n",
    "In your code cell, adding a dial symbol `#` before a text turns it into a comment. This is a piece of text within the code that is ignored by the computer when the program runs. Comments are used to provide explanations, clarifications, or descriptions about parts of the code, which helps other programmers (or even your future self) understand what the code does.\n",
    "\n",
    "\n",
    "```{note}\n",
    "You can press `Shift + Enter` to run your current code cell.\n",
    "```"
   ]
  }
 ],
 "metadata": {
  "jupytext": {
   "formats": "md:myst",
   "text_representation": {
    "extension": ".md",
    "format_name": "myst",
    "format_version": 0.13,
    "jupytext_version": "1.11.5"
   }
  },
  "kernelspec": {
   "display_name": "Python 3",
   "language": "python",
   "name": "python3"
  },
  "language_info": {
   "codemirror_mode": {
    "name": "ipython",
    "version": 3
   },
   "file_extension": ".py",
   "mimetype": "text/x-python",
   "name": "python",
   "nbconvert_exporter": "python",
   "pygments_lexer": "ipython3",
   "version": "3.13.2"
  },
  "source_map": [
   13,
   79,
   82
  ]
 },
 "nbformat": 4,
 "nbformat_minor": 5
}