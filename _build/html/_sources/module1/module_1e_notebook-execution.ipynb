{
 "cells": [
  {
   "cell_type": "markdown",
   "id": "fd187dae",
   "metadata": {},
   "source": [
    "# Executing the Notebook Exercices\n",
    "\n",
    "After each module, you can test your knowledge with a coding exercice in a jupyter notebook file.\n",
    "You can run the notebooks in three different ways, depending on your preference and setup:\n",
    "\n",
    "1. Run in Google Colab\n",
    "- Easiest option — no setup needed.\n",
    "\n",
    "- Just click the “Open in Colab” button at the top of each exercice notebook page in this book.\n",
    "\n",
    "- It runs in your browser and saves changes to your Google Drive (if you sign in).\n",
    "\n",
    "\n",
    "2. Run on Binder\n",
    "\n",
    "- Great if you want a full coding environment in your browser.\n",
    "\n",
    "- Just click the “Open in Binder” button at the top of each exercice notebook page in this book.\n",
    "\n",
    "- Binder launches a temporary Jupyter environment.\n",
    "\n",
    "- No installation required, but it takes a minute to load.\n",
    "\n",
    "\n",
    "3. Download and Run Locally\n",
    "\n",
    "- Best for learning how to run Python on your own machine.\n",
    "\n",
    "- Download the notebook (.ipynb) from GitHub.\n",
    "\n",
    "- Open it using your preferred code editor/IDE, e.g. VSCode."
   ]
  }
 ],
 "metadata": {
  "jupytext": {
   "formats": "md:myst",
   "text_representation": {
    "extension": ".md",
    "format_name": "myst",
    "format_version": 0.13,
    "jupytext_version": "1.11.5"
   }
  },
  "kernelspec": {
   "display_name": "Python 3",
   "language": "python",
   "name": "python3"
  },
  "language_info": {
   "codemirror_mode": {
    "name": "ipython",
    "version": 3
   },
   "file_extension": ".py",
   "mimetype": "text/x-python",
   "name": "python",
   "nbconvert_exporter": "python",
   "pygments_lexer": "ipython3",
   "version": "3.13.2"
  },
  "source_map": [
   13
  ]
 },
 "nbformat": 4,
 "nbformat_minor": 5
}