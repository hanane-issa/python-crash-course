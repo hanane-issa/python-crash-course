{
 "cells": [
  {
   "cell_type": "markdown",
   "id": "853e8792",
   "metadata": {},
   "source": [
    "# Module 6: Functions\n",
    "\n",
    "Objectives:\n",
    "\n",
    "By the end of this module, you will be able to:\n",
    "\n",
    "- Understand the purpose and structure of functions in Python, including how to define and call them.\n",
    "\n",
    "- Use function parameters and arguments effectively.\n",
    "\n",
    "- Differentiate between local and global variables.\n",
    "\n",
    "- Recognize and apply advanced function concepts, such as recursion, anonymous functions (lambda), and built-in functional tools like map(), filter(), and zip().\n",
    "\n",
    "## outline\n",
    "- defining a function\n",
    "- calling a function\n",
    "- arguments and parameters\n",
    "- number of arguments\n",
    "- docstrings\n",
    "- local vs global variables\n",
    "- arbitrary arguments *args\n",
    "- keyword arguments \n",
    "- arbitrary keyword arguments *kwargs\n",
    "- default parameter values\n",
    "- passing alist as an argument\n",
    "- passing a dictionary as an argument\n",
    "- return values and functions with no return, just print for example\n",
    "- pass statements\n",
    "- positional-only arguments? and keyword-only arguments?\n",
    "- recursion\n",
    "- anonymous/lambda function\n",
    "- useful functions in python: lambda, filter, map, zip"
   ]
  }
 ],
 "metadata": {
  "jupytext": {
   "formats": "md:myst",
   "text_representation": {
    "extension": ".md",
    "format_name": "myst",
    "format_version": 0.13,
    "jupytext_version": "1.11.5"
   }
  },
  "kernelspec": {
   "display_name": "Python 3",
   "language": "python",
   "name": "python3"
  },
  "language_info": {
   "codemirror_mode": {
    "name": "ipython",
    "version": 3
   },
   "file_extension": ".py",
   "mimetype": "text/x-python",
   "name": "python",
   "nbconvert_exporter": "python",
   "pygments_lexer": "ipython3",
   "version": "3.13.2"
  },
  "source_map": [
   13
  ]
 },
 "nbformat": 4,
 "nbformat_minor": 5
}