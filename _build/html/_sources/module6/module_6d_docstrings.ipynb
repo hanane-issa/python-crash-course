{
 "cells": [
  {
   "cell_type": "code",
   "execution_count": 1,
   "id": "34f354dd",
   "metadata": {
    "tags": [
     "remove-input"
    ]
   },
   "outputs": [],
   "source": [
    "import pandas as pd\n",
    "import numpy as np\n",
    "import matplotlib.pyplot as plt\n",
    "stroke_data = pd.read_csv(\"../data/healthcare-dataset-stroke-data.csv\")"
   ]
  },
  {
   "cell_type": "markdown",
   "id": "da8d120c",
   "metadata": {},
   "source": [
    "# Module 6: Docstrings\n",
    "\n",
    "<div class=\"alert alert-block alert-success\">\n",
    "<b>Section Objectives:</b><br> \n",
    "- Write and utilize docstrings to document functions.<br> \n",
    "</div>\n",
    "\n",
    "\n",
    "\n",
    "## Docstrings\n",
    "\n",
    "Let's go back to the `ount_stroke_patients()` function. Notice how we had a multi-line string in triple quotes, also called documentation string or **docstring** for short. The docstring links explanatory documentation to Python objects such as functions, modules, and classes. It explains the purpose of the function, as well as the parameters required,and the output/return we get. \n",
    "It is incredibly useful for others (as well as future you!) to develop this good practice. \n",
    "\n",
    "You can access an object's documentation through the `__doc__` method or `help()` function."
   ]
  },
  {
   "cell_type": "code",
   "execution_count": 2,
   "id": "ecffc5bd",
   "metadata": {},
   "outputs": [
    {
     "name": "stdout",
     "output_type": "stream",
     "text": [
      "Using __doc__:\n"
     ]
    },
    {
     "ename": "NameError",
     "evalue": "name 'count_stroke_patients' is not defined",
     "output_type": "error",
     "traceback": [
      "\u001b[31m---------------------------------------------------------------------------\u001b[39m",
      "\u001b[31mNameError\u001b[39m                                 Traceback (most recent call last)",
      "\u001b[36mCell\u001b[39m\u001b[36m \u001b[39m\u001b[32mIn[2]\u001b[39m\u001b[32m, line 2\u001b[39m\n\u001b[32m      1\u001b[39m \u001b[38;5;28mprint\u001b[39m(\u001b[33m\"\u001b[39m\u001b[33mUsing __doc__:\u001b[39m\u001b[33m\"\u001b[39m)\n\u001b[32m----> \u001b[39m\u001b[32m2\u001b[39m \u001b[38;5;28mprint\u001b[39m(\u001b[43mcount_stroke_patients\u001b[49m.\u001b[34m__doc__\u001b[39m)\n\u001b[32m      4\u001b[39m \u001b[38;5;28mprint\u001b[39m(\u001b[33m\"\u001b[39m\u001b[33mUsing help:\u001b[39m\u001b[33m\"\u001b[39m)\n\u001b[32m      5\u001b[39m help(count_stroke_patients)\n",
      "\u001b[31mNameError\u001b[39m: name 'count_stroke_patients' is not defined"
     ]
    }
   ],
   "source": [
    "print(\"Using __doc__:\")\n",
    "print(count_stroke_patients.__doc__)\n",
    "\n",
    "print(\"Using help:\")\n",
    "help(count_stroke_patients)"
   ]
  },
  {
   "cell_type": "markdown",
   "id": "600bc66b",
   "metadata": {},
   "source": [
    "For the sake of standardization, there a few conventions to follow when writing a docstring, mainly based on {cite} @pep_257  and common community practices (see: {cite} @python_docstrings):\n",
    "\n",
    "\n",
    "1) Basic Syntax Rules\n",
    "- Use \"\"\"triple double quotes\"\"\" even for one-liners.\n",
    "\n",
    "- Place the docstring immediately after the def or class line.\n",
    "\n",
    "- For raw strings (e.g., with backslashes), use r\"\"\"insert raw docstring here\"\"\".\n",
    "- Stick to one format, for example the Numpydoc Style used in the `count_stroke_patients()` function.\n",
    "\n",
    "2) One-line Docstrings\n",
    "- Used for simple functions or when a brief summary suffices.\n",
    "\n",
    "- Format:\n",
    "\n",
    "    - Triple quotes on a single line.\n",
    "\n",
    "    - No blank line after.\n",
    "\n",
    "    - Imperative mood: \"Return...\" not \"Returns...\"\n",
    "\n",
    "    - End with a period.\n",
    "\n",
    "    Example:\n",
    "    ```{code-cell} python\n",
    "    :tags: [remove-output]\n",
    "    def func_example1(df):\n",
    "    \"\"\"Return the number of patients with stroke.\"\"\"\n",
    "    ```\n",
    "\n",
    "3) Multi-line Docstrings\n",
    "\n",
    "- Format:\n",
    "\n",
    "    - First line: summary, fits on one line.\n",
    "\n",
    "    - Blank line after summary.\n",
    "\n",
    "    - Optional: detailed description (behavior, arguments, exceptions, return).\n",
    "\n",
    "    - Closing \"\"\" on its own line if the docstring spans multiple lines.\n",
    "\n",
    "    Example: see example function in building blocks section."
   ]
  }
 ],
 "metadata": {
  "jupytext": {
   "formats": "md:myst",
   "text_representation": {
    "extension": ".md",
    "format_name": "myst",
    "format_version": 0.13,
    "jupytext_version": "1.11.5"
   }
  },
  "kernelspec": {
   "display_name": "Python 3",
   "language": "python",
   "name": "python3"
  },
  "language_info": {
   "codemirror_mode": {
    "name": "ipython",
    "version": 3
   },
   "file_extension": ".py",
   "mimetype": "text/x-python",
   "name": "python",
   "nbconvert_exporter": "python",
   "pygments_lexer": "ipython3",
   "version": "3.13.2"
  },
  "source_map": [
   14,
   21,
   39,
   45
  ]
 },
 "nbformat": 4,
 "nbformat_minor": 5
}