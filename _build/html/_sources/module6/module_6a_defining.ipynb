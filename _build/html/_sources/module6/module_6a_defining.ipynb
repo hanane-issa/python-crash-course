{
 "cells": [
  {
   "cell_type": "code",
   "execution_count": 1,
   "id": "8ea4b99b",
   "metadata": {
    "tags": [
     "remove-input"
    ]
   },
   "outputs": [],
   "source": [
    "import pandas as pd\n",
    "import numpy as np\n",
    "import matplotlib.pyplot as plt\n",
    "stroke_data = pd.read_csv(\"../data/healthcare-dataset-stroke-data.csv\")"
   ]
  },
  {
   "cell_type": "markdown",
   "id": "137d5d55",
   "metadata": {},
   "source": [
    "# Module 6: Functions\n",
    "\n",
    "Objectives:\n",
    "\n",
    "By the end of this module, you will be able to:\n",
    "\n",
    "- Understand the purpose and structure of functions in Python, including how to define and call them.\n",
    "\n",
    "- Use function parameters and arguments effectively.\n",
    "\n",
    "- Differentiate between local and global variables.\n",
    "\n",
    "- Recognize and apply advanced function concepts, such as recursion, anonymous functions (lambda), and built-in functional tools like map(), filter(), and zip().\n",
    "\n",
    "## outline\n",
    "- defining a function\n",
    "- calling a function\n",
    "- arguments and parameters\n",
    "- number of arguments\n",
    "- docstrings\n",
    "- default parameter values\n",
    "- return values and functions with no return, just print for example\n",
    "\n",
    "In the previous sections, we've talked about several built-in functions like `print()` and `input()`, as well as functions from installed packages like numpy's `array()` and pandas' `read_csv()`.\n",
    "\n",
    "Now we'll talk about how you can write your own functions.\n",
    "\n",
    "## Why write a function? \n",
    "\n",
    "1. Reuse code easily\n",
    "As you start coding and analyzing data in Python, you'll soon realize that some code snippets are repeated and can be reused. Instead of copying and pasting the same code again and again, you write it once as a function and use it whenever you need. This saves time and effort!\n",
    "\n",
    "2. Make your code cleaner and shorter\n",
    "Functions help break big problems into smaller, manageable pieces. This makes your code easier to read and understand. We often talk about avoiding 'spaghetti code'. Just as it sounds, this describes code that is unclear, a big tangled mess that’s tough to read, understand, and work with,—kind of like a bowl of spaghetti all mixed up. \n",
    "\n",
    "3. Avoid mistakes\n",
    "When you reuse the same function, you only need to test and fix the code once. This reduces errors compared to copying code multiple times.\n",
    "\n",
    "4. Organize your work\n",
    "Functions let you give a name to a block of code, which describes what it does. This helps others (and future you!) understand your program faster.\n",
    "\n",
    "## Building Blocks of a Function\n",
    "\n",
    "So what are the building blocks of a function? What elements do we need for Python to understand that we're defining a function?\n",
    "\n",
    "Let's take a look at the syntax needed:\n",
    "\n",
    "<img src=\"../_static/images/function_annotation.png\" alt=\"function_explanation\" style=\"width: 1400px; height: 400px\"/>\n",
    "\n",
    "As you can say, a function requires parameters to define the type and number of values that it can accept (source: https://www.geeksforgeeks.org/difference-between-parameters-and-arguments/). These parameters are placeholders for the actual data you want to pass when you call the function. If your function were a vending machine, then the parameters are the buttons you press to choose what comes out!\n",
    "\n",
    "Notice that you only need to define a function once, then you can use (call) it as many times as you like.\n",
    "\n",
    "Let's use the Kaggle stroke data to write our first function."
   ]
  },
  {
   "cell_type": "code",
   "execution_count": 2,
   "id": "4731e58f",
   "metadata": {},
   "outputs": [],
   "source": [
    "def count_stroke_patients(df):\n",
    "    \"\"\"\n",
    "    Count how many patients in the dataset had a stroke.\n",
    "    \"\"\"\n",
    "    stroke_count = df['stroke'].sum()\n",
    "    return stroke_count"
   ]
  },
  {
   "cell_type": "markdown",
   "id": "3208d3ef",
   "metadata": {},
   "source": [
    "Function with default parameter/default argument"
   ]
  },
  {
   "cell_type": "code",
   "execution_count": 3,
   "id": "1cac4212",
   "metadata": {},
   "outputs": [],
   "source": [
    "def check_high_glucose(df, threshold=125):\n",
    "    \"\"\"\n",
    "    Add a column 'glucose_status' labeling patients as 'high' or 'normal'\n",
    "    based on avg_glucose_level threshold.\n",
    "    \"\"\"\n",
    "    def glucose_level(glucose):\n",
    "        if glucose > threshold:\n",
    "            return 'high'\n",
    "        else:\n",
    "            return 'normal'\n",
    "    \n",
    "    df['glucose_status'] = df['avg_glucose_level'].apply(glucose_level)\n",
    "    return df"
   ]
  },
  {
   "cell_type": "markdown",
   "id": "d1bc17fe",
   "metadata": {},
   "source": [
    "Function which returns 2 values"
   ]
  },
  {
   "cell_type": "code",
   "execution_count": 4,
   "id": "685a48b6",
   "metadata": {},
   "outputs": [],
   "source": [
    "def count_adults_and_minors(df):\n",
    "    \"\"\"\n",
    "    Count how many patients are adults (age >= 18) and minors (age < 18).\n",
    "    \n",
    "    Parameters:\n",
    "        df (pd.DataFrame): The stroke dataset with an 'age' column.\n",
    "    \n",
    "    Returns:\n",
    "        tuple: (number_of_adults, number_of_minors)\n",
    "    \"\"\"\n",
    "    adults = 0\n",
    "    minors = 0\n",
    "    \n",
    "    for age in df['age']:\n",
    "        if age >= 18:\n",
    "            adults += 1\n",
    "        else:\n",
    "            minors += 1\n",
    "    \n",
    "    return adults, minors"
   ]
  },
  {
   "cell_type": "markdown",
   "id": "9b24f8ae",
   "metadata": {},
   "source": [
    "Function with no return"
   ]
  },
  {
   "cell_type": "code",
   "execution_count": 5,
   "id": "d0cd6e16",
   "metadata": {},
   "outputs": [],
   "source": [
    "def plot_histogram(df, column, bins=30):\n",
    "    \"\"\"\n",
    "    Plot a normalized histogram for any numeric column in the DataFrame.\n",
    "    \n",
    "    Parameters:\n",
    "        df (pd.DataFrame): The dataset.\n",
    "        column (str): The name of the numeric column to plot.\n",
    "        bins (int): Number of bins for the histogram (default 30).\n",
    "    \"\"\"\n",
    "    plt.figure(figsize=(6, 4))\n",
    "    plt.hist(df[column].dropna(), bins=bins, alpha=0.6, edgecolor='black', density=True)\n",
    "    plt.xlabel(column, fontsize=14)\n",
    "    plt.ylabel('Probability density', fontsize=14)\n",
    "    plt.xticks(fontsize=12)\n",
    "    plt.yticks(fontsize=12)\n",
    "    plt.title(f'Normalized Histogram of {column}', fontsize=18)\n",
    "    plt.show()"
   ]
  }
 ],
 "metadata": {
  "jupytext": {
   "formats": "md:myst",
   "text_representation": {
    "extension": ".md",
    "format_name": "myst",
    "format_version": 0.13,
    "jupytext_version": "1.11.5"
   }
  },
  "kernelspec": {
   "display_name": "Python 3",
   "language": "python",
   "name": "python3"
  },
  "language_info": {
   "codemirror_mode": {
    "name": "ipython",
    "version": 3
   },
   "file_extension": ".py",
   "mimetype": "text/x-python",
   "name": "python",
   "nbconvert_exporter": "python",
   "pygments_lexer": "ipython3",
   "version": "3.13.2"
  },
  "source_map": [
   14,
   21,
   77,
   84,
   88,
   102,
   106,
   127,
   132
  ]
 },
 "nbformat": 4,
 "nbformat_minor": 5
}