{
 "cells": [
  {
   "cell_type": "code",
   "execution_count": 1,
   "id": "1d12050d",
   "metadata": {
    "tags": [
     "remove-input"
    ]
   },
   "outputs": [],
   "source": [
    "import pandas as pd\n",
    "import numpy as np\n",
    "import matplotlib.pyplot as plt\n",
    "stroke_data = pd.read_csv(\"../data/healthcare-dataset-stroke-data.csv\")"
   ]
  },
  {
   "cell_type": "markdown",
   "id": "67410e37",
   "metadata": {},
   "source": [
    "# Module 6: Return Statements\n",
    "\n",
    "\n",
    "<div class=\"alert alert-block alert-success\">\n",
    "<b>Section Objectives:</b><br> \n",
    "- Understand the concept of return values from functions versus functions that only print output without returning values.\n",
    "</div>\n",
    "\n",
    "## Functions that print instead of return\n",
    "\n",
    "Sometimes you may want a function to display something on the screen rather than calculate and return a value. This is common when:\n",
    "\n",
    "- You're debugging (checking your logic step by step)\n",
    "\n",
    "- You want to summarize or visualize data directly for the user\n",
    "\n",
    "- You're building exploratory tools, not reusable computations\n",
    "\n",
    "\n",
    "Let's modify the smoking count function as an example. We'll add a print statement to help us see what’s going on during execution.\n",
    "\n",
    "def count_smokers_by_category(df):\n",
    "    if 'smoking_status' in df.columns:\n",
    "        print(\"Column found. Counting smoking categories...\")\n",
    "        return df['smoking_status'].value_counts()\n",
    "    else:\n",
    "        print(\"Column 'smoking_status' not found in DataFrame.\")\n",
    "        return None\n",
    "\n",
    "`None` represents the absence of value, and has the `NoneType` data type. You'll see other programming languages call it `null`, `nil`, or `undefined`.\n",
    "\n",
    "Now let’s write a function that doesn't return any value — it just prints a useful summary."
   ]
  },
  {
   "cell_type": "code",
   "execution_count": 2,
   "id": "84edc229",
   "metadata": {},
   "outputs": [],
   "source": [
    "def print_stroke_summary(df):\n",
    "    total = len(df)\n",
    "    stroke_count = df['stroke'].sum()\n",
    "    no_stroke_count = total - stroke_count\n",
    "    stroke_rate = stroke_count / total * 100\n",
    "\n",
    "    print(\"Stroke Summary Report:\")\n",
    "    print(f\"Total records: {total}\")\n",
    "    print(f\"Stroke cases: {stroke_count}\")\n",
    "    print(f\"No stroke cases: {no_stroke_count}\")\n",
    "    print(f\"Stroke rate: {stroke_rate:.2f}%\")"
   ]
  },
  {
   "cell_type": "markdown",
   "id": "c1dc3e9f",
   "metadata": {},
   "source": [
    "This function prints information to the screen, but doesn't return anything. If you tried to assign its output to a variable, you'd get:"
   ]
  },
  {
   "cell_type": "code",
   "execution_count": 3,
   "id": "c9001720",
   "metadata": {},
   "outputs": [
    {
     "ename": "NameError",
     "evalue": "name 'df' is not defined",
     "output_type": "error",
     "traceback": [
      "\u001b[31m---------------------------------------------------------------------------\u001b[39m",
      "\u001b[31mNameError\u001b[39m                                 Traceback (most recent call last)",
      "\u001b[36mCell\u001b[39m\u001b[36m \u001b[39m\u001b[32mIn[3]\u001b[39m\u001b[32m, line 1\u001b[39m\n\u001b[32m----> \u001b[39m\u001b[32m1\u001b[39m result = print_stroke_summary(\u001b[43mdf\u001b[49m)\n\u001b[32m      2\u001b[39m \u001b[38;5;28mprint\u001b[39m(result)  \u001b[38;5;66;03m# Output: None\u001b[39;00m\n",
      "\u001b[31mNameError\u001b[39m: name 'df' is not defined"
     ]
    }
   ],
   "source": [
    "result = print_stroke_summary(df)\n",
    "print(result)  # Output: None"
   ]
  },
  {
   "cell_type": "markdown",
   "id": "2c43a19b",
   "metadata": {},
   "source": [
    "When your function ends with a print statement or doesn't have a return statement, Python adds `return None` behind the scenes. This is also the case when you use the `return` keyword by itself without any value added to the statement.\n",
    "\n",
    "We've seen a similar behavior with loops; when you write a `for` or `while` loop, Python implicitly adds a `continue` statement.\n",
    "(source: https://automatetheboringstuff.com/2e/chapter3/ )\n",
    "\n",
    "## Functions with no return statement\n",
    "\n",
    "A function does not need a return statement. If it doesn’t return anything explicitly, it still runs — it just returns None by default.\n",
    "\n",
    "This is common in:\n",
    "\n",
    "- Plotting and visualization\n",
    "\n",
    "- Functions designed for side effects (like writing to a file or showing a chart)\n",
    "\n",
    "In module 5, you learned how to write code to plot a histogram for the average glucose level. Let’s reuse that code, but turn it into a general-purpose display-only function which plots the histogram of any passed column."
   ]
  },
  {
   "cell_type": "code",
   "execution_count": null,
   "id": "ef304674",
   "metadata": {},
   "outputs": [],
   "source": [
    "def plot_histogram(df, column, bins=30):\n",
    "    \"\"\"\n",
    "    Plot a normalized histogram for any numeric column in the DataFrame.\n",
    "    \n",
    "    Parameters:\n",
    "        df (pd.DataFrame): The dataset.\n",
    "        column (str): The name of the numeric column to plot.\n",
    "        bins (int): Number of bins for the histogram (default 30).\n",
    "    \"\"\"\n",
    "    plt.figure(figsize=(6, 4))\n",
    "    plt.hist(df[column].dropna(), bins=bins, alpha=0.6, edgecolor='black', density=True)\n",
    "    plt.xlabel(column, fontsize=14)\n",
    "    plt.ylabel('Probability density', fontsize=14)\n",
    "    plt.xticks(fontsize=12)\n",
    "    plt.yticks(fontsize=12)\n",
    "    plt.title(f'Normalized Histogram of {column}', fontsize=18)\n",
    "    plt.show()"
   ]
  },
  {
   "cell_type": "markdown",
   "id": "ccf34a0f",
   "metadata": {},
   "source": [
    "Remember that if you want to actually store the figure for later use — like saving it to a file or modifying it, you can update the function to return the figure object as follows:"
   ]
  },
  {
   "cell_type": "code",
   "execution_count": null,
   "id": "ae6bf2a2",
   "metadata": {},
   "outputs": [],
   "source": [
    "def plot_histogram(df, column, bins=30):\n",
    "    \"\"\"\n",
    "    Plot a normalized histogram for any numeric column in the DataFrame.\n",
    "    \n",
    "    Parameters:\n",
    "        df (pd.DataFrame): The dataset.\n",
    "        column (str): The name of the numeric column to plot.\n",
    "        bins (int): Number of bins for the histogram (default 30).\n",
    "    \"\"\"\n",
    "    fig = plt.figure(figsize=(6, 4))\n",
    "    plt.hist(df[column].dropna(), bins=bins, alpha=0.6, edgecolor='black', density=True)\n",
    "    plt.xlabel(column, fontsize=14)\n",
    "    plt.ylabel('Probability density', fontsize=14)\n",
    "    plt.xticks(fontsize=12)\n",
    "    plt.yticks(fontsize=12)\n",
    "    plt.title(f'Normalized Histogram of {column}', fontsize=18)\n",
    "    plt.show()\n",
    "    return fig"
   ]
  },
  {
   "cell_type": "markdown",
   "id": "4f1542bd",
   "metadata": {},
   "source": [
    "### Functions that return multiple variables\n",
    "\n",
    "So far, we've seen functions that return one value — like a number or a string. But what if you need to return multiple results from a single function?\n",
    "\n",
    "In Python, you can do that easily using tuples (see Module _).  When you return multiple values from a function, Python automatically creates a tuple behind the scenes.\n",
    "\n",
    "🔹 Why would you return multiple values?\n",
    "Sometimes a function does more than one thing and needs to give back multiple pieces of information. For example:\n",
    "\n",
    "Suppose you have a dataset of patients. You want a function that counts how many are adults (age 18 or older) and how many are minors (under 18)."
   ]
  },
  {
   "cell_type": "code",
   "execution_count": null,
   "id": "caf49c87",
   "metadata": {},
   "outputs": [],
   "source": [
    "def count_adults_and_minors(df):\n",
    "    \"\"\"\n",
    "    Count how many patients are adults (age >= 18) and minors (age < 18).\n",
    "    \n",
    "    Parameters:\n",
    "        df (pd.DataFrame): The stroke dataset with an 'age' column.\n",
    "    \n",
    "    Returns:\n",
    "        tuple: (number_of_adults, number_of_minors)\n",
    "    \"\"\"\n",
    "    adults = df[df[\"age\"] >= 18].shape[0]\n",
    "    minors = df[df[\"age\"] < 18].shape[0]\n",
    "    \n",
    "    return adults, minors"
   ]
  },
  {
   "cell_type": "code",
   "execution_count": null,
   "id": "a8e78335",
   "metadata": {},
   "outputs": [],
   "source": [
    "adult_count, minor_count = count_adults_and_minors(stroke_data)"
   ]
  },
  {
   "cell_type": "markdown",
   "id": "e2f909ce",
   "metadata": {},
   "source": [
    "What the function actually returns is the tuple (adults, minors).\n",
    "Python automatically unpacks it into two variables: `adult_count` and `minor_count`.\n",
    "\n",
    "You could assign the tuple to a variable first:"
   ]
  },
  {
   "cell_type": "code",
   "execution_count": null,
   "id": "8e4759c7",
   "metadata": {},
   "outputs": [],
   "source": [
    "result = count_adults_and_minors(stroke_data)\n",
    "print(result)"
   ]
  },
  {
   "cell_type": "markdown",
   "id": "ca61b4b6",
   "metadata": {},
   "source": [
    "Then access the different parts as follows:"
   ]
  },
  {
   "cell_type": "code",
   "execution_count": null,
   "id": "39d67f58",
   "metadata": {},
   "outputs": [],
   "source": [
    "print(result[0])  # adults\n",
    "print(result[1])  # minors"
   ]
  },
  {
   "cell_type": "markdown",
   "id": "e34dad76",
   "metadata": {},
   "source": [
    "But using unpacking (as we did earlier) is cleaner and easier to read.\n",
    "\n",
    "### Quick Practice\n",
    "\n",
    "Write a function that does two things:\n",
    "\n",
    "- Prints the average stroke rate for each smoking status group.\n",
    "\n",
    "- Plots a bar chart to visualize those averages (check Module 5 or official documentation if you've forgotten how to do this!).\n",
    "\n",
    "- Optional: returns the plot object so you can store or save it later.\n",
    "\n",
    "\n",
    "def plot_stroke_by_smoking(df):\n",
    "    \"\"\"\n",
    "    Show average stroke rate by smoking status group.\n",
    "    \n",
    "    Parameters:\n",
    "        df (pd.DataFrame): The stroke dataset.\n",
    "    \n",
    "    Returns:\n",
    "        matplotlib.figure.Figure: The figure object for further use (e.g. saving).\n",
    "    \"\"\"\n",
    "    # Step 1: Group by smoking status and calculate average stroke rate\n",
    "\n",
    "\n",
    "    # Step 2: Print summary\n",
    "\n",
    "\n",
    "    # Step 3: Plot\n",
    "\n",
    "\n",
    "    # Step 4: Return figure\n",
    "\n",
    "    pass\n",
    "    \n",
    "\n",
    "\n",
    "<div style=\"margin-bottom: 15px;\">\n",
    "  <details>\n",
    "    <summary>\n",
    "      <i class=\"fa fa-lightbulb-o\" aria-hidden=\"true\" style=\"color: yellow; font-size: 20px;\"></i> \n",
    "      Hint 1\n",
    "    </summary>\n",
    "    <p style=\"padding-left: 20px;\">\n",
    "    To calculate the average of a column grouped by categories in another column, you can use this pattern:<\\br>\n",
    "    grouped_averages = df.groupby('grouping_column')['value_column'].mean() <\\br>\n",
    "    You’ll get a Series where the index contains each unique group from the grouping column, and the values are the calculated averages for each group from the value column.\n",
    "    </p>\n",
    "  </details>\n",
    "</div>\n",
    "\n",
    "<div style=\"margin-bottom: 15px;\">\n",
    "  <details>\n",
    "    <summary>\n",
    "      <i class=\"fa fa-lightbulb-o\" aria-hidden=\"true\" style=\"color: yellow; font-size: 20px;\"></i> \n",
    "      Hint 2\n",
    "    </summary>\n",
    "    <p style=\"padding-left: 20px;\">\n",
    "    Use plt.bar() or sns.barplot() to create the chart.\n",
    "    </p>\n",
    "  </details>\n",
    "</div>\n",
    "\n",
    "<div style=\"margin-bottom: 15px;\">\n",
    "  <details>\n",
    "    <summary>\n",
    "      <i class=\"fa fa-lightbulb\" aria-hidden=\"true\" style=\"color: yellow; font-size: 20px;\"></i> \n",
    "      Solution\n",
    "    </summary>\n",
    "    <p style=\"padding-left: 20px;\">\n",
    "    <pre><code class=\"python\">\n",
    "def plot_stroke_by_smoking(df):\n",
    "    \"\"\"\n",
    "    Show average stroke rate by smoking status group.\n",
    "    \n",
    "    Parameters:\n",
    "        df (pd.DataFrame): The stroke dataset.\n",
    "    \n",
    "    Returns:\n",
    "        matplotlib.figure.Figure: The figure object for further use (e.g. saving).\n",
    "    \"\"\"\n",
    "    # Step 1: Group by smoking status and calculate average stroke rate\n",
    "    stroke_rates = df.groupby('smoking_status')['stroke'].mean()\n",
    "\n",
    "    # Step 2: Print summary\n",
    "    print(\"Average stroke rate by smoking status:\")\n",
    "    for group, rate in stroke_rates.items():\n",
    "        print(f\"- {group}: {rate:.3f}\")\n",
    "\n",
    "    # Step 3: Plot\n",
    "    fig = plt.figure(figsize=(6, 4))\n",
    "    stroke_rates.plot(kind='bar', color='teal', edgecolor='black')\n",
    "    plt.title(\"Stroke Rate by Smoking Status\")\n",
    "    plt.ylabel(\"Average Stroke Rate\")\n",
    "    plt.xlabel(\"Smoking Status\")\n",
    "    plt.xticks(rotation=45)\n",
    "    plt.tight_layout()\n",
    "    plt.show()\n",
    "\n",
    "    # Step 4: Return figure\n",
    "    return fig\n",
    "    </code></pre>\n",
    "  </details>\n",
    "</div>"
   ]
  }
 ],
 "metadata": {
  "jupytext": {
   "formats": "md:myst",
   "text_representation": {
    "extension": ".md",
    "format_name": "myst",
    "format_version": 0.13,
    "jupytext_version": "1.11.5"
   }
  },
  "kernelspec": {
   "display_name": "Python 3",
   "language": "python",
   "name": "python3"
  },
  "language_info": {
   "codemirror_mode": {
    "name": "ipython",
    "version": 3
   },
   "file_extension": ".py",
   "mimetype": "text/x-python",
   "name": "python",
   "nbconvert_exporter": "python",
   "pygments_lexer": "ipython3",
   "version": "3.13.2"
  },
  "source_map": [
   14,
   21,
   55,
   67,
   72,
   75,
   93,
   111,
   115,
   134,
   147,
   164,
   166,
   173,
   176,
   179,
   182
  ]
 },
 "nbformat": 4,
 "nbformat_minor": 5
}