{
 "cells": [
  {
   "cell_type": "code",
   "execution_count": 1,
   "id": "f0171622",
   "metadata": {
    "tags": [
     "remove-input"
    ]
   },
   "outputs": [],
   "source": [
    "import pandas as pd\n",
    "import numpy as np\n",
    "import matplotlib.pyplot as plt\n",
    "stroke_data = pd.read_csv(\"../data/healthcare-dataset-stroke-data.csv\")"
   ]
  },
  {
   "cell_type": "markdown",
   "id": "3305b0df",
   "metadata": {},
   "source": [
    "# Module 6: Extra (OPTIONAL)\n",
    "\n",
    "\n",
    "<div class=\"alert alert-block alert-success\">\n",
    "<b>Section Objectives:</b><br> \n",
    "- Learn some useful functions we use often.\n",
    "</div>\n",
    "\n",
    "These are some bonus concepts that aren't essential for day-to-day data analysis but are useful to know — and often come up in more advanced tasks and code reading.\n",
    "\n",
    "## Recursion\n",
    "\n",
    "A recursive function is a function that calls itself to solve a problem step by step. Recursion is not commonly used for DataFrame operations, but it helps you understand how some algorithms work.\n",
    "\n",
    "Let’s say we want to calculate a factorial:"
   ]
  },
  {
   "cell_type": "code",
   "execution_count": 2,
   "id": "11242db5",
   "metadata": {},
   "outputs": [],
   "source": [
    "def factorial(n):\n",
    "    if n == 0 or n == 1:\n",
    "        return 1\n",
    "    return n * factorial(n - 1)"
   ]
  },
  {
   "cell_type": "markdown",
   "id": "2afc149b",
   "metadata": {},
   "source": [
    "`factorial(3)` returns `3 * factorial(2)`, which becomes `3 * 2 * factorial(1)`, and so on…\n",
    "\n",
    "\n",
    "```{note}\n",
    "Be careful! Recursive functions must always have a base case (a stopping condition), or they’ll go on forever.\n",
    "```\n",
    "\n",
    "## Anonymous (Lambda) Functions\n",
    "\n",
    "A lambda function is a quick way to define a simple function in one line, without using `def`. It's very useful with `.apply()` in pandas.\n",
    "Let’s label patients with a bmi_status column, based on their BMI:"
   ]
  },
  {
   "cell_type": "code",
   "execution_count": 3,
   "id": "789e937d",
   "metadata": {},
   "outputs": [],
   "source": [
    "stroke_data['bmi_status'] = stroke_data['bmi'].apply(lambda x: 'high' if x > 30 else 'normal')"
   ]
  },
  {
   "cell_type": "markdown",
   "id": "25daad78",
   "metadata": {},
   "source": [
    "This adds a new column with the label 'high' if BMI is over 30, 'normal' if less or equal to 30.\n",
    "The code above is the same as writing the following:"
   ]
  },
  {
   "cell_type": "code",
   "execution_count": 4,
   "id": "af1c750b",
   "metadata": {},
   "outputs": [],
   "source": [
    "def bmi_label(x):\n",
    "    return 'high' if x > 30 else 'normal'\n",
    "\n",
    "stroke_data['bmi_status'] = stroke_data['bmi'].apply(bmi_label)"
   ]
  },
  {
   "cell_type": "markdown",
   "id": "07896186",
   "metadata": {},
   "source": [
    "## Useful Built-in Functions: `map`, `filter`, and `zip`\n",
    "\n",
    "These are functions you can use with lists or Series to quickly transform or filter data.\n",
    "\n",
    "### `map(function, iterable)`\n",
    "\n",
    "Useful to apply a function to every item in a list or Series."
   ]
  },
  {
   "cell_type": "code",
   "execution_count": 5,
   "id": "a36bdb7f",
   "metadata": {},
   "outputs": [],
   "source": [
    "#Example: Let’s get stroke status labels (string) for each patient.\n",
    "stroke_flags = stroke_data['stroke'].map(lambda x: 'Yes' if x == 1 else 'No')"
   ]
  },
  {
   "cell_type": "markdown",
   "id": "6b6a76bb",
   "metadata": {},
   "source": [
    "### `filter(function, iterable)`\n",
    "\n",
    "Filters a list by a condition that returns True."
   ]
  },
  {
   "cell_type": "code",
   "execution_count": 6,
   "id": "0ce1a7a6",
   "metadata": {},
   "outputs": [
    {
     "ename": "NameError",
     "evalue": "name 'stroke_Data' is not defined",
     "output_type": "error",
     "traceback": [
      "\u001b[31m---------------------------------------------------------------------------\u001b[39m",
      "\u001b[31mNameError\u001b[39m                                 Traceback (most recent call last)",
      "\u001b[36mCell\u001b[39m\u001b[36m \u001b[39m\u001b[32mIn[6]\u001b[39m\u001b[32m, line 2\u001b[39m\n\u001b[32m      1\u001b[39m \u001b[38;5;66;03m#Example: Get a list of patient ages 80 or older\u001b[39;00m\n\u001b[32m----> \u001b[39m\u001b[32m2\u001b[39m ages = \u001b[43mstroke_Data\u001b[49m[\u001b[33m'\u001b[39m\u001b[33mage\u001b[39m\u001b[33m'\u001b[39m].tolist()\n\u001b[32m      3\u001b[39m senior_patients = \u001b[38;5;28mlist\u001b[39m(\u001b[38;5;28mfilter\u001b[39m(\u001b[38;5;28;01mlambda\u001b[39;00m x: x >= \u001b[32m80\u001b[39m, ages))\n",
      "\u001b[31mNameError\u001b[39m: name 'stroke_Data' is not defined"
     ]
    }
   ],
   "source": [
    "#Example: Get a list of patient ages 80 or older\n",
    "ages = stroke_Data['age'].tolist()\n",
    "senior_patients = list(filter(lambda x: x >= 80, ages))"
   ]
  },
  {
   "cell_type": "markdown",
   "id": "fda4eda6",
   "metadata": {},
   "source": [
    "### `zip(function, iterable)`\n",
    "\n",
    "Combines two lists into pairs."
   ]
  },
  {
   "cell_type": "code",
   "execution_count": null,
   "id": "42f31cab",
   "metadata": {},
   "outputs": [],
   "source": [
    "#Example: Pair each patient’s ID and age into tuples\n",
    "patient_ids = stroke_data['id'].head(3)\n",
    "ages = stroke_data['age'].head(3)\n",
    "\n",
    "list(zip(patient_ids, ages))"
   ]
  }
 ],
 "metadata": {
  "jupytext": {
   "formats": "md:myst",
   "text_representation": {
    "extension": ".md",
    "format_name": "myst",
    "format_version": 0.13,
    "jupytext_version": "1.11.5"
   }
  },
  "kernelspec": {
   "display_name": "Python 3",
   "language": "python",
   "name": "python3"
  },
  "language_info": {
   "codemirror_mode": {
    "name": "ipython",
    "version": 3
   },
   "file_extension": ".py",
   "mimetype": "text/x-python",
   "name": "python",
   "nbconvert_exporter": "python",
   "pygments_lexer": "ipython3",
   "version": "3.13.2"
  },
  "source_map": [
   14,
   21,
   38,
   43,
   56,
   58,
   63,
   68,
   78,
   81,
   87,
   91,
   97
  ]
 },
 "nbformat": 4,
 "nbformat_minor": 5
}