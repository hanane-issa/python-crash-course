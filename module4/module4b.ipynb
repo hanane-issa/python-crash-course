{
 "cells": [
  {
   "cell_type": "markdown",
   "id": "ec2af05f",
   "metadata": {},
   "source": [
    "# Module 4b: Selecting rows and columns in pandas\n",
    "\n",
    "**In this section you will learn how:**\n",
    "- to select specific rows and columns in a dataframe,\n",
    "- to fill a dataframe with values.\n",
    "\n",
    "Selecting rows and columns in a pandas dataframe follows different rules from accessing elements in NumPy arrays or Python lists. You can do that either by specifying their labels or indices."
   ]
  },
  {
   "cell_type": "code",
   "execution_count": 50,
   "id": "b8fd3351",
   "metadata": {},
   "outputs": [],
   "source": [
    "import pandas as pd\n",
    "import numpy as np\n"
   ]
  },
  {
   "cell_type": "code",
   "execution_count": 51,
   "id": "fb5e4cb1",
   "metadata": {},
   "outputs": [],
   "source": [
    "# load the dataframe from the previous section, method is further explained in module 4d\n",
    "transposed_dict_df = pd.read_csv(\"transposed_dict_df-4a.csv\")"
   ]
  },
  {
   "cell_type": "markdown",
   "id": "bee10c59",
   "metadata": {},
   "source": [
    "### Selection by labels - columns\n",
    "\n",
    "This is one of the main ways to select a single column in a Pandas dataframe by its name: referring to the label as a string character in brackets:"
   ]
  },
  {
   "cell_type": "code",
   "execution_count": 52,
   "id": "acbd2921",
   "metadata": {},
   "outputs": [
    {
     "data": {
      "text/plain": [
       "0    175.00\n",
       "1      1.79\n",
       "2      1.75\n",
       "3      1.63\n",
       "4      1.68\n",
       "5      1.59\n",
       "6      1.90\n",
       "7      1.71\n",
       "8      1.66\n",
       "9      1.78\n",
       "Name: height, dtype: float64"
      ]
     },
     "execution_count": 52,
     "metadata": {},
     "output_type": "execute_result"
    }
   ],
   "source": [
    "# select a single column by name \n",
    "transposed_dict_df[\"height\"]\n"
   ]
  },
  {
   "cell_type": "markdown",
   "id": "ba800345",
   "metadata": {},
   "source": [
    "Now if you want to select multiple columns, you need to put their names in a Python list, that then goes into the dataframe square brackets:"
   ]
  },
  {
   "cell_type": "code",
   "execution_count": 53,
   "id": "66bafe73",
   "metadata": {},
   "outputs": [
    {
     "data": {
      "text/html": [
       "<div>\n",
       "<style scoped>\n",
       "    .dataframe tbody tr th:only-of-type {\n",
       "        vertical-align: middle;\n",
       "    }\n",
       "\n",
       "    .dataframe tbody tr th {\n",
       "        vertical-align: top;\n",
       "    }\n",
       "\n",
       "    .dataframe thead th {\n",
       "        text-align: right;\n",
       "    }\n",
       "</style>\n",
       "<table border=\"1\" class=\"dataframe\">\n",
       "  <thead>\n",
       "    <tr style=\"text-align: right;\">\n",
       "      <th></th>\n",
       "      <th>height</th>\n",
       "      <th>weight</th>\n",
       "    </tr>\n",
       "  </thead>\n",
       "  <tbody>\n",
       "    <tr>\n",
       "      <th>0</th>\n",
       "      <td>175.00</td>\n",
       "      <td>70.9</td>\n",
       "    </tr>\n",
       "    <tr>\n",
       "      <th>1</th>\n",
       "      <td>1.79</td>\n",
       "      <td>103.4</td>\n",
       "    </tr>\n",
       "    <tr>\n",
       "      <th>2</th>\n",
       "      <td>1.75</td>\n",
       "      <td>85.1</td>\n",
       "    </tr>\n",
       "    <tr>\n",
       "      <th>3</th>\n",
       "      <td>1.63</td>\n",
       "      <td>55.9</td>\n",
       "    </tr>\n",
       "    <tr>\n",
       "      <th>4</th>\n",
       "      <td>1.68</td>\n",
       "      <td>50.0</td>\n",
       "    </tr>\n",
       "    <tr>\n",
       "      <th>5</th>\n",
       "      <td>1.59</td>\n",
       "      <td>64.0</td>\n",
       "    </tr>\n",
       "    <tr>\n",
       "      <th>6</th>\n",
       "      <td>1.90</td>\n",
       "      <td>92.9</td>\n",
       "    </tr>\n",
       "    <tr>\n",
       "      <th>7</th>\n",
       "      <td>1.71</td>\n",
       "      <td>75.4</td>\n",
       "    </tr>\n",
       "    <tr>\n",
       "      <th>8</th>\n",
       "      <td>1.66</td>\n",
       "      <td>90.7</td>\n",
       "    </tr>\n",
       "    <tr>\n",
       "      <th>9</th>\n",
       "      <td>1.78</td>\n",
       "      <td>82.3</td>\n",
       "    </tr>\n",
       "  </tbody>\n",
       "</table>\n",
       "</div>"
      ],
      "text/plain": [
       "   height  weight\n",
       "0  175.00    70.9\n",
       "1    1.79   103.4\n",
       "2    1.75    85.1\n",
       "3    1.63    55.9\n",
       "4    1.68    50.0\n",
       "5    1.59    64.0\n",
       "6    1.90    92.9\n",
       "7    1.71    75.4\n",
       "8    1.66    90.7\n",
       "9    1.78    82.3"
      ]
     },
     "execution_count": 53,
     "metadata": {},
     "output_type": "execute_result"
    }
   ],
   "source": [
    "# select multiple columns by name\n",
    "transposed_dict_df[[\"height\", \"weight\"]]"
   ]
  },
  {
   "cell_type": "markdown",
   "id": "e89da624",
   "metadata": {},
   "source": [
    "**Mini-exercise 1**\n",
    "\n",
    "Give names to the rows in `transposed_dict_df` as they used to be - i.e. row 0 gets label \"participant1\" etc. Don't type participant labels manually, automate it."
   ]
  },
  {
   "cell_type": "code",
   "execution_count": null,
   "id": "6542baea",
   "metadata": {},
   "outputs": [],
   "source": [
    "# your code goes here"
   ]
  },
  {
   "cell_type": "markdown",
   "id": "7d44bec7",
   "metadata": {},
   "source": [
    "<details>\n",
    "  <summary>\n",
    "    💡 <strong>Solution</strong>\n",
    "  </summary>\n",
    "\n",
    "One of the possible ways to achieve this result:\n",
    "\n",
    "```python\n",
    "participant_labels = []\n",
    "n_rows = transposed_dict_df.shape[0]\n",
    "for i in range(0, n_rows):\n",
    "    label = \"participant\"+str(i+1)\n",
    "    participant_labels.append(label)\n",
    "transposed_dict_df.index = participant_labels\n",
    "```\n",
    "\n",
    "</details>"
   ]
  },
  {
   "cell_type": "markdown",
   "id": "75aeddeb",
   "metadata": {},
   "source": [
    "### Selection by labels - rows"
   ]
  },
  {
   "cell_type": "markdown",
   "id": "20c0d14a",
   "metadata": {},
   "source": [
    "Let us reuse the dataframe that you updated in the exercise above. To select a row by its label, you need to use `.loc`:"
   ]
  },
  {
   "cell_type": "code",
   "execution_count": null,
   "id": "4297b9b6",
   "metadata": {},
   "outputs": [
    {
     "name": "stdout",
     "output_type": "stream",
     "text": [
      "Single row selection\n",
      "gender                      female\n",
      "age                             25\n",
      "height                       175.0\n",
      "weight                        70.9\n",
      "smoking                      False\n",
      "diseases    ('Asthma', 'Diabetes')\n",
      "Name: participant1, dtype: object\n",
      "------\n",
      "Multiple row selection\n"
     ]
    },
    {
     "data": {
      "text/html": [
       "<div>\n",
       "<style scoped>\n",
       "    .dataframe tbody tr th:only-of-type {\n",
       "        vertical-align: middle;\n",
       "    }\n",
       "\n",
       "    .dataframe tbody tr th {\n",
       "        vertical-align: top;\n",
       "    }\n",
       "\n",
       "    .dataframe thead th {\n",
       "        text-align: right;\n",
       "    }\n",
       "</style>\n",
       "<table border=\"1\" class=\"dataframe\">\n",
       "  <thead>\n",
       "    <tr style=\"text-align: right;\">\n",
       "      <th></th>\n",
       "      <th>gender</th>\n",
       "      <th>age</th>\n",
       "      <th>height</th>\n",
       "      <th>weight</th>\n",
       "      <th>smoking</th>\n",
       "      <th>diseases</th>\n",
       "    </tr>\n",
       "  </thead>\n",
       "  <tbody>\n",
       "    <tr>\n",
       "      <th>participant1</th>\n",
       "      <td>female</td>\n",
       "      <td>25</td>\n",
       "      <td>175.00</td>\n",
       "      <td>70.9</td>\n",
       "      <td>False</td>\n",
       "      <td>('Asthma', 'Diabetes')</td>\n",
       "    </tr>\n",
       "    <tr>\n",
       "      <th>participant8</th>\n",
       "      <td>male</td>\n",
       "      <td>46</td>\n",
       "      <td>1.71</td>\n",
       "      <td>75.4</td>\n",
       "      <td>False</td>\n",
       "      <td>()</td>\n",
       "    </tr>\n",
       "  </tbody>\n",
       "</table>\n",
       "</div>"
      ],
      "text/plain": [
       "              gender  age  height  weight  smoking                diseases\n",
       "participant1  female   25  175.00    70.9    False  ('Asthma', 'Diabetes')\n",
       "participant8    male   46    1.71    75.4    False                      ()"
      ]
     },
     "execution_count": 56,
     "metadata": {},
     "output_type": "execute_result"
    }
   ],
   "source": [
    "# selecting a single row\n",
    "print(\"Single row selection\")\n",
    "print(transposed_dict_df.loc[\"participant1\"])\n",
    "print(\"------\")\n",
    "print(\"Multiple row selection\")\n",
    "# selecting multiple rows - you need to put the labels in a list \n",
    "# like in multiple column selection previously\n",
    "transposed_dict_df.loc[[\"participant1\", \"participant8\"]]"
   ]
  },
  {
   "cell_type": "markdown",
   "id": "db95a28c",
   "metadata": {},
   "source": [
    "### Selecting both rows and columns by label\n",
    "\n",
    "If you want to select rows and columns by label together, you need to specify rows with `.loc` first and then in the next brackets list desired columns."
   ]
  },
  {
   "cell_type": "code",
   "execution_count": 57,
   "id": "4daf4180",
   "metadata": {},
   "outputs": [
    {
     "name": "stdout",
     "output_type": "stream",
     "text": [
      "75.4\n"
     ]
    }
   ],
   "source": [
    "# single row and single column\n",
    "print(transposed_dict_df.loc[\"participant8\"][\"weight\"])"
   ]
  },
  {
   "cell_type": "markdown",
   "id": "7dc7d503",
   "metadata": {},
   "source": [
    "**Mini-exercise 2**\n",
    "\n",
    "Select smoking and diseases data for participants 5 and 9 in one line using labels."
   ]
  },
  {
   "cell_type": "code",
   "execution_count": 58,
   "id": "f9e21b0e",
   "metadata": {},
   "outputs": [],
   "source": [
    "# your code goes here"
   ]
  },
  {
   "cell_type": "markdown",
   "id": "7aa21065",
   "metadata": {},
   "source": [
    "<details>\n",
    "  <summary>\n",
    "    💡 <strong>Solution</strong>\n",
    "  </summary>\n",
    "\n",
    "One of the possible ways to achieve this result:\n",
    "\n",
    "```python\n",
    "print(transposed_dict_df.loc[[\"participant5\", \"participant9\"]][[\"smoking\", \"diseases\"]])\n",
    "```\n",
    "\n",
    "</details>\n"
   ]
  },
  {
   "cell_type": "markdown",
   "id": "5b2c260b",
   "metadata": {},
   "source": [
    "### Selecting values by their integer position\n",
    "\n",
    "If you don't want to use labels, row and column selection can be done with indices - you need to use `.iloc[.., ..]` for this. For example, to access diseases (column 5) present in participant 3 (row 2), you need to type `transposed_dict_df.iloc[2, 5]`. Pandas dataframes also use 0-based indexing, slicing rules are very similar to NumPy arrays. "
   ]
  },
  {
   "cell_type": "code",
   "execution_count": 59,
   "id": "54bcab7e",
   "metadata": {},
   "outputs": [
    {
     "name": "stdout",
     "output_type": "stream",
     "text": [
      "Single value\n",
      "('Lung cancer',)\n",
      "----\n",
      "Range\n",
      "              weight  smoking\n",
      "participant3    85.1     True\n",
      "participant4    55.9    False\n",
      "participant5    50.0    False\n",
      "participant6    64.0     True\n",
      "participant7    92.9    False\n",
      "----\n",
      "Specific values\n",
      "              gender  age  height\n",
      "participant1  female   25  175.00\n",
      "participant6  female   32    1.59\n",
      "participant8    male   46    1.71\n",
      "----\n",
      "Entire row\n",
      "gender                  male\n",
      "age                       18\n",
      "height                  1.75\n",
      "weight                  85.1\n",
      "smoking                 True\n",
      "diseases    ('Lung cancer',)\n",
      "Name: participant3, dtype: object\n",
      "----\n",
      "Entire column\n",
      "participant1     female\n",
      "participant2       male\n",
      "participant3       male\n",
      "participant4     female\n",
      "participant5     female\n",
      "participant6     female\n",
      "participant7       male\n",
      "participant8       male\n",
      "participant9     female\n",
      "participant10      male\n",
      "Name: gender, dtype: object\n"
     ]
    }
   ],
   "source": [
    "# selecting a single value\n",
    "print(\"Single value\")\n",
    "print(transposed_dict_df.iloc[2, 5])\n",
    "print(\"----\")\n",
    "print(\"Range\")\n",
    "# select a range (the end position 7, 5 are not included in the selected range)\n",
    "print(transposed_dict_df.iloc[2:7, 3:5])\n",
    "print(\"----\")\n",
    "print(\"Specific values\")\n",
    "# selecting multiple specific values - provide indexes in a list\n",
    "print(transposed_dict_df.iloc[[0, 5, 7], [0, 1, 2]])\n",
    "print(\"----\")\n",
    "print(\"Entire row\")\n",
    "# select the entire row\n",
    "print(transposed_dict_df.iloc[2, :])\n",
    "print(\"----\")\n",
    "print(\"Entire column\")\n",
    "# select the entire column\n",
    "print(transposed_dict_df.iloc[:, 0])\n",
    "\n"
   ]
  },
  {
   "cell_type": "markdown",
   "id": "f48fc824",
   "metadata": {},
   "source": [
    "### Filling out values in a datafame\n",
    "Sometimes you might want to change values in a dataframe. Here are some examples for how to do it for a single value or larger data structures:"
   ]
  },
  {
   "cell_type": "code",
   "execution_count": 60,
   "id": "02d1b91f",
   "metadata": {},
   "outputs": [
    {
     "data": {
      "text/html": [
       "<div>\n",
       "<style scoped>\n",
       "    .dataframe tbody tr th:only-of-type {\n",
       "        vertical-align: middle;\n",
       "    }\n",
       "\n",
       "    .dataframe tbody tr th {\n",
       "        vertical-align: top;\n",
       "    }\n",
       "\n",
       "    .dataframe thead th {\n",
       "        text-align: right;\n",
       "    }\n",
       "</style>\n",
       "<table border=\"1\" class=\"dataframe\">\n",
       "  <thead>\n",
       "    <tr style=\"text-align: right;\">\n",
       "      <th></th>\n",
       "      <th>gender</th>\n",
       "      <th>age</th>\n",
       "      <th>height</th>\n",
       "    </tr>\n",
       "  </thead>\n",
       "  <tbody>\n",
       "    <tr>\n",
       "      <th>participant1</th>\n",
       "      <td>NaN</td>\n",
       "      <td>NaN</td>\n",
       "      <td>NaN</td>\n",
       "    </tr>\n",
       "    <tr>\n",
       "      <th>participant6</th>\n",
       "      <td>NaN</td>\n",
       "      <td>NaN</td>\n",
       "      <td>NaN</td>\n",
       "    </tr>\n",
       "    <tr>\n",
       "      <th>participant8</th>\n",
       "      <td>NaN</td>\n",
       "      <td>NaN</td>\n",
       "      <td>NaN</td>\n",
       "    </tr>\n",
       "  </tbody>\n",
       "</table>\n",
       "</div>"
      ],
      "text/plain": [
       "             gender  age  height\n",
       "participant1    NaN  NaN     NaN\n",
       "participant6    NaN  NaN     NaN\n",
       "participant8    NaN  NaN     NaN"
      ]
     },
     "execution_count": 60,
     "metadata": {},
     "output_type": "execute_result"
    }
   ],
   "source": [
    "transposed_dict_df.iloc[[0, 5, 7], [0, 1, 2]] = np.nan # insert a null value\n",
    "\n",
    "transposed_dict_df.iloc[[0, 5, 7], [0, 1, 2]]"
   ]
  },
  {
   "cell_type": "code",
   "execution_count": 61,
   "id": "e48c6164",
   "metadata": {},
   "outputs": [
    {
     "data": {
      "text/html": [
       "<div>\n",
       "<style scoped>\n",
       "    .dataframe tbody tr th:only-of-type {\n",
       "        vertical-align: middle;\n",
       "    }\n",
       "\n",
       "    .dataframe tbody tr th {\n",
       "        vertical-align: top;\n",
       "    }\n",
       "\n",
       "    .dataframe thead th {\n",
       "        text-align: right;\n",
       "    }\n",
       "</style>\n",
       "<table border=\"1\" class=\"dataframe\">\n",
       "  <thead>\n",
       "    <tr style=\"text-align: right;\">\n",
       "      <th></th>\n",
       "      <th>height</th>\n",
       "      <th>weight</th>\n",
       "    </tr>\n",
       "  </thead>\n",
       "  <tbody>\n",
       "    <tr>\n",
       "      <th>participant2</th>\n",
       "      <td>1.88</td>\n",
       "      <td>50.0</td>\n",
       "    </tr>\n",
       "    <tr>\n",
       "      <th>participant3</th>\n",
       "      <td>1.65</td>\n",
       "      <td>73.0</td>\n",
       "    </tr>\n",
       "    <tr>\n",
       "      <th>participant4</th>\n",
       "      <td>1.72</td>\n",
       "      <td>87.0</td>\n",
       "    </tr>\n",
       "  </tbody>\n",
       "</table>\n",
       "</div>"
      ],
      "text/plain": [
       "              height  weight\n",
       "participant2    1.88    50.0\n",
       "participant3    1.65    73.0\n",
       "participant4    1.72    87.0"
      ]
     },
     "execution_count": 61,
     "metadata": {},
     "output_type": "execute_result"
    }
   ],
   "source": [
    "# can fill out the range of values with a numpy array, Python lists or a Pandas dataframe\n",
    "\n",
    "revised_weight_height = np.array([[1.88, 1.65, 1.72], [50, 73, 87]])\n",
    "\n",
    "transposed_dict_df.iloc[[1, 2, 3], [2, 3]] = revised_weight_height.T\n",
    "\n",
    "transposed_dict_df.iloc[[1, 2, 3], [2, 3]]"
   ]
  },
  {
   "cell_type": "markdown",
   "id": "68e8d69d",
   "metadata": {},
   "source": [
    "**Mini-exercise 3**\n",
    "\n",
    "Participant 1 has their height recorded in centimeters in `transposed_dict_df`. Change it to meters and update the dataframe."
   ]
  },
  {
   "cell_type": "code",
   "execution_count": 62,
   "id": "4cb7d43c",
   "metadata": {},
   "outputs": [],
   "source": [
    "# your code goes here"
   ]
  },
  {
   "cell_type": "markdown",
   "id": "bac3476c",
   "metadata": {},
   "source": [
    "<details>\n",
    "  <summary>\n",
    "    💡 <strong>Solution</strong>\n",
    "  </summary>\n",
    "\n",
    "One of the possible ways to achieve this result:\n",
    "\n",
    "```python\n",
    "transposed_dict_df.loc[\"participant1\"][[\"height\"]] = 1.75\n",
    "```\n",
    "\n",
    "</details>\n",
    "\n"
   ]
  },
  {
   "cell_type": "markdown",
   "id": "6b9119ad",
   "metadata": {},
   "source": [
    "Save the dataframe to work on it in the next section. The method `.to_csv` will be explained in more detail in module 4d."
   ]
  },
  {
   "cell_type": "code",
   "execution_count": 64,
   "id": "5c31657b",
   "metadata": {},
   "outputs": [],
   "source": [
    "transposed_dict_df.to_csv(\"transposed_dict_df-4b.csv\")"
   ]
  }
 ],
 "metadata": {
  "kernelspec": {
   "display_name": "PhD",
   "language": "python",
   "name": "python3"
  },
  "language_info": {
   "codemirror_mode": {
    "name": "ipython",
    "version": 3
   },
   "file_extension": ".py",
   "mimetype": "text/x-python",
   "name": "python",
   "nbconvert_exporter": "python",
   "pygments_lexer": "ipython3",
   "version": "3.12.2"
  }
 },
 "nbformat": 4,
 "nbformat_minor": 5
}
