{
 "cells": [
  {
   "cell_type": "markdown",
   "id": "7d20ca45",
   "metadata": {},
   "source": [
    "# Module 4: Introduction to pandas\n",
    "\n",
    "**In this module you will learn how:**\n",
    "- to create a pandas dataframe,\n",
    "- to assign labels to columns and rows,\n",
    "- to select specific rows and columns in a dataframe,\n",
    "- to load tab- or coma-separated files into a pandas dataframe,\n",
    "- to save a dataframe,\n",
    "- to do exploratory data analysis in pandas,\n",
    "- to add new rows, columns and dataframes to an existing dataframe,\n",
    "- to filter dataframes according to criteria,\n",
    "- missing data can be handled.\n",
    "\n",
    "\n",
    "pandas is a popular and versatile Python library for the manipulation of tabular or other types of two-dimensional data. You can find its full documentation [here](https://pandas.pydata.org/docs/index.html). The module aims to cover the basic functionalities of the library.\n",
    "\n",
    "\n",
    "You have not installed pandas yet, just run this command in terminal:"
   ]
  },
  {
   "cell_type": "markdown",
   "id": "403a4921",
   "metadata": {},
   "source": [
    "```bash\n",
    "pip install pandas\n",
    "```"
   ]
  },
  {
   "cell_type": "markdown",
   "id": "6e911897",
   "metadata": {},
   "source": []
  }
 ],
 "metadata": {
  "language_info": {
   "name": "python"
  }
 },
 "nbformat": 4,
 "nbformat_minor": 5
}
