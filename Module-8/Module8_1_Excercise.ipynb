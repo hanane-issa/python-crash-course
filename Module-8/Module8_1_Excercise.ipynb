{
 "cells": [
  {
   "cell_type": "markdown",
   "id": "3d32cade",
   "metadata": {},
   "source": [
    "# M8: Heart disease dataset\n",
    "\n",
    "You have made it to the last module! Through out the course you have gone over the fundamental knowledge and packages in python that you need to be able to use it for bioinformatics. The goal of this module is to help you commeorate what you have learned. We will use a new dataset that you will have to analyse and investigate. We will give you different excercise with the goal that you complete them on your own without much external help. If you are stuck, first try to give it a good effort on you own. If that does not help, you can go back to the earlier modules to refresh your mind, and if that is not enough use google or the solution sheet to look it up."
   ]
  },
  {
   "cell_type": "markdown",
   "id": "1cce2fd0",
   "metadata": {},
   "source": [
    "## Inital exploration"
   ]
  },
  {
   "cell_type": "markdown",
   "id": "05807302",
   "metadata": {},
   "source": [
    "The dataset that we will be using is the heart disease dataset from UC Irvine Machine Learning Repository: https://archive.ics.uci.edu/dataset/45/heart+disease\n",
    "\n",
    "This dataset is provided for a machine learning problem: based on the given features for a patient one wants to predict whether they have been diagnosed with heart disease (the target value). While creating such a model is out of the scope of this course, you will carry out inital analyses on the dataset to familiarise yourself with what the data shows/contains. This is exploration analyses are often needed no matter whether you are interested to then use the gained information to develop the machine learning model or for something else.\n",
    "\n",
    "Excercise 1: Take a few minutes to read through the website and familarise yourself with the dataset and what it contains."
   ]
  },
  {
   "cell_type": "markdown",
   "id": "695f6507",
   "metadata": {},
   "source": [
    "Great now that you have looked at the description, lets dive into the dataset. Don't worry if you did not understand everything, once you have familarised yourself with the data it will hopefully all become clearer.\n",
    "\n",
    "At the top right of the website there is a button that says 'IMPORT IN PYTHON'. When you click this it will tell you what package you need to install and how to get the data from it.\n",
    "\n",
    "Excercise 2: install the package (in any of the ways you have learned) and import it"
   ]
  },
  {
   "cell_type": "markdown",
   "id": "56fc368d",
   "metadata": {},
   "source": [
    "```{dropdown}\n",
    "\n",
    "{admonition}\n",
    ":class: tip\n",
    "\n",
    "For the first part of excercises you mainly have to follow the example code given from the website. Going slowly through the inital code helps you to first explore and understand what is given to you and how to use it."
   ]
  },
  {
   "cell_type": "code",
   "execution_count": null,
   "id": "2cda99fb",
   "metadata": {},
   "outputs": [],
   "source": [
    "# Your code goes here"
   ]
  },
  {
   "cell_type": "markdown",
   "id": "d8f8ec46",
   "metadata": {},
   "source": [
    "Excercise 3: define an instance of the heart diseases dataset from the fetch_ucirepo object. Check what its type is"
   ]
  },
  {
   "cell_type": "code",
   "execution_count": null,
   "id": "c1a8d492",
   "metadata": {},
   "outputs": [],
   "source": [
    "# Your code goes here"
   ]
  },
  {
   "cell_type": "markdown",
   "id": "df74ef47",
   "metadata": {},
   "source": [
    "Excercise 4: print the metadata information about the dataset. Try to find the answers for the following questions:\n",
    "- How many data points / patients do we have and how many features?\n",
    "- What are the names of the demographic features? \n",
    "- What is the target value called?\n",
    "- Are there any missing values in the dataset and if yes how can they be identified?"
   ]
  },
  {
   "cell_type": "code",
   "execution_count": null,
   "id": "c503a026",
   "metadata": {},
   "outputs": [],
   "source": [
    "# Your code goes here"
   ]
  },
  {
   "cell_type": "markdown",
   "id": "933adb93",
   "metadata": {},
   "source": [
    "Excercise 5: print the variable information for the dataset. Try to find the answers for the following questions:\n",
    "- which variables have missing values?\n",
    "- what is the unit of 'resting blood pressure'?\n",
    "- how many categorial variables are there?\n"
   ]
  },
  {
   "cell_type": "code",
   "execution_count": null,
   "id": "619bf4dd",
   "metadata": {},
   "outputs": [],
   "source": [
    "# Your code goes here"
   ]
  },
  {
   "cell_type": "markdown",
   "id": "83e44d9f",
   "metadata": {},
   "source": [
    "Excercise 6: extract the feature and target values into two different variables. Print each of them. Do the number of rows and columns make sense to them? Are you able to understand what information they contain based on our metdata exploration? If not take another look at the website, metadata, and variable information.\n",
    "\n",
    "Then import the pandas library. Combine the feature and target values into a single pandas dataframe, such that each row is a patient, and each column a feature + the last column being the target value. Display the first five rows."
   ]
  },
  {
   "cell_type": "markdown",
   "id": "5336ee56",
   "metadata": {},
   "source": [
    "```{dropdown}\n",
    "\n",
    "{admonition}\n",
    ":class: tip\n",
    "\n",
    "If you unsure how to best combine the feature and targets with each other, first check their type. You will see they are already both pandas framework. So you need to use the pandas command to combine two frameworks such that you get the required layout (it should be one line of code).\n",
    "\n",
    "If you unsure how to best manipulate the data you have, the first step is always to check its type to get a better understanding of what is even possible."
   ]
  },
  {
   "cell_type": "code",
   "execution_count": null,
   "id": "528a43b1",
   "metadata": {},
   "outputs": [],
   "source": [
    "# Your code goes here"
   ]
  },
  {
   "cell_type": "markdown",
   "id": "e70ab106",
   "metadata": {},
   "source": [
    "# Data cleaning"
   ]
  },
  {
   "cell_type": "markdown",
   "id": "f3241175",
   "metadata": {},
   "source": [
    "Now that we have everything in one clear dataframe, we need to make sure that our data is nicely tidied up before analyising it. \n",
    "\n",
    "Lets start with missing values, we already know from the metadata, that 'ca' and 'thal' have some missing values.\n",
    "\n",
    "Excercise 7: To make a decision about how to handle missing values, we first must understand in more detail. Print the following information for 'ca' and 'thal':\n",
    "- the full collumn of values\n",
    "- how often each of them contains a 'NaN' value.\n",
    "- the number of unique values in the column and what they are\n",
    "- The type of the feature (use the variable information dataframe)"
   ]
  },
  {
   "cell_type": "code",
   "execution_count": null,
   "id": "66ac8702",
   "metadata": {},
   "outputs": [],
   "source": [
    "# Your code goes here"
   ]
  },
  {
   "cell_type": "markdown",
   "id": "28e24334",
   "metadata": {},
   "source": [
    "You should be able to see that 'ca' are integer values and 'thal' categorial values, each having 4 or 3 different unique values respectively (excl NaN value). Thus, it wouldn't make sense to take the average here to replace the NaN value. What we can do instead is remove patients with incomplete NaN values\n",
    "\n",
    "Excercise 8: remove patients/rows which have any NaN values. Print the number of NaN values for each column to make sure you did not miss any. Print the shape of the dataframe and double check whether the number of removed rows makes sense. Make sure to reset the indexing of the rows after dropping them."
   ]
  },
  {
   "cell_type": "code",
   "execution_count": null,
   "id": "8bdad782",
   "metadata": {},
   "outputs": [],
   "source": [
    "# Your code goes here"
   ]
  },
  {
   "cell_type": "markdown",
   "id": "92ec4b6b",
   "metadata": {},
   "source": [
    "Excercise 9: Check that none of the columns / rows are doublicates of each other"
   ]
  },
  {
   "cell_type": "code",
   "execution_count": null,
   "id": "a6f969fb",
   "metadata": {},
   "outputs": [],
   "source": [
    "# Your code goes here"
   ]
  },
  {
   "cell_type": "markdown",
   "id": "adfc3dc5",
   "metadata": {},
   "source": [
    "As a last step we want to make sure that the target variable ('num') is in the form we want it to be. According to the website it should be able to take 5 different values: 0,1,2,3,4. 0 means no heart disease and the other 4 are different categories of the heart disease being present. \n",
    "\n",
    "Exercise 10: Check the type of 'num' and its unique values as before, to make sure the data is as descriped. Add a new column at the end of the df called 'heart_diseases_binary'. For each row, the entry is 0 if 'num' is 0 and 1 other else. Use a lambda function to accomplish this. Print the final data frame."
   ]
  },
  {
   "cell_type": "code",
   "execution_count": null,
   "id": "fb6e15ff",
   "metadata": {},
   "outputs": [],
   "source": [
    "# Your code goes here"
   ]
  },
  {
   "cell_type": "markdown",
   "id": "b890f8b6",
   "metadata": {},
   "source": [
    "## Exploartory analyses"
   ]
  }
 ],
 "metadata": {
  "kernelspec": {
   "display_name": "jupyter_course_venv",
   "language": "python",
   "name": "python3"
  },
  "language_info": {
   "name": "python",
   "version": "3.13.2"
  }
 },
 "nbformat": 4,
 "nbformat_minor": 5
}
