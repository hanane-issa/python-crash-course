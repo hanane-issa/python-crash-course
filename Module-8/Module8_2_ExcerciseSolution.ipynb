{
 "cells": [
  {
   "cell_type": "markdown",
   "id": "a6895c14",
   "metadata": {},
   "source": [
    "# M8: Excercise Solutions"
   ]
  },
  {
   "cell_type": "markdown",
   "id": "05589bd0",
   "metadata": {},
   "source": [
    "## Excercise 1\n",
    "\n",
    "The website describes that 14 out of 75 attributes of patients are being used for the classification task (determining whether the patient has a heart disease or not). 13 out of 14 of these values are features and the 14th is the target value. A description of each of them can be seen in the variables table."
   ]
  },
  {
   "cell_type": "markdown",
   "id": "17c12db9",
   "metadata": {},
   "source": [
    "## Excercise 2"
   ]
  },
  {
   "cell_type": "code",
   "execution_count": 41,
   "id": "f22f5b9f",
   "metadata": {},
   "outputs": [
    {
     "name": "stdout",
     "output_type": "stream",
     "text": [
      "Requirement already satisfied: ucimlrepo in /home/melina/anaconda3/envs/jupyter_course_venv/lib/python3.13/site-packages (0.0.7)\n",
      "Requirement already satisfied: pandas>=1.0.0 in /home/melina/anaconda3/envs/jupyter_course_venv/lib/python3.13/site-packages (from ucimlrepo) (2.2.3)\n",
      "Requirement already satisfied: certifi>=2020.12.5 in /home/melina/anaconda3/envs/jupyter_course_venv/lib/python3.13/site-packages (from ucimlrepo) (2025.1.31)\n",
      "Requirement already satisfied: numpy>=1.26.0 in /home/melina/anaconda3/envs/jupyter_course_venv/lib/python3.13/site-packages (from pandas>=1.0.0->ucimlrepo) (2.2.6)\n",
      "Requirement already satisfied: python-dateutil>=2.8.2 in /home/melina/anaconda3/envs/jupyter_course_venv/lib/python3.13/site-packages (from pandas>=1.0.0->ucimlrepo) (2.9.0.post0)\n",
      "Requirement already satisfied: pytz>=2020.1 in /home/melina/anaconda3/envs/jupyter_course_venv/lib/python3.13/site-packages (from pandas>=1.0.0->ucimlrepo) (2025.2)\n",
      "Requirement already satisfied: tzdata>=2022.7 in /home/melina/anaconda3/envs/jupyter_course_venv/lib/python3.13/site-packages (from pandas>=1.0.0->ucimlrepo) (2025.2)\n",
      "Requirement already satisfied: six>=1.5 in /home/melina/anaconda3/envs/jupyter_course_venv/lib/python3.13/site-packages (from python-dateutil>=2.8.2->pandas>=1.0.0->ucimlrepo) (1.17.0)\n"
     ]
    }
   ],
   "source": [
    "# install the library using a shell command - you could also use the terminal\n",
    "!pip install ucimlrepo\n",
    "\n",
    "# import the library\n",
    "from ucimlrepo import fetch_ucirepo"
   ]
  },
  {
   "cell_type": "markdown",
   "id": "cb1bb7f2",
   "metadata": {},
   "source": [
    "## Excercise 3"
   ]
  },
  {
   "cell_type": "code",
   "execution_count": 42,
   "id": "2f2f97b5",
   "metadata": {},
   "outputs": [
    {
     "name": "stdout",
     "output_type": "stream",
     "text": [
      "<class 'ucimlrepo.dotdict.dotdict'>\n"
     ]
    }
   ],
   "source": [
    "# fetch dataset \n",
    "heart_disease = fetch_ucirepo(id=45) \n",
    "# print the type of the instance\n",
    "print(type(heart_disease))"
   ]
  },
  {
   "cell_type": "markdown",
   "id": "3f6498b3",
   "metadata": {},
   "source": [
    "## Excercise 4"
   ]
  },
  {
   "cell_type": "code",
   "execution_count": 43,
   "id": "4b7f68d1",
   "metadata": {},
   "outputs": [
    {
     "name": "stdout",
     "output_type": "stream",
     "text": [
      "{'uci_id': 45, 'name': 'Heart Disease', 'repository_url': 'https://archive.ics.uci.edu/dataset/45/heart+disease', 'data_url': 'https://archive.ics.uci.edu/static/public/45/data.csv', 'abstract': '4 databases: Cleveland, Hungary, Switzerland, and the VA Long Beach', 'area': 'Health and Medicine', 'tasks': ['Classification'], 'characteristics': ['Multivariate'], 'num_instances': 303, 'num_features': 13, 'feature_types': ['Categorical', 'Integer', 'Real'], 'demographics': ['Age', 'Sex'], 'target_col': ['num'], 'index_col': None, 'has_missing_values': 'yes', 'missing_values_symbol': 'NaN', 'year_of_dataset_creation': 1989, 'last_updated': 'Fri Nov 03 2023', 'dataset_doi': '10.24432/C52P4X', 'creators': ['Andras Janosi', 'William Steinbrunn', 'Matthias Pfisterer', 'Robert Detrano'], 'intro_paper': {'ID': 231, 'type': 'NATIVE', 'title': 'International application of a new probability algorithm for the diagnosis of coronary artery disease.', 'authors': 'R. Detrano, A. Jánosi, W. Steinbrunn, M. Pfisterer, J. Schmid, S. Sandhu, K. Guppy, S. Lee, V. Froelicher', 'venue': 'American Journal of Cardiology', 'year': 1989, 'journal': None, 'DOI': None, 'URL': 'https://www.semanticscholar.org/paper/a7d714f8f87bfc41351eb5ae1e5472f0ebbe0574', 'sha': None, 'corpus': None, 'arxiv': None, 'mag': None, 'acl': None, 'pmid': '2756873', 'pmcid': None}, 'additional_info': {'summary': 'This database contains 76 attributes, but all published experiments refer to using a subset of 14 of them.  In particular, the Cleveland database is the only one that has been used by ML researchers to date.  The \"goal\" field refers to the presence of heart disease in the patient.  It is integer valued from 0 (no presence) to 4. Experiments with the Cleveland database have concentrated on simply attempting to distinguish presence (values 1,2,3,4) from absence (value 0).  \\n   \\nThe names and social security numbers of the patients were recently removed from the database, replaced with dummy values.\\n\\nOne file has been \"processed\", that one containing the Cleveland database.  All four unprocessed files also exist in this directory.\\n\\nTo see Test Costs (donated by Peter Turney), please see the folder \"Costs\" ', 'purpose': None, 'funded_by': None, 'instances_represent': None, 'recommended_data_splits': None, 'sensitive_data': None, 'preprocessing_description': None, 'variable_info': 'Only 14 attributes used:\\r\\n      1. #3  (age)       \\r\\n      2. #4  (sex)       \\r\\n      3. #9  (cp)        \\r\\n      4. #10 (trestbps)  \\r\\n      5. #12 (chol)      \\r\\n      6. #16 (fbs)       \\r\\n      7. #19 (restecg)   \\r\\n      8. #32 (thalach)   \\r\\n      9. #38 (exang)     \\r\\n      10. #40 (oldpeak)   \\r\\n      11. #41 (slope)     \\r\\n      12. #44 (ca)        \\r\\n      13. #51 (thal)      \\r\\n      14. #58 (num)       (the predicted attribute)\\r\\n\\r\\nComplete attribute documentation:\\r\\n      1 id: patient identification number\\r\\n      2 ccf: social security number (I replaced this with a dummy value of 0)\\r\\n      3 age: age in years\\r\\n      4 sex: sex (1 = male; 0 = female)\\r\\n      5 painloc: chest pain location (1 = substernal; 0 = otherwise)\\r\\n      6 painexer (1 = provoked by exertion; 0 = otherwise)\\r\\n      7 relrest (1 = relieved after rest; 0 = otherwise)\\r\\n      8 pncaden (sum of 5, 6, and 7)\\r\\n      9 cp: chest pain type\\r\\n        -- Value 1: typical angina\\r\\n        -- Value 2: atypical angina\\r\\n        -- Value 3: non-anginal pain\\r\\n        -- Value 4: asymptomatic\\r\\n     10 trestbps: resting blood pressure (in mm Hg on admission to the hospital)\\r\\n     11 htn\\r\\n     12 chol: serum cholestoral in mg/dl\\r\\n     13 smoke: I believe this is 1 = yes; 0 = no (is or is not a smoker)\\r\\n     14 cigs (cigarettes per day)\\r\\n     15 years (number of years as a smoker)\\r\\n     16 fbs: (fasting blood sugar > 120 mg/dl)  (1 = true; 0 = false)\\r\\n     17 dm (1 = history of diabetes; 0 = no such history)\\r\\n     18 famhist: family history of coronary artery disease (1 = yes; 0 = no)\\r\\n     19 restecg: resting electrocardiographic results\\r\\n        -- Value 0: normal\\r\\n        -- Value 1: having ST-T wave abnormality (T wave inversions and/or ST elevation or depression of > 0.05 mV)\\r\\n        -- Value 2: showing probable or definite left ventricular hypertrophy by Estes\\' criteria\\r\\n     20 ekgmo (month of exercise ECG reading)\\r\\n     21 ekgday(day of exercise ECG reading)\\r\\n     22 ekgyr (year of exercise ECG reading)\\r\\n     23 dig (digitalis used furing exercise ECG: 1 = yes; 0 = no)\\r\\n     24 prop (Beta blocker used during exercise ECG: 1 = yes; 0 = no)\\r\\n     25 nitr (nitrates used during exercise ECG: 1 = yes; 0 = no)\\r\\n     26 pro (calcium channel blocker used during exercise ECG: 1 = yes; 0 = no)\\r\\n     27 diuretic (diuretic used used during exercise ECG: 1 = yes; 0 = no)\\r\\n     28 proto: exercise protocol\\r\\n          1 = Bruce     \\r\\n          2 = Kottus\\r\\n          3 = McHenry\\r\\n          4 = fast Balke\\r\\n          5 = Balke\\r\\n          6 = Noughton \\r\\n          7 = bike 150 kpa min/min  (Not sure if \"kpa min/min\" is what was written!)\\r\\n          8 = bike 125 kpa min/min  \\r\\n          9 = bike 100 kpa min/min\\r\\n         10 = bike 75 kpa min/min\\r\\n         11 = bike 50 kpa min/min\\r\\n         12 = arm ergometer\\r\\n     29 thaldur: duration of exercise test in minutes\\r\\n     30 thaltime: time when ST measure depression was noted\\r\\n     31 met: mets achieved\\r\\n     32 thalach: maximum heart rate achieved\\r\\n     33 thalrest: resting heart rate\\r\\n     34 tpeakbps: peak exercise blood pressure (first of 2 parts)\\r\\n     35 tpeakbpd: peak exercise blood pressure (second of 2 parts)\\r\\n     36 dummy\\r\\n     37 trestbpd: resting blood pressure\\r\\n     38 exang: exercise induced angina (1 = yes; 0 = no)\\r\\n     39 xhypo: (1 = yes; 0 = no)\\r\\n     40 oldpeak = ST depression induced by exercise relative to rest\\r\\n     41 slope: the slope of the peak exercise ST segment\\r\\n        -- Value 1: upsloping\\r\\n        -- Value 2: flat\\r\\n        -- Value 3: downsloping\\r\\n     42 rldv5: height at rest\\r\\n     43 rldv5e: height at peak exercise\\r\\n     44 ca: number of major vessels (0-3) colored by flourosopy\\r\\n     45 restckm: irrelevant\\r\\n     46 exerckm: irrelevant\\r\\n     47 restef: rest raidonuclid (sp?) ejection fraction\\r\\n     48 restwm: rest wall (sp?) motion abnormality\\r\\n        0 = none\\r\\n        1 = mild or moderate\\r\\n        2 = moderate or severe\\r\\n        3 = akinesis or dyskmem (sp?)\\r\\n     49 exeref: exercise radinalid (sp?) ejection fraction\\r\\n     50 exerwm: exercise wall (sp?) motion \\r\\n     51 thal: 3 = normal; 6 = fixed defect; 7 = reversable defect\\r\\n     52 thalsev: not used\\r\\n     53 thalpul: not used\\r\\n     54 earlobe: not used\\r\\n     55 cmo: month of cardiac cath (sp?)  (perhaps \"call\")\\r\\n     56 cday: day of cardiac cath (sp?)\\r\\n     57 cyr: year of cardiac cath (sp?)\\r\\n     58 num: diagnosis of heart disease (angiographic disease status)\\r\\n        -- Value 0: < 50% diameter narrowing\\r\\n        -- Value 1: > 50% diameter narrowing\\r\\n        (in any major vessel: attributes 59 through 68 are vessels)\\r\\n     59 lmt\\r\\n     60 ladprox\\r\\n     61 laddist\\r\\n     62 diag\\r\\n     63 cxmain\\r\\n     64 ramus\\r\\n     65 om1\\r\\n     66 om2\\r\\n     67 rcaprox\\r\\n     68 rcadist\\r\\n     69 lvx1: not used\\r\\n     70 lvx2: not used\\r\\n     71 lvx3: not used\\r\\n     72 lvx4: not used\\r\\n     73 lvf: not used\\r\\n     74 cathef: not used\\r\\n     75 junk: not used\\r\\n     76 name: last name of patient  (I replaced this with the dummy string \"name\")', 'citation': None}}\n"
     ]
    }
   ],
   "source": [
    "# metadata \n",
    "metadata = heart_disease.metadata\n",
    "print(metadata) "
   ]
  },
  {
   "cell_type": "markdown",
   "id": "819a4983",
   "metadata": {},
   "source": [
    "Answers to the questions should all be shown in the print statement:\n",
    "\n",
    "- How many data points / patients do we have and how many features? \n",
    "    'num_instances': 303 --> 303 data points\n",
    "    'num_features': 13 --> 13 features\n",
    "- What are the names of the demographic features? \n",
    "    'demographics': ['Age', 'Sex'] --> age and sex are the demographic features\n",
    "- What is the target value called?\n",
    "    'target_col': ['num'] --> num is the name of the target\n",
    "- Are there any missing values in the dataset and if yes how can they be identified?\n",
    "    'has_missing_values': 'yes' --> there are missing values\n",
    "    'missing_values_symbol': 'NaN' --> they can be identified by the NaN value"
   ]
  },
  {
   "cell_type": "markdown",
   "id": "e7a41931",
   "metadata": {},
   "source": [
    "## Excercise 5"
   ]
  },
  {
   "cell_type": "code",
   "execution_count": 44,
   "id": "54f8e999",
   "metadata": {},
   "outputs": [
    {
     "name": "stdout",
     "output_type": "stream",
     "text": [
      "        name     role         type demographic  \\\n",
      "0        age  Feature      Integer         Age   \n",
      "1        sex  Feature  Categorical         Sex   \n",
      "2         cp  Feature  Categorical        None   \n",
      "3   trestbps  Feature      Integer        None   \n",
      "4       chol  Feature      Integer        None   \n",
      "5        fbs  Feature  Categorical        None   \n",
      "6    restecg  Feature  Categorical        None   \n",
      "7    thalach  Feature      Integer        None   \n",
      "8      exang  Feature  Categorical        None   \n",
      "9    oldpeak  Feature      Integer        None   \n",
      "10     slope  Feature  Categorical        None   \n",
      "11        ca  Feature      Integer        None   \n",
      "12      thal  Feature  Categorical        None   \n",
      "13       num   Target      Integer        None   \n",
      "\n",
      "                                          description  units missing_values  \n",
      "0                                                None  years             no  \n",
      "1                                                None   None             no  \n",
      "2                                                None   None             no  \n",
      "3   resting blood pressure (on admission to the ho...  mm Hg             no  \n",
      "4                                   serum cholestoral  mg/dl             no  \n",
      "5                     fasting blood sugar > 120 mg/dl   None             no  \n",
      "6                                                None   None             no  \n",
      "7                         maximum heart rate achieved   None             no  \n",
      "8                             exercise induced angina   None             no  \n",
      "9   ST depression induced by exercise relative to ...   None             no  \n",
      "10                                               None   None             no  \n",
      "11  number of major vessels (0-3) colored by flour...   None            yes  \n",
      "12                                               None   None            yes  \n",
      "13                         diagnosis of heart disease   None             no  \n"
     ]
    }
   ],
   "source": [
    "# variable information \n",
    "variables_information = heart_disease.variables\n",
    "print(variables_information) "
   ]
  },
  {
   "cell_type": "markdown",
   "id": "d25a7c54",
   "metadata": {},
   "source": [
    "Answers for the questions:\n",
    "- which variables have missing values? --> 'ca' and 'thal'\n",
    "- what is the unit of 'resting blood pressure'? --> mm Hg\n",
    "- how many categorial variables are there? --> 7"
   ]
  },
  {
   "cell_type": "markdown",
   "id": "8fcf520a",
   "metadata": {},
   "source": [
    "## Excercise 6"
   ]
  },
  {
   "cell_type": "code",
   "execution_count": 45,
   "id": "04d89c38",
   "metadata": {},
   "outputs": [
    {
     "name": "stdout",
     "output_type": "stream",
     "text": [
      "   age  sex  cp  trestbps  chol  fbs  restecg  thalach  exang  oldpeak  slope  \\\n",
      "0   63    1   1       145   233    1        2      150      0      2.3      3   \n",
      "1   67    1   4       160   286    0        2      108      1      1.5      2   \n",
      "2   67    1   4       120   229    0        2      129      1      2.6      2   \n",
      "3   37    1   3       130   250    0        0      187      0      3.5      3   \n",
      "4   41    0   2       130   204    0        2      172      0      1.4      1   \n",
      "\n",
      "    ca  thal  num  \n",
      "0  0.0   6.0    0  \n",
      "1  3.0   3.0    2  \n",
      "2  2.0   7.0    1  \n",
      "3  0.0   3.0    0  \n",
      "4  0.0   3.0    0  \n"
     ]
    }
   ],
   "source": [
    "# data (as pandas dataframes) \n",
    "X = heart_disease.data.features \n",
    "y = heart_disease.data.targets \n",
    "\n",
    "#import pandas\n",
    "import pandas as pd\n",
    "#combine the features and target into a single dataframe\n",
    "df = pd.concat([X, y], axis=1)\n",
    "#display the first 5 rows of the dataframe\n",
    "print(df.head())"
   ]
  },
  {
   "cell_type": "markdown",
   "id": "0cfb5314",
   "metadata": {},
   "source": [
    "## Excercise 7"
   ]
  },
  {
   "cell_type": "code",
   "execution_count": 46,
   "id": "7f4301a5",
   "metadata": {},
   "outputs": [
    {
     "name": "stdout",
     "output_type": "stream",
     "text": [
      "\"Ca\" column: \n",
      "0      0.0\n",
      "1      3.0\n",
      "2      2.0\n",
      "3      0.0\n",
      "4      0.0\n",
      "      ... \n",
      "298    0.0\n",
      "299    2.0\n",
      "300    1.0\n",
      "301    1.0\n",
      "302    NaN\n",
      "Name: ca, Length: 303, dtype: float64\n",
      "Number of Nan values in \"ca\": 4\n",
      "Number of unique values in \"ca\": 4\n",
      "Unique values in \"ca\": [ 0.  3.  2.  1. nan]\n",
      "Data type of \"ca\": Integer\n",
      "\"Thal\" column: \n",
      "0      6.0\n",
      "1      3.0\n",
      "2      7.0\n",
      "3      3.0\n",
      "4      3.0\n",
      "      ... \n",
      "298    7.0\n",
      "299    7.0\n",
      "300    7.0\n",
      "301    3.0\n",
      "302    3.0\n",
      "Name: thal, Length: 303, dtype: float64\n",
      "Number of Nan values in \"thal\": 2\n",
      "Number of unique values in \"thal\": 3\n",
      "Unique values in \"thal\": [ 6.  3.  7. nan]\n",
      "Data type of \"thal\": Categorical\n"
     ]
    }
   ],
   "source": [
    "#print 'ca' collumn from df\n",
    "print('\"Ca\" column: ')\n",
    "print(df['ca'])\n",
    "\n",
    "#count number of NaN values in 'ca' collumn\n",
    "print(f'Number of Nan values in \"ca\": {df['ca'].isna().sum()}')\n",
    "\n",
    "# count number of unique values in 'ca' collumn\n",
    "print(f'Number of unique values in \"ca\": {df['ca'].nunique()}')\n",
    "# print the unique values in 'ca' collumn\n",
    "print(f'Unique values in \"ca\": {df['ca'].unique()}')\n",
    "\n",
    "# print data type of 'ca' from the variables_information\n",
    "print(f'Data type of \"ca\": {variables_information[variables_information[\"name\"] == \"ca\"][\"type\"].values[0]}')\n",
    "\n",
    "\n",
    "#print 'thal' collumn from df\n",
    "print('\"Thal\" column: ')\n",
    "print(df['thal'])\n",
    "\n",
    "#count number of NaN values in 'thal' collumn\n",
    "print(f'Number of Nan values in \"thal\": {df['thal'].isna().sum()}')\n",
    "\n",
    "# count number of unique values in 'thal' collumn\n",
    "print(f'Number of unique values in \"thal\": {df['thal'].nunique()}')\n",
    "# print the unique values in 'thal' collumn\n",
    "print(f'Unique values in \"thal\": {df['thal'].unique()}')\n",
    "\n",
    "# print data type of 'thal' from the variables_information\n",
    "print(f'Data type of \"thal\": {variables_information[variables_information[\"name\"] ==\"thal\"][\"type\"].values[0]}')"
   ]
  },
  {
   "cell_type": "markdown",
   "id": "57fc2f1c",
   "metadata": {},
   "source": [
    "## Excersice 8"
   ]
  },
  {
   "cell_type": "code",
   "execution_count": 47,
   "id": "f448d669",
   "metadata": {},
   "outputs": [
    {
     "name": "stdout",
     "output_type": "stream",
     "text": [
      "Removing rows with NaN values in \"ca\" and \"thal\" columns.\n",
      "Number of NaN values for each column:\n",
      "age         0\n",
      "sex         0\n",
      "cp          0\n",
      "trestbps    0\n",
      "chol        0\n",
      "fbs         0\n",
      "restecg     0\n",
      "thalach     0\n",
      "exang       0\n",
      "oldpeak     0\n",
      "slope       0\n",
      "ca          0\n",
      "thal        0\n",
      "num         0\n",
      "dtype: int64\n",
      "Shape of the dataframe:\n",
      "(297, 14)\n"
     ]
    }
   ],
   "source": [
    "# Remove rows with NaN values in 'ca' and 'thal' columns\n",
    "print('Removing rows with NaN values in \"ca\" and \"thal\" columns.')\n",
    "df = df.dropna(subset=['ca', 'thal'])\n",
    "\n",
    "# Reset index after dropping rows\n",
    "df.reset_index(drop=True, inplace=True)\n",
    "\n",
    "# Print number NaN values for each column\n",
    "print('Number of NaN values for each column:')\n",
    "print(df.isna().sum())\n",
    "\n",
    "# Print shape of the dataframe\n",
    "print('Shape of the dataframe:')\n",
    "print(df.shape)"
   ]
  },
  {
   "cell_type": "markdown",
   "id": "e962c17c",
   "metadata": {},
   "source": [
    "## Exercise 9"
   ]
  },
  {
   "cell_type": "code",
   "execution_count": 49,
   "id": "8fca024c",
   "metadata": {},
   "outputs": [
    {
     "name": "stdout",
     "output_type": "stream",
     "text": [
      "Checking for duplicate rows:\n",
      "Number of duplicates: 0\n",
      "Duplicate rows: 0      False\n",
      "1      False\n",
      "2      False\n",
      "3      False\n",
      "4      False\n",
      "       ...  \n",
      "292    False\n",
      "293    False\n",
      "294    False\n",
      "295    False\n",
      "296    False\n",
      "Length: 297, dtype: bool\n",
      "Checking for duplicate columns:\n",
      "Duplicate columns: age         False\n",
      "sex         False\n",
      "cp          False\n",
      "trestbps    False\n",
      "chol        False\n",
      "fbs         False\n",
      "restecg     False\n",
      "thalach     False\n",
      "exang       False\n",
      "oldpeak     False\n",
      "slope       False\n",
      "ca          False\n",
      "thal        False\n",
      "num         False\n",
      "dtype: bool\n",
      "Number of duplicate columns: 0\n"
     ]
    }
   ],
   "source": [
    "# Check if any of the rows are duplicates\n",
    "print('Checking for duplicate rows:')\n",
    "duplicates = df.duplicated()\n",
    "print(f'Number of duplicates: {duplicates.sum()}')\n",
    "print(f'Duplicate rows: {duplicates}')\n",
    "\n",
    "# Check if any of the columns are duplicates\n",
    "print('Checking for duplicate columns:')\n",
    "duplicates = df.T.duplicated()\n",
    "print(f'Duplicate columns: {duplicates}')\n",
    "print(f'Number of duplicate columns: {duplicates.sum()}')"
   ]
  },
  {
   "cell_type": "markdown",
   "id": "7a24a6b0",
   "metadata": {},
   "source": [
    "Excercise 10"
   ]
  },
  {
   "cell_type": "code",
   "execution_count": 52,
   "id": "9987871a",
   "metadata": {},
   "outputs": [
    {
     "name": "stdout",
     "output_type": "stream",
     "text": [
      "Data type of \"num\": Integer\n",
      "Unique values of \"num\": [0 2 1 3 4]\n",
      "Number of unique values of \"num\": 5\n",
      "   age  sex  cp  trestbps  chol  fbs  restecg  thalach  exang  oldpeak  slope  \\\n",
      "0   63    1   1       145   233    1        2      150      0      2.3      3   \n",
      "1   67    1   4       160   286    0        2      108      1      1.5      2   \n",
      "2   67    1   4       120   229    0        2      129      1      2.6      2   \n",
      "3   37    1   3       130   250    0        0      187      0      3.5      3   \n",
      "4   41    0   2       130   204    0        2      172      0      1.4      1   \n",
      "\n",
      "    ca  thal  num  heart_diseases_binary  \n",
      "0  0.0   6.0    0                      0  \n",
      "1  3.0   3.0    2                      1  \n",
      "2  2.0   7.0    1                      1  \n",
      "3  0.0   3.0    0                      0  \n",
      "4  0.0   3.0    0                      0  \n"
     ]
    }
   ],
   "source": [
    "# Get type of 'num' column\n",
    "print(f'Data type of \"num\": {variables_information[variables_information[\"name\"] == \"num\"][\"type\"].values[0]}') \n",
    "# Get unique values of 'num' column\n",
    "print(f'Unique values of \"num\": {df[\"num\"].unique()}')\n",
    "# Get number of unique values of 'num' column\n",
    "print(f'Number of unique values of \"num\": {df[\"num\"].nunique()}')\n",
    "\n",
    "# Add a new column 'heart_diseases_binary'. For each row, the entry is 0 if 'num' is 0 and 1 otherelse.\n",
    "df['heart_diseases_binary'] = df['num'].apply(lambda x: 0 if x == 0 else 1)\n",
    "\n",
    "# Print the first 5 rows of the df\n",
    "print(df.head())"
   ]
  }
 ],
 "metadata": {
  "kernelspec": {
   "display_name": "jupyter_course_venv",
   "language": "python",
   "name": "python3"
  },
  "language_info": {
   "codemirror_mode": {
    "name": "ipython",
    "version": 3
   },
   "file_extension": ".py",
   "mimetype": "text/x-python",
   "name": "python",
   "nbconvert_exporter": "python",
   "pygments_lexer": "ipython3",
   "version": "3.13.2"
  }
 },
 "nbformat": 4,
 "nbformat_minor": 5
}
